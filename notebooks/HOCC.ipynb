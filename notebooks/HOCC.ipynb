{
 "cells": [
  {
   "cell_type": "code",
   "execution_count": 1,
   "metadata": {},
   "outputs": [],
   "source": [
    "import sys\n",
    "import math\n",
    "import itertools\n",
    "sys.path.append('..')\n",
    "import hocc as cc\n",
    "from hocc.variables import *"
   ]
  },
  {
   "cell_type": "code",
   "execution_count": 2,
   "metadata": {},
   "outputs": [],
   "source": [
    "def fo(X0,X1): return (X0 + X1) >> (X0 * X1)\n",
    "def ns(X0, X1, Y0, Y1): return (X0 >> X1) * (Y0 >> Y1)\n",
    "def fs(X0, X1, Y0, Y1): return X0 >> ((X1 >> Y0) >> Y1)\n",
    "def fs1(X0, X1, Y0, Y1, Z0): return (X0 >> X1 * Z0) * (Z0 * Y0 >> Y1)"
   ]
  },
  {
   "cell_type": "code",
   "execution_count": 5,
   "metadata": {},
   "outputs": [
    {
     "data": {
      "text/html": [
       "\n",
       "        <div style=\"overflow:auto\" id=\"graph-output-225076829\"></div>\n",
       "        <script type=\"text/javascript\">\n",
       "        require.config({ baseUrl: \"../js\",\n",
       "                         paths: {d3: \"d3.v4.min\"} });\n",
       "        require(['hocc'], function(hocc) {\n",
       "            hocc.showGraph('225076829', '#graph-output-225076829',\n",
       "            JSON.parse('{\"nodes\": [{\"name\": \"0\", \"x\": 50, \"y\": 175.0, \"t\": 0}, {\"name\": \"1\", \"x\": 250, \"y\": 175.0, \"t\": 1}, {\"name\": \"2\", \"x\": 350, \"y\": 125.0, \"t\": 2}, {\"name\": \"3\", \"x\": 350, \"y\": 225.0, \"t\": 2}, {\"name\": \"5\", \"x\": 750, \"y\": 175.0, \"t\": 0}, {\"name\": \"6\", \"x\": 550, \"y\": 175.0, \"t\": 2}, {\"name\": \"7\", \"x\": 450, \"y\": 175.0, \"t\": 1}], \"links\": [{\"id\": \"0\", \"label\": \"(~a0 + a1) * (~b0 + b1)\", \"source\": \"0\", \"target\": \"1\", \"edge_index\": 0, \"num_edge_siblings\": 1, \"flip_orientation\": false}, {\"id\": \"1\", \"label\": \"~a0 + a1\", \"source\": \"1\", \"target\": \"2\", \"edge_index\": 0, \"num_edge_siblings\": 1, \"flip_orientation\": false}, {\"id\": \"2\", \"label\": \"~b0 + b1\", \"source\": \"1\", \"target\": \"3\", \"edge_index\": 0, \"num_edge_siblings\": 1, \"flip_orientation\": false}, {\"id\": \"4\", \"label\": \"~a0 + (a1 * ~b0) + b1\", \"source\": \"6\", \"target\": \"5\", \"edge_index\": 0, \"num_edge_siblings\": 1, \"flip_orientation\": true}, {\"id\": \"5\", \"label\": \"a1 * ~b0\", \"source\": \"7\", \"target\": \"6\", \"edge_index\": 0, \"num_edge_siblings\": 1, \"flip_orientation\": true}, {\"id\": \"7\", \"label\": \"~a0\", \"source\": \"2\", \"target\": \"6\", \"edge_index\": 0, \"num_edge_siblings\": 1, \"flip_orientation\": false}, {\"id\": \"8\", \"label\": \"a1\", \"source\": \"2\", \"target\": \"7\", \"edge_index\": 0, \"num_edge_siblings\": 1, \"flip_orientation\": false}, {\"id\": \"9\", \"label\": \"~b0\", \"source\": \"3\", \"target\": \"7\", \"edge_index\": 0, \"num_edge_siblings\": 1, \"flip_orientation\": false}, {\"id\": \"10\", \"label\": \"b1\", \"source\": \"3\", \"target\": \"6\", \"edge_index\": 0, \"num_edge_siblings\": 1, \"flip_orientation\": false}], \"arcs\": [{\"source\": \"1\", \"target\": \"2\", \"end\": 0}, {\"source\": \"5\", \"target\": \"7\", \"end\": 1}, {\"source\": \"5\", \"target\": \"10\", \"end\": 1}, {\"source\": \"7\", \"target\": \"10\", \"end\": 1}]}'), 800, 325.0, 50, 5.0, false);\n",
       "        });\n",
       "        </script>\n",
       "        "
      ],
      "text/plain": [
       "<IPython.core.display.HTML object>"
      ]
     },
     "metadata": {},
     "output_type": "display_data"
    }
   ],
   "source": [
    "g = cc.prove(\n",
    "    (a0 >> a1) * (b0 >> b1),\n",
    "    a0 >> ((a1 >> b0) >> b1)\n",
    ")\n",
    "if g: cc.draw(g)"
   ]
  },
  {
   "cell_type": "code",
   "execution_count": 22,
   "metadata": {},
   "outputs": [
    {
     "data": {
      "text/html": [
       "\n",
       "        <div style=\"overflow:auto\" id=\"graph-output-440581813\"></div>\n",
       "        <script type=\"text/javascript\">\n",
       "        require.config({ baseUrl: \"../js\",\n",
       "                         paths: {d3: \"d3.v4.min\"} });\n",
       "        require(['hocc'], function(hocc) {\n",
       "            hocc.showGraph('440581813', '#graph-output-440581813',\n",
       "            JSON.parse('{\"nodes\": [{\"name\": \"0\", \"x\": 50, \"y\": 175.0, \"t\": 0}, {\"name\": \"5\", \"x\": 750, \"y\": 175.0, \"t\": 0}, {\"name\": \"6\", \"x\": 550, \"y\": 175.0, \"t\": 2}], \"links\": [{\"id\": \"4\", \"label\": \"~a0 + (a1 * ~b0) + b1\", \"source\": \"6\", \"target\": \"5\", \"edge_index\": 0, \"num_edge_siblings\": 1, \"flip_orientation\": true}, {\"id\": \"17\", \"label\": \"(~a0 + a1) * (~b0 + b1)\", \"source\": \"0\", \"target\": \"6\", \"edge_index\": 0, \"num_edge_siblings\": 1, \"flip_orientation\": false}], \"arcs\": []}'), 800, 275.0, 50, 5.0, false);\n",
       "        });\n",
       "        </script>\n",
       "        "
      ],
      "text/plain": [
       "<IPython.core.display.HTML object>"
      ]
     },
     "metadata": {},
     "output_type": "display_data"
    }
   ],
   "source": [
    "g.contract1()\n",
    "cc.draw(g)"
   ]
  },
  {
   "cell_type": "code",
   "execution_count": 4,
   "metadata": {},
   "outputs": [
    {
     "data": {
      "text/html": [
       "\n",
       "        <div style=\"overflow:auto\" id=\"graph-output-844963626\"></div>\n",
       "        <script type=\"text/javascript\">\n",
       "        require.config({ baseUrl: \"../js\",\n",
       "                         paths: {d3: \"d3.v4.min\"} });\n",
       "        require(['hocc'], function(hocc) {\n",
       "            hocc.showGraph('844963626', '#graph-output-844963626',\n",
       "            JSON.parse('{\"nodes\": [{\"name\": \"0\", \"x\": 50, \"y\": 175.0, \"t\": 0}, {\"name\": \"1\", \"x\": 250, \"y\": 175.0, \"t\": 2}, {\"name\": \"2\", \"x\": 350, \"y\": 225.0, \"t\": 1}, {\"name\": \"4\", \"x\": 650, \"y\": 175.0, \"t\": 0}, {\"name\": \"5\", \"x\": 450, \"y\": 175.0, \"t\": 2}], \"links\": [{\"id\": \"0\", \"label\": \"~a0 + ~b0 + (a1 * b1)\", \"source\": \"0\", \"target\": \"1\", \"edge_index\": 0, \"num_edge_siblings\": 1, \"flip_orientation\": false}, {\"id\": \"1\", \"label\": \"a1 * b1\", \"source\": \"1\", \"target\": \"2\", \"edge_index\": 0, \"num_edge_siblings\": 1, \"flip_orientation\": false}, {\"id\": \"3\", \"label\": \"~a0 + a1 + ~b0 + b1\", \"source\": \"5\", \"target\": \"4\", \"edge_index\": 0, \"num_edge_siblings\": 1, \"flip_orientation\": true}, {\"id\": \"5\", \"label\": \"~a0\", \"source\": \"1\", \"target\": \"5\", \"edge_index\": 0, \"num_edge_siblings\": 2, \"flip_orientation\": false}, {\"id\": \"6\", \"label\": \"~b0\", \"source\": \"1\", \"target\": \"5\", \"edge_index\": 1, \"num_edge_siblings\": 2, \"flip_orientation\": false}, {\"id\": \"7\", \"label\": \"a1\", \"source\": \"2\", \"target\": \"5\", \"edge_index\": 0, \"num_edge_siblings\": 2, \"flip_orientation\": false}, {\"id\": \"8\", \"label\": \"b1\", \"source\": \"2\", \"target\": \"5\", \"edge_index\": 1, \"num_edge_siblings\": 2, \"flip_orientation\": false}], \"arcs\": [{\"source\": \"5\", \"target\": \"6\", \"end\": 1}, {\"source\": \"5\", \"target\": \"7\", \"end\": 1}, {\"source\": \"5\", \"target\": \"8\", \"end\": 1}, {\"source\": \"6\", \"target\": \"7\", \"end\": 1}, {\"source\": \"6\", \"target\": \"8\", \"end\": 1}, {\"source\": \"7\", \"target\": \"8\", \"end\": 0}, {\"source\": \"7\", \"target\": \"8\", \"end\": 1}]}'), 700, 325.0, 50, 5.0, false);\n",
       "        });\n",
       "        </script>\n",
       "        "
      ],
      "text/plain": [
       "<IPython.core.display.HTML object>"
      ]
     },
     "metadata": {},
     "output_type": "display_data"
    }
   ],
   "source": [
    "g = cc.prove((a0 * b0) >> (a1 * b1), (a0 >> a1) + (b0 >> b1))\n",
    "if g: cc.draw(g)"
   ]
  },
  {
   "cell_type": "code",
   "execution_count": 3,
   "metadata": {},
   "outputs": [
    {
     "name": "stdout",
     "output_type": "stream",
     "text": [
      "fail\n"
     ]
    }
   ],
   "source": [
    "g = cc.prove((a0 >> a1) + (b0 >> b1), (a0 * b0) >> (a1 * b1))\n",
    "if g: cc.draw(g)\n",
    "else: print(\"fail\")"
   ]
  },
  {
   "cell_type": "code",
   "execution_count": 78,
   "metadata": {},
   "outputs": [
    {
     "data": {
      "text/html": [
       "\n",
       "        <div style=\"overflow:auto\" id=\"graph-output-296467294\"></div>\n",
       "        <script type=\"text/javascript\">\n",
       "        require.config({ baseUrl: \"../js\",\n",
       "                         paths: {d3: \"d3.v4.min\"} });\n",
       "        require(['hocc'], function(hocc) {\n",
       "            hocc.showGraph('296467294', '#graph-output-296467294',\n",
       "            JSON.parse('{\"nodes\": [{\"name\": \"0\", \"x\": 50, \"y\": 475.0, \"t\": 0}, {\"name\": \"1\", \"x\": 950, \"y\": 475.0, \"t\": 1}, {\"name\": \"2\", \"x\": 1100, \"y\": 150.0, \"t\": 2}, {\"name\": \"3\", \"x\": 1200, \"y\": 175.0, \"t\": 1}, {\"name\": \"4\", \"x\": 1100, \"y\": 300.0, \"t\": 2}, {\"name\": \"5\", \"x\": 1100, \"y\": 450.0, \"t\": 2}, {\"name\": \"6\", \"x\": 1200, \"y\": 475.0, \"t\": 1}, {\"name\": \"7\", \"x\": 1100, \"y\": 600.0, \"t\": 2}, {\"name\": \"9\", \"x\": 1150, \"y\": 775.0, \"t\": 2}, {\"name\": \"10\", \"x\": 1250, \"y\": 725.0, \"t\": 1}, {\"name\": \"11\", \"x\": 1300, \"y\": 700.0, \"t\": 3}, {\"name\": \"12\", \"x\": 1300, \"y\": 750.0, \"t\": 3}, {\"name\": \"13\", \"x\": 1250, \"y\": 825.0, \"t\": 1}, {\"name\": \"14\", \"x\": 1300, \"y\": 800.0, \"t\": 3}, {\"name\": \"15\", \"x\": 1300, \"y\": 850.0, \"t\": 3}, {\"name\": \"16\", \"x\": 2100, \"y\": 275.0, \"t\": 0}, {\"name\": \"17\", \"x\": 1650, \"y\": 275.0, \"t\": 2}, {\"name\": \"18\", \"x\": 1450, \"y\": 175.0, \"t\": 1}, {\"name\": \"19\", \"x\": 1350, \"y\": 125.0, \"t\": 2}, {\"name\": \"20\", \"x\": 1350, \"y\": 225.0, \"t\": 2}, {\"name\": \"21\", \"x\": 1450, \"y\": 375.0, \"t\": 1}, {\"name\": \"22\", \"x\": 1350, \"y\": 325.0, \"t\": 2}, {\"name\": \"23\", \"x\": 1350, \"y\": 425.0, \"t\": 2}], \"links\": [{\"id\": \"0\", \"label\": \"(~a0 + (a1 * x0)) * (~x0 + ~c0 + c1) * (~b0 + (b1 * y0)) * (~y0 + ~d0 + d1) * ((~x0 * ~y0) + (x0 * y0))\", \"source\": \"0\", \"target\": \"1\", \"edge_index\": 0, \"num_edge_siblings\": 1, \"flip_orientation\": false}, {\"id\": \"1\", \"label\": \"~a0 + (a1 * x0)\", \"source\": \"1\", \"target\": \"2\", \"edge_index\": 0, \"num_edge_siblings\": 1, \"flip_orientation\": false}, {\"id\": \"2\", \"label\": \"a1 * x0\", \"source\": \"2\", \"target\": \"3\", \"edge_index\": 0, \"num_edge_siblings\": 1, \"flip_orientation\": false}, {\"id\": \"3\", \"label\": \"~x0 + ~c0 + c1\", \"source\": \"1\", \"target\": \"4\", \"edge_index\": 0, \"num_edge_siblings\": 1, \"flip_orientation\": false}, {\"id\": \"4\", \"label\": \"~b0 + (b1 * y0)\", \"source\": \"1\", \"target\": \"5\", \"edge_index\": 0, \"num_edge_siblings\": 1, \"flip_orientation\": false}, {\"id\": \"5\", \"label\": \"b1 * y0\", \"source\": \"5\", \"target\": \"6\", \"edge_index\": 0, \"num_edge_siblings\": 1, \"flip_orientation\": false}, {\"id\": \"6\", \"label\": \"~y0 + ~d0 + d1\", \"source\": \"1\", \"target\": \"7\", \"edge_index\": 0, \"num_edge_siblings\": 1, \"flip_orientation\": false}, {\"id\": \"8\", \"label\": \"(~x0 * ~y0) + (x0 * y0)\", \"source\": \"1\", \"target\": \"9\", \"edge_index\": 0, \"num_edge_siblings\": 1, \"flip_orientation\": false}, {\"id\": \"9\", \"label\": \"~x0 * ~y0\", \"source\": \"9\", \"target\": \"10\", \"edge_index\": 0, \"num_edge_siblings\": 1, \"flip_orientation\": false}, {\"id\": \"10\", \"label\": \"~x0\", \"source\": \"10\", \"target\": \"11\", \"edge_index\": 0, \"num_edge_siblings\": 1, \"flip_orientation\": false}, {\"id\": \"11\", \"label\": \"~y0\", \"source\": \"10\", \"target\": \"12\", \"edge_index\": 0, \"num_edge_siblings\": 1, \"flip_orientation\": false}, {\"id\": \"12\", \"label\": \"x0 * y0\", \"source\": \"9\", \"target\": \"13\", \"edge_index\": 0, \"num_edge_siblings\": 1, \"flip_orientation\": false}, {\"id\": \"13\", \"label\": \"x0\", \"source\": \"13\", \"target\": \"14\", \"edge_index\": 0, \"num_edge_siblings\": 1, \"flip_orientation\": false}, {\"id\": \"14\", \"label\": \"y0\", \"source\": \"13\", \"target\": \"15\", \"edge_index\": 0, \"num_edge_siblings\": 1, \"flip_orientation\": false}, {\"id\": \"15\", \"label\": \"((~a0 + a1) * (~b0 + b1)) + ((~c0 + c1) * (~d0 + d1))\", \"source\": \"17\", \"target\": \"16\", \"edge_index\": 0, \"num_edge_siblings\": 1, \"flip_orientation\": true}, {\"id\": \"16\", \"label\": \"(~a0 + a1) * (~b0 + b1)\", \"source\": \"18\", \"target\": \"17\", \"edge_index\": 0, \"num_edge_siblings\": 1, \"flip_orientation\": true}, {\"id\": \"17\", \"label\": \"~a0 + a1\", \"source\": \"19\", \"target\": \"18\", \"edge_index\": 0, \"num_edge_siblings\": 1, \"flip_orientation\": true}, {\"id\": \"18\", \"label\": \"~b0 + b1\", \"source\": \"20\", \"target\": \"18\", \"edge_index\": 0, \"num_edge_siblings\": 1, \"flip_orientation\": true}, {\"id\": \"19\", \"label\": \"(~c0 + c1) * (~d0 + d1)\", \"source\": \"21\", \"target\": \"17\", \"edge_index\": 0, \"num_edge_siblings\": 1, \"flip_orientation\": true}, {\"id\": \"20\", \"label\": \"~c0 + c1\", \"source\": \"22\", \"target\": \"21\", \"edge_index\": 0, \"num_edge_siblings\": 1, \"flip_orientation\": true}, {\"id\": \"21\", \"label\": \"~d0 + d1\", \"source\": \"23\", \"target\": \"21\", \"edge_index\": 0, \"num_edge_siblings\": 1, \"flip_orientation\": true}, {\"id\": \"23\", \"label\": \"~a0\", \"source\": \"2\", \"target\": \"19\", \"edge_index\": 0, \"num_edge_siblings\": 1, \"flip_orientation\": false}, {\"id\": \"24\", \"label\": \"a1\", \"source\": \"3\", \"target\": \"19\", \"edge_index\": 0, \"num_edge_siblings\": 1, \"flip_orientation\": false}, {\"id\": \"25\", \"label\": \"x0\", \"source\": \"3\", \"target\": \"11\", \"edge_index\": 0, \"num_edge_siblings\": 1, \"flip_orientation\": false}, {\"id\": \"26\", \"label\": \"~x0\", \"source\": \"4\", \"target\": \"14\", \"edge_index\": 0, \"num_edge_siblings\": 1, \"flip_orientation\": false}, {\"id\": \"27\", \"label\": \"~c0\", \"source\": \"4\", \"target\": \"22\", \"edge_index\": 0, \"num_edge_siblings\": 2, \"flip_orientation\": false}, {\"id\": \"28\", \"label\": \"c1\", \"source\": \"4\", \"target\": \"22\", \"edge_index\": 1, \"num_edge_siblings\": 2, \"flip_orientation\": false}, {\"id\": \"29\", \"label\": \"~b0\", \"source\": \"5\", \"target\": \"20\", \"edge_index\": 0, \"num_edge_siblings\": 1, \"flip_orientation\": false}, {\"id\": \"30\", \"label\": \"b1\", \"source\": \"6\", \"target\": \"20\", \"edge_index\": 0, \"num_edge_siblings\": 1, \"flip_orientation\": false}, {\"id\": \"31\", \"label\": \"y0\", \"source\": \"6\", \"target\": \"12\", \"edge_index\": 0, \"num_edge_siblings\": 1, \"flip_orientation\": false}, {\"id\": \"32\", \"label\": \"~y0\", \"source\": \"7\", \"target\": \"15\", \"edge_index\": 0, \"num_edge_siblings\": 1, \"flip_orientation\": false}, {\"id\": \"33\", \"label\": \"~d0\", \"source\": \"7\", \"target\": \"23\", \"edge_index\": 0, \"num_edge_siblings\": 2, \"flip_orientation\": false}, {\"id\": \"34\", \"label\": \"d1\", \"source\": \"7\", \"target\": \"23\", \"edge_index\": 1, \"num_edge_siblings\": 2, \"flip_orientation\": false}], \"arcs\": [{\"source\": \"1\", \"target\": \"8\", \"end\": 0}, {\"source\": \"1\", \"target\": \"3\", \"end\": 0}, {\"source\": \"1\", \"target\": \"4\", \"end\": 0}, {\"source\": \"1\", \"target\": \"6\", \"end\": 0}, {\"source\": \"3\", \"target\": \"8\", \"end\": 0}, {\"source\": \"3\", \"target\": \"4\", \"end\": 0}, {\"source\": \"3\", \"target\": \"6\", \"end\": 0}, {\"source\": \"4\", \"target\": \"8\", \"end\": 0}, {\"source\": \"4\", \"target\": \"6\", \"end\": 0}, {\"source\": \"6\", \"target\": \"8\", \"end\": 0}, {\"source\": \"10\", \"target\": \"11\", \"end\": 0}, {\"source\": \"13\", \"target\": \"14\", \"end\": 0}, {\"source\": \"16\", \"target\": \"19\", \"end\": 1}, {\"source\": \"23\", \"target\": \"24\", \"end\": 1}, {\"source\": \"24\", \"target\": \"25\", \"end\": 0}, {\"source\": \"27\", \"target\": \"28\", \"end\": 1}, {\"source\": \"29\", \"target\": \"30\", \"end\": 1}, {\"source\": \"30\", \"target\": \"31\", \"end\": 0}, {\"source\": \"33\", \"target\": \"34\", \"end\": 1}]}'), 2150, 950.0, 50, 5.0, false);\n",
       "        });\n",
       "        </script>\n",
       "        "
      ],
      "text/plain": [
       "<IPython.core.display.HTML object>"
      ]
     },
     "metadata": {},
     "output_type": "display_data"
    }
   ],
   "source": [
    "g = cc.prove(\n",
    "      fs1(a0,a1,c0,c1,x0) *\n",
    "      fs1(b0,b1,d0,d1,y0) *\n",
    "      fo(x0,y0),\n",
    "      ns(a0,a1,b0,b1) + ns(c0,c1,d0,d1),\n",
    "      checker=cc.proofnet.switching_checker)\n",
    "if g != None:\n",
    "    cc.d3.draw(g)"
   ]
  },
  {
   "cell_type": "code",
   "execution_count": null,
   "metadata": {},
   "outputs": [],
   "source": []
  }
 ],
 "metadata": {
  "kernelspec": {
   "display_name": "Python 3",
   "language": "python",
   "name": "python3"
  },
  "language_info": {
   "codemirror_mode": {
    "name": "ipython",
    "version": 3
   },
   "file_extension": ".py",
   "mimetype": "text/x-python",
   "name": "python",
   "nbconvert_exporter": "python",
   "pygments_lexer": "ipython3",
   "version": "3.7.3"
  }
 },
 "nbformat": 4,
 "nbformat_minor": 2
}
