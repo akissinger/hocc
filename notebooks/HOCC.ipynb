{
 "cells": [
  {
   "cell_type": "code",
   "execution_count": 1,
   "metadata": {},
   "outputs": [],
   "source": [
    "import sys\n",
    "import math\n",
    "import itertools\n",
    "sys.path.append('..')\n",
    "import pypn as pn\n",
    "from pypn.variables import *"
   ]
  },
  {
   "cell_type": "code",
   "execution_count": 35,
   "metadata": {},
   "outputs": [],
   "source": [
    "# def fo(X0, X1): return (X0 + X1) >> (X0 * X1)\n",
    "def ns(X0, X1, Y0, Y1): return (X0 >> X1) * (Y0 >> Y1)\n",
    "def fs(X0, X1, Y0, Y1, Z0=None):\n",
    "    if not Z0:\n",
    "        return X0 >> ((X1 >> Y0) >> Y1)\n",
    "    else:\n",
    "        return (X0 >> X1 * Z0) * (Z0 * Y0 >> Y1)\n",
    "def fs1(X0,X1,Y0,Y1): return X0 >> (X1 * (Y0 >> Y1))"
   ]
  },
  {
   "cell_type": "code",
   "execution_count": 36,
   "metadata": {},
   "outputs": [
    {
     "data": {
      "text/plain": [
       "(Expr(~a0 + (a1 * ~b0) + b1), Expr(~a0 + (a1 * (~b0 + b1))))"
      ]
     },
     "execution_count": 36,
     "metadata": {},
     "output_type": "execute_result"
    }
   ],
   "source": [
    "fs(a0,a1,b0,b1), a0 >> (a1 * (b0 >> b1))"
   ]
  },
  {
   "cell_type": "code",
   "execution_count": 37,
   "metadata": {},
   "outputs": [
    {
     "data": {
      "text/html": [
       "\n",
       "        <div style=\"overflow:auto\" id=\"graph-output-283582947\"></div>\n",
       "        <script type=\"text/javascript\">\n",
       "        require.config({ baseUrl: \"../js\",\n",
       "                         paths: {d3: \"d3.v4.min\"} });\n",
       "        require(['hocc'], function(hocc) {\n",
       "            hocc.showGraph('283582947', '#graph-output-283582947',\n",
       "            JSON.parse('{\"nodes\": [{\"name\": \"0\", \"x\": 50, \"y\": 150.0, \"t\": 0}, {\"name\": \"1\", \"x\": 200, \"y\": 150.0, \"t\": 2}, {\"name\": \"2\", \"x\": 300, \"y\": 175.0, \"t\": 1}, {\"name\": \"4\", \"x\": 650, \"y\": 150.0, \"t\": 0}, {\"name\": \"5\", \"x\": 500, \"y\": 150.0, \"t\": 1}, {\"name\": \"6\", \"x\": 400, \"y\": 125.0, \"t\": 2}], \"links\": [{\"id\": \"0\", \"label\": \"a0 + (X0 * b0)\", \"source\": \"0\", \"target\": \"1\", \"edge_index\": 0, \"num_edge_siblings\": 1, \"flip_orientation\": false}, {\"id\": \"1\", \"label\": \"X0 * b0\", \"source\": \"1\", \"target\": \"2\", \"edge_index\": 0, \"num_edge_siblings\": 1, \"flip_orientation\": false}, {\"id\": \"3\", \"label\": \"(a0 + X0) * b0\", \"source\": \"5\", \"target\": \"4\", \"edge_index\": 0, \"num_edge_siblings\": 1, \"flip_orientation\": true}, {\"id\": \"4\", \"label\": \"a0 + X0\", \"source\": \"6\", \"target\": \"5\", \"edge_index\": 0, \"num_edge_siblings\": 1, \"flip_orientation\": true}, {\"id\": \"6\", \"label\": \"a0\", \"source\": \"1\", \"target\": \"6\", \"edge_index\": 0, \"num_edge_siblings\": 1, \"flip_orientation\": false}, {\"id\": \"7\", \"label\": \"X0\", \"source\": \"2\", \"target\": \"6\", \"edge_index\": 0, \"num_edge_siblings\": 1, \"flip_orientation\": false}, {\"id\": \"8\", \"label\": \"b0\", \"source\": \"2\", \"target\": \"5\", \"edge_index\": 0, \"num_edge_siblings\": 1, \"flip_orientation\": false}], \"arcs\": [{\"source\": \"6\", \"target\": \"7\", \"at_v\": \"6\"}, {\"source\": \"7\", \"target\": \"8\", \"at_v\": \"2\"}]}'), 700, 275.0, 50, 5.0, false);\n",
       "        });\n",
       "        </script>\n",
       "        "
      ],
      "text/plain": [
       "<IPython.core.display.HTML object>"
      ]
     },
     "metadata": {},
     "output_type": "display_data"
    }
   ],
   "source": [
    "g = pn.prove(\n",
    "      a0 + (X0 * b0), (a0 + X0) * b0\n",
    "    , checker=lambda x: True\n",
    "            )\n",
    "pn.draw(g)"
   ]
  },
  {
   "cell_type": "code",
   "execution_count": 38,
   "metadata": {},
   "outputs": [
    {
     "data": {
      "text/html": [
       "\n",
       "        <div style=\"overflow:auto\" id=\"graph-output-152788548\"></div>\n",
       "        <script type=\"text/javascript\">\n",
       "        require.config({ baseUrl: \"../js\",\n",
       "                         paths: {d3: \"d3.v4.min\"} });\n",
       "        require(['hocc'], function(hocc) {\n",
       "            hocc.showGraph('152788548', '#graph-output-152788548',\n",
       "            JSON.parse('{\"nodes\": [{\"name\": \"0\", \"x\": 50, \"y\": 150.0, \"t\": 0}, {\"name\": \"1\", \"x\": 200, \"y\": 150.0, \"t\": 2}, {\"name\": \"2\", \"x\": 300, \"y\": 175.0, \"t\": 1}, {\"name\": \"4\", \"x\": 650, \"y\": 150.0, \"t\": 0}, {\"name\": \"5\", \"x\": 500, \"y\": 150.0, \"t\": 1}, {\"name\": \"6\", \"x\": 400, \"y\": 125.0, \"t\": 2}], \"links\": [{\"id\": \"0\", \"label\": \"a0 + (X0 * b0)\", \"source\": \"0\", \"target\": \"1\", \"edge_index\": 0, \"num_edge_siblings\": 1, \"flip_orientation\": false}, {\"id\": \"1\", \"label\": \"X0 * b0\", \"source\": \"1\", \"target\": \"2\", \"edge_index\": 0, \"num_edge_siblings\": 1, \"flip_orientation\": false}, {\"id\": \"3\", \"label\": \"(a0 + X0) * b0\", \"source\": \"5\", \"target\": \"4\", \"edge_index\": 0, \"num_edge_siblings\": 1, \"flip_orientation\": true}, {\"id\": \"4\", \"label\": \"a0 + X0\", \"source\": \"6\", \"target\": \"5\", \"edge_index\": 0, \"num_edge_siblings\": 1, \"flip_orientation\": true}, {\"id\": \"6\", \"label\": \"a0\", \"source\": \"1\", \"target\": \"6\", \"edge_index\": 0, \"num_edge_siblings\": 1, \"flip_orientation\": false}, {\"id\": \"7\", \"label\": \"X0\", \"source\": \"2\", \"target\": \"6\", \"edge_index\": 0, \"num_edge_siblings\": 1, \"flip_orientation\": false}, {\"id\": \"8\", \"label\": \"b0\", \"source\": \"2\", \"target\": \"5\", \"edge_index\": 0, \"num_edge_siblings\": 1, \"flip_orientation\": false}], \"arcs\": [{\"source\": \"6\", \"target\": \"7\", \"at_v\": \"6\"}, {\"source\": \"7\", \"target\": \"8\", \"at_v\": \"2\"}]}'), 700, 275.0, 50, 5.0, false);\n",
       "        });\n",
       "        </script>\n",
       "        "
      ],
      "text/plain": [
       "<IPython.core.display.HTML object>"
      ]
     },
     "metadata": {},
     "output_type": "display_data"
    }
   ],
   "source": [
    "g1 = pn.proofnet.cut_root(g)\n",
    "if g1: g = g1\n",
    "pn.draw(g)"
   ]
  },
  {
   "cell_type": "code",
   "execution_count": null,
   "metadata": {},
   "outputs": [],
   "source": []
  },
  {
   "cell_type": "code",
   "execution_count": 3,
   "metadata": {},
   "outputs": [
    {
     "name": "stdout",
     "output_type": "stream",
     "text": [
      "a0 * a1 |- a0 * a1: SUCCESS\n"
     ]
    },
    {
     "data": {
      "text/html": [
       "\n",
       "        <div style=\"overflow:auto\" id=\"graph-output-632489229\"></div>\n",
       "        <script type=\"text/javascript\">\n",
       "        require.config({ baseUrl: \"../js\",\n",
       "                         paths: {d3: \"d3.v4.min\"} });\n",
       "        require(['hocc'], function(hocc) {\n",
       "            hocc.showGraph('632489229', '#graph-output-632489229',\n",
       "            JSON.parse('{\"nodes\": [{\"name\": \"0\", \"x\": 50, \"y\": 125.0, \"t\": 0}, {\"name\": \"1\", \"x\": 150, \"y\": 125.0, \"t\": 1}, {\"name\": \"3\", \"x\": 350, \"y\": 125.0, \"t\": 0}, {\"name\": \"4\", \"x\": 250, \"y\": 125.0, \"t\": 1}], \"links\": [{\"id\": \"0\", \"label\": \"a0 * a1\", \"source\": \"0\", \"target\": \"1\", \"edge_index\": 0, \"num_edge_siblings\": 1, \"flip_orientation\": false}, {\"id\": \"2\", \"label\": \"a0 * a1\", \"source\": \"4\", \"target\": \"3\", \"edge_index\": 0, \"num_edge_siblings\": 1, \"flip_orientation\": true}, {\"id\": \"4\", \"label\": \"a0\", \"source\": \"1\", \"target\": \"4\", \"edge_index\": 0, \"num_edge_siblings\": 2, \"flip_orientation\": false}, {\"id\": \"5\", \"label\": \"a1\", \"source\": \"1\", \"target\": \"4\", \"edge_index\": 1, \"num_edge_siblings\": 2, \"flip_orientation\": false}], \"arcs\": [{\"source\": \"4\", \"target\": \"5\", \"at_v\": \"1\"}]}'), 400, 225.0, 50, 5.0, true);\n",
       "        });\n",
       "        </script>\n",
       "        "
      ],
      "text/plain": [
       "<IPython.core.display.HTML object>"
      ]
     },
     "metadata": {},
     "output_type": "display_data"
    },
    {
     "name": "stdout",
     "output_type": "stream",
     "text": [
      "a0 * a1 |- a0 + a1: SUCCESS\n"
     ]
    },
    {
     "data": {
      "text/html": [
       "\n",
       "        <div style=\"overflow:auto\" id=\"graph-output-593963358\"></div>\n",
       "        <script type=\"text/javascript\">\n",
       "        require.config({ baseUrl: \"../js\",\n",
       "                         paths: {d3: \"d3.v4.min\"} });\n",
       "        require(['hocc'], function(hocc) {\n",
       "            hocc.showGraph('593963358', '#graph-output-593963358',\n",
       "            JSON.parse('{\"nodes\": [{\"name\": \"0\", \"x\": 50, \"y\": 125.0, \"t\": 0}, {\"name\": \"1\", \"x\": 150, \"y\": 125.0, \"t\": 1}, {\"name\": \"3\", \"x\": 350, \"y\": 125.0, \"t\": 0}, {\"name\": \"4\", \"x\": 250, \"y\": 125.0, \"t\": 2}], \"links\": [{\"id\": \"0\", \"label\": \"a0 * a1\", \"source\": \"0\", \"target\": \"1\", \"edge_index\": 0, \"num_edge_siblings\": 1, \"flip_orientation\": false}, {\"id\": \"2\", \"label\": \"a0 + a1\", \"source\": \"4\", \"target\": \"3\", \"edge_index\": 0, \"num_edge_siblings\": 1, \"flip_orientation\": true}, {\"id\": \"4\", \"label\": \"a0\", \"source\": \"1\", \"target\": \"4\", \"edge_index\": 0, \"num_edge_siblings\": 2, \"flip_orientation\": false}, {\"id\": \"5\", \"label\": \"a1\", \"source\": \"1\", \"target\": \"4\", \"edge_index\": 1, \"num_edge_siblings\": 2, \"flip_orientation\": false}], \"arcs\": [{\"source\": \"4\", \"target\": \"5\", \"at_v\": \"1\"}, {\"source\": \"4\", \"target\": \"5\", \"at_v\": \"4\"}]}'), 400, 225.0, 50, 5.0, true);\n",
       "        });\n",
       "        </script>\n",
       "        "
      ],
      "text/plain": [
       "<IPython.core.display.HTML object>"
      ]
     },
     "metadata": {},
     "output_type": "display_data"
    },
    {
     "name": "stdout",
     "output_type": "stream",
     "text": [
      "a0 + a1 |- a0 * a1: SUCCESS\n"
     ]
    },
    {
     "data": {
      "text/html": [
       "\n",
       "        <div style=\"overflow:auto\" id=\"graph-output-520605690\"></div>\n",
       "        <script type=\"text/javascript\">\n",
       "        require.config({ baseUrl: \"../js\",\n",
       "                         paths: {d3: \"d3.v4.min\"} });\n",
       "        require(['hocc'], function(hocc) {\n",
       "            hocc.showGraph('520605690', '#graph-output-520605690',\n",
       "            JSON.parse('{\"nodes\": [{\"name\": \"0\", \"x\": 50, \"y\": 125.0, \"t\": 0}, {\"name\": \"1\", \"x\": 150, \"y\": 125.0, \"t\": 2}, {\"name\": \"3\", \"x\": 350, \"y\": 125.0, \"t\": 0}, {\"name\": \"4\", \"x\": 250, \"y\": 125.0, \"t\": 1}], \"links\": [{\"id\": \"0\", \"label\": \"a0 + a1\", \"source\": \"0\", \"target\": \"1\", \"edge_index\": 0, \"num_edge_siblings\": 1, \"flip_orientation\": false}, {\"id\": \"2\", \"label\": \"a0 * a1\", \"source\": \"4\", \"target\": \"3\", \"edge_index\": 0, \"num_edge_siblings\": 1, \"flip_orientation\": true}, {\"id\": \"4\", \"label\": \"a0\", \"source\": \"1\", \"target\": \"4\", \"edge_index\": 0, \"num_edge_siblings\": 2, \"flip_orientation\": false}, {\"id\": \"5\", \"label\": \"a1\", \"source\": \"1\", \"target\": \"4\", \"edge_index\": 1, \"num_edge_siblings\": 2, \"flip_orientation\": false}], \"arcs\": []}'), 400, 225.0, 50, 5.0, true);\n",
       "        });\n",
       "        </script>\n",
       "        "
      ],
      "text/plain": [
       "<IPython.core.display.HTML object>"
      ]
     },
     "metadata": {},
     "output_type": "display_data"
    },
    {
     "name": "stdout",
     "output_type": "stream",
     "text": [
      "a0 + a1 |- a0 + a1: SUCCESS\n"
     ]
    },
    {
     "data": {
      "text/html": [
       "\n",
       "        <div style=\"overflow:auto\" id=\"graph-output-871619864\"></div>\n",
       "        <script type=\"text/javascript\">\n",
       "        require.config({ baseUrl: \"../js\",\n",
       "                         paths: {d3: \"d3.v4.min\"} });\n",
       "        require(['hocc'], function(hocc) {\n",
       "            hocc.showGraph('871619864', '#graph-output-871619864',\n",
       "            JSON.parse('{\"nodes\": [{\"name\": \"0\", \"x\": 50, \"y\": 125.0, \"t\": 0}, {\"name\": \"1\", \"x\": 150, \"y\": 125.0, \"t\": 2}, {\"name\": \"3\", \"x\": 350, \"y\": 125.0, \"t\": 0}, {\"name\": \"4\", \"x\": 250, \"y\": 125.0, \"t\": 2}], \"links\": [{\"id\": \"0\", \"label\": \"a0 + a1\", \"source\": \"0\", \"target\": \"1\", \"edge_index\": 0, \"num_edge_siblings\": 1, \"flip_orientation\": false}, {\"id\": \"2\", \"label\": \"a0 + a1\", \"source\": \"4\", \"target\": \"3\", \"edge_index\": 0, \"num_edge_siblings\": 1, \"flip_orientation\": true}, {\"id\": \"4\", \"label\": \"a0\", \"source\": \"1\", \"target\": \"4\", \"edge_index\": 0, \"num_edge_siblings\": 2, \"flip_orientation\": false}, {\"id\": \"5\", \"label\": \"a1\", \"source\": \"1\", \"target\": \"4\", \"edge_index\": 1, \"num_edge_siblings\": 2, \"flip_orientation\": false}], \"arcs\": [{\"source\": \"4\", \"target\": \"5\", \"at_v\": \"4\"}]}'), 400, 225.0, 50, 5.0, true);\n",
       "        });\n",
       "        </script>\n",
       "        "
      ],
      "text/plain": [
       "<IPython.core.display.HTML object>"
      ]
     },
     "metadata": {},
     "output_type": "display_data"
    }
   ],
   "source": [
    "e1 = a0 * a1\n",
    "e2 = a0 + a1\n",
    "\n",
    "for f1,f2 in [(e1,e1), (e1,e2), (e2,e1), (e2,e2)]:\n",
    "    g = pn.prove(f1,f2, checker=pn.proofnet.hocc_cut_checker)\n",
    "    print(\"%s |- %s\" % (f1,f2), end=': ')\n",
    "    if g:\n",
    "        print(\"SUCCESS\")\n",
    "        pn.draw(g, labels=True)\n",
    "    else:\n",
    "        print(\"FAIL\\n\")"
   ]
  },
  {
   "cell_type": "code",
   "execution_count": 15,
   "metadata": {},
   "outputs": [
    {
     "name": "stdout",
     "output_type": "stream",
     "text": [
      "A0 * A1 |- A0 * A1: SUCCESS\n"
     ]
    },
    {
     "data": {
      "text/html": [
       "\n",
       "        <div style=\"overflow:auto\" id=\"graph-output-71795111\"></div>\n",
       "        <script type=\"text/javascript\">\n",
       "        require.config({ baseUrl: \"../js\",\n",
       "                         paths: {d3: \"d3.v4.min\"} });\n",
       "        require(['hocc'], function(hocc) {\n",
       "            hocc.showGraph('71795111', '#graph-output-71795111',\n",
       "            JSON.parse('{\"nodes\": [{\"name\": \"0\", \"x\": 50, \"y\": 125.0, \"t\": 0}, {\"name\": \"1\", \"x\": 150, \"y\": 125.0, \"t\": 1}, {\"name\": \"3\", \"x\": 350, \"y\": 125.0, \"t\": 0}, {\"name\": \"4\", \"x\": 250, \"y\": 125.0, \"t\": 1}], \"links\": [{\"id\": \"0\", \"label\": \"A0 * A1\", \"source\": \"0\", \"target\": \"1\", \"edge_index\": 0, \"num_edge_siblings\": 1, \"flip_orientation\": false}, {\"id\": \"2\", \"label\": \"A0 * A1\", \"source\": \"4\", \"target\": \"3\", \"edge_index\": 0, \"num_edge_siblings\": 1, \"flip_orientation\": true}, {\"id\": \"4\", \"label\": \"A0\", \"source\": \"1\", \"target\": \"4\", \"edge_index\": 0, \"num_edge_siblings\": 2, \"flip_orientation\": false}, {\"id\": \"5\", \"label\": \"A1\", \"source\": \"1\", \"target\": \"4\", \"edge_index\": 1, \"num_edge_siblings\": 2, \"flip_orientation\": false}], \"arcs\": [{\"source\": \"4\", \"target\": \"5\", \"at_v\": \"1\"}]}'), 400, 225.0, 50, 5.0, true);\n",
       "        });\n",
       "        </script>\n",
       "        "
      ],
      "text/plain": [
       "<IPython.core.display.HTML object>"
      ]
     },
     "metadata": {},
     "output_type": "display_data"
    },
    {
     "name": "stdout",
     "output_type": "stream",
     "text": [
      "A0 * A1 |- A0 + A1: SUCCESS\n"
     ]
    },
    {
     "data": {
      "text/html": [
       "\n",
       "        <div style=\"overflow:auto\" id=\"graph-output-105557459\"></div>\n",
       "        <script type=\"text/javascript\">\n",
       "        require.config({ baseUrl: \"../js\",\n",
       "                         paths: {d3: \"d3.v4.min\"} });\n",
       "        require(['hocc'], function(hocc) {\n",
       "            hocc.showGraph('105557459', '#graph-output-105557459',\n",
       "            JSON.parse('{\"nodes\": [{\"name\": \"0\", \"x\": 50, \"y\": 125.0, \"t\": 0}, {\"name\": \"1\", \"x\": 150, \"y\": 125.0, \"t\": 1}, {\"name\": \"3\", \"x\": 350, \"y\": 125.0, \"t\": 0}, {\"name\": \"4\", \"x\": 250, \"y\": 125.0, \"t\": 2}], \"links\": [{\"id\": \"0\", \"label\": \"A0 * A1\", \"source\": \"0\", \"target\": \"1\", \"edge_index\": 0, \"num_edge_siblings\": 1, \"flip_orientation\": false}, {\"id\": \"2\", \"label\": \"A0 + A1\", \"source\": \"4\", \"target\": \"3\", \"edge_index\": 0, \"num_edge_siblings\": 1, \"flip_orientation\": true}, {\"id\": \"4\", \"label\": \"A0\", \"source\": \"1\", \"target\": \"4\", \"edge_index\": 0, \"num_edge_siblings\": 2, \"flip_orientation\": false}, {\"id\": \"5\", \"label\": \"A1\", \"source\": \"1\", \"target\": \"4\", \"edge_index\": 1, \"num_edge_siblings\": 2, \"flip_orientation\": false}], \"arcs\": [{\"source\": \"4\", \"target\": \"5\", \"at_v\": \"1\"}, {\"source\": \"4\", \"target\": \"5\", \"at_v\": \"4\"}]}'), 400, 225.0, 50, 5.0, true);\n",
       "        });\n",
       "        </script>\n",
       "        "
      ],
      "text/plain": [
       "<IPython.core.display.HTML object>"
      ]
     },
     "metadata": {},
     "output_type": "display_data"
    },
    {
     "name": "stdout",
     "output_type": "stream",
     "text": [
      "A0 + A1 |- A0 * A1: FAIL\n",
      "\n",
      "A0 + A1 |- A0 + A1: SUCCESS\n"
     ]
    },
    {
     "data": {
      "text/html": [
       "\n",
       "        <div style=\"overflow:auto\" id=\"graph-output-348596995\"></div>\n",
       "        <script type=\"text/javascript\">\n",
       "        require.config({ baseUrl: \"../js\",\n",
       "                         paths: {d3: \"d3.v4.min\"} });\n",
       "        require(['hocc'], function(hocc) {\n",
       "            hocc.showGraph('348596995', '#graph-output-348596995',\n",
       "            JSON.parse('{\"nodes\": [{\"name\": \"0\", \"x\": 50, \"y\": 125.0, \"t\": 0}, {\"name\": \"1\", \"x\": 150, \"y\": 125.0, \"t\": 2}, {\"name\": \"3\", \"x\": 350, \"y\": 125.0, \"t\": 0}, {\"name\": \"4\", \"x\": 250, \"y\": 125.0, \"t\": 2}], \"links\": [{\"id\": \"0\", \"label\": \"A0 + A1\", \"source\": \"0\", \"target\": \"1\", \"edge_index\": 0, \"num_edge_siblings\": 1, \"flip_orientation\": false}, {\"id\": \"2\", \"label\": \"A0 + A1\", \"source\": \"4\", \"target\": \"3\", \"edge_index\": 0, \"num_edge_siblings\": 1, \"flip_orientation\": true}, {\"id\": \"4\", \"label\": \"A0\", \"source\": \"1\", \"target\": \"4\", \"edge_index\": 0, \"num_edge_siblings\": 2, \"flip_orientation\": false}, {\"id\": \"5\", \"label\": \"A1\", \"source\": \"1\", \"target\": \"4\", \"edge_index\": 1, \"num_edge_siblings\": 2, \"flip_orientation\": false}], \"arcs\": [{\"source\": \"4\", \"target\": \"5\", \"at_v\": \"4\"}]}'), 400, 225.0, 50, 5.0, true);\n",
       "        });\n",
       "        </script>\n",
       "        "
      ],
      "text/plain": [
       "<IPython.core.display.HTML object>"
      ]
     },
     "metadata": {},
     "output_type": "display_data"
    }
   ],
   "source": [
    "e1 = A0 * A1\n",
    "e2 = A0 + A1\n",
    "\n",
    "for f1,f2 in [(e1,e1), (e1,e2), (e2,e1), (e2,e2)]:\n",
    "    g = pn.prove(f1,f2)\n",
    "    print(\"%s |- %s\" % (f1,f2), end=': ')\n",
    "    if g:\n",
    "        print(\"SUCCESS\")\n",
    "        pn.draw(g, labels=True)\n",
    "    else:\n",
    "        print(\"FAIL\\n\")"
   ]
  },
  {
   "cell_type": "code",
   "execution_count": 16,
   "metadata": {},
   "outputs": [
    {
     "data": {
      "text/html": [
       "\n",
       "        <div style=\"overflow:auto\" id=\"graph-output-120838466\"></div>\n",
       "        <script type=\"text/javascript\">\n",
       "        require.config({ baseUrl: \"../js\",\n",
       "                         paths: {d3: \"d3.v4.min\"} });\n",
       "        require(['hocc'], function(hocc) {\n",
       "            hocc.showGraph('120838466', '#graph-output-120838466',\n",
       "            JSON.parse('{\"nodes\": [{\"name\": \"0\", \"x\": 50, \"y\": 175.0, \"t\": 0}, {\"name\": \"1\", \"x\": 250, \"y\": 175.0, \"t\": 1}, {\"name\": \"2\", \"x\": 350, \"y\": 125.0, \"t\": 2}, {\"name\": \"3\", \"x\": 350, \"y\": 225.0, \"t\": 2}, {\"name\": \"5\", \"x\": 750, \"y\": 175.0, \"t\": 0}, {\"name\": \"6\", \"x\": 550, \"y\": 175.0, \"t\": 2}, {\"name\": \"7\", \"x\": 450, \"y\": 175.0, \"t\": 1}], \"links\": [{\"id\": \"0\", \"label\": \"(~a0 + a1) * (~b0 + b1)\", \"source\": \"0\", \"target\": \"1\", \"edge_index\": 0, \"num_edge_siblings\": 1, \"flip_orientation\": false}, {\"id\": \"1\", \"label\": \"~a0 + a1\", \"source\": \"1\", \"target\": \"2\", \"edge_index\": 0, \"num_edge_siblings\": 1, \"flip_orientation\": false}, {\"id\": \"2\", \"label\": \"~b0 + b1\", \"source\": \"1\", \"target\": \"3\", \"edge_index\": 0, \"num_edge_siblings\": 1, \"flip_orientation\": false}, {\"id\": \"4\", \"label\": \"~a0 + (a1 * ~b0) + b1\", \"source\": \"6\", \"target\": \"5\", \"edge_index\": 0, \"num_edge_siblings\": 1, \"flip_orientation\": true}, {\"id\": \"5\", \"label\": \"a1 * ~b0\", \"source\": \"7\", \"target\": \"6\", \"edge_index\": 0, \"num_edge_siblings\": 1, \"flip_orientation\": true}, {\"id\": \"7\", \"label\": \"~a0\", \"source\": \"2\", \"target\": \"6\", \"edge_index\": 0, \"num_edge_siblings\": 1, \"flip_orientation\": false}, {\"id\": \"8\", \"label\": \"a1\", \"source\": \"2\", \"target\": \"7\", \"edge_index\": 0, \"num_edge_siblings\": 1, \"flip_orientation\": false}, {\"id\": \"9\", \"label\": \"~b0\", \"source\": \"3\", \"target\": \"7\", \"edge_index\": 0, \"num_edge_siblings\": 1, \"flip_orientation\": false}, {\"id\": \"10\", \"label\": \"b1\", \"source\": \"3\", \"target\": \"6\", \"edge_index\": 0, \"num_edge_siblings\": 1, \"flip_orientation\": false}], \"arcs\": [{\"source\": \"1\", \"target\": \"2\", \"at_v\": \"1\"}, {\"source\": \"5\", \"target\": \"7\", \"at_v\": \"6\"}, {\"source\": \"5\", \"target\": \"10\", \"at_v\": \"6\"}, {\"source\": \"7\", \"target\": \"10\", \"at_v\": \"6\"}]}'), 800, 325.0, 50, 5.0, true);\n",
       "        });\n",
       "        </script>\n",
       "        "
      ],
      "text/plain": [
       "<IPython.core.display.HTML object>"
      ]
     },
     "metadata": {},
     "output_type": "display_data"
    }
   ],
   "source": [
    "g = pn.prove(\n",
    "    (a0 >> a1) * (b0 >> b1),\n",
    "    a0 >> ((a1 >> b0) >> b1)\n",
    ")\n",
    "if g: pn.draw(g, labels=True)\n",
    "else: print(\"FAIL\")"
   ]
  },
  {
   "cell_type": "code",
   "execution_count": 17,
   "metadata": {},
   "outputs": [
    {
     "data": {
      "text/html": [
       "\n",
       "        <div style=\"overflow:auto\" id=\"graph-output-489067082\"></div>\n",
       "        <script type=\"text/javascript\">\n",
       "        require.config({ baseUrl: \"../js\",\n",
       "                         paths: {d3: \"d3.v4.min\"} });\n",
       "        require(['hocc'], function(hocc) {\n",
       "            hocc.showGraph('489067082', '#graph-output-489067082',\n",
       "            JSON.parse('{\"nodes\": [{\"name\": \"2\", \"x\": 350, \"y\": 125.0, \"t\": 2}, {\"name\": \"3\", \"x\": 350, \"y\": 225.0, \"t\": 2}, {\"name\": \"4\", \"x\": 750, \"y\": 175.0, \"t\": 0}, {\"name\": \"5\", \"x\": 550, \"y\": 175.0, \"t\": 2}, {\"name\": \"6\", \"x\": 450, \"y\": 175.0, \"t\": 1}, {\"name\": \"8\", \"x\": 316.66666666666663, \"y\": 141.66666666666669, \"t\": 0}, {\"name\": \"10\", \"x\": 316.66666666666663, \"y\": 208.33333333333331, \"t\": 0}], \"links\": [{\"id\": \"3\", \"label\": \"~a0 + (a1 * ~b0) + b1\", \"source\": \"5\", \"target\": \"4\", \"edge_index\": 0, \"num_edge_siblings\": 1, \"flip_orientation\": true}, {\"id\": \"4\", \"label\": \"a1 * ~b0\", \"source\": \"6\", \"target\": \"5\", \"edge_index\": 0, \"num_edge_siblings\": 1, \"flip_orientation\": true}, {\"id\": \"5\", \"label\": \"~a0\", \"source\": \"2\", \"target\": \"5\", \"edge_index\": 0, \"num_edge_siblings\": 1, \"flip_orientation\": false}, {\"id\": \"6\", \"label\": \"a1\", \"source\": \"2\", \"target\": \"6\", \"edge_index\": 0, \"num_edge_siblings\": 1, \"flip_orientation\": false}, {\"id\": \"7\", \"label\": \"~b0\", \"source\": \"3\", \"target\": \"6\", \"edge_index\": 0, \"num_edge_siblings\": 1, \"flip_orientation\": false}, {\"id\": \"8\", \"label\": \"b1\", \"source\": \"3\", \"target\": \"5\", \"edge_index\": 0, \"num_edge_siblings\": 1, \"flip_orientation\": false}, {\"id\": \"10\", \"label\": \"~a0 + a1\", \"source\": \"8\", \"target\": \"2\", \"edge_index\": 0, \"num_edge_siblings\": 1, \"flip_orientation\": true}, {\"id\": \"12\", \"label\": \"~b0 + b1\", \"source\": \"10\", \"target\": \"3\", \"edge_index\": 0, \"num_edge_siblings\": 1, \"flip_orientation\": true}], \"arcs\": [{\"source\": \"4\", \"target\": \"5\", \"at_v\": \"5\"}, {\"source\": \"4\", \"target\": \"8\", \"at_v\": \"5\"}, {\"source\": \"5\", \"target\": \"8\", \"at_v\": \"5\"}]}'), 800, 325.0, 50, 5.0, false);\n",
       "        });\n",
       "        </script>\n",
       "        "
      ],
      "text/plain": [
       "<IPython.core.display.HTML object>"
      ]
     },
     "metadata": {},
     "output_type": "display_data"
    }
   ],
   "source": [
    "g1 = pn.proofnet.cut_root(g)\n",
    "if g1:\n",
    "    g = g1\n",
    "pn.draw(g)"
   ]
  },
  {
   "cell_type": "code",
   "execution_count": 19,
   "metadata": {},
   "outputs": [
    {
     "data": {
      "text/html": [
       "\n",
       "        <div style=\"overflow:auto\" id=\"graph-output-925650962\"></div>\n",
       "        <script type=\"text/javascript\">\n",
       "        require.config({ baseUrl: \"../js\",\n",
       "                         paths: {d3: \"d3.v4.min\"} });\n",
       "        require(['hocc'], function(hocc) {\n",
       "            hocc.showGraph('925650962', '#graph-output-925650962',\n",
       "            JSON.parse('{\"nodes\": [{\"name\": \"0\", \"x\": 600, \"y\": 275.0, \"t\": 0}, {\"name\": \"1\", \"x\": 200, \"y\": 275.0, \"t\": 2}, {\"name\": \"2\", \"x\": 100, \"y\": 125.0, \"t\": 1}, {\"name\": \"3\", \"x\": 100, \"y\": 225.0, \"t\": 1}, {\"name\": \"5\", \"x\": 50, \"y\": 300.0, \"t\": 3}, {\"name\": \"6\", \"x\": 100, \"y\": 375.0, \"t\": 1}, {\"name\": \"7\", \"x\": 50, \"y\": 350.0, \"t\": 3}, {\"name\": \"8\", \"x\": 50, \"y\": 400.0, \"t\": 3}, {\"name\": \"9\", \"x\": 50, \"y\": 450.0, \"t\": 3}], \"links\": [{\"id\": \"0\", \"label\": \"(a0 * ~a1) + (b0 * ~b1) + ~a0 + (a1 * ~b0) + b1\", \"source\": \"1\", \"target\": \"0\", \"edge_index\": 0, \"num_edge_siblings\": 1, \"flip_orientation\": true}, {\"id\": \"1\", \"label\": \"a0 * ~a1\", \"source\": \"2\", \"target\": \"1\", \"edge_index\": 0, \"num_edge_siblings\": 1, \"flip_orientation\": true}, {\"id\": \"2\", \"label\": \"b0 * ~b1\", \"source\": \"3\", \"target\": \"1\", \"edge_index\": 0, \"num_edge_siblings\": 1, \"flip_orientation\": true}, {\"id\": \"4\", \"label\": \"~a0\", \"source\": \"5\", \"target\": \"1\", \"edge_index\": 0, \"num_edge_siblings\": 1, \"flip_orientation\": true}, {\"id\": \"5\", \"label\": \"a1 * ~b0\", \"source\": \"6\", \"target\": \"1\", \"edge_index\": 0, \"num_edge_siblings\": 1, \"flip_orientation\": true}, {\"id\": \"6\", \"label\": \"a1\", \"source\": \"7\", \"target\": \"6\", \"edge_index\": 0, \"num_edge_siblings\": 1, \"flip_orientation\": true}, {\"id\": \"7\", \"label\": \"~b0\", \"source\": \"8\", \"target\": \"6\", \"edge_index\": 0, \"num_edge_siblings\": 1, \"flip_orientation\": true}, {\"id\": \"8\", \"label\": \"b1\", \"source\": \"9\", \"target\": \"1\", \"edge_index\": 0, \"num_edge_siblings\": 1, \"flip_orientation\": true}, {\"id\": \"9\", \"label\": \"a0\", \"source\": \"5\", \"target\": \"2\", \"edge_index\": 0, \"num_edge_siblings\": 1, \"flip_orientation\": true}, {\"id\": \"10\", \"label\": \"~a1\", \"source\": \"7\", \"target\": \"2\", \"edge_index\": 0, \"num_edge_siblings\": 1, \"flip_orientation\": true}, {\"id\": \"11\", \"label\": \"b0\", \"source\": \"8\", \"target\": \"3\", \"edge_index\": 0, \"num_edge_siblings\": 1, \"flip_orientation\": true}, {\"id\": \"12\", \"label\": \"~b1\", \"source\": \"9\", \"target\": \"3\", \"edge_index\": 0, \"num_edge_siblings\": 1, \"flip_orientation\": true}], \"arcs\": [{\"source\": \"1\", \"target\": \"2\", \"at_v\": \"1\"}, {\"source\": \"1\", \"target\": \"4\", \"at_v\": \"1\"}, {\"source\": \"1\", \"target\": \"5\", \"at_v\": \"1\"}, {\"source\": \"1\", \"target\": \"8\", \"at_v\": \"1\"}, {\"source\": \"2\", \"target\": \"4\", \"at_v\": \"1\"}, {\"source\": \"2\", \"target\": \"5\", \"at_v\": \"1\"}, {\"source\": \"2\", \"target\": \"8\", \"at_v\": \"1\"}, {\"source\": \"4\", \"target\": \"5\", \"at_v\": \"1\"}, {\"source\": \"4\", \"target\": \"8\", \"at_v\": \"1\"}, {\"source\": \"5\", \"target\": \"8\", \"at_v\": \"1\"}]}'), 650, 550.0, 50, 5.0, false);\n",
       "        });\n",
       "        </script>\n",
       "        "
      ],
      "text/plain": [
       "<IPython.core.display.HTML object>"
      ]
     },
     "metadata": {},
     "output_type": "display_data"
    }
   ],
   "source": [
    "g = pn.prove(pn.I,\n",
    "    ((a0 >> a1) * (b0 >> b1)) >>\n",
    "    (a0 >> ((a1 >> b0) >> b1))\n",
    ")\n",
    "if g: pn.draw(g)"
   ]
  },
  {
   "cell_type": "code",
   "execution_count": 20,
   "metadata": {},
   "outputs": [
    {
     "data": {
      "text/html": [
       "\n",
       "        <div style=\"overflow:auto\" id=\"graph-output-443448899\"></div>\n",
       "        <script type=\"text/javascript\">\n",
       "        require.config({ baseUrl: \"../js\",\n",
       "                         paths: {d3: \"d3.v4.min\"} });\n",
       "        require(['hocc'], function(hocc) {\n",
       "            hocc.showGraph('443448899', '#graph-output-443448899',\n",
       "            JSON.parse('{\"nodes\": [{\"name\": \"0\", \"x\": 50, \"y\": 175.0, \"t\": 0}, {\"name\": \"1\", \"x\": 250, \"y\": 175.0, \"t\": 2}, {\"name\": \"2\", \"x\": 350, \"y\": 225.0, \"t\": 1}, {\"name\": \"4\", \"x\": 650, \"y\": 175.0, \"t\": 0}, {\"name\": \"5\", \"x\": 450, \"y\": 175.0, \"t\": 2}], \"links\": [{\"id\": \"0\", \"label\": \"~a0 + ~b0 + (a1 * b1)\", \"source\": \"0\", \"target\": \"1\", \"edge_index\": 0, \"num_edge_siblings\": 1, \"flip_orientation\": false}, {\"id\": \"1\", \"label\": \"a1 * b1\", \"source\": \"1\", \"target\": \"2\", \"edge_index\": 0, \"num_edge_siblings\": 1, \"flip_orientation\": false}, {\"id\": \"3\", \"label\": \"~a0 + a1 + ~b0 + b1\", \"source\": \"5\", \"target\": \"4\", \"edge_index\": 0, \"num_edge_siblings\": 1, \"flip_orientation\": true}, {\"id\": \"5\", \"label\": \"~a0\", \"source\": \"1\", \"target\": \"5\", \"edge_index\": 0, \"num_edge_siblings\": 2, \"flip_orientation\": false}, {\"id\": \"6\", \"label\": \"~b0\", \"source\": \"1\", \"target\": \"5\", \"edge_index\": 1, \"num_edge_siblings\": 2, \"flip_orientation\": false}, {\"id\": \"7\", \"label\": \"a1\", \"source\": \"2\", \"target\": \"5\", \"edge_index\": 0, \"num_edge_siblings\": 2, \"flip_orientation\": false}, {\"id\": \"8\", \"label\": \"b1\", \"source\": \"2\", \"target\": \"5\", \"edge_index\": 1, \"num_edge_siblings\": 2, \"flip_orientation\": false}], \"arcs\": [{\"source\": \"5\", \"target\": \"6\", \"at_v\": \"5\"}, {\"source\": \"5\", \"target\": \"7\", \"at_v\": \"5\"}, {\"source\": \"5\", \"target\": \"8\", \"at_v\": \"5\"}, {\"source\": \"6\", \"target\": \"7\", \"at_v\": \"5\"}, {\"source\": \"6\", \"target\": \"8\", \"at_v\": \"5\"}, {\"source\": \"7\", \"target\": \"8\", \"at_v\": \"2\"}, {\"source\": \"7\", \"target\": \"8\", \"at_v\": \"5\"}]}'), 700, 325.0, 50, 5.0, false);\n",
       "        });\n",
       "        </script>\n",
       "        "
      ],
      "text/plain": [
       "<IPython.core.display.HTML object>"
      ]
     },
     "metadata": {},
     "output_type": "display_data"
    }
   ],
   "source": [
    "g = pn.prove((a0 * b0) >> (a1 * b1), (a0 >> a1) + (b0 >> b1))\n",
    "pn.draw(g)"
   ]
  },
  {
   "cell_type": "code",
   "execution_count": 21,
   "metadata": {},
   "outputs": [
    {
     "data": {
      "text/html": [
       "\n",
       "        <div style=\"overflow:auto\" id=\"graph-output-373116921\"></div>\n",
       "        <script type=\"text/javascript\">\n",
       "        require.config({ baseUrl: \"../js\",\n",
       "                         paths: {d3: \"d3.v4.min\"} });\n",
       "        require(['hocc'], function(hocc) {\n",
       "            hocc.showGraph('373116921', '#graph-output-373116921',\n",
       "            JSON.parse('{\"nodes\": [{\"name\": \"0\", \"x\": 50, \"y\": 175.0, \"t\": 0}, {\"name\": \"1\", \"x\": 250, \"y\": 175.0, \"t\": 2}, {\"name\": \"3\", \"x\": 650, \"y\": 175.0, \"t\": 0}, {\"name\": \"4\", \"x\": 450, \"y\": 175.0, \"t\": 2}, {\"name\": \"5\", \"x\": 350, \"y\": 225.0, \"t\": 1}], \"links\": [{\"id\": \"0\", \"label\": \"~a0 + a1 + ~b0 + b1\", \"source\": \"0\", \"target\": \"1\", \"edge_index\": 0, \"num_edge_siblings\": 1, \"flip_orientation\": false}, {\"id\": \"2\", \"label\": \"~a0 + ~b0 + (a1 * b1)\", \"source\": \"4\", \"target\": \"3\", \"edge_index\": 0, \"num_edge_siblings\": 1, \"flip_orientation\": true}, {\"id\": \"3\", \"label\": \"a1 * b1\", \"source\": \"5\", \"target\": \"4\", \"edge_index\": 0, \"num_edge_siblings\": 1, \"flip_orientation\": true}, {\"id\": \"5\", \"label\": \"~a0\", \"source\": \"1\", \"target\": \"4\", \"edge_index\": 0, \"num_edge_siblings\": 2, \"flip_orientation\": false}, {\"id\": \"6\", \"label\": \"a1\", \"source\": \"1\", \"target\": \"5\", \"edge_index\": 0, \"num_edge_siblings\": 2, \"flip_orientation\": false}, {\"id\": \"7\", \"label\": \"~b0\", \"source\": \"1\", \"target\": \"4\", \"edge_index\": 1, \"num_edge_siblings\": 2, \"flip_orientation\": false}, {\"id\": \"8\", \"label\": \"b1\", \"source\": \"1\", \"target\": \"5\", \"edge_index\": 1, \"num_edge_siblings\": 2, \"flip_orientation\": false}], \"arcs\": [{\"source\": \"3\", \"target\": \"5\", \"at_v\": \"4\"}, {\"source\": \"3\", \"target\": \"7\", \"at_v\": \"4\"}, {\"source\": \"5\", \"target\": \"7\", \"at_v\": \"4\"}]}'), 700, 325.0, 50, 5.0, false);\n",
       "        });\n",
       "        </script>\n",
       "        "
      ],
      "text/plain": [
       "<IPython.core.display.HTML object>"
      ]
     },
     "metadata": {},
     "output_type": "display_data"
    }
   ],
   "source": [
    "g = pn.prove(\n",
    "    ((a0 >> a1) + (b0 >> b1)),\n",
    "    (a0 * b0) >> (a1 * b1)\n",
    ")\n",
    "pn.draw(g)"
   ]
  },
  {
   "cell_type": "code",
   "execution_count": 22,
   "metadata": {},
   "outputs": [
    {
     "data": {
      "text/html": [
       "\n",
       "        <div style=\"overflow:auto\" id=\"graph-output-77053993\"></div>\n",
       "        <script type=\"text/javascript\">\n",
       "        require.config({ baseUrl: \"../js\",\n",
       "                         paths: {d3: \"d3.v4.min\"} });\n",
       "        require(['hocc'], function(hocc) {\n",
       "            hocc.showGraph('77053993', '#graph-output-77053993',\n",
       "            JSON.parse('{\"nodes\": [{\"name\": \"0\", \"x\": 50, \"y\": 275.0, \"t\": 0}, {\"name\": \"1\", \"x\": 500, \"y\": 275.0, \"t\": 1}, {\"name\": \"2\", \"x\": 700, \"y\": 175.0, \"t\": 2}, {\"name\": \"3\", \"x\": 800, \"y\": 175.0, \"t\": 1}, {\"name\": \"4\", \"x\": 700, \"y\": 375.0, \"t\": 2}, {\"name\": \"5\", \"x\": 800, \"y\": 375.0, \"t\": 1}, {\"name\": \"7\", \"x\": 1400, \"y\": 275.0, \"t\": 0}, {\"name\": \"8\", \"x\": 1000, \"y\": 275.0, \"t\": 2}, {\"name\": \"9\", \"x\": 900, \"y\": 175.0, \"t\": 1}, {\"name\": \"10\", \"x\": 900, \"y\": 375.0, \"t\": 1}], \"links\": [{\"id\": \"0\", \"label\": \"(~a0 + (a1 * ~c0) + c1) * (~b0 + (b1 * ~d0) + d1)\", \"source\": \"0\", \"target\": \"1\", \"edge_index\": 0, \"num_edge_siblings\": 1, \"flip_orientation\": false}, {\"id\": \"1\", \"label\": \"~a0 + (a1 * ~c0) + c1\", \"source\": \"1\", \"target\": \"2\", \"edge_index\": 0, \"num_edge_siblings\": 1, \"flip_orientation\": false}, {\"id\": \"2\", \"label\": \"a1 * ~c0\", \"source\": \"2\", \"target\": \"3\", \"edge_index\": 0, \"num_edge_siblings\": 1, \"flip_orientation\": false}, {\"id\": \"3\", \"label\": \"~b0 + (b1 * ~d0) + d1\", \"source\": \"1\", \"target\": \"4\", \"edge_index\": 0, \"num_edge_siblings\": 1, \"flip_orientation\": false}, {\"id\": \"4\", \"label\": \"b1 * ~d0\", \"source\": \"4\", \"target\": \"5\", \"edge_index\": 0, \"num_edge_siblings\": 1, \"flip_orientation\": false}, {\"id\": \"6\", \"label\": \"~a0 + (a1 * ~b0) + b1 + ~c0 + (c1 * ~d0) + d1\", \"source\": \"8\", \"target\": \"7\", \"edge_index\": 0, \"num_edge_siblings\": 1, \"flip_orientation\": true}, {\"id\": \"7\", \"label\": \"a1 * ~b0\", \"source\": \"9\", \"target\": \"8\", \"edge_index\": 0, \"num_edge_siblings\": 1, \"flip_orientation\": true}, {\"id\": \"8\", \"label\": \"c1 * ~d0\", \"source\": \"10\", \"target\": \"8\", \"edge_index\": 0, \"num_edge_siblings\": 1, \"flip_orientation\": true}, {\"id\": \"10\", \"label\": \"~a0\", \"source\": \"2\", \"target\": \"8\", \"edge_index\": 0, \"num_edge_siblings\": 1, \"flip_orientation\": false}, {\"id\": \"11\", \"label\": \"a1\", \"source\": \"3\", \"target\": \"9\", \"edge_index\": 0, \"num_edge_siblings\": 1, \"flip_orientation\": false}, {\"id\": \"12\", \"label\": \"~c0\", \"source\": \"3\", \"target\": \"8\", \"edge_index\": 0, \"num_edge_siblings\": 1, \"flip_orientation\": false}, {\"id\": \"13\", \"label\": \"c1\", \"source\": \"2\", \"target\": \"10\", \"edge_index\": 0, \"num_edge_siblings\": 1, \"flip_orientation\": false}, {\"id\": \"14\", \"label\": \"~b0\", \"source\": \"4\", \"target\": \"9\", \"edge_index\": 0, \"num_edge_siblings\": 1, \"flip_orientation\": false}, {\"id\": \"15\", \"label\": \"b1\", \"source\": \"5\", \"target\": \"8\", \"edge_index\": 0, \"num_edge_siblings\": 1, \"flip_orientation\": false}, {\"id\": \"16\", \"label\": \"~d0\", \"source\": \"5\", \"target\": \"10\", \"edge_index\": 0, \"num_edge_siblings\": 1, \"flip_orientation\": false}, {\"id\": \"17\", \"label\": \"d1\", \"source\": \"4\", \"target\": \"8\", \"edge_index\": 0, \"num_edge_siblings\": 1, \"flip_orientation\": false}], \"arcs\": [{\"source\": \"1\", \"target\": \"3\", \"at_v\": \"1\"}, {\"source\": \"7\", \"target\": \"8\", \"at_v\": \"8\"}, {\"source\": \"7\", \"target\": \"10\", \"at_v\": \"8\"}, {\"source\": \"7\", \"target\": \"12\", \"at_v\": \"8\"}, {\"source\": \"7\", \"target\": \"15\", \"at_v\": \"8\"}, {\"source\": \"7\", \"target\": \"17\", \"at_v\": \"8\"}, {\"source\": \"8\", \"target\": \"10\", \"at_v\": \"8\"}, {\"source\": \"8\", \"target\": \"12\", \"at_v\": \"8\"}, {\"source\": \"8\", \"target\": \"15\", \"at_v\": \"8\"}, {\"source\": \"8\", \"target\": \"17\", \"at_v\": \"8\"}, {\"source\": \"10\", \"target\": \"12\", \"at_v\": \"8\"}, {\"source\": \"10\", \"target\": \"15\", \"at_v\": \"8\"}, {\"source\": \"10\", \"target\": \"17\", \"at_v\": \"8\"}, {\"source\": \"11\", \"target\": \"12\", \"at_v\": \"3\"}, {\"source\": \"12\", \"target\": \"15\", \"at_v\": \"8\"}, {\"source\": \"12\", \"target\": \"17\", \"at_v\": \"8\"}, {\"source\": \"15\", \"target\": \"16\", \"at_v\": \"5\"}, {\"source\": \"15\", \"target\": \"17\", \"at_v\": \"8\"}]}'), 1450, 475.0, 50, 5.0, false);\n",
       "        });\n",
       "        </script>\n",
       "        "
      ],
      "text/plain": [
       "<IPython.core.display.HTML object>"
      ]
     },
     "metadata": {},
     "output_type": "display_data"
    }
   ],
   "source": [
    "g = pn.prove(\n",
    "      fs(a0,a1,c0,c1) *\n",
    "      fs(b0,b1,d0,d1)\n",
    "    ,\n",
    "      ~a0 + (a1 * ~b0) + b1 +\n",
    "      ~c0 + (c1 * ~d0) + d1\n",
    ")\n",
    "pn.draw(g)"
   ]
  },
  {
   "cell_type": "code",
   "execution_count": 23,
   "metadata": {},
   "outputs": [
    {
     "data": {
      "text/html": [
       "\n",
       "        <div style=\"overflow:auto\" id=\"graph-output-683185948\"></div>\n",
       "        <script type=\"text/javascript\">\n",
       "        require.config({ baseUrl: \"../js\",\n",
       "                         paths: {d3: \"d3.v4.min\"} });\n",
       "        require(['hocc'], function(hocc) {\n",
       "            hocc.showGraph('683185948', '#graph-output-683185948',\n",
       "            JSON.parse('{\"nodes\": [{\"name\": \"0\", \"x\": 50, \"y\": 375.0, \"t\": 0}, {\"name\": \"1\", \"x\": 700, \"y\": 375.0, \"t\": 1}, {\"name\": \"2\", \"x\": 850, \"y\": 150.0, \"t\": 2}, {\"name\": \"3\", \"x\": 950, \"y\": 175.0, \"t\": 1}, {\"name\": \"4\", \"x\": 850, \"y\": 300.0, \"t\": 2}, {\"name\": \"5\", \"x\": 1000, \"y\": 250.0, \"t\": 3}, {\"name\": \"6\", \"x\": 850, \"y\": 450.0, \"t\": 2}, {\"name\": \"7\", \"x\": 950, \"y\": 475.0, \"t\": 1}, {\"name\": \"8\", \"x\": 850, \"y\": 600.0, \"t\": 2}, {\"name\": \"9\", \"x\": 1000, \"y\": 550.0, \"t\": 3}, {\"name\": \"11\", \"x\": 1800, \"y\": 275.0, \"t\": 0}, {\"name\": \"12\", \"x\": 1350, \"y\": 275.0, \"t\": 2}, {\"name\": \"13\", \"x\": 1150, \"y\": 175.0, \"t\": 1}, {\"name\": \"14\", \"x\": 1050, \"y\": 125.0, \"t\": 2}, {\"name\": \"15\", \"x\": 1050, \"y\": 225.0, \"t\": 2}, {\"name\": \"16\", \"x\": 1150, \"y\": 375.0, \"t\": 1}, {\"name\": \"17\", \"x\": 1050, \"y\": 325.0, \"t\": 2}, {\"name\": \"18\", \"x\": 1050, \"y\": 425.0, \"t\": 2}], \"links\": [{\"id\": \"0\", \"label\": \"(~a0 + (a1 * x0)) * (~x0 + ~c0 + c1) * (~b0 + (b1 * y0)) * (~y0 + ~d0 + d1)\", \"source\": \"0\", \"target\": \"1\", \"edge_index\": 0, \"num_edge_siblings\": 1, \"flip_orientation\": false}, {\"id\": \"1\", \"label\": \"~a0 + (a1 * x0)\", \"source\": \"1\", \"target\": \"2\", \"edge_index\": 0, \"num_edge_siblings\": 1, \"flip_orientation\": false}, {\"id\": \"2\", \"label\": \"a1 * x0\", \"source\": \"2\", \"target\": \"3\", \"edge_index\": 0, \"num_edge_siblings\": 1, \"flip_orientation\": false}, {\"id\": \"3\", \"label\": \"~x0 + ~c0 + c1\", \"source\": \"1\", \"target\": \"4\", \"edge_index\": 0, \"num_edge_siblings\": 1, \"flip_orientation\": false}, {\"id\": \"4\", \"label\": \"~x0\", \"source\": \"4\", \"target\": \"5\", \"edge_index\": 0, \"num_edge_siblings\": 1, \"flip_orientation\": false}, {\"id\": \"5\", \"label\": \"~b0 + (b1 * y0)\", \"source\": \"1\", \"target\": \"6\", \"edge_index\": 0, \"num_edge_siblings\": 1, \"flip_orientation\": false}, {\"id\": \"6\", \"label\": \"b1 * y0\", \"source\": \"6\", \"target\": \"7\", \"edge_index\": 0, \"num_edge_siblings\": 1, \"flip_orientation\": false}, {\"id\": \"7\", \"label\": \"~y0 + ~d0 + d1\", \"source\": \"1\", \"target\": \"8\", \"edge_index\": 0, \"num_edge_siblings\": 1, \"flip_orientation\": false}, {\"id\": \"8\", \"label\": \"~y0\", \"source\": \"8\", \"target\": \"9\", \"edge_index\": 0, \"num_edge_siblings\": 1, \"flip_orientation\": false}, {\"id\": \"10\", \"label\": \"((~a0 + a1) * (~b0 + b1)) + ((~c0 + c1) * (~d0 + d1))\", \"source\": \"12\", \"target\": \"11\", \"edge_index\": 0, \"num_edge_siblings\": 1, \"flip_orientation\": true}, {\"id\": \"11\", \"label\": \"(~a0 + a1) * (~b0 + b1)\", \"source\": \"13\", \"target\": \"12\", \"edge_index\": 0, \"num_edge_siblings\": 1, \"flip_orientation\": true}, {\"id\": \"12\", \"label\": \"~a0 + a1\", \"source\": \"14\", \"target\": \"13\", \"edge_index\": 0, \"num_edge_siblings\": 1, \"flip_orientation\": true}, {\"id\": \"13\", \"label\": \"~b0 + b1\", \"source\": \"15\", \"target\": \"13\", \"edge_index\": 0, \"num_edge_siblings\": 1, \"flip_orientation\": true}, {\"id\": \"14\", \"label\": \"(~c0 + c1) * (~d0 + d1)\", \"source\": \"16\", \"target\": \"12\", \"edge_index\": 0, \"num_edge_siblings\": 1, \"flip_orientation\": true}, {\"id\": \"15\", \"label\": \"~c0 + c1\", \"source\": \"17\", \"target\": \"16\", \"edge_index\": 0, \"num_edge_siblings\": 1, \"flip_orientation\": true}, {\"id\": \"16\", \"label\": \"~d0 + d1\", \"source\": \"18\", \"target\": \"16\", \"edge_index\": 0, \"num_edge_siblings\": 1, \"flip_orientation\": true}, {\"id\": \"18\", \"label\": \"~a0\", \"source\": \"2\", \"target\": \"14\", \"edge_index\": 0, \"num_edge_siblings\": 1, \"flip_orientation\": false}, {\"id\": \"19\", \"label\": \"a1\", \"source\": \"3\", \"target\": \"14\", \"edge_index\": 0, \"num_edge_siblings\": 1, \"flip_orientation\": false}, {\"id\": \"20\", \"label\": \"x0\", \"source\": \"3\", \"target\": \"5\", \"edge_index\": 0, \"num_edge_siblings\": 1, \"flip_orientation\": false}, {\"id\": \"21\", \"label\": \"~c0\", \"source\": \"4\", \"target\": \"17\", \"edge_index\": 0, \"num_edge_siblings\": 2, \"flip_orientation\": false}, {\"id\": \"22\", \"label\": \"c1\", \"source\": \"4\", \"target\": \"17\", \"edge_index\": 1, \"num_edge_siblings\": 2, \"flip_orientation\": false}, {\"id\": \"23\", \"label\": \"~b0\", \"source\": \"6\", \"target\": \"15\", \"edge_index\": 0, \"num_edge_siblings\": 1, \"flip_orientation\": false}, {\"id\": \"24\", \"label\": \"b1\", \"source\": \"7\", \"target\": \"15\", \"edge_index\": 0, \"num_edge_siblings\": 1, \"flip_orientation\": false}, {\"id\": \"25\", \"label\": \"y0\", \"source\": \"7\", \"target\": \"9\", \"edge_index\": 0, \"num_edge_siblings\": 1, \"flip_orientation\": false}, {\"id\": \"26\", \"label\": \"~d0\", \"source\": \"8\", \"target\": \"18\", \"edge_index\": 0, \"num_edge_siblings\": 2, \"flip_orientation\": false}, {\"id\": \"27\", \"label\": \"d1\", \"source\": \"8\", \"target\": \"18\", \"edge_index\": 1, \"num_edge_siblings\": 2, \"flip_orientation\": false}], \"arcs\": [{\"source\": \"1\", \"target\": \"5\", \"at_v\": \"1\"}, {\"source\": \"1\", \"target\": \"3\", \"at_v\": \"1\"}, {\"source\": \"1\", \"target\": \"7\", \"at_v\": \"1\"}, {\"source\": \"3\", \"target\": \"5\", \"at_v\": \"1\"}, {\"source\": \"3\", \"target\": \"7\", \"at_v\": \"1\"}, {\"source\": \"5\", \"target\": \"7\", \"at_v\": \"1\"}, {\"source\": \"11\", \"target\": \"14\", \"at_v\": \"12\"}, {\"source\": \"18\", \"target\": \"19\", \"at_v\": \"14\"}, {\"source\": \"19\", \"target\": \"20\", \"at_v\": \"3\"}, {\"source\": \"21\", \"target\": \"22\", \"at_v\": \"17\"}, {\"source\": \"23\", \"target\": \"24\", \"at_v\": \"15\"}, {\"source\": \"24\", \"target\": \"25\", \"at_v\": \"7\"}, {\"source\": \"26\", \"target\": \"27\", \"at_v\": \"18\"}]}'), 1850, 700.0, 50, 5.0, true);\n",
       "        });\n",
       "        </script>\n",
       "        "
      ],
      "text/plain": [
       "<IPython.core.display.HTML object>"
      ]
     },
     "metadata": {},
     "output_type": "display_data"
    }
   ],
   "source": [
    "g = pn.prove(\n",
    "      fs(a0,a1,c0,c1,x0) *\n",
    "      fs(b0,b1,d0,d1,y0)\n",
    "    ,\n",
    "      ns(a0,a1,b0,b1) +\n",
    "      ns(c0,c1,d0,d1)\n",
    ")\n",
    "pn.draw(g, labels=True)"
   ]
  },
  {
   "cell_type": "code",
   "execution_count": 24,
   "metadata": {},
   "outputs": [
    {
     "data": {
      "text/html": [
       "\n",
       "        <div style=\"overflow:auto\" id=\"graph-output-134985545\"></div>\n",
       "        <script type=\"text/javascript\">\n",
       "        require.config({ baseUrl: \"../js\",\n",
       "                         paths: {d3: \"d3.v4.min\"} });\n",
       "        require(['hocc'], function(hocc) {\n",
       "            hocc.showGraph('134985545', '#graph-output-134985545',\n",
       "            JSON.parse('{\"nodes\": [{\"name\": \"2\", \"x\": 850, \"y\": 150.0, \"t\": 2}, {\"name\": \"3\", \"x\": 950, \"y\": 175.0, \"t\": 1}, {\"name\": \"4\", \"x\": 850, \"y\": 300.0, \"t\": 2}, {\"name\": \"5\", \"x\": 1000, \"y\": 250.0, \"t\": 3}, {\"name\": \"6\", \"x\": 850, \"y\": 450.0, \"t\": 2}, {\"name\": \"7\", \"x\": 950, \"y\": 475.0, \"t\": 1}, {\"name\": \"8\", \"x\": 850, \"y\": 600.0, \"t\": 2}, {\"name\": \"9\", \"x\": 1000, \"y\": 550.0, \"t\": 3}, {\"name\": \"10\", \"x\": 1800, \"y\": 275.0, \"t\": 0}, {\"name\": \"11\", \"x\": 1350, \"y\": 275.0, \"t\": 2}, {\"name\": \"12\", \"x\": 1150, \"y\": 175.0, \"t\": 1}, {\"name\": \"13\", \"x\": 1050, \"y\": 125.0, \"t\": 2}, {\"name\": \"14\", \"x\": 1050, \"y\": 225.0, \"t\": 2}, {\"name\": \"15\", \"x\": 1150, \"y\": 375.0, \"t\": 1}, {\"name\": \"16\", \"x\": 1050, \"y\": 325.0, \"t\": 2}, {\"name\": \"17\", \"x\": 1050, \"y\": 425.0, \"t\": 2}, {\"name\": \"19\", \"x\": 800.0, \"y\": 225.0, \"t\": 0}, {\"name\": \"21\", \"x\": 800.0, \"y\": 325.0, \"t\": 0}, {\"name\": \"23\", \"x\": 800.0, \"y\": 425.0, \"t\": 0}, {\"name\": \"25\", \"x\": 800.0, \"y\": 525.0, \"t\": 0}], \"links\": [{\"id\": \"2\", \"label\": \"a1 * x0\", \"source\": \"2\", \"target\": \"3\", \"edge_index\": 0, \"num_edge_siblings\": 1, \"flip_orientation\": false}, {\"id\": \"4\", \"label\": \"~x0\", \"source\": \"4\", \"target\": \"5\", \"edge_index\": 0, \"num_edge_siblings\": 1, \"flip_orientation\": false}, {\"id\": \"6\", \"label\": \"b1 * y0\", \"source\": \"6\", \"target\": \"7\", \"edge_index\": 0, \"num_edge_siblings\": 1, \"flip_orientation\": false}, {\"id\": \"8\", \"label\": \"~y0\", \"source\": \"8\", \"target\": \"9\", \"edge_index\": 0, \"num_edge_siblings\": 1, \"flip_orientation\": false}, {\"id\": \"9\", \"label\": \"((~a0 + a1) * (~b0 + b1)) + ((~c0 + c1) * (~d0 + d1))\", \"source\": \"11\", \"target\": \"10\", \"edge_index\": 0, \"num_edge_siblings\": 1, \"flip_orientation\": true}, {\"id\": \"10\", \"label\": \"(~a0 + a1) * (~b0 + b1)\", \"source\": \"12\", \"target\": \"11\", \"edge_index\": 0, \"num_edge_siblings\": 1, \"flip_orientation\": true}, {\"id\": \"11\", \"label\": \"~a0 + a1\", \"source\": \"13\", \"target\": \"12\", \"edge_index\": 0, \"num_edge_siblings\": 1, \"flip_orientation\": true}, {\"id\": \"12\", \"label\": \"~b0 + b1\", \"source\": \"14\", \"target\": \"12\", \"edge_index\": 0, \"num_edge_siblings\": 1, \"flip_orientation\": true}, {\"id\": \"13\", \"label\": \"(~c0 + c1) * (~d0 + d1)\", \"source\": \"15\", \"target\": \"11\", \"edge_index\": 0, \"num_edge_siblings\": 1, \"flip_orientation\": true}, {\"id\": \"14\", \"label\": \"~c0 + c1\", \"source\": \"16\", \"target\": \"15\", \"edge_index\": 0, \"num_edge_siblings\": 1, \"flip_orientation\": true}, {\"id\": \"15\", \"label\": \"~d0 + d1\", \"source\": \"17\", \"target\": \"15\", \"edge_index\": 0, \"num_edge_siblings\": 1, \"flip_orientation\": true}, {\"id\": \"16\", \"label\": \"~a0\", \"source\": \"2\", \"target\": \"13\", \"edge_index\": 0, \"num_edge_siblings\": 1, \"flip_orientation\": false}, {\"id\": \"17\", \"label\": \"a1\", \"source\": \"3\", \"target\": \"13\", \"edge_index\": 0, \"num_edge_siblings\": 1, \"flip_orientation\": false}, {\"id\": \"18\", \"label\": \"x0\", \"source\": \"3\", \"target\": \"5\", \"edge_index\": 0, \"num_edge_siblings\": 1, \"flip_orientation\": false}, {\"id\": \"19\", \"label\": \"~c0\", \"source\": \"4\", \"target\": \"16\", \"edge_index\": 0, \"num_edge_siblings\": 2, \"flip_orientation\": false}, {\"id\": \"20\", \"label\": \"c1\", \"source\": \"4\", \"target\": \"16\", \"edge_index\": 1, \"num_edge_siblings\": 2, \"flip_orientation\": false}, {\"id\": \"21\", \"label\": \"~b0\", \"source\": \"6\", \"target\": \"14\", \"edge_index\": 0, \"num_edge_siblings\": 1, \"flip_orientation\": false}, {\"id\": \"22\", \"label\": \"b1\", \"source\": \"7\", \"target\": \"14\", \"edge_index\": 0, \"num_edge_siblings\": 1, \"flip_orientation\": false}, {\"id\": \"23\", \"label\": \"y0\", \"source\": \"7\", \"target\": \"9\", \"edge_index\": 0, \"num_edge_siblings\": 1, \"flip_orientation\": false}, {\"id\": \"24\", \"label\": \"~d0\", \"source\": \"8\", \"target\": \"17\", \"edge_index\": 0, \"num_edge_siblings\": 2, \"flip_orientation\": false}, {\"id\": \"25\", \"label\": \"d1\", \"source\": \"8\", \"target\": \"17\", \"edge_index\": 1, \"num_edge_siblings\": 2, \"flip_orientation\": false}, {\"id\": \"27\", \"label\": \"~a0 + (a1 * x0)\", \"source\": \"19\", \"target\": \"2\", \"edge_index\": 0, \"num_edge_siblings\": 1, \"flip_orientation\": true}, {\"id\": \"29\", \"label\": \"~x0 + ~c0 + c1\", \"source\": \"21\", \"target\": \"4\", \"edge_index\": 0, \"num_edge_siblings\": 1, \"flip_orientation\": true}, {\"id\": \"31\", \"label\": \"~b0 + (b1 * y0)\", \"source\": \"23\", \"target\": \"6\", \"edge_index\": 0, \"num_edge_siblings\": 1, \"flip_orientation\": true}, {\"id\": \"33\", \"label\": \"~y0 + ~d0 + d1\", \"source\": \"25\", \"target\": \"8\", \"edge_index\": 0, \"num_edge_siblings\": 1, \"flip_orientation\": true}], \"arcs\": [{\"source\": \"10\", \"target\": \"13\", \"at_v\": \"11\"}, {\"source\": \"16\", \"target\": \"17\", \"at_v\": \"13\"}, {\"source\": \"17\", \"target\": \"18\", \"at_v\": \"3\"}, {\"source\": \"19\", \"target\": \"20\", \"at_v\": \"16\"}, {\"source\": \"21\", \"target\": \"22\", \"at_v\": \"14\"}, {\"source\": \"22\", \"target\": \"23\", \"at_v\": \"7\"}, {\"source\": \"24\", \"target\": \"25\", \"at_v\": \"17\"}]}'), 1850, 700.0, 50, 5.0, false);\n",
       "        });\n",
       "        </script>\n",
       "        "
      ],
      "text/plain": [
       "<IPython.core.display.HTML object>"
      ]
     },
     "metadata": {},
     "output_type": "display_data"
    }
   ],
   "source": [
    "g1 = pn.proofnet.cut_root(g)\n",
    "if g1:\n",
    "    g = g1\n",
    "pn.draw(g)"
   ]
  },
  {
   "cell_type": "code",
   "execution_count": 25,
   "metadata": {},
   "outputs": [
    {
     "data": {
      "text/html": [
       "\n",
       "        <div style=\"overflow:auto\" id=\"graph-output-449329736\"></div>\n",
       "        <script type=\"text/javascript\">\n",
       "        require.config({ baseUrl: \"../js\",\n",
       "                         paths: {d3: \"d3.v4.min\"} });\n",
       "        require(['hocc'], function(hocc) {\n",
       "            hocc.showGraph('449329736', '#graph-output-449329736',\n",
       "            JSON.parse('{\"nodes\": [{\"name\": \"0\", \"x\": 50, \"y\": 275.0, \"t\": 0}, {\"name\": \"1\", \"x\": 500, \"y\": 275.0, \"t\": 1}, {\"name\": \"2\", \"x\": 700, \"y\": 175.0, \"t\": 2}, {\"name\": \"3\", \"x\": 800, \"y\": 175.0, \"t\": 1}, {\"name\": \"4\", \"x\": 700, \"y\": 375.0, \"t\": 2}, {\"name\": \"5\", \"x\": 800, \"y\": 375.0, \"t\": 1}, {\"name\": \"7\", \"x\": 1650, \"y\": 275.0, \"t\": 0}, {\"name\": \"8\", \"x\": 1200, \"y\": 275.0, \"t\": 2}, {\"name\": \"9\", \"x\": 1000, \"y\": 175.0, \"t\": 1}, {\"name\": \"10\", \"x\": 900, \"y\": 125.0, \"t\": 2}, {\"name\": \"11\", \"x\": 900, \"y\": 225.0, \"t\": 2}, {\"name\": \"12\", \"x\": 1000, \"y\": 375.0, \"t\": 1}, {\"name\": \"13\", \"x\": 900, \"y\": 325.0, \"t\": 2}, {\"name\": \"14\", \"x\": 900, \"y\": 425.0, \"t\": 2}], \"links\": [{\"id\": \"0\", \"label\": \"(~a0 + (a1 * ~c0) + c1) * (~b0 + (b1 * ~d0) + d1)\", \"source\": \"0\", \"target\": \"1\", \"edge_index\": 0, \"num_edge_siblings\": 1, \"flip_orientation\": false}, {\"id\": \"1\", \"label\": \"~a0 + (a1 * ~c0) + c1\", \"source\": \"1\", \"target\": \"2\", \"edge_index\": 0, \"num_edge_siblings\": 1, \"flip_orientation\": false}, {\"id\": \"2\", \"label\": \"a1 * ~c0\", \"source\": \"2\", \"target\": \"3\", \"edge_index\": 0, \"num_edge_siblings\": 1, \"flip_orientation\": false}, {\"id\": \"3\", \"label\": \"~b0 + (b1 * ~d0) + d1\", \"source\": \"1\", \"target\": \"4\", \"edge_index\": 0, \"num_edge_siblings\": 1, \"flip_orientation\": false}, {\"id\": \"4\", \"label\": \"b1 * ~d0\", \"source\": \"4\", \"target\": \"5\", \"edge_index\": 0, \"num_edge_siblings\": 1, \"flip_orientation\": false}, {\"id\": \"6\", \"label\": \"((~a0 + a1) * (~b0 + b1)) + ((~c0 + c1) * (~d0 + d1))\", \"source\": \"8\", \"target\": \"7\", \"edge_index\": 0, \"num_edge_siblings\": 1, \"flip_orientation\": true}, {\"id\": \"7\", \"label\": \"(~a0 + a1) * (~b0 + b1)\", \"source\": \"9\", \"target\": \"8\", \"edge_index\": 0, \"num_edge_siblings\": 1, \"flip_orientation\": true}, {\"id\": \"8\", \"label\": \"~a0 + a1\", \"source\": \"10\", \"target\": \"9\", \"edge_index\": 0, \"num_edge_siblings\": 1, \"flip_orientation\": true}, {\"id\": \"9\", \"label\": \"~b0 + b1\", \"source\": \"11\", \"target\": \"9\", \"edge_index\": 0, \"num_edge_siblings\": 1, \"flip_orientation\": true}, {\"id\": \"10\", \"label\": \"(~c0 + c1) * (~d0 + d1)\", \"source\": \"12\", \"target\": \"8\", \"edge_index\": 0, \"num_edge_siblings\": 1, \"flip_orientation\": true}, {\"id\": \"11\", \"label\": \"~c0 + c1\", \"source\": \"13\", \"target\": \"12\", \"edge_index\": 0, \"num_edge_siblings\": 1, \"flip_orientation\": true}, {\"id\": \"12\", \"label\": \"~d0 + d1\", \"source\": \"14\", \"target\": \"12\", \"edge_index\": 0, \"num_edge_siblings\": 1, \"flip_orientation\": true}, {\"id\": \"14\", \"label\": \"~a0\", \"source\": \"2\", \"target\": \"10\", \"edge_index\": 0, \"num_edge_siblings\": 1, \"flip_orientation\": false}, {\"id\": \"15\", \"label\": \"a1\", \"source\": \"3\", \"target\": \"10\", \"edge_index\": 0, \"num_edge_siblings\": 1, \"flip_orientation\": false}, {\"id\": \"16\", \"label\": \"~c0\", \"source\": \"3\", \"target\": \"13\", \"edge_index\": 0, \"num_edge_siblings\": 1, \"flip_orientation\": false}, {\"id\": \"17\", \"label\": \"c1\", \"source\": \"2\", \"target\": \"13\", \"edge_index\": 0, \"num_edge_siblings\": 1, \"flip_orientation\": false}, {\"id\": \"18\", \"label\": \"~b0\", \"source\": \"4\", \"target\": \"11\", \"edge_index\": 0, \"num_edge_siblings\": 1, \"flip_orientation\": false}, {\"id\": \"19\", \"label\": \"b1\", \"source\": \"5\", \"target\": \"11\", \"edge_index\": 0, \"num_edge_siblings\": 1, \"flip_orientation\": false}, {\"id\": \"20\", \"label\": \"~d0\", \"source\": \"5\", \"target\": \"14\", \"edge_index\": 0, \"num_edge_siblings\": 1, \"flip_orientation\": false}, {\"id\": \"21\", \"label\": \"d1\", \"source\": \"4\", \"target\": \"14\", \"edge_index\": 0, \"num_edge_siblings\": 1, \"flip_orientation\": false}], \"arcs\": [{\"source\": \"1\", \"target\": \"3\", \"at_v\": \"1\"}, {\"source\": \"7\", \"target\": \"10\", \"at_v\": \"8\"}, {\"source\": \"14\", \"target\": \"15\", \"at_v\": \"10\"}, {\"source\": \"15\", \"target\": \"16\", \"at_v\": \"3\"}, {\"source\": \"16\", \"target\": \"17\", \"at_v\": \"13\"}, {\"source\": \"18\", \"target\": \"19\", \"at_v\": \"11\"}, {\"source\": \"19\", \"target\": \"20\", \"at_v\": \"5\"}, {\"source\": \"20\", \"target\": \"21\", \"at_v\": \"14\"}]}'), 1700, 525.0, 50, 5.0, true);\n",
       "        });\n",
       "        </script>\n",
       "        "
      ],
      "text/plain": [
       "<IPython.core.display.HTML object>"
      ]
     },
     "metadata": {},
     "output_type": "display_data"
    }
   ],
   "source": [
    "g = pn.prove(\n",
    "      fs(a0,a1,c0,c1) *\n",
    "      fs(b0,b1,d0,d1)\n",
    "    ,\n",
    "      ns(a0,a1,b0,b1) +\n",
    "      ns(c0,c1,d0,d1)\n",
    "    , checker=lambda x: True\n",
    ")\n",
    "pn.draw(g, labels=True)"
   ]
  },
  {
   "cell_type": "code",
   "execution_count": 26,
   "metadata": {},
   "outputs": [
    {
     "data": {
      "text/html": [
       "\n",
       "        <div style=\"overflow:auto\" id=\"graph-output-348322680\"></div>\n",
       "        <script type=\"text/javascript\">\n",
       "        require.config({ baseUrl: \"../js\",\n",
       "                         paths: {d3: \"d3.v4.min\"} });\n",
       "        require(['hocc'], function(hocc) {\n",
       "            hocc.showGraph('348322680', '#graph-output-348322680',\n",
       "            JSON.parse('{\"nodes\": [{\"name\": \"0\", \"x\": 50, \"y\": 275.0, \"t\": 0}, {\"name\": \"1\", \"x\": 500, \"y\": 275.0, \"t\": 1}, {\"name\": \"2\", \"x\": 700, \"y\": 175.0, \"t\": 2}, {\"name\": \"3\", \"x\": 800, \"y\": 175.0, \"t\": 1}, {\"name\": \"4\", \"x\": 700, \"y\": 375.0, \"t\": 2}, {\"name\": \"5\", \"x\": 800, \"y\": 375.0, \"t\": 1}, {\"name\": \"7\", \"x\": 1650, \"y\": 275.0, \"t\": 0}, {\"name\": \"8\", \"x\": 1200, \"y\": 275.0, \"t\": 2}, {\"name\": \"9\", \"x\": 1000, \"y\": 175.0, \"t\": 1}, {\"name\": \"10\", \"x\": 900, \"y\": 125.0, \"t\": 2}, {\"name\": \"11\", \"x\": 900, \"y\": 225.0, \"t\": 2}, {\"name\": \"12\", \"x\": 1000, \"y\": 375.0, \"t\": 1}, {\"name\": \"13\", \"x\": 900, \"y\": 325.0, \"t\": 2}, {\"name\": \"14\", \"x\": 900, \"y\": 425.0, \"t\": 2}], \"links\": [{\"id\": \"0\", \"label\": \"(~a0 + (a1 * ~c0) + c1) * (~b0 + (b1 * ~d0) + d1)\", \"source\": \"0\", \"target\": \"1\", \"edge_index\": 0, \"num_edge_siblings\": 1, \"flip_orientation\": false}, {\"id\": \"1\", \"label\": \"~a0 + (a1 * ~c0) + c1\", \"source\": \"1\", \"target\": \"2\", \"edge_index\": 0, \"num_edge_siblings\": 1, \"flip_orientation\": false}, {\"id\": \"2\", \"label\": \"a1 * ~c0\", \"source\": \"2\", \"target\": \"3\", \"edge_index\": 0, \"num_edge_siblings\": 1, \"flip_orientation\": false}, {\"id\": \"3\", \"label\": \"~b0 + (b1 * ~d0) + d1\", \"source\": \"1\", \"target\": \"4\", \"edge_index\": 0, \"num_edge_siblings\": 1, \"flip_orientation\": false}, {\"id\": \"4\", \"label\": \"b1 * ~d0\", \"source\": \"4\", \"target\": \"5\", \"edge_index\": 0, \"num_edge_siblings\": 1, \"flip_orientation\": false}, {\"id\": \"6\", \"label\": \"((~a0 + a1) * (~b0 + b1)) + ((~c0 + c1) * (~d0 + d1))\", \"source\": \"8\", \"target\": \"7\", \"edge_index\": 0, \"num_edge_siblings\": 1, \"flip_orientation\": true}, {\"id\": \"7\", \"label\": \"(~a0 + a1) * (~b0 + b1)\", \"source\": \"9\", \"target\": \"8\", \"edge_index\": 0, \"num_edge_siblings\": 1, \"flip_orientation\": true}, {\"id\": \"8\", \"label\": \"~a0 + a1\", \"source\": \"10\", \"target\": \"9\", \"edge_index\": 0, \"num_edge_siblings\": 1, \"flip_orientation\": true}, {\"id\": \"9\", \"label\": \"~b0 + b1\", \"source\": \"11\", \"target\": \"9\", \"edge_index\": 0, \"num_edge_siblings\": 1, \"flip_orientation\": true}, {\"id\": \"10\", \"label\": \"(~c0 + c1) * (~d0 + d1)\", \"source\": \"12\", \"target\": \"8\", \"edge_index\": 0, \"num_edge_siblings\": 1, \"flip_orientation\": true}, {\"id\": \"11\", \"label\": \"~c0 + c1\", \"source\": \"13\", \"target\": \"12\", \"edge_index\": 0, \"num_edge_siblings\": 1, \"flip_orientation\": true}, {\"id\": \"12\", \"label\": \"~d0 + d1\", \"source\": \"14\", \"target\": \"12\", \"edge_index\": 0, \"num_edge_siblings\": 1, \"flip_orientation\": true}, {\"id\": \"14\", \"label\": \"~a0\", \"source\": \"2\", \"target\": \"10\", \"edge_index\": 0, \"num_edge_siblings\": 1, \"flip_orientation\": false}, {\"id\": \"15\", \"label\": \"a1\", \"source\": \"3\", \"target\": \"10\", \"edge_index\": 0, \"num_edge_siblings\": 1, \"flip_orientation\": false}, {\"id\": \"16\", \"label\": \"~c0\", \"source\": \"3\", \"target\": \"13\", \"edge_index\": 0, \"num_edge_siblings\": 1, \"flip_orientation\": false}, {\"id\": \"17\", \"label\": \"c1\", \"source\": \"2\", \"target\": \"13\", \"edge_index\": 0, \"num_edge_siblings\": 1, \"flip_orientation\": false}, {\"id\": \"18\", \"label\": \"~b0\", \"source\": \"4\", \"target\": \"11\", \"edge_index\": 0, \"num_edge_siblings\": 1, \"flip_orientation\": false}, {\"id\": \"19\", \"label\": \"b1\", \"source\": \"5\", \"target\": \"11\", \"edge_index\": 0, \"num_edge_siblings\": 1, \"flip_orientation\": false}, {\"id\": \"20\", \"label\": \"~d0\", \"source\": \"5\", \"target\": \"14\", \"edge_index\": 0, \"num_edge_siblings\": 1, \"flip_orientation\": false}, {\"id\": \"21\", \"label\": \"d1\", \"source\": \"4\", \"target\": \"14\", \"edge_index\": 0, \"num_edge_siblings\": 1, \"flip_orientation\": false}], \"arcs\": [{\"source\": \"1\", \"target\": \"3\", \"at_v\": \"1\"}, {\"source\": \"7\", \"target\": \"10\", \"at_v\": \"8\"}, {\"source\": \"14\", \"target\": \"15\", \"at_v\": \"10\"}, {\"source\": \"15\", \"target\": \"16\", \"at_v\": \"3\"}, {\"source\": \"16\", \"target\": \"17\", \"at_v\": \"13\"}, {\"source\": \"18\", \"target\": \"19\", \"at_v\": \"11\"}, {\"source\": \"19\", \"target\": \"20\", \"at_v\": \"5\"}, {\"source\": \"20\", \"target\": \"21\", \"at_v\": \"14\"}]}'), 1700, 525.0, 50, 5.0, false);\n",
       "        });\n",
       "        </script>\n",
       "        "
      ],
      "text/plain": [
       "<IPython.core.display.HTML object>"
      ]
     },
     "metadata": {},
     "output_type": "display_data"
    }
   ],
   "source": [
    "pn.draw(g)"
   ]
  },
  {
   "cell_type": "code",
   "execution_count": 27,
   "metadata": {},
   "outputs": [
    {
     "data": {
      "text/html": [
       "\n",
       "        <div style=\"overflow:auto\" id=\"graph-output-625458703\"></div>\n",
       "        <script type=\"text/javascript\">\n",
       "        require.config({ baseUrl: \"../js\",\n",
       "                         paths: {d3: \"d3.v4.min\"} });\n",
       "        require(['hocc'], function(hocc) {\n",
       "            hocc.showGraph('625458703', '#graph-output-625458703',\n",
       "            JSON.parse('{\"nodes\": [{\"name\": \"0\", \"x\": 50, \"y\": 275.0, \"t\": 0}, {\"name\": \"1\", \"x\": 500, \"y\": 275.0, \"t\": 1}, {\"name\": \"2\", \"x\": 700, \"y\": 175.0, \"t\": 2}, {\"name\": \"3\", \"x\": 800, \"y\": 175.0, \"t\": 1}, {\"name\": \"4\", \"x\": 700, \"y\": 375.0, \"t\": 2}, {\"name\": \"5\", \"x\": 800, \"y\": 375.0, \"t\": 1}, {\"name\": \"7\", \"x\": 1650, \"y\": 275.0, \"t\": 0}, {\"name\": \"8\", \"x\": 1200, \"y\": 275.0, \"t\": 2}, {\"name\": \"9\", \"x\": 1000, \"y\": 175.0, \"t\": 1}, {\"name\": \"10\", \"x\": 900, \"y\": 125.0, \"t\": 2}, {\"name\": \"11\", \"x\": 900, \"y\": 225.0, \"t\": 2}, {\"name\": \"12\", \"x\": 1000, \"y\": 375.0, \"t\": 1}, {\"name\": \"13\", \"x\": 900, \"y\": 325.0, \"t\": 2}, {\"name\": \"14\", \"x\": 900, \"y\": 425.0, \"t\": 2}], \"links\": [{\"id\": \"0\", \"label\": \"(~a0 + (a1 * ~c0) + c1) * (~b0 + (b1 * ~d0) + d1)\", \"source\": \"0\", \"target\": \"1\", \"edge_index\": 0, \"num_edge_siblings\": 1, \"flip_orientation\": false}, {\"id\": \"1\", \"label\": \"~a0 + (a1 * ~c0) + c1\", \"source\": \"1\", \"target\": \"2\", \"edge_index\": 0, \"num_edge_siblings\": 1, \"flip_orientation\": false}, {\"id\": \"2\", \"label\": \"a1 * ~c0\", \"source\": \"2\", \"target\": \"3\", \"edge_index\": 0, \"num_edge_siblings\": 1, \"flip_orientation\": false}, {\"id\": \"3\", \"label\": \"~b0 + (b1 * ~d0) + d1\", \"source\": \"1\", \"target\": \"4\", \"edge_index\": 0, \"num_edge_siblings\": 1, \"flip_orientation\": false}, {\"id\": \"4\", \"label\": \"b1 * ~d0\", \"source\": \"4\", \"target\": \"5\", \"edge_index\": 0, \"num_edge_siblings\": 1, \"flip_orientation\": false}, {\"id\": \"6\", \"label\": \"((~a0 + a1) * (~b0 + b1)) + ((~c0 + c1) * (~d0 + d1))\", \"source\": \"8\", \"target\": \"7\", \"edge_index\": 0, \"num_edge_siblings\": 1, \"flip_orientation\": true}, {\"id\": \"7\", \"label\": \"(~a0 + a1) * (~b0 + b1)\", \"source\": \"9\", \"target\": \"8\", \"edge_index\": 0, \"num_edge_siblings\": 1, \"flip_orientation\": true}, {\"id\": \"8\", \"label\": \"~a0 + a1\", \"source\": \"10\", \"target\": \"9\", \"edge_index\": 0, \"num_edge_siblings\": 1, \"flip_orientation\": true}, {\"id\": \"9\", \"label\": \"~b0 + b1\", \"source\": \"11\", \"target\": \"9\", \"edge_index\": 0, \"num_edge_siblings\": 1, \"flip_orientation\": true}, {\"id\": \"10\", \"label\": \"(~c0 + c1) * (~d0 + d1)\", \"source\": \"12\", \"target\": \"8\", \"edge_index\": 0, \"num_edge_siblings\": 1, \"flip_orientation\": true}, {\"id\": \"11\", \"label\": \"~c0 + c1\", \"source\": \"13\", \"target\": \"12\", \"edge_index\": 0, \"num_edge_siblings\": 1, \"flip_orientation\": true}, {\"id\": \"12\", \"label\": \"~d0 + d1\", \"source\": \"14\", \"target\": \"12\", \"edge_index\": 0, \"num_edge_siblings\": 1, \"flip_orientation\": true}, {\"id\": \"14\", \"label\": \"~a0\", \"source\": \"2\", \"target\": \"10\", \"edge_index\": 0, \"num_edge_siblings\": 1, \"flip_orientation\": false}, {\"id\": \"15\", \"label\": \"a1\", \"source\": \"3\", \"target\": \"10\", \"edge_index\": 0, \"num_edge_siblings\": 1, \"flip_orientation\": false}, {\"id\": \"16\", \"label\": \"~c0\", \"source\": \"3\", \"target\": \"13\", \"edge_index\": 0, \"num_edge_siblings\": 1, \"flip_orientation\": false}, {\"id\": \"17\", \"label\": \"c1\", \"source\": \"2\", \"target\": \"13\", \"edge_index\": 0, \"num_edge_siblings\": 1, \"flip_orientation\": false}, {\"id\": \"18\", \"label\": \"~b0\", \"source\": \"4\", \"target\": \"11\", \"edge_index\": 0, \"num_edge_siblings\": 1, \"flip_orientation\": false}, {\"id\": \"19\", \"label\": \"b1\", \"source\": \"5\", \"target\": \"11\", \"edge_index\": 0, \"num_edge_siblings\": 1, \"flip_orientation\": false}, {\"id\": \"20\", \"label\": \"~d0\", \"source\": \"5\", \"target\": \"14\", \"edge_index\": 0, \"num_edge_siblings\": 1, \"flip_orientation\": false}, {\"id\": \"21\", \"label\": \"d1\", \"source\": \"4\", \"target\": \"14\", \"edge_index\": 0, \"num_edge_siblings\": 1, \"flip_orientation\": false}], \"arcs\": [{\"source\": \"1\", \"target\": \"3\", \"at_v\": \"1\"}, {\"source\": \"7\", \"target\": \"10\", \"at_v\": \"8\"}, {\"source\": \"14\", \"target\": \"15\", \"at_v\": \"10\"}, {\"source\": \"15\", \"target\": \"16\", \"at_v\": \"3\"}, {\"source\": \"16\", \"target\": \"17\", \"at_v\": \"13\"}, {\"source\": \"18\", \"target\": \"19\", \"at_v\": \"11\"}, {\"source\": \"19\", \"target\": \"20\", \"at_v\": \"5\"}, {\"source\": \"20\", \"target\": \"21\", \"at_v\": \"14\"}]}'), 1700, 525.0, 50, 5.0, false);\n",
       "        });\n",
       "        </script>\n",
       "        "
      ],
      "text/plain": [
       "<IPython.core.display.HTML object>"
      ]
     },
     "metadata": {},
     "output_type": "display_data"
    },
    {
     "data": {
      "text/html": [
       "\n",
       "        <div style=\"overflow:auto\" id=\"graph-output-602509455\"></div>\n",
       "        <script type=\"text/javascript\">\n",
       "        require.config({ baseUrl: \"../js\",\n",
       "                         paths: {d3: \"d3.v4.min\"} });\n",
       "        require(['hocc'], function(hocc) {\n",
       "            hocc.showGraph('602509455', '#graph-output-602509455',\n",
       "            JSON.parse('{\"nodes\": [{\"name\": \"2\", \"x\": 700, \"y\": 175.0, \"t\": 2}, {\"name\": \"3\", \"x\": 800, \"y\": 175.0, \"t\": 1}, {\"name\": \"4\", \"x\": 700, \"y\": 375.0, \"t\": 2}, {\"name\": \"5\", \"x\": 800, \"y\": 375.0, \"t\": 1}, {\"name\": \"6\", \"x\": 1650, \"y\": 275.0, \"t\": 0}, {\"name\": \"7\", \"x\": 1200, \"y\": 275.0, \"t\": 2}, {\"name\": \"8\", \"x\": 1000, \"y\": 175.0, \"t\": 1}, {\"name\": \"9\", \"x\": 900, \"y\": 125.0, \"t\": 2}, {\"name\": \"10\", \"x\": 900, \"y\": 225.0, \"t\": 2}, {\"name\": \"11\", \"x\": 1000, \"y\": 375.0, \"t\": 1}, {\"name\": \"12\", \"x\": 900, \"y\": 325.0, \"t\": 2}, {\"name\": \"13\", \"x\": 900, \"y\": 425.0, \"t\": 2}, {\"name\": \"15\", \"x\": 633.3333333333333, \"y\": 208.33333333333331, \"t\": 0}, {\"name\": \"17\", \"x\": 633.3333333333333, \"y\": 341.66666666666663, \"t\": 0}], \"links\": [{\"id\": \"2\", \"label\": \"a1 * ~c0\", \"source\": \"2\", \"target\": \"3\", \"edge_index\": 0, \"num_edge_siblings\": 1, \"flip_orientation\": false}, {\"id\": \"4\", \"label\": \"b1 * ~d0\", \"source\": \"4\", \"target\": \"5\", \"edge_index\": 0, \"num_edge_siblings\": 1, \"flip_orientation\": false}, {\"id\": \"5\", \"label\": \"((~a0 + a1) * (~b0 + b1)) + ((~c0 + c1) * (~d0 + d1))\", \"source\": \"7\", \"target\": \"6\", \"edge_index\": 0, \"num_edge_siblings\": 1, \"flip_orientation\": true}, {\"id\": \"6\", \"label\": \"(~a0 + a1) * (~b0 + b1)\", \"source\": \"8\", \"target\": \"7\", \"edge_index\": 0, \"num_edge_siblings\": 1, \"flip_orientation\": true}, {\"id\": \"7\", \"label\": \"~a0 + a1\", \"source\": \"9\", \"target\": \"8\", \"edge_index\": 0, \"num_edge_siblings\": 1, \"flip_orientation\": true}, {\"id\": \"8\", \"label\": \"~b0 + b1\", \"source\": \"10\", \"target\": \"8\", \"edge_index\": 0, \"num_edge_siblings\": 1, \"flip_orientation\": true}, {\"id\": \"9\", \"label\": \"(~c0 + c1) * (~d0 + d1)\", \"source\": \"11\", \"target\": \"7\", \"edge_index\": 0, \"num_edge_siblings\": 1, \"flip_orientation\": true}, {\"id\": \"10\", \"label\": \"~c0 + c1\", \"source\": \"12\", \"target\": \"11\", \"edge_index\": 0, \"num_edge_siblings\": 1, \"flip_orientation\": true}, {\"id\": \"11\", \"label\": \"~d0 + d1\", \"source\": \"13\", \"target\": \"11\", \"edge_index\": 0, \"num_edge_siblings\": 1, \"flip_orientation\": true}, {\"id\": \"12\", \"label\": \"~a0\", \"source\": \"2\", \"target\": \"9\", \"edge_index\": 0, \"num_edge_siblings\": 1, \"flip_orientation\": false}, {\"id\": \"13\", \"label\": \"a1\", \"source\": \"3\", \"target\": \"9\", \"edge_index\": 0, \"num_edge_siblings\": 1, \"flip_orientation\": false}, {\"id\": \"14\", \"label\": \"~c0\", \"source\": \"3\", \"target\": \"12\", \"edge_index\": 0, \"num_edge_siblings\": 1, \"flip_orientation\": false}, {\"id\": \"15\", \"label\": \"c1\", \"source\": \"2\", \"target\": \"12\", \"edge_index\": 0, \"num_edge_siblings\": 1, \"flip_orientation\": false}, {\"id\": \"16\", \"label\": \"~b0\", \"source\": \"4\", \"target\": \"10\", \"edge_index\": 0, \"num_edge_siblings\": 1, \"flip_orientation\": false}, {\"id\": \"17\", \"label\": \"b1\", \"source\": \"5\", \"target\": \"10\", \"edge_index\": 0, \"num_edge_siblings\": 1, \"flip_orientation\": false}, {\"id\": \"18\", \"label\": \"~d0\", \"source\": \"5\", \"target\": \"13\", \"edge_index\": 0, \"num_edge_siblings\": 1, \"flip_orientation\": false}, {\"id\": \"19\", \"label\": \"d1\", \"source\": \"4\", \"target\": \"13\", \"edge_index\": 0, \"num_edge_siblings\": 1, \"flip_orientation\": false}, {\"id\": \"21\", \"label\": \"~a0 + (a1 * ~c0) + c1\", \"source\": \"15\", \"target\": \"2\", \"edge_index\": 0, \"num_edge_siblings\": 1, \"flip_orientation\": true}, {\"id\": \"23\", \"label\": \"~b0 + (b1 * ~d0) + d1\", \"source\": \"17\", \"target\": \"4\", \"edge_index\": 0, \"num_edge_siblings\": 1, \"flip_orientation\": true}], \"arcs\": [{\"source\": \"6\", \"target\": \"9\", \"at_v\": \"7\"}, {\"source\": \"12\", \"target\": \"13\", \"at_v\": \"9\"}, {\"source\": \"13\", \"target\": \"14\", \"at_v\": \"3\"}, {\"source\": \"14\", \"target\": \"15\", \"at_v\": \"12\"}, {\"source\": \"16\", \"target\": \"17\", \"at_v\": \"10\"}, {\"source\": \"17\", \"target\": \"18\", \"at_v\": \"5\"}, {\"source\": \"18\", \"target\": \"19\", \"at_v\": \"13\"}]}'), 1700, 525.0, 50, 5.0, false);\n",
       "        });\n",
       "        </script>\n",
       "        "
      ],
      "text/plain": [
       "<IPython.core.display.HTML object>"
      ]
     },
     "metadata": {},
     "output_type": "display_data"
    }
   ],
   "source": [
    "g1 = pn.proofnet.cut_root(g)\n",
    "pn.draw(g)\n",
    "if g1:\n",
    "    pn.draw(g1)\n",
    "    g = g1"
   ]
  },
  {
   "cell_type": "code",
   "execution_count": 28,
   "metadata": {},
   "outputs": [
    {
     "data": {
      "text/plain": [
       "(32, 32)"
      ]
     },
     "execution_count": 28,
     "metadata": {},
     "output_type": "execute_result"
    }
   ],
   "source": [
    "sw = pn.proofnet.switchings(g)\n",
    "sw1 = [s for s in sw if not s.is_acyclic()]\n",
    "len(sw), len(sw1)"
   ]
  },
  {
   "cell_type": "code",
   "execution_count": 29,
   "metadata": {},
   "outputs": [
    {
     "data": {
      "text/html": [
       "\n",
       "        <div style=\"overflow:auto\" id=\"graph-output-8432989\"></div>\n",
       "        <script type=\"text/javascript\">\n",
       "        require.config({ baseUrl: \"../js\",\n",
       "                         paths: {d3: \"d3.v4.min\"} });\n",
       "        require(['hocc'], function(hocc) {\n",
       "            hocc.showGraph('8432989', '#graph-output-8432989',\n",
       "            JSON.parse('{\"nodes\": [{\"name\": \"0\", \"x\": 700, \"y\": 175.0, \"t\": 2}, {\"name\": \"1\", \"x\": 800, \"y\": 175.0, \"t\": 1}, {\"name\": \"2\", \"x\": 700, \"y\": 375.0, \"t\": 2}, {\"name\": \"3\", \"x\": 800, \"y\": 375.0, \"t\": 1}, {\"name\": \"4\", \"x\": 1650, \"y\": 275.0, \"t\": 0}, {\"name\": \"5\", \"x\": 1200, \"y\": 275.0, \"t\": 2}, {\"name\": \"6\", \"x\": 1000, \"y\": 175.0, \"t\": 1}, {\"name\": \"7\", \"x\": 900, \"y\": 125.0, \"t\": 2}, {\"name\": \"8\", \"x\": 900, \"y\": 225.0, \"t\": 2}, {\"name\": \"9\", \"x\": 1000, \"y\": 375.0, \"t\": 1}, {\"name\": \"10\", \"x\": 900, \"y\": 325.0, \"t\": 2}, {\"name\": \"11\", \"x\": 900, \"y\": 425.0, \"t\": 2}, {\"name\": \"12\", \"x\": 633.3333333333333, \"y\": 208.33333333333331, \"t\": 0}, {\"name\": \"13\", \"x\": 633.3333333333333, \"y\": 341.66666666666663, \"t\": 0}], \"links\": [{\"id\": \"0\", \"label\": \"a1 * ~c0\", \"source\": \"0\", \"target\": \"1\", \"edge_index\": 0, \"num_edge_siblings\": 1, \"flip_orientation\": false}, {\"id\": \"1\", \"label\": \"b1 * ~d0\", \"source\": \"2\", \"target\": \"3\", \"edge_index\": 0, \"num_edge_siblings\": 1, \"flip_orientation\": false}, {\"id\": \"2\", \"label\": \"((~a0 + a1) * (~b0 + b1)) + ((~c0 + c1) * (~d0 + d1))\", \"source\": \"5\", \"target\": \"4\", \"edge_index\": 0, \"num_edge_siblings\": 1, \"flip_orientation\": true}, {\"id\": \"3\", \"label\": \"(~a0 + a1) * (~b0 + b1)\", \"source\": \"6\", \"target\": \"5\", \"edge_index\": 0, \"num_edge_siblings\": 1, \"flip_orientation\": true}, {\"id\": \"4\", \"label\": \"~a0 + a1\", \"source\": \"7\", \"target\": \"6\", \"edge_index\": 0, \"num_edge_siblings\": 1, \"flip_orientation\": true}, {\"id\": \"5\", \"label\": \"~b0 + b1\", \"source\": \"8\", \"target\": \"6\", \"edge_index\": 0, \"num_edge_siblings\": 1, \"flip_orientation\": true}, {\"id\": \"6\", \"label\": \"~c0 + c1\", \"source\": \"10\", \"target\": \"9\", \"edge_index\": 0, \"num_edge_siblings\": 1, \"flip_orientation\": true}, {\"id\": \"7\", \"label\": \"~d0 + d1\", \"source\": \"11\", \"target\": \"9\", \"edge_index\": 0, \"num_edge_siblings\": 1, \"flip_orientation\": true}, {\"id\": \"8\", \"label\": \"~a0\", \"source\": \"0\", \"target\": \"7\", \"edge_index\": 0, \"num_edge_siblings\": 1, \"flip_orientation\": false}, {\"id\": \"9\", \"label\": \"c1\", \"source\": \"0\", \"target\": \"10\", \"edge_index\": 0, \"num_edge_siblings\": 1, \"flip_orientation\": false}, {\"id\": \"10\", \"label\": \"~b0\", \"source\": \"2\", \"target\": \"8\", \"edge_index\": 0, \"num_edge_siblings\": 1, \"flip_orientation\": false}, {\"id\": \"11\", \"label\": \"d1\", \"source\": \"2\", \"target\": \"11\", \"edge_index\": 0, \"num_edge_siblings\": 1, \"flip_orientation\": false}, {\"id\": \"12\", \"label\": \"~a0 + (a1 * ~c0) + c1\", \"source\": \"12\", \"target\": \"0\", \"edge_index\": 0, \"num_edge_siblings\": 1, \"flip_orientation\": true}, {\"id\": \"13\", \"label\": \"~b0 + (b1 * ~d0) + d1\", \"source\": \"13\", \"target\": \"2\", \"edge_index\": 0, \"num_edge_siblings\": 1, \"flip_orientation\": true}], \"arcs\": []}'), 1700, 525.0, 50, 5.0, false);\n",
       "        });\n",
       "        </script>\n",
       "        "
      ],
      "text/plain": [
       "<IPython.core.display.HTML object>"
      ]
     },
     "metadata": {},
     "output_type": "display_data"
    },
    {
     "data": {
      "text/html": [
       "\n",
       "        <div style=\"overflow:auto\" id=\"graph-output-767829837\"></div>\n",
       "        <script type=\"text/javascript\">\n",
       "        require.config({ baseUrl: \"../js\",\n",
       "                         paths: {d3: \"d3.v4.min\"} });\n",
       "        require(['hocc'], function(hocc) {\n",
       "            hocc.showGraph('767829837', '#graph-output-767829837',\n",
       "            JSON.parse('{\"nodes\": [{\"name\": \"0\", \"x\": 700, \"y\": 175.0, \"t\": 2}, {\"name\": \"1\", \"x\": 800, \"y\": 175.0, \"t\": 1}, {\"name\": \"2\", \"x\": 700, \"y\": 375.0, \"t\": 2}, {\"name\": \"3\", \"x\": 800, \"y\": 375.0, \"t\": 1}, {\"name\": \"4\", \"x\": 1650, \"y\": 275.0, \"t\": 0}, {\"name\": \"5\", \"x\": 1200, \"y\": 275.0, \"t\": 2}, {\"name\": \"6\", \"x\": 1000, \"y\": 175.0, \"t\": 1}, {\"name\": \"7\", \"x\": 900, \"y\": 125.0, \"t\": 2}, {\"name\": \"8\", \"x\": 900, \"y\": 225.0, \"t\": 2}, {\"name\": \"9\", \"x\": 1000, \"y\": 375.0, \"t\": 1}, {\"name\": \"10\", \"x\": 900, \"y\": 325.0, \"t\": 2}, {\"name\": \"11\", \"x\": 900, \"y\": 425.0, \"t\": 2}, {\"name\": \"12\", \"x\": 633.3333333333333, \"y\": 208.33333333333331, \"t\": 0}, {\"name\": \"13\", \"x\": 633.3333333333333, \"y\": 341.66666666666663, \"t\": 0}], \"links\": [{\"id\": \"0\", \"label\": \"a1 * ~c0\", \"source\": \"0\", \"target\": \"1\", \"edge_index\": 0, \"num_edge_siblings\": 1, \"flip_orientation\": false}, {\"id\": \"1\", \"label\": \"b1 * ~d0\", \"source\": \"2\", \"target\": \"3\", \"edge_index\": 0, \"num_edge_siblings\": 1, \"flip_orientation\": false}, {\"id\": \"2\", \"label\": \"((~a0 + a1) * (~b0 + b1)) + ((~c0 + c1) * (~d0 + d1))\", \"source\": \"5\", \"target\": \"4\", \"edge_index\": 0, \"num_edge_siblings\": 1, \"flip_orientation\": true}, {\"id\": \"3\", \"label\": \"(~a0 + a1) * (~b0 + b1)\", \"source\": \"6\", \"target\": \"5\", \"edge_index\": 0, \"num_edge_siblings\": 1, \"flip_orientation\": true}, {\"id\": \"4\", \"label\": \"~a0 + a1\", \"source\": \"7\", \"target\": \"6\", \"edge_index\": 0, \"num_edge_siblings\": 1, \"flip_orientation\": true}, {\"id\": \"5\", \"label\": \"~b0 + b1\", \"source\": \"8\", \"target\": \"6\", \"edge_index\": 0, \"num_edge_siblings\": 1, \"flip_orientation\": true}, {\"id\": \"6\", \"label\": \"~c0 + c1\", \"source\": \"10\", \"target\": \"9\", \"edge_index\": 0, \"num_edge_siblings\": 1, \"flip_orientation\": true}, {\"id\": \"7\", \"label\": \"~d0 + d1\", \"source\": \"11\", \"target\": \"9\", \"edge_index\": 0, \"num_edge_siblings\": 1, \"flip_orientation\": true}, {\"id\": \"8\", \"label\": \"~a0\", \"source\": \"0\", \"target\": \"7\", \"edge_index\": 0, \"num_edge_siblings\": 1, \"flip_orientation\": false}, {\"id\": \"9\", \"label\": \"c1\", \"source\": \"0\", \"target\": \"10\", \"edge_index\": 0, \"num_edge_siblings\": 1, \"flip_orientation\": false}, {\"id\": \"10\", \"label\": \"b1\", \"source\": \"3\", \"target\": \"8\", \"edge_index\": 0, \"num_edge_siblings\": 1, \"flip_orientation\": false}, {\"id\": \"11\", \"label\": \"d1\", \"source\": \"2\", \"target\": \"11\", \"edge_index\": 0, \"num_edge_siblings\": 1, \"flip_orientation\": false}, {\"id\": \"12\", \"label\": \"~a0 + (a1 * ~c0) + c1\", \"source\": \"12\", \"target\": \"0\", \"edge_index\": 0, \"num_edge_siblings\": 1, \"flip_orientation\": true}, {\"id\": \"13\", \"label\": \"~b0 + (b1 * ~d0) + d1\", \"source\": \"13\", \"target\": \"2\", \"edge_index\": 0, \"num_edge_siblings\": 1, \"flip_orientation\": true}], \"arcs\": []}'), 1700, 525.0, 50, 5.0, false);\n",
       "        });\n",
       "        </script>\n",
       "        "
      ],
      "text/plain": [
       "<IPython.core.display.HTML object>"
      ]
     },
     "metadata": {},
     "output_type": "display_data"
    },
    {
     "data": {
      "text/html": [
       "\n",
       "        <div style=\"overflow:auto\" id=\"graph-output-161734281\"></div>\n",
       "        <script type=\"text/javascript\">\n",
       "        require.config({ baseUrl: \"../js\",\n",
       "                         paths: {d3: \"d3.v4.min\"} });\n",
       "        require(['hocc'], function(hocc) {\n",
       "            hocc.showGraph('161734281', '#graph-output-161734281',\n",
       "            JSON.parse('{\"nodes\": [{\"name\": \"0\", \"x\": 700, \"y\": 175.0, \"t\": 2}, {\"name\": \"1\", \"x\": 800, \"y\": 175.0, \"t\": 1}, {\"name\": \"2\", \"x\": 700, \"y\": 375.0, \"t\": 2}, {\"name\": \"3\", \"x\": 800, \"y\": 375.0, \"t\": 1}, {\"name\": \"4\", \"x\": 1650, \"y\": 275.0, \"t\": 0}, {\"name\": \"5\", \"x\": 1200, \"y\": 275.0, \"t\": 2}, {\"name\": \"6\", \"x\": 1000, \"y\": 175.0, \"t\": 1}, {\"name\": \"7\", \"x\": 900, \"y\": 125.0, \"t\": 2}, {\"name\": \"8\", \"x\": 900, \"y\": 225.0, \"t\": 2}, {\"name\": \"9\", \"x\": 1000, \"y\": 375.0, \"t\": 1}, {\"name\": \"10\", \"x\": 900, \"y\": 325.0, \"t\": 2}, {\"name\": \"11\", \"x\": 900, \"y\": 425.0, \"t\": 2}, {\"name\": \"12\", \"x\": 633.3333333333333, \"y\": 208.33333333333331, \"t\": 0}, {\"name\": \"13\", \"x\": 633.3333333333333, \"y\": 341.66666666666663, \"t\": 0}], \"links\": [{\"id\": \"0\", \"label\": \"a1 * ~c0\", \"source\": \"0\", \"target\": \"1\", \"edge_index\": 0, \"num_edge_siblings\": 1, \"flip_orientation\": false}, {\"id\": \"1\", \"label\": \"b1 * ~d0\", \"source\": \"2\", \"target\": \"3\", \"edge_index\": 0, \"num_edge_siblings\": 1, \"flip_orientation\": false}, {\"id\": \"2\", \"label\": \"((~a0 + a1) * (~b0 + b1)) + ((~c0 + c1) * (~d0 + d1))\", \"source\": \"5\", \"target\": \"4\", \"edge_index\": 0, \"num_edge_siblings\": 1, \"flip_orientation\": true}, {\"id\": \"3\", \"label\": \"(~a0 + a1) * (~b0 + b1)\", \"source\": \"6\", \"target\": \"5\", \"edge_index\": 0, \"num_edge_siblings\": 1, \"flip_orientation\": true}, {\"id\": \"4\", \"label\": \"~a0 + a1\", \"source\": \"7\", \"target\": \"6\", \"edge_index\": 0, \"num_edge_siblings\": 1, \"flip_orientation\": true}, {\"id\": \"5\", \"label\": \"~b0 + b1\", \"source\": \"8\", \"target\": \"6\", \"edge_index\": 0, \"num_edge_siblings\": 1, \"flip_orientation\": true}, {\"id\": \"6\", \"label\": \"~c0 + c1\", \"source\": \"10\", \"target\": \"9\", \"edge_index\": 0, \"num_edge_siblings\": 1, \"flip_orientation\": true}, {\"id\": \"7\", \"label\": \"~d0 + d1\", \"source\": \"11\", \"target\": \"9\", \"edge_index\": 0, \"num_edge_siblings\": 1, \"flip_orientation\": true}, {\"id\": \"8\", \"label\": \"a1\", \"source\": \"1\", \"target\": \"7\", \"edge_index\": 0, \"num_edge_siblings\": 1, \"flip_orientation\": false}, {\"id\": \"9\", \"label\": \"c1\", \"source\": \"0\", \"target\": \"10\", \"edge_index\": 0, \"num_edge_siblings\": 1, \"flip_orientation\": false}, {\"id\": \"10\", \"label\": \"~b0\", \"source\": \"2\", \"target\": \"8\", \"edge_index\": 0, \"num_edge_siblings\": 1, \"flip_orientation\": false}, {\"id\": \"11\", \"label\": \"d1\", \"source\": \"2\", \"target\": \"11\", \"edge_index\": 0, \"num_edge_siblings\": 1, \"flip_orientation\": false}, {\"id\": \"12\", \"label\": \"~a0 + (a1 * ~c0) + c1\", \"source\": \"12\", \"target\": \"0\", \"edge_index\": 0, \"num_edge_siblings\": 1, \"flip_orientation\": true}, {\"id\": \"13\", \"label\": \"~b0 + (b1 * ~d0) + d1\", \"source\": \"13\", \"target\": \"2\", \"edge_index\": 0, \"num_edge_siblings\": 1, \"flip_orientation\": true}], \"arcs\": []}'), 1700, 525.0, 50, 5.0, false);\n",
       "        });\n",
       "        </script>\n",
       "        "
      ],
      "text/plain": [
       "<IPython.core.display.HTML object>"
      ]
     },
     "metadata": {},
     "output_type": "display_data"
    },
    {
     "data": {
      "text/html": [
       "\n",
       "        <div style=\"overflow:auto\" id=\"graph-output-104973401\"></div>\n",
       "        <script type=\"text/javascript\">\n",
       "        require.config({ baseUrl: \"../js\",\n",
       "                         paths: {d3: \"d3.v4.min\"} });\n",
       "        require(['hocc'], function(hocc) {\n",
       "            hocc.showGraph('104973401', '#graph-output-104973401',\n",
       "            JSON.parse('{\"nodes\": [{\"name\": \"0\", \"x\": 700, \"y\": 175.0, \"t\": 2}, {\"name\": \"1\", \"x\": 800, \"y\": 175.0, \"t\": 1}, {\"name\": \"2\", \"x\": 700, \"y\": 375.0, \"t\": 2}, {\"name\": \"3\", \"x\": 800, \"y\": 375.0, \"t\": 1}, {\"name\": \"4\", \"x\": 1650, \"y\": 275.0, \"t\": 0}, {\"name\": \"5\", \"x\": 1200, \"y\": 275.0, \"t\": 2}, {\"name\": \"6\", \"x\": 1000, \"y\": 175.0, \"t\": 1}, {\"name\": \"7\", \"x\": 900, \"y\": 125.0, \"t\": 2}, {\"name\": \"8\", \"x\": 900, \"y\": 225.0, \"t\": 2}, {\"name\": \"9\", \"x\": 1000, \"y\": 375.0, \"t\": 1}, {\"name\": \"10\", \"x\": 900, \"y\": 325.0, \"t\": 2}, {\"name\": \"11\", \"x\": 900, \"y\": 425.0, \"t\": 2}, {\"name\": \"12\", \"x\": 633.3333333333333, \"y\": 208.33333333333331, \"t\": 0}, {\"name\": \"13\", \"x\": 633.3333333333333, \"y\": 341.66666666666663, \"t\": 0}], \"links\": [{\"id\": \"0\", \"label\": \"a1 * ~c0\", \"source\": \"0\", \"target\": \"1\", \"edge_index\": 0, \"num_edge_siblings\": 1, \"flip_orientation\": false}, {\"id\": \"1\", \"label\": \"b1 * ~d0\", \"source\": \"2\", \"target\": \"3\", \"edge_index\": 0, \"num_edge_siblings\": 1, \"flip_orientation\": false}, {\"id\": \"2\", \"label\": \"((~a0 + a1) * (~b0 + b1)) + ((~c0 + c1) * (~d0 + d1))\", \"source\": \"5\", \"target\": \"4\", \"edge_index\": 0, \"num_edge_siblings\": 1, \"flip_orientation\": true}, {\"id\": \"3\", \"label\": \"(~a0 + a1) * (~b0 + b1)\", \"source\": \"6\", \"target\": \"5\", \"edge_index\": 0, \"num_edge_siblings\": 1, \"flip_orientation\": true}, {\"id\": \"4\", \"label\": \"~a0 + a1\", \"source\": \"7\", \"target\": \"6\", \"edge_index\": 0, \"num_edge_siblings\": 1, \"flip_orientation\": true}, {\"id\": \"5\", \"label\": \"~b0 + b1\", \"source\": \"8\", \"target\": \"6\", \"edge_index\": 0, \"num_edge_siblings\": 1, \"flip_orientation\": true}, {\"id\": \"6\", \"label\": \"~c0 + c1\", \"source\": \"10\", \"target\": \"9\", \"edge_index\": 0, \"num_edge_siblings\": 1, \"flip_orientation\": true}, {\"id\": \"7\", \"label\": \"~d0 + d1\", \"source\": \"11\", \"target\": \"9\", \"edge_index\": 0, \"num_edge_siblings\": 1, \"flip_orientation\": true}, {\"id\": \"8\", \"label\": \"a1\", \"source\": \"1\", \"target\": \"7\", \"edge_index\": 0, \"num_edge_siblings\": 1, \"flip_orientation\": false}, {\"id\": \"9\", \"label\": \"c1\", \"source\": \"0\", \"target\": \"10\", \"edge_index\": 0, \"num_edge_siblings\": 1, \"flip_orientation\": false}, {\"id\": \"10\", \"label\": \"b1\", \"source\": \"3\", \"target\": \"8\", \"edge_index\": 0, \"num_edge_siblings\": 1, \"flip_orientation\": false}, {\"id\": \"11\", \"label\": \"d1\", \"source\": \"2\", \"target\": \"11\", \"edge_index\": 0, \"num_edge_siblings\": 1, \"flip_orientation\": false}, {\"id\": \"12\", \"label\": \"~a0 + (a1 * ~c0) + c1\", \"source\": \"12\", \"target\": \"0\", \"edge_index\": 0, \"num_edge_siblings\": 1, \"flip_orientation\": true}, {\"id\": \"13\", \"label\": \"~b0 + (b1 * ~d0) + d1\", \"source\": \"13\", \"target\": \"2\", \"edge_index\": 0, \"num_edge_siblings\": 1, \"flip_orientation\": true}], \"arcs\": []}'), 1700, 525.0, 50, 5.0, false);\n",
       "        });\n",
       "        </script>\n",
       "        "
      ],
      "text/plain": [
       "<IPython.core.display.HTML object>"
      ]
     },
     "metadata": {},
     "output_type": "display_data"
    },
    {
     "data": {
      "text/html": [
       "\n",
       "        <div style=\"overflow:auto\" id=\"graph-output-117032116\"></div>\n",
       "        <script type=\"text/javascript\">\n",
       "        require.config({ baseUrl: \"../js\",\n",
       "                         paths: {d3: \"d3.v4.min\"} });\n",
       "        require(['hocc'], function(hocc) {\n",
       "            hocc.showGraph('117032116', '#graph-output-117032116',\n",
       "            JSON.parse('{\"nodes\": [{\"name\": \"0\", \"x\": 700, \"y\": 175.0, \"t\": 2}, {\"name\": \"1\", \"x\": 800, \"y\": 175.0, \"t\": 1}, {\"name\": \"2\", \"x\": 700, \"y\": 375.0, \"t\": 2}, {\"name\": \"3\", \"x\": 800, \"y\": 375.0, \"t\": 1}, {\"name\": \"4\", \"x\": 1650, \"y\": 275.0, \"t\": 0}, {\"name\": \"5\", \"x\": 1200, \"y\": 275.0, \"t\": 2}, {\"name\": \"6\", \"x\": 1000, \"y\": 175.0, \"t\": 1}, {\"name\": \"7\", \"x\": 900, \"y\": 125.0, \"t\": 2}, {\"name\": \"8\", \"x\": 900, \"y\": 225.0, \"t\": 2}, {\"name\": \"9\", \"x\": 1000, \"y\": 375.0, \"t\": 1}, {\"name\": \"10\", \"x\": 900, \"y\": 325.0, \"t\": 2}, {\"name\": \"11\", \"x\": 900, \"y\": 425.0, \"t\": 2}, {\"name\": \"12\", \"x\": 633.3333333333333, \"y\": 208.33333333333331, \"t\": 0}, {\"name\": \"13\", \"x\": 633.3333333333333, \"y\": 341.66666666666663, \"t\": 0}], \"links\": [{\"id\": \"0\", \"label\": \"a1 * ~c0\", \"source\": \"0\", \"target\": \"1\", \"edge_index\": 0, \"num_edge_siblings\": 1, \"flip_orientation\": false}, {\"id\": \"1\", \"label\": \"b1 * ~d0\", \"source\": \"2\", \"target\": \"3\", \"edge_index\": 0, \"num_edge_siblings\": 1, \"flip_orientation\": false}, {\"id\": \"2\", \"label\": \"((~a0 + a1) * (~b0 + b1)) + ((~c0 + c1) * (~d0 + d1))\", \"source\": \"5\", \"target\": \"4\", \"edge_index\": 0, \"num_edge_siblings\": 1, \"flip_orientation\": true}, {\"id\": \"3\", \"label\": \"~a0 + a1\", \"source\": \"7\", \"target\": \"6\", \"edge_index\": 0, \"num_edge_siblings\": 1, \"flip_orientation\": true}, {\"id\": \"4\", \"label\": \"~b0 + b1\", \"source\": \"8\", \"target\": \"6\", \"edge_index\": 0, \"num_edge_siblings\": 1, \"flip_orientation\": true}, {\"id\": \"5\", \"label\": \"(~c0 + c1) * (~d0 + d1)\", \"source\": \"9\", \"target\": \"5\", \"edge_index\": 0, \"num_edge_siblings\": 1, \"flip_orientation\": true}, {\"id\": \"6\", \"label\": \"~c0 + c1\", \"source\": \"10\", \"target\": \"9\", \"edge_index\": 0, \"num_edge_siblings\": 1, \"flip_orientation\": true}, {\"id\": \"7\", \"label\": \"~d0 + d1\", \"source\": \"11\", \"target\": \"9\", \"edge_index\": 0, \"num_edge_siblings\": 1, \"flip_orientation\": true}, {\"id\": \"8\", \"label\": \"~a0\", \"source\": \"0\", \"target\": \"7\", \"edge_index\": 0, \"num_edge_siblings\": 1, \"flip_orientation\": false}, {\"id\": \"9\", \"label\": \"c1\", \"source\": \"0\", \"target\": \"10\", \"edge_index\": 0, \"num_edge_siblings\": 1, \"flip_orientation\": false}, {\"id\": \"10\", \"label\": \"~b0\", \"source\": \"2\", \"target\": \"8\", \"edge_index\": 0, \"num_edge_siblings\": 1, \"flip_orientation\": false}, {\"id\": \"11\", \"label\": \"d1\", \"source\": \"2\", \"target\": \"11\", \"edge_index\": 0, \"num_edge_siblings\": 1, \"flip_orientation\": false}, {\"id\": \"12\", \"label\": \"~a0 + (a1 * ~c0) + c1\", \"source\": \"12\", \"target\": \"0\", \"edge_index\": 0, \"num_edge_siblings\": 1, \"flip_orientation\": true}, {\"id\": \"13\", \"label\": \"~b0 + (b1 * ~d0) + d1\", \"source\": \"13\", \"target\": \"2\", \"edge_index\": 0, \"num_edge_siblings\": 1, \"flip_orientation\": true}], \"arcs\": []}'), 1700, 525.0, 50, 5.0, false);\n",
       "        });\n",
       "        </script>\n",
       "        "
      ],
      "text/plain": [
       "<IPython.core.display.HTML object>"
      ]
     },
     "metadata": {},
     "output_type": "display_data"
    },
    {
     "data": {
      "text/html": [
       "\n",
       "        <div style=\"overflow:auto\" id=\"graph-output-826067927\"></div>\n",
       "        <script type=\"text/javascript\">\n",
       "        require.config({ baseUrl: \"../js\",\n",
       "                         paths: {d3: \"d3.v4.min\"} });\n",
       "        require(['hocc'], function(hocc) {\n",
       "            hocc.showGraph('826067927', '#graph-output-826067927',\n",
       "            JSON.parse('{\"nodes\": [{\"name\": \"0\", \"x\": 700, \"y\": 175.0, \"t\": 2}, {\"name\": \"1\", \"x\": 800, \"y\": 175.0, \"t\": 1}, {\"name\": \"2\", \"x\": 700, \"y\": 375.0, \"t\": 2}, {\"name\": \"3\", \"x\": 800, \"y\": 375.0, \"t\": 1}, {\"name\": \"4\", \"x\": 1650, \"y\": 275.0, \"t\": 0}, {\"name\": \"5\", \"x\": 1200, \"y\": 275.0, \"t\": 2}, {\"name\": \"6\", \"x\": 1000, \"y\": 175.0, \"t\": 1}, {\"name\": \"7\", \"x\": 900, \"y\": 125.0, \"t\": 2}, {\"name\": \"8\", \"x\": 900, \"y\": 225.0, \"t\": 2}, {\"name\": \"9\", \"x\": 1000, \"y\": 375.0, \"t\": 1}, {\"name\": \"10\", \"x\": 900, \"y\": 325.0, \"t\": 2}, {\"name\": \"11\", \"x\": 900, \"y\": 425.0, \"t\": 2}, {\"name\": \"12\", \"x\": 633.3333333333333, \"y\": 208.33333333333331, \"t\": 0}, {\"name\": \"13\", \"x\": 633.3333333333333, \"y\": 341.66666666666663, \"t\": 0}], \"links\": [{\"id\": \"0\", \"label\": \"a1 * ~c0\", \"source\": \"0\", \"target\": \"1\", \"edge_index\": 0, \"num_edge_siblings\": 1, \"flip_orientation\": false}, {\"id\": \"1\", \"label\": \"b1 * ~d0\", \"source\": \"2\", \"target\": \"3\", \"edge_index\": 0, \"num_edge_siblings\": 1, \"flip_orientation\": false}, {\"id\": \"2\", \"label\": \"((~a0 + a1) * (~b0 + b1)) + ((~c0 + c1) * (~d0 + d1))\", \"source\": \"5\", \"target\": \"4\", \"edge_index\": 0, \"num_edge_siblings\": 1, \"flip_orientation\": true}, {\"id\": \"3\", \"label\": \"~a0 + a1\", \"source\": \"7\", \"target\": \"6\", \"edge_index\": 0, \"num_edge_siblings\": 1, \"flip_orientation\": true}, {\"id\": \"4\", \"label\": \"~b0 + b1\", \"source\": \"8\", \"target\": \"6\", \"edge_index\": 0, \"num_edge_siblings\": 1, \"flip_orientation\": true}, {\"id\": \"5\", \"label\": \"(~c0 + c1) * (~d0 + d1)\", \"source\": \"9\", \"target\": \"5\", \"edge_index\": 0, \"num_edge_siblings\": 1, \"flip_orientation\": true}, {\"id\": \"6\", \"label\": \"~c0 + c1\", \"source\": \"10\", \"target\": \"9\", \"edge_index\": 0, \"num_edge_siblings\": 1, \"flip_orientation\": true}, {\"id\": \"7\", \"label\": \"~d0 + d1\", \"source\": \"11\", \"target\": \"9\", \"edge_index\": 0, \"num_edge_siblings\": 1, \"flip_orientation\": true}, {\"id\": \"8\", \"label\": \"~a0\", \"source\": \"0\", \"target\": \"7\", \"edge_index\": 0, \"num_edge_siblings\": 1, \"flip_orientation\": false}, {\"id\": \"9\", \"label\": \"c1\", \"source\": \"0\", \"target\": \"10\", \"edge_index\": 0, \"num_edge_siblings\": 1, \"flip_orientation\": false}, {\"id\": \"10\", \"label\": \"b1\", \"source\": \"3\", \"target\": \"8\", \"edge_index\": 0, \"num_edge_siblings\": 1, \"flip_orientation\": false}, {\"id\": \"11\", \"label\": \"d1\", \"source\": \"2\", \"target\": \"11\", \"edge_index\": 0, \"num_edge_siblings\": 1, \"flip_orientation\": false}, {\"id\": \"12\", \"label\": \"~a0 + (a1 * ~c0) + c1\", \"source\": \"12\", \"target\": \"0\", \"edge_index\": 0, \"num_edge_siblings\": 1, \"flip_orientation\": true}, {\"id\": \"13\", \"label\": \"~b0 + (b1 * ~d0) + d1\", \"source\": \"13\", \"target\": \"2\", \"edge_index\": 0, \"num_edge_siblings\": 1, \"flip_orientation\": true}], \"arcs\": []}'), 1700, 525.0, 50, 5.0, false);\n",
       "        });\n",
       "        </script>\n",
       "        "
      ],
      "text/plain": [
       "<IPython.core.display.HTML object>"
      ]
     },
     "metadata": {},
     "output_type": "display_data"
    },
    {
     "data": {
      "text/html": [
       "\n",
       "        <div style=\"overflow:auto\" id=\"graph-output-71101316\"></div>\n",
       "        <script type=\"text/javascript\">\n",
       "        require.config({ baseUrl: \"../js\",\n",
       "                         paths: {d3: \"d3.v4.min\"} });\n",
       "        require(['hocc'], function(hocc) {\n",
       "            hocc.showGraph('71101316', '#graph-output-71101316',\n",
       "            JSON.parse('{\"nodes\": [{\"name\": \"0\", \"x\": 700, \"y\": 175.0, \"t\": 2}, {\"name\": \"1\", \"x\": 800, \"y\": 175.0, \"t\": 1}, {\"name\": \"2\", \"x\": 700, \"y\": 375.0, \"t\": 2}, {\"name\": \"3\", \"x\": 800, \"y\": 375.0, \"t\": 1}, {\"name\": \"4\", \"x\": 1650, \"y\": 275.0, \"t\": 0}, {\"name\": \"5\", \"x\": 1200, \"y\": 275.0, \"t\": 2}, {\"name\": \"6\", \"x\": 1000, \"y\": 175.0, \"t\": 1}, {\"name\": \"7\", \"x\": 900, \"y\": 125.0, \"t\": 2}, {\"name\": \"8\", \"x\": 900, \"y\": 225.0, \"t\": 2}, {\"name\": \"9\", \"x\": 1000, \"y\": 375.0, \"t\": 1}, {\"name\": \"10\", \"x\": 900, \"y\": 325.0, \"t\": 2}, {\"name\": \"11\", \"x\": 900, \"y\": 425.0, \"t\": 2}, {\"name\": \"12\", \"x\": 633.3333333333333, \"y\": 208.33333333333331, \"t\": 0}, {\"name\": \"13\", \"x\": 633.3333333333333, \"y\": 341.66666666666663, \"t\": 0}], \"links\": [{\"id\": \"0\", \"label\": \"a1 * ~c0\", \"source\": \"0\", \"target\": \"1\", \"edge_index\": 0, \"num_edge_siblings\": 1, \"flip_orientation\": false}, {\"id\": \"1\", \"label\": \"b1 * ~d0\", \"source\": \"2\", \"target\": \"3\", \"edge_index\": 0, \"num_edge_siblings\": 1, \"flip_orientation\": false}, {\"id\": \"2\", \"label\": \"((~a0 + a1) * (~b0 + b1)) + ((~c0 + c1) * (~d0 + d1))\", \"source\": \"5\", \"target\": \"4\", \"edge_index\": 0, \"num_edge_siblings\": 1, \"flip_orientation\": true}, {\"id\": \"3\", \"label\": \"~a0 + a1\", \"source\": \"7\", \"target\": \"6\", \"edge_index\": 0, \"num_edge_siblings\": 1, \"flip_orientation\": true}, {\"id\": \"4\", \"label\": \"~b0 + b1\", \"source\": \"8\", \"target\": \"6\", \"edge_index\": 0, \"num_edge_siblings\": 1, \"flip_orientation\": true}, {\"id\": \"5\", \"label\": \"(~c0 + c1) * (~d0 + d1)\", \"source\": \"9\", \"target\": \"5\", \"edge_index\": 0, \"num_edge_siblings\": 1, \"flip_orientation\": true}, {\"id\": \"6\", \"label\": \"~c0 + c1\", \"source\": \"10\", \"target\": \"9\", \"edge_index\": 0, \"num_edge_siblings\": 1, \"flip_orientation\": true}, {\"id\": \"7\", \"label\": \"~d0 + d1\", \"source\": \"11\", \"target\": \"9\", \"edge_index\": 0, \"num_edge_siblings\": 1, \"flip_orientation\": true}, {\"id\": \"8\", \"label\": \"a1\", \"source\": \"1\", \"target\": \"7\", \"edge_index\": 0, \"num_edge_siblings\": 1, \"flip_orientation\": false}, {\"id\": \"9\", \"label\": \"c1\", \"source\": \"0\", \"target\": \"10\", \"edge_index\": 0, \"num_edge_siblings\": 1, \"flip_orientation\": false}, {\"id\": \"10\", \"label\": \"~b0\", \"source\": \"2\", \"target\": \"8\", \"edge_index\": 0, \"num_edge_siblings\": 1, \"flip_orientation\": false}, {\"id\": \"11\", \"label\": \"d1\", \"source\": \"2\", \"target\": \"11\", \"edge_index\": 0, \"num_edge_siblings\": 1, \"flip_orientation\": false}, {\"id\": \"12\", \"label\": \"~a0 + (a1 * ~c0) + c1\", \"source\": \"12\", \"target\": \"0\", \"edge_index\": 0, \"num_edge_siblings\": 1, \"flip_orientation\": true}, {\"id\": \"13\", \"label\": \"~b0 + (b1 * ~d0) + d1\", \"source\": \"13\", \"target\": \"2\", \"edge_index\": 0, \"num_edge_siblings\": 1, \"flip_orientation\": true}], \"arcs\": []}'), 1700, 525.0, 50, 5.0, false);\n",
       "        });\n",
       "        </script>\n",
       "        "
      ],
      "text/plain": [
       "<IPython.core.display.HTML object>"
      ]
     },
     "metadata": {},
     "output_type": "display_data"
    },
    {
     "data": {
      "text/html": [
       "\n",
       "        <div style=\"overflow:auto\" id=\"graph-output-139302543\"></div>\n",
       "        <script type=\"text/javascript\">\n",
       "        require.config({ baseUrl: \"../js\",\n",
       "                         paths: {d3: \"d3.v4.min\"} });\n",
       "        require(['hocc'], function(hocc) {\n",
       "            hocc.showGraph('139302543', '#graph-output-139302543',\n",
       "            JSON.parse('{\"nodes\": [{\"name\": \"0\", \"x\": 700, \"y\": 175.0, \"t\": 2}, {\"name\": \"1\", \"x\": 800, \"y\": 175.0, \"t\": 1}, {\"name\": \"2\", \"x\": 700, \"y\": 375.0, \"t\": 2}, {\"name\": \"3\", \"x\": 800, \"y\": 375.0, \"t\": 1}, {\"name\": \"4\", \"x\": 1650, \"y\": 275.0, \"t\": 0}, {\"name\": \"5\", \"x\": 1200, \"y\": 275.0, \"t\": 2}, {\"name\": \"6\", \"x\": 1000, \"y\": 175.0, \"t\": 1}, {\"name\": \"7\", \"x\": 900, \"y\": 125.0, \"t\": 2}, {\"name\": \"8\", \"x\": 900, \"y\": 225.0, \"t\": 2}, {\"name\": \"9\", \"x\": 1000, \"y\": 375.0, \"t\": 1}, {\"name\": \"10\", \"x\": 900, \"y\": 325.0, \"t\": 2}, {\"name\": \"11\", \"x\": 900, \"y\": 425.0, \"t\": 2}, {\"name\": \"12\", \"x\": 633.3333333333333, \"y\": 208.33333333333331, \"t\": 0}, {\"name\": \"13\", \"x\": 633.3333333333333, \"y\": 341.66666666666663, \"t\": 0}], \"links\": [{\"id\": \"0\", \"label\": \"a1 * ~c0\", \"source\": \"0\", \"target\": \"1\", \"edge_index\": 0, \"num_edge_siblings\": 1, \"flip_orientation\": false}, {\"id\": \"1\", \"label\": \"b1 * ~d0\", \"source\": \"2\", \"target\": \"3\", \"edge_index\": 0, \"num_edge_siblings\": 1, \"flip_orientation\": false}, {\"id\": \"2\", \"label\": \"((~a0 + a1) * (~b0 + b1)) + ((~c0 + c1) * (~d0 + d1))\", \"source\": \"5\", \"target\": \"4\", \"edge_index\": 0, \"num_edge_siblings\": 1, \"flip_orientation\": true}, {\"id\": \"3\", \"label\": \"~a0 + a1\", \"source\": \"7\", \"target\": \"6\", \"edge_index\": 0, \"num_edge_siblings\": 1, \"flip_orientation\": true}, {\"id\": \"4\", \"label\": \"~b0 + b1\", \"source\": \"8\", \"target\": \"6\", \"edge_index\": 0, \"num_edge_siblings\": 1, \"flip_orientation\": true}, {\"id\": \"5\", \"label\": \"(~c0 + c1) * (~d0 + d1)\", \"source\": \"9\", \"target\": \"5\", \"edge_index\": 0, \"num_edge_siblings\": 1, \"flip_orientation\": true}, {\"id\": \"6\", \"label\": \"~c0 + c1\", \"source\": \"10\", \"target\": \"9\", \"edge_index\": 0, \"num_edge_siblings\": 1, \"flip_orientation\": true}, {\"id\": \"7\", \"label\": \"~d0 + d1\", \"source\": \"11\", \"target\": \"9\", \"edge_index\": 0, \"num_edge_siblings\": 1, \"flip_orientation\": true}, {\"id\": \"8\", \"label\": \"a1\", \"source\": \"1\", \"target\": \"7\", \"edge_index\": 0, \"num_edge_siblings\": 1, \"flip_orientation\": false}, {\"id\": \"9\", \"label\": \"c1\", \"source\": \"0\", \"target\": \"10\", \"edge_index\": 0, \"num_edge_siblings\": 1, \"flip_orientation\": false}, {\"id\": \"10\", \"label\": \"b1\", \"source\": \"3\", \"target\": \"8\", \"edge_index\": 0, \"num_edge_siblings\": 1, \"flip_orientation\": false}, {\"id\": \"11\", \"label\": \"d1\", \"source\": \"2\", \"target\": \"11\", \"edge_index\": 0, \"num_edge_siblings\": 1, \"flip_orientation\": false}, {\"id\": \"12\", \"label\": \"~a0 + (a1 * ~c0) + c1\", \"source\": \"12\", \"target\": \"0\", \"edge_index\": 0, \"num_edge_siblings\": 1, \"flip_orientation\": true}, {\"id\": \"13\", \"label\": \"~b0 + (b1 * ~d0) + d1\", \"source\": \"13\", \"target\": \"2\", \"edge_index\": 0, \"num_edge_siblings\": 1, \"flip_orientation\": true}], \"arcs\": []}'), 1700, 525.0, 50, 5.0, false);\n",
       "        });\n",
       "        </script>\n",
       "        "
      ],
      "text/plain": [
       "<IPython.core.display.HTML object>"
      ]
     },
     "metadata": {},
     "output_type": "display_data"
    },
    {
     "data": {
      "text/html": [
       "\n",
       "        <div style=\"overflow:auto\" id=\"graph-output-669239659\"></div>\n",
       "        <script type=\"text/javascript\">\n",
       "        require.config({ baseUrl: \"../js\",\n",
       "                         paths: {d3: \"d3.v4.min\"} });\n",
       "        require(['hocc'], function(hocc) {\n",
       "            hocc.showGraph('669239659', '#graph-output-669239659',\n",
       "            JSON.parse('{\"nodes\": [{\"name\": \"0\", \"x\": 700, \"y\": 175.0, \"t\": 2}, {\"name\": \"1\", \"x\": 800, \"y\": 175.0, \"t\": 1}, {\"name\": \"2\", \"x\": 700, \"y\": 375.0, \"t\": 2}, {\"name\": \"3\", \"x\": 800, \"y\": 375.0, \"t\": 1}, {\"name\": \"4\", \"x\": 1650, \"y\": 275.0, \"t\": 0}, {\"name\": \"5\", \"x\": 1200, \"y\": 275.0, \"t\": 2}, {\"name\": \"6\", \"x\": 1000, \"y\": 175.0, \"t\": 1}, {\"name\": \"7\", \"x\": 900, \"y\": 125.0, \"t\": 2}, {\"name\": \"8\", \"x\": 900, \"y\": 225.0, \"t\": 2}, {\"name\": \"9\", \"x\": 1000, \"y\": 375.0, \"t\": 1}, {\"name\": \"10\", \"x\": 900, \"y\": 325.0, \"t\": 2}, {\"name\": \"11\", \"x\": 900, \"y\": 425.0, \"t\": 2}, {\"name\": \"12\", \"x\": 633.3333333333333, \"y\": 208.33333333333331, \"t\": 0}, {\"name\": \"13\", \"x\": 633.3333333333333, \"y\": 341.66666666666663, \"t\": 0}], \"links\": [{\"id\": \"0\", \"label\": \"a1 * ~c0\", \"source\": \"0\", \"target\": \"1\", \"edge_index\": 0, \"num_edge_siblings\": 1, \"flip_orientation\": false}, {\"id\": \"1\", \"label\": \"b1 * ~d0\", \"source\": \"2\", \"target\": \"3\", \"edge_index\": 0, \"num_edge_siblings\": 1, \"flip_orientation\": false}, {\"id\": \"2\", \"label\": \"((~a0 + a1) * (~b0 + b1)) + ((~c0 + c1) * (~d0 + d1))\", \"source\": \"5\", \"target\": \"4\", \"edge_index\": 0, \"num_edge_siblings\": 1, \"flip_orientation\": true}, {\"id\": \"3\", \"label\": \"(~a0 + a1) * (~b0 + b1)\", \"source\": \"6\", \"target\": \"5\", \"edge_index\": 0, \"num_edge_siblings\": 1, \"flip_orientation\": true}, {\"id\": \"4\", \"label\": \"~a0 + a1\", \"source\": \"7\", \"target\": \"6\", \"edge_index\": 0, \"num_edge_siblings\": 1, \"flip_orientation\": true}, {\"id\": \"5\", \"label\": \"~b0 + b1\", \"source\": \"8\", \"target\": \"6\", \"edge_index\": 0, \"num_edge_siblings\": 1, \"flip_orientation\": true}, {\"id\": \"6\", \"label\": \"~c0 + c1\", \"source\": \"10\", \"target\": \"9\", \"edge_index\": 0, \"num_edge_siblings\": 1, \"flip_orientation\": true}, {\"id\": \"7\", \"label\": \"~d0 + d1\", \"source\": \"11\", \"target\": \"9\", \"edge_index\": 0, \"num_edge_siblings\": 1, \"flip_orientation\": true}, {\"id\": \"8\", \"label\": \"~a0\", \"source\": \"0\", \"target\": \"7\", \"edge_index\": 0, \"num_edge_siblings\": 1, \"flip_orientation\": false}, {\"id\": \"9\", \"label\": \"c1\", \"source\": \"0\", \"target\": \"10\", \"edge_index\": 0, \"num_edge_siblings\": 1, \"flip_orientation\": false}, {\"id\": \"10\", \"label\": \"~b0\", \"source\": \"2\", \"target\": \"8\", \"edge_index\": 0, \"num_edge_siblings\": 1, \"flip_orientation\": false}, {\"id\": \"11\", \"label\": \"~d0\", \"source\": \"3\", \"target\": \"11\", \"edge_index\": 0, \"num_edge_siblings\": 1, \"flip_orientation\": false}, {\"id\": \"12\", \"label\": \"~a0 + (a1 * ~c0) + c1\", \"source\": \"12\", \"target\": \"0\", \"edge_index\": 0, \"num_edge_siblings\": 1, \"flip_orientation\": true}, {\"id\": \"13\", \"label\": \"~b0 + (b1 * ~d0) + d1\", \"source\": \"13\", \"target\": \"2\", \"edge_index\": 0, \"num_edge_siblings\": 1, \"flip_orientation\": true}], \"arcs\": []}'), 1700, 525.0, 50, 5.0, false);\n",
       "        });\n",
       "        </script>\n",
       "        "
      ],
      "text/plain": [
       "<IPython.core.display.HTML object>"
      ]
     },
     "metadata": {},
     "output_type": "display_data"
    },
    {
     "data": {
      "text/html": [
       "\n",
       "        <div style=\"overflow:auto\" id=\"graph-output-204466807\"></div>\n",
       "        <script type=\"text/javascript\">\n",
       "        require.config({ baseUrl: \"../js\",\n",
       "                         paths: {d3: \"d3.v4.min\"} });\n",
       "        require(['hocc'], function(hocc) {\n",
       "            hocc.showGraph('204466807', '#graph-output-204466807',\n",
       "            JSON.parse('{\"nodes\": [{\"name\": \"0\", \"x\": 700, \"y\": 175.0, \"t\": 2}, {\"name\": \"1\", \"x\": 800, \"y\": 175.0, \"t\": 1}, {\"name\": \"2\", \"x\": 700, \"y\": 375.0, \"t\": 2}, {\"name\": \"3\", \"x\": 800, \"y\": 375.0, \"t\": 1}, {\"name\": \"4\", \"x\": 1650, \"y\": 275.0, \"t\": 0}, {\"name\": \"5\", \"x\": 1200, \"y\": 275.0, \"t\": 2}, {\"name\": \"6\", \"x\": 1000, \"y\": 175.0, \"t\": 1}, {\"name\": \"7\", \"x\": 900, \"y\": 125.0, \"t\": 2}, {\"name\": \"8\", \"x\": 900, \"y\": 225.0, \"t\": 2}, {\"name\": \"9\", \"x\": 1000, \"y\": 375.0, \"t\": 1}, {\"name\": \"10\", \"x\": 900, \"y\": 325.0, \"t\": 2}, {\"name\": \"11\", \"x\": 900, \"y\": 425.0, \"t\": 2}, {\"name\": \"12\", \"x\": 633.3333333333333, \"y\": 208.33333333333331, \"t\": 0}, {\"name\": \"13\", \"x\": 633.3333333333333, \"y\": 341.66666666666663, \"t\": 0}], \"links\": [{\"id\": \"0\", \"label\": \"a1 * ~c0\", \"source\": \"0\", \"target\": \"1\", \"edge_index\": 0, \"num_edge_siblings\": 1, \"flip_orientation\": false}, {\"id\": \"1\", \"label\": \"b1 * ~d0\", \"source\": \"2\", \"target\": \"3\", \"edge_index\": 0, \"num_edge_siblings\": 1, \"flip_orientation\": false}, {\"id\": \"2\", \"label\": \"((~a0 + a1) * (~b0 + b1)) + ((~c0 + c1) * (~d0 + d1))\", \"source\": \"5\", \"target\": \"4\", \"edge_index\": 0, \"num_edge_siblings\": 1, \"flip_orientation\": true}, {\"id\": \"3\", \"label\": \"(~a0 + a1) * (~b0 + b1)\", \"source\": \"6\", \"target\": \"5\", \"edge_index\": 0, \"num_edge_siblings\": 1, \"flip_orientation\": true}, {\"id\": \"4\", \"label\": \"~a0 + a1\", \"source\": \"7\", \"target\": \"6\", \"edge_index\": 0, \"num_edge_siblings\": 1, \"flip_orientation\": true}, {\"id\": \"5\", \"label\": \"~b0 + b1\", \"source\": \"8\", \"target\": \"6\", \"edge_index\": 0, \"num_edge_siblings\": 1, \"flip_orientation\": true}, {\"id\": \"6\", \"label\": \"~c0 + c1\", \"source\": \"10\", \"target\": \"9\", \"edge_index\": 0, \"num_edge_siblings\": 1, \"flip_orientation\": true}, {\"id\": \"7\", \"label\": \"~d0 + d1\", \"source\": \"11\", \"target\": \"9\", \"edge_index\": 0, \"num_edge_siblings\": 1, \"flip_orientation\": true}, {\"id\": \"8\", \"label\": \"~a0\", \"source\": \"0\", \"target\": \"7\", \"edge_index\": 0, \"num_edge_siblings\": 1, \"flip_orientation\": false}, {\"id\": \"9\", \"label\": \"c1\", \"source\": \"0\", \"target\": \"10\", \"edge_index\": 0, \"num_edge_siblings\": 1, \"flip_orientation\": false}, {\"id\": \"10\", \"label\": \"~b0\", \"source\": \"2\", \"target\": \"8\", \"edge_index\": 0, \"num_edge_siblings\": 1, \"flip_orientation\": false}, {\"id\": \"11\", \"label\": \"d1\", \"source\": \"2\", \"target\": \"11\", \"edge_index\": 0, \"num_edge_siblings\": 1, \"flip_orientation\": false}, {\"id\": \"12\", \"label\": \"~a0 + (a1 * ~c0) + c1\", \"source\": \"12\", \"target\": \"0\", \"edge_index\": 0, \"num_edge_siblings\": 1, \"flip_orientation\": true}, {\"id\": \"13\", \"label\": \"~b0 + (b1 * ~d0) + d1\", \"source\": \"13\", \"target\": \"2\", \"edge_index\": 0, \"num_edge_siblings\": 1, \"flip_orientation\": true}], \"arcs\": []}'), 1700, 525.0, 50, 5.0, false);\n",
       "        });\n",
       "        </script>\n",
       "        "
      ],
      "text/plain": [
       "<IPython.core.display.HTML object>"
      ]
     },
     "metadata": {},
     "output_type": "display_data"
    },
    {
     "data": {
      "text/html": [
       "\n",
       "        <div style=\"overflow:auto\" id=\"graph-output-739225741\"></div>\n",
       "        <script type=\"text/javascript\">\n",
       "        require.config({ baseUrl: \"../js\",\n",
       "                         paths: {d3: \"d3.v4.min\"} });\n",
       "        require(['hocc'], function(hocc) {\n",
       "            hocc.showGraph('739225741', '#graph-output-739225741',\n",
       "            JSON.parse('{\"nodes\": [{\"name\": \"0\", \"x\": 700, \"y\": 175.0, \"t\": 2}, {\"name\": \"1\", \"x\": 800, \"y\": 175.0, \"t\": 1}, {\"name\": \"2\", \"x\": 700, \"y\": 375.0, \"t\": 2}, {\"name\": \"3\", \"x\": 800, \"y\": 375.0, \"t\": 1}, {\"name\": \"4\", \"x\": 1650, \"y\": 275.0, \"t\": 0}, {\"name\": \"5\", \"x\": 1200, \"y\": 275.0, \"t\": 2}, {\"name\": \"6\", \"x\": 1000, \"y\": 175.0, \"t\": 1}, {\"name\": \"7\", \"x\": 900, \"y\": 125.0, \"t\": 2}, {\"name\": \"8\", \"x\": 900, \"y\": 225.0, \"t\": 2}, {\"name\": \"9\", \"x\": 1000, \"y\": 375.0, \"t\": 1}, {\"name\": \"10\", \"x\": 900, \"y\": 325.0, \"t\": 2}, {\"name\": \"11\", \"x\": 900, \"y\": 425.0, \"t\": 2}, {\"name\": \"12\", \"x\": 633.3333333333333, \"y\": 208.33333333333331, \"t\": 0}, {\"name\": \"13\", \"x\": 633.3333333333333, \"y\": 341.66666666666663, \"t\": 0}], \"links\": [{\"id\": \"0\", \"label\": \"a1 * ~c0\", \"source\": \"0\", \"target\": \"1\", \"edge_index\": 0, \"num_edge_siblings\": 1, \"flip_orientation\": false}, {\"id\": \"1\", \"label\": \"b1 * ~d0\", \"source\": \"2\", \"target\": \"3\", \"edge_index\": 0, \"num_edge_siblings\": 1, \"flip_orientation\": false}, {\"id\": \"2\", \"label\": \"((~a0 + a1) * (~b0 + b1)) + ((~c0 + c1) * (~d0 + d1))\", \"source\": \"5\", \"target\": \"4\", \"edge_index\": 0, \"num_edge_siblings\": 1, \"flip_orientation\": true}, {\"id\": \"3\", \"label\": \"(~a0 + a1) * (~b0 + b1)\", \"source\": \"6\", \"target\": \"5\", \"edge_index\": 0, \"num_edge_siblings\": 1, \"flip_orientation\": true}, {\"id\": \"4\", \"label\": \"~a0 + a1\", \"source\": \"7\", \"target\": \"6\", \"edge_index\": 0, \"num_edge_siblings\": 1, \"flip_orientation\": true}, {\"id\": \"5\", \"label\": \"~b0 + b1\", \"source\": \"8\", \"target\": \"6\", \"edge_index\": 0, \"num_edge_siblings\": 1, \"flip_orientation\": true}, {\"id\": \"6\", \"label\": \"~c0 + c1\", \"source\": \"10\", \"target\": \"9\", \"edge_index\": 0, \"num_edge_siblings\": 1, \"flip_orientation\": true}, {\"id\": \"7\", \"label\": \"~d0 + d1\", \"source\": \"11\", \"target\": \"9\", \"edge_index\": 0, \"num_edge_siblings\": 1, \"flip_orientation\": true}, {\"id\": \"8\", \"label\": \"a1\", \"source\": \"1\", \"target\": \"7\", \"edge_index\": 0, \"num_edge_siblings\": 1, \"flip_orientation\": false}, {\"id\": \"9\", \"label\": \"c1\", \"source\": \"0\", \"target\": \"10\", \"edge_index\": 0, \"num_edge_siblings\": 1, \"flip_orientation\": false}, {\"id\": \"10\", \"label\": \"~b0\", \"source\": \"2\", \"target\": \"8\", \"edge_index\": 0, \"num_edge_siblings\": 1, \"flip_orientation\": false}, {\"id\": \"11\", \"label\": \"~d0\", \"source\": \"3\", \"target\": \"11\", \"edge_index\": 0, \"num_edge_siblings\": 1, \"flip_orientation\": false}, {\"id\": \"12\", \"label\": \"~a0 + (a1 * ~c0) + c1\", \"source\": \"12\", \"target\": \"0\", \"edge_index\": 0, \"num_edge_siblings\": 1, \"flip_orientation\": true}, {\"id\": \"13\", \"label\": \"~b0 + (b1 * ~d0) + d1\", \"source\": \"13\", \"target\": \"2\", \"edge_index\": 0, \"num_edge_siblings\": 1, \"flip_orientation\": true}], \"arcs\": []}'), 1700, 525.0, 50, 5.0, false);\n",
       "        });\n",
       "        </script>\n",
       "        "
      ],
      "text/plain": [
       "<IPython.core.display.HTML object>"
      ]
     },
     "metadata": {},
     "output_type": "display_data"
    },
    {
     "data": {
      "text/html": [
       "\n",
       "        <div style=\"overflow:auto\" id=\"graph-output-233653414\"></div>\n",
       "        <script type=\"text/javascript\">\n",
       "        require.config({ baseUrl: \"../js\",\n",
       "                         paths: {d3: \"d3.v4.min\"} });\n",
       "        require(['hocc'], function(hocc) {\n",
       "            hocc.showGraph('233653414', '#graph-output-233653414',\n",
       "            JSON.parse('{\"nodes\": [{\"name\": \"0\", \"x\": 700, \"y\": 175.0, \"t\": 2}, {\"name\": \"1\", \"x\": 800, \"y\": 175.0, \"t\": 1}, {\"name\": \"2\", \"x\": 700, \"y\": 375.0, \"t\": 2}, {\"name\": \"3\", \"x\": 800, \"y\": 375.0, \"t\": 1}, {\"name\": \"4\", \"x\": 1650, \"y\": 275.0, \"t\": 0}, {\"name\": \"5\", \"x\": 1200, \"y\": 275.0, \"t\": 2}, {\"name\": \"6\", \"x\": 1000, \"y\": 175.0, \"t\": 1}, {\"name\": \"7\", \"x\": 900, \"y\": 125.0, \"t\": 2}, {\"name\": \"8\", \"x\": 900, \"y\": 225.0, \"t\": 2}, {\"name\": \"9\", \"x\": 1000, \"y\": 375.0, \"t\": 1}, {\"name\": \"10\", \"x\": 900, \"y\": 325.0, \"t\": 2}, {\"name\": \"11\", \"x\": 900, \"y\": 425.0, \"t\": 2}, {\"name\": \"12\", \"x\": 633.3333333333333, \"y\": 208.33333333333331, \"t\": 0}, {\"name\": \"13\", \"x\": 633.3333333333333, \"y\": 341.66666666666663, \"t\": 0}], \"links\": [{\"id\": \"0\", \"label\": \"a1 * ~c0\", \"source\": \"0\", \"target\": \"1\", \"edge_index\": 0, \"num_edge_siblings\": 1, \"flip_orientation\": false}, {\"id\": \"1\", \"label\": \"b1 * ~d0\", \"source\": \"2\", \"target\": \"3\", \"edge_index\": 0, \"num_edge_siblings\": 1, \"flip_orientation\": false}, {\"id\": \"2\", \"label\": \"((~a0 + a1) * (~b0 + b1)) + ((~c0 + c1) * (~d0 + d1))\", \"source\": \"5\", \"target\": \"4\", \"edge_index\": 0, \"num_edge_siblings\": 1, \"flip_orientation\": true}, {\"id\": \"3\", \"label\": \"(~a0 + a1) * (~b0 + b1)\", \"source\": \"6\", \"target\": \"5\", \"edge_index\": 0, \"num_edge_siblings\": 1, \"flip_orientation\": true}, {\"id\": \"4\", \"label\": \"~a0 + a1\", \"source\": \"7\", \"target\": \"6\", \"edge_index\": 0, \"num_edge_siblings\": 1, \"flip_orientation\": true}, {\"id\": \"5\", \"label\": \"~b0 + b1\", \"source\": \"8\", \"target\": \"6\", \"edge_index\": 0, \"num_edge_siblings\": 1, \"flip_orientation\": true}, {\"id\": \"6\", \"label\": \"~c0 + c1\", \"source\": \"10\", \"target\": \"9\", \"edge_index\": 0, \"num_edge_siblings\": 1, \"flip_orientation\": true}, {\"id\": \"7\", \"label\": \"~d0 + d1\", \"source\": \"11\", \"target\": \"9\", \"edge_index\": 0, \"num_edge_siblings\": 1, \"flip_orientation\": true}, {\"id\": \"8\", \"label\": \"a1\", \"source\": \"1\", \"target\": \"7\", \"edge_index\": 0, \"num_edge_siblings\": 1, \"flip_orientation\": false}, {\"id\": \"9\", \"label\": \"c1\", \"source\": \"0\", \"target\": \"10\", \"edge_index\": 0, \"num_edge_siblings\": 1, \"flip_orientation\": false}, {\"id\": \"10\", \"label\": \"~b0\", \"source\": \"2\", \"target\": \"8\", \"edge_index\": 0, \"num_edge_siblings\": 1, \"flip_orientation\": false}, {\"id\": \"11\", \"label\": \"d1\", \"source\": \"2\", \"target\": \"11\", \"edge_index\": 0, \"num_edge_siblings\": 1, \"flip_orientation\": false}, {\"id\": \"12\", \"label\": \"~a0 + (a1 * ~c0) + c1\", \"source\": \"12\", \"target\": \"0\", \"edge_index\": 0, \"num_edge_siblings\": 1, \"flip_orientation\": true}, {\"id\": \"13\", \"label\": \"~b0 + (b1 * ~d0) + d1\", \"source\": \"13\", \"target\": \"2\", \"edge_index\": 0, \"num_edge_siblings\": 1, \"flip_orientation\": true}], \"arcs\": []}'), 1700, 525.0, 50, 5.0, false);\n",
       "        });\n",
       "        </script>\n",
       "        "
      ],
      "text/plain": [
       "<IPython.core.display.HTML object>"
      ]
     },
     "metadata": {},
     "output_type": "display_data"
    },
    {
     "data": {
      "text/html": [
       "\n",
       "        <div style=\"overflow:auto\" id=\"graph-output-977067048\"></div>\n",
       "        <script type=\"text/javascript\">\n",
       "        require.config({ baseUrl: \"../js\",\n",
       "                         paths: {d3: \"d3.v4.min\"} });\n",
       "        require(['hocc'], function(hocc) {\n",
       "            hocc.showGraph('977067048', '#graph-output-977067048',\n",
       "            JSON.parse('{\"nodes\": [{\"name\": \"0\", \"x\": 700, \"y\": 175.0, \"t\": 2}, {\"name\": \"1\", \"x\": 800, \"y\": 175.0, \"t\": 1}, {\"name\": \"2\", \"x\": 700, \"y\": 375.0, \"t\": 2}, {\"name\": \"3\", \"x\": 800, \"y\": 375.0, \"t\": 1}, {\"name\": \"4\", \"x\": 1650, \"y\": 275.0, \"t\": 0}, {\"name\": \"5\", \"x\": 1200, \"y\": 275.0, \"t\": 2}, {\"name\": \"6\", \"x\": 1000, \"y\": 175.0, \"t\": 1}, {\"name\": \"7\", \"x\": 900, \"y\": 125.0, \"t\": 2}, {\"name\": \"8\", \"x\": 900, \"y\": 225.0, \"t\": 2}, {\"name\": \"9\", \"x\": 1000, \"y\": 375.0, \"t\": 1}, {\"name\": \"10\", \"x\": 900, \"y\": 325.0, \"t\": 2}, {\"name\": \"11\", \"x\": 900, \"y\": 425.0, \"t\": 2}, {\"name\": \"12\", \"x\": 633.3333333333333, \"y\": 208.33333333333331, \"t\": 0}, {\"name\": \"13\", \"x\": 633.3333333333333, \"y\": 341.66666666666663, \"t\": 0}], \"links\": [{\"id\": \"0\", \"label\": \"a1 * ~c0\", \"source\": \"0\", \"target\": \"1\", \"edge_index\": 0, \"num_edge_siblings\": 1, \"flip_orientation\": false}, {\"id\": \"1\", \"label\": \"b1 * ~d0\", \"source\": \"2\", \"target\": \"3\", \"edge_index\": 0, \"num_edge_siblings\": 1, \"flip_orientation\": false}, {\"id\": \"2\", \"label\": \"((~a0 + a1) * (~b0 + b1)) + ((~c0 + c1) * (~d0 + d1))\", \"source\": \"5\", \"target\": \"4\", \"edge_index\": 0, \"num_edge_siblings\": 1, \"flip_orientation\": true}, {\"id\": \"3\", \"label\": \"~a0 + a1\", \"source\": \"7\", \"target\": \"6\", \"edge_index\": 0, \"num_edge_siblings\": 1, \"flip_orientation\": true}, {\"id\": \"4\", \"label\": \"~b0 + b1\", \"source\": \"8\", \"target\": \"6\", \"edge_index\": 0, \"num_edge_siblings\": 1, \"flip_orientation\": true}, {\"id\": \"5\", \"label\": \"(~c0 + c1) * (~d0 + d1)\", \"source\": \"9\", \"target\": \"5\", \"edge_index\": 0, \"num_edge_siblings\": 1, \"flip_orientation\": true}, {\"id\": \"6\", \"label\": \"~c0 + c1\", \"source\": \"10\", \"target\": \"9\", \"edge_index\": 0, \"num_edge_siblings\": 1, \"flip_orientation\": true}, {\"id\": \"7\", \"label\": \"~d0 + d1\", \"source\": \"11\", \"target\": \"9\", \"edge_index\": 0, \"num_edge_siblings\": 1, \"flip_orientation\": true}, {\"id\": \"8\", \"label\": \"~a0\", \"source\": \"0\", \"target\": \"7\", \"edge_index\": 0, \"num_edge_siblings\": 1, \"flip_orientation\": false}, {\"id\": \"9\", \"label\": \"c1\", \"source\": \"0\", \"target\": \"10\", \"edge_index\": 0, \"num_edge_siblings\": 1, \"flip_orientation\": false}, {\"id\": \"10\", \"label\": \"~b0\", \"source\": \"2\", \"target\": \"8\", \"edge_index\": 0, \"num_edge_siblings\": 1, \"flip_orientation\": false}, {\"id\": \"11\", \"label\": \"~d0\", \"source\": \"3\", \"target\": \"11\", \"edge_index\": 0, \"num_edge_siblings\": 1, \"flip_orientation\": false}, {\"id\": \"12\", \"label\": \"~a0 + (a1 * ~c0) + c1\", \"source\": \"12\", \"target\": \"0\", \"edge_index\": 0, \"num_edge_siblings\": 1, \"flip_orientation\": true}, {\"id\": \"13\", \"label\": \"~b0 + (b1 * ~d0) + d1\", \"source\": \"13\", \"target\": \"2\", \"edge_index\": 0, \"num_edge_siblings\": 1, \"flip_orientation\": true}], \"arcs\": []}'), 1700, 525.0, 50, 5.0, false);\n",
       "        });\n",
       "        </script>\n",
       "        "
      ],
      "text/plain": [
       "<IPython.core.display.HTML object>"
      ]
     },
     "metadata": {},
     "output_type": "display_data"
    },
    {
     "data": {
      "text/html": [
       "\n",
       "        <div style=\"overflow:auto\" id=\"graph-output-35872914\"></div>\n",
       "        <script type=\"text/javascript\">\n",
       "        require.config({ baseUrl: \"../js\",\n",
       "                         paths: {d3: \"d3.v4.min\"} });\n",
       "        require(['hocc'], function(hocc) {\n",
       "            hocc.showGraph('35872914', '#graph-output-35872914',\n",
       "            JSON.parse('{\"nodes\": [{\"name\": \"0\", \"x\": 700, \"y\": 175.0, \"t\": 2}, {\"name\": \"1\", \"x\": 800, \"y\": 175.0, \"t\": 1}, {\"name\": \"2\", \"x\": 700, \"y\": 375.0, \"t\": 2}, {\"name\": \"3\", \"x\": 800, \"y\": 375.0, \"t\": 1}, {\"name\": \"4\", \"x\": 1650, \"y\": 275.0, \"t\": 0}, {\"name\": \"5\", \"x\": 1200, \"y\": 275.0, \"t\": 2}, {\"name\": \"6\", \"x\": 1000, \"y\": 175.0, \"t\": 1}, {\"name\": \"7\", \"x\": 900, \"y\": 125.0, \"t\": 2}, {\"name\": \"8\", \"x\": 900, \"y\": 225.0, \"t\": 2}, {\"name\": \"9\", \"x\": 1000, \"y\": 375.0, \"t\": 1}, {\"name\": \"10\", \"x\": 900, \"y\": 325.0, \"t\": 2}, {\"name\": \"11\", \"x\": 900, \"y\": 425.0, \"t\": 2}, {\"name\": \"12\", \"x\": 633.3333333333333, \"y\": 208.33333333333331, \"t\": 0}, {\"name\": \"13\", \"x\": 633.3333333333333, \"y\": 341.66666666666663, \"t\": 0}], \"links\": [{\"id\": \"0\", \"label\": \"a1 * ~c0\", \"source\": \"0\", \"target\": \"1\", \"edge_index\": 0, \"num_edge_siblings\": 1, \"flip_orientation\": false}, {\"id\": \"1\", \"label\": \"b1 * ~d0\", \"source\": \"2\", \"target\": \"3\", \"edge_index\": 0, \"num_edge_siblings\": 1, \"flip_orientation\": false}, {\"id\": \"2\", \"label\": \"((~a0 + a1) * (~b0 + b1)) + ((~c0 + c1) * (~d0 + d1))\", \"source\": \"5\", \"target\": \"4\", \"edge_index\": 0, \"num_edge_siblings\": 1, \"flip_orientation\": true}, {\"id\": \"3\", \"label\": \"~a0 + a1\", \"source\": \"7\", \"target\": \"6\", \"edge_index\": 0, \"num_edge_siblings\": 1, \"flip_orientation\": true}, {\"id\": \"4\", \"label\": \"~b0 + b1\", \"source\": \"8\", \"target\": \"6\", \"edge_index\": 0, \"num_edge_siblings\": 1, \"flip_orientation\": true}, {\"id\": \"5\", \"label\": \"(~c0 + c1) * (~d0 + d1)\", \"source\": \"9\", \"target\": \"5\", \"edge_index\": 0, \"num_edge_siblings\": 1, \"flip_orientation\": true}, {\"id\": \"6\", \"label\": \"~c0 + c1\", \"source\": \"10\", \"target\": \"9\", \"edge_index\": 0, \"num_edge_siblings\": 1, \"flip_orientation\": true}, {\"id\": \"7\", \"label\": \"~d0 + d1\", \"source\": \"11\", \"target\": \"9\", \"edge_index\": 0, \"num_edge_siblings\": 1, \"flip_orientation\": true}, {\"id\": \"8\", \"label\": \"~a0\", \"source\": \"0\", \"target\": \"7\", \"edge_index\": 0, \"num_edge_siblings\": 1, \"flip_orientation\": false}, {\"id\": \"9\", \"label\": \"c1\", \"source\": \"0\", \"target\": \"10\", \"edge_index\": 0, \"num_edge_siblings\": 1, \"flip_orientation\": false}, {\"id\": \"10\", \"label\": \"~b0\", \"source\": \"2\", \"target\": \"8\", \"edge_index\": 0, \"num_edge_siblings\": 1, \"flip_orientation\": false}, {\"id\": \"11\", \"label\": \"d1\", \"source\": \"2\", \"target\": \"11\", \"edge_index\": 0, \"num_edge_siblings\": 1, \"flip_orientation\": false}, {\"id\": \"12\", \"label\": \"~a0 + (a1 * ~c0) + c1\", \"source\": \"12\", \"target\": \"0\", \"edge_index\": 0, \"num_edge_siblings\": 1, \"flip_orientation\": true}, {\"id\": \"13\", \"label\": \"~b0 + (b1 * ~d0) + d1\", \"source\": \"13\", \"target\": \"2\", \"edge_index\": 0, \"num_edge_siblings\": 1, \"flip_orientation\": true}], \"arcs\": []}'), 1700, 525.0, 50, 5.0, false);\n",
       "        });\n",
       "        </script>\n",
       "        "
      ],
      "text/plain": [
       "<IPython.core.display.HTML object>"
      ]
     },
     "metadata": {},
     "output_type": "display_data"
    },
    {
     "data": {
      "text/html": [
       "\n",
       "        <div style=\"overflow:auto\" id=\"graph-output-897587293\"></div>\n",
       "        <script type=\"text/javascript\">\n",
       "        require.config({ baseUrl: \"../js\",\n",
       "                         paths: {d3: \"d3.v4.min\"} });\n",
       "        require(['hocc'], function(hocc) {\n",
       "            hocc.showGraph('897587293', '#graph-output-897587293',\n",
       "            JSON.parse('{\"nodes\": [{\"name\": \"0\", \"x\": 700, \"y\": 175.0, \"t\": 2}, {\"name\": \"1\", \"x\": 800, \"y\": 175.0, \"t\": 1}, {\"name\": \"2\", \"x\": 700, \"y\": 375.0, \"t\": 2}, {\"name\": \"3\", \"x\": 800, \"y\": 375.0, \"t\": 1}, {\"name\": \"4\", \"x\": 1650, \"y\": 275.0, \"t\": 0}, {\"name\": \"5\", \"x\": 1200, \"y\": 275.0, \"t\": 2}, {\"name\": \"6\", \"x\": 1000, \"y\": 175.0, \"t\": 1}, {\"name\": \"7\", \"x\": 900, \"y\": 125.0, \"t\": 2}, {\"name\": \"8\", \"x\": 900, \"y\": 225.0, \"t\": 2}, {\"name\": \"9\", \"x\": 1000, \"y\": 375.0, \"t\": 1}, {\"name\": \"10\", \"x\": 900, \"y\": 325.0, \"t\": 2}, {\"name\": \"11\", \"x\": 900, \"y\": 425.0, \"t\": 2}, {\"name\": \"12\", \"x\": 633.3333333333333, \"y\": 208.33333333333331, \"t\": 0}, {\"name\": \"13\", \"x\": 633.3333333333333, \"y\": 341.66666666666663, \"t\": 0}], \"links\": [{\"id\": \"0\", \"label\": \"a1 * ~c0\", \"source\": \"0\", \"target\": \"1\", \"edge_index\": 0, \"num_edge_siblings\": 1, \"flip_orientation\": false}, {\"id\": \"1\", \"label\": \"b1 * ~d0\", \"source\": \"2\", \"target\": \"3\", \"edge_index\": 0, \"num_edge_siblings\": 1, \"flip_orientation\": false}, {\"id\": \"2\", \"label\": \"((~a0 + a1) * (~b0 + b1)) + ((~c0 + c1) * (~d0 + d1))\", \"source\": \"5\", \"target\": \"4\", \"edge_index\": 0, \"num_edge_siblings\": 1, \"flip_orientation\": true}, {\"id\": \"3\", \"label\": \"~a0 + a1\", \"source\": \"7\", \"target\": \"6\", \"edge_index\": 0, \"num_edge_siblings\": 1, \"flip_orientation\": true}, {\"id\": \"4\", \"label\": \"~b0 + b1\", \"source\": \"8\", \"target\": \"6\", \"edge_index\": 0, \"num_edge_siblings\": 1, \"flip_orientation\": true}, {\"id\": \"5\", \"label\": \"(~c0 + c1) * (~d0 + d1)\", \"source\": \"9\", \"target\": \"5\", \"edge_index\": 0, \"num_edge_siblings\": 1, \"flip_orientation\": true}, {\"id\": \"6\", \"label\": \"~c0 + c1\", \"source\": \"10\", \"target\": \"9\", \"edge_index\": 0, \"num_edge_siblings\": 1, \"flip_orientation\": true}, {\"id\": \"7\", \"label\": \"~d0 + d1\", \"source\": \"11\", \"target\": \"9\", \"edge_index\": 0, \"num_edge_siblings\": 1, \"flip_orientation\": true}, {\"id\": \"8\", \"label\": \"a1\", \"source\": \"1\", \"target\": \"7\", \"edge_index\": 0, \"num_edge_siblings\": 1, \"flip_orientation\": false}, {\"id\": \"9\", \"label\": \"c1\", \"source\": \"0\", \"target\": \"10\", \"edge_index\": 0, \"num_edge_siblings\": 1, \"flip_orientation\": false}, {\"id\": \"10\", \"label\": \"~b0\", \"source\": \"2\", \"target\": \"8\", \"edge_index\": 0, \"num_edge_siblings\": 1, \"flip_orientation\": false}, {\"id\": \"11\", \"label\": \"~d0\", \"source\": \"3\", \"target\": \"11\", \"edge_index\": 0, \"num_edge_siblings\": 1, \"flip_orientation\": false}, {\"id\": \"12\", \"label\": \"~a0 + (a1 * ~c0) + c1\", \"source\": \"12\", \"target\": \"0\", \"edge_index\": 0, \"num_edge_siblings\": 1, \"flip_orientation\": true}, {\"id\": \"13\", \"label\": \"~b0 + (b1 * ~d0) + d1\", \"source\": \"13\", \"target\": \"2\", \"edge_index\": 0, \"num_edge_siblings\": 1, \"flip_orientation\": true}], \"arcs\": []}'), 1700, 525.0, 50, 5.0, false);\n",
       "        });\n",
       "        </script>\n",
       "        "
      ],
      "text/plain": [
       "<IPython.core.display.HTML object>"
      ]
     },
     "metadata": {},
     "output_type": "display_data"
    },
    {
     "data": {
      "text/html": [
       "\n",
       "        <div style=\"overflow:auto\" id=\"graph-output-321351802\"></div>\n",
       "        <script type=\"text/javascript\">\n",
       "        require.config({ baseUrl: \"../js\",\n",
       "                         paths: {d3: \"d3.v4.min\"} });\n",
       "        require(['hocc'], function(hocc) {\n",
       "            hocc.showGraph('321351802', '#graph-output-321351802',\n",
       "            JSON.parse('{\"nodes\": [{\"name\": \"0\", \"x\": 700, \"y\": 175.0, \"t\": 2}, {\"name\": \"1\", \"x\": 800, \"y\": 175.0, \"t\": 1}, {\"name\": \"2\", \"x\": 700, \"y\": 375.0, \"t\": 2}, {\"name\": \"3\", \"x\": 800, \"y\": 375.0, \"t\": 1}, {\"name\": \"4\", \"x\": 1650, \"y\": 275.0, \"t\": 0}, {\"name\": \"5\", \"x\": 1200, \"y\": 275.0, \"t\": 2}, {\"name\": \"6\", \"x\": 1000, \"y\": 175.0, \"t\": 1}, {\"name\": \"7\", \"x\": 900, \"y\": 125.0, \"t\": 2}, {\"name\": \"8\", \"x\": 900, \"y\": 225.0, \"t\": 2}, {\"name\": \"9\", \"x\": 1000, \"y\": 375.0, \"t\": 1}, {\"name\": \"10\", \"x\": 900, \"y\": 325.0, \"t\": 2}, {\"name\": \"11\", \"x\": 900, \"y\": 425.0, \"t\": 2}, {\"name\": \"12\", \"x\": 633.3333333333333, \"y\": 208.33333333333331, \"t\": 0}, {\"name\": \"13\", \"x\": 633.3333333333333, \"y\": 341.66666666666663, \"t\": 0}], \"links\": [{\"id\": \"0\", \"label\": \"a1 * ~c0\", \"source\": \"0\", \"target\": \"1\", \"edge_index\": 0, \"num_edge_siblings\": 1, \"flip_orientation\": false}, {\"id\": \"1\", \"label\": \"b1 * ~d0\", \"source\": \"2\", \"target\": \"3\", \"edge_index\": 0, \"num_edge_siblings\": 1, \"flip_orientation\": false}, {\"id\": \"2\", \"label\": \"((~a0 + a1) * (~b0 + b1)) + ((~c0 + c1) * (~d0 + d1))\", \"source\": \"5\", \"target\": \"4\", \"edge_index\": 0, \"num_edge_siblings\": 1, \"flip_orientation\": true}, {\"id\": \"3\", \"label\": \"~a0 + a1\", \"source\": \"7\", \"target\": \"6\", \"edge_index\": 0, \"num_edge_siblings\": 1, \"flip_orientation\": true}, {\"id\": \"4\", \"label\": \"~b0 + b1\", \"source\": \"8\", \"target\": \"6\", \"edge_index\": 0, \"num_edge_siblings\": 1, \"flip_orientation\": true}, {\"id\": \"5\", \"label\": \"(~c0 + c1) * (~d0 + d1)\", \"source\": \"9\", \"target\": \"5\", \"edge_index\": 0, \"num_edge_siblings\": 1, \"flip_orientation\": true}, {\"id\": \"6\", \"label\": \"~c0 + c1\", \"source\": \"10\", \"target\": \"9\", \"edge_index\": 0, \"num_edge_siblings\": 1, \"flip_orientation\": true}, {\"id\": \"7\", \"label\": \"~d0 + d1\", \"source\": \"11\", \"target\": \"9\", \"edge_index\": 0, \"num_edge_siblings\": 1, \"flip_orientation\": true}, {\"id\": \"8\", \"label\": \"a1\", \"source\": \"1\", \"target\": \"7\", \"edge_index\": 0, \"num_edge_siblings\": 1, \"flip_orientation\": false}, {\"id\": \"9\", \"label\": \"c1\", \"source\": \"0\", \"target\": \"10\", \"edge_index\": 0, \"num_edge_siblings\": 1, \"flip_orientation\": false}, {\"id\": \"10\", \"label\": \"~b0\", \"source\": \"2\", \"target\": \"8\", \"edge_index\": 0, \"num_edge_siblings\": 1, \"flip_orientation\": false}, {\"id\": \"11\", \"label\": \"d1\", \"source\": \"2\", \"target\": \"11\", \"edge_index\": 0, \"num_edge_siblings\": 1, \"flip_orientation\": false}, {\"id\": \"12\", \"label\": \"~a0 + (a1 * ~c0) + c1\", \"source\": \"12\", \"target\": \"0\", \"edge_index\": 0, \"num_edge_siblings\": 1, \"flip_orientation\": true}, {\"id\": \"13\", \"label\": \"~b0 + (b1 * ~d0) + d1\", \"source\": \"13\", \"target\": \"2\", \"edge_index\": 0, \"num_edge_siblings\": 1, \"flip_orientation\": true}], \"arcs\": []}'), 1700, 525.0, 50, 5.0, false);\n",
       "        });\n",
       "        </script>\n",
       "        "
      ],
      "text/plain": [
       "<IPython.core.display.HTML object>"
      ]
     },
     "metadata": {},
     "output_type": "display_data"
    },
    {
     "data": {
      "text/html": [
       "\n",
       "        <div style=\"overflow:auto\" id=\"graph-output-670602636\"></div>\n",
       "        <script type=\"text/javascript\">\n",
       "        require.config({ baseUrl: \"../js\",\n",
       "                         paths: {d3: \"d3.v4.min\"} });\n",
       "        require(['hocc'], function(hocc) {\n",
       "            hocc.showGraph('670602636', '#graph-output-670602636',\n",
       "            JSON.parse('{\"nodes\": [{\"name\": \"0\", \"x\": 700, \"y\": 175.0, \"t\": 2}, {\"name\": \"1\", \"x\": 800, \"y\": 175.0, \"t\": 1}, {\"name\": \"2\", \"x\": 700, \"y\": 375.0, \"t\": 2}, {\"name\": \"3\", \"x\": 800, \"y\": 375.0, \"t\": 1}, {\"name\": \"4\", \"x\": 1650, \"y\": 275.0, \"t\": 0}, {\"name\": \"5\", \"x\": 1200, \"y\": 275.0, \"t\": 2}, {\"name\": \"6\", \"x\": 1000, \"y\": 175.0, \"t\": 1}, {\"name\": \"7\", \"x\": 900, \"y\": 125.0, \"t\": 2}, {\"name\": \"8\", \"x\": 900, \"y\": 225.0, \"t\": 2}, {\"name\": \"9\", \"x\": 1000, \"y\": 375.0, \"t\": 1}, {\"name\": \"10\", \"x\": 900, \"y\": 325.0, \"t\": 2}, {\"name\": \"11\", \"x\": 900, \"y\": 425.0, \"t\": 2}, {\"name\": \"12\", \"x\": 633.3333333333333, \"y\": 208.33333333333331, \"t\": 0}, {\"name\": \"13\", \"x\": 633.3333333333333, \"y\": 341.66666666666663, \"t\": 0}], \"links\": [{\"id\": \"0\", \"label\": \"a1 * ~c0\", \"source\": \"0\", \"target\": \"1\", \"edge_index\": 0, \"num_edge_siblings\": 1, \"flip_orientation\": false}, {\"id\": \"1\", \"label\": \"b1 * ~d0\", \"source\": \"2\", \"target\": \"3\", \"edge_index\": 0, \"num_edge_siblings\": 1, \"flip_orientation\": false}, {\"id\": \"2\", \"label\": \"((~a0 + a1) * (~b0 + b1)) + ((~c0 + c1) * (~d0 + d1))\", \"source\": \"5\", \"target\": \"4\", \"edge_index\": 0, \"num_edge_siblings\": 1, \"flip_orientation\": true}, {\"id\": \"3\", \"label\": \"(~a0 + a1) * (~b0 + b1)\", \"source\": \"6\", \"target\": \"5\", \"edge_index\": 0, \"num_edge_siblings\": 1, \"flip_orientation\": true}, {\"id\": \"4\", \"label\": \"~a0 + a1\", \"source\": \"7\", \"target\": \"6\", \"edge_index\": 0, \"num_edge_siblings\": 1, \"flip_orientation\": true}, {\"id\": \"5\", \"label\": \"~b0 + b1\", \"source\": \"8\", \"target\": \"6\", \"edge_index\": 0, \"num_edge_siblings\": 1, \"flip_orientation\": true}, {\"id\": \"6\", \"label\": \"~c0 + c1\", \"source\": \"10\", \"target\": \"9\", \"edge_index\": 0, \"num_edge_siblings\": 1, \"flip_orientation\": true}, {\"id\": \"7\", \"label\": \"~d0 + d1\", \"source\": \"11\", \"target\": \"9\", \"edge_index\": 0, \"num_edge_siblings\": 1, \"flip_orientation\": true}, {\"id\": \"8\", \"label\": \"~a0\", \"source\": \"0\", \"target\": \"7\", \"edge_index\": 0, \"num_edge_siblings\": 1, \"flip_orientation\": false}, {\"id\": \"9\", \"label\": \"~c0\", \"source\": \"1\", \"target\": \"10\", \"edge_index\": 0, \"num_edge_siblings\": 1, \"flip_orientation\": false}, {\"id\": \"10\", \"label\": \"~b0\", \"source\": \"2\", \"target\": \"8\", \"edge_index\": 0, \"num_edge_siblings\": 1, \"flip_orientation\": false}, {\"id\": \"11\", \"label\": \"d1\", \"source\": \"2\", \"target\": \"11\", \"edge_index\": 0, \"num_edge_siblings\": 1, \"flip_orientation\": false}, {\"id\": \"12\", \"label\": \"~a0 + (a1 * ~c0) + c1\", \"source\": \"12\", \"target\": \"0\", \"edge_index\": 0, \"num_edge_siblings\": 1, \"flip_orientation\": true}, {\"id\": \"13\", \"label\": \"~b0 + (b1 * ~d0) + d1\", \"source\": \"13\", \"target\": \"2\", \"edge_index\": 0, \"num_edge_siblings\": 1, \"flip_orientation\": true}], \"arcs\": []}'), 1700, 525.0, 50, 5.0, false);\n",
       "        });\n",
       "        </script>\n",
       "        "
      ],
      "text/plain": [
       "<IPython.core.display.HTML object>"
      ]
     },
     "metadata": {},
     "output_type": "display_data"
    },
    {
     "data": {
      "text/html": [
       "\n",
       "        <div style=\"overflow:auto\" id=\"graph-output-451981098\"></div>\n",
       "        <script type=\"text/javascript\">\n",
       "        require.config({ baseUrl: \"../js\",\n",
       "                         paths: {d3: \"d3.v4.min\"} });\n",
       "        require(['hocc'], function(hocc) {\n",
       "            hocc.showGraph('451981098', '#graph-output-451981098',\n",
       "            JSON.parse('{\"nodes\": [{\"name\": \"0\", \"x\": 700, \"y\": 175.0, \"t\": 2}, {\"name\": \"1\", \"x\": 800, \"y\": 175.0, \"t\": 1}, {\"name\": \"2\", \"x\": 700, \"y\": 375.0, \"t\": 2}, {\"name\": \"3\", \"x\": 800, \"y\": 375.0, \"t\": 1}, {\"name\": \"4\", \"x\": 1650, \"y\": 275.0, \"t\": 0}, {\"name\": \"5\", \"x\": 1200, \"y\": 275.0, \"t\": 2}, {\"name\": \"6\", \"x\": 1000, \"y\": 175.0, \"t\": 1}, {\"name\": \"7\", \"x\": 900, \"y\": 125.0, \"t\": 2}, {\"name\": \"8\", \"x\": 900, \"y\": 225.0, \"t\": 2}, {\"name\": \"9\", \"x\": 1000, \"y\": 375.0, \"t\": 1}, {\"name\": \"10\", \"x\": 900, \"y\": 325.0, \"t\": 2}, {\"name\": \"11\", \"x\": 900, \"y\": 425.0, \"t\": 2}, {\"name\": \"12\", \"x\": 633.3333333333333, \"y\": 208.33333333333331, \"t\": 0}, {\"name\": \"13\", \"x\": 633.3333333333333, \"y\": 341.66666666666663, \"t\": 0}], \"links\": [{\"id\": \"0\", \"label\": \"a1 * ~c0\", \"source\": \"0\", \"target\": \"1\", \"edge_index\": 0, \"num_edge_siblings\": 1, \"flip_orientation\": false}, {\"id\": \"1\", \"label\": \"b1 * ~d0\", \"source\": \"2\", \"target\": \"3\", \"edge_index\": 0, \"num_edge_siblings\": 1, \"flip_orientation\": false}, {\"id\": \"2\", \"label\": \"((~a0 + a1) * (~b0 + b1)) + ((~c0 + c1) * (~d0 + d1))\", \"source\": \"5\", \"target\": \"4\", \"edge_index\": 0, \"num_edge_siblings\": 1, \"flip_orientation\": true}, {\"id\": \"3\", \"label\": \"(~a0 + a1) * (~b0 + b1)\", \"source\": \"6\", \"target\": \"5\", \"edge_index\": 0, \"num_edge_siblings\": 1, \"flip_orientation\": true}, {\"id\": \"4\", \"label\": \"~a0 + a1\", \"source\": \"7\", \"target\": \"6\", \"edge_index\": 0, \"num_edge_siblings\": 1, \"flip_orientation\": true}, {\"id\": \"5\", \"label\": \"~b0 + b1\", \"source\": \"8\", \"target\": \"6\", \"edge_index\": 0, \"num_edge_siblings\": 1, \"flip_orientation\": true}, {\"id\": \"6\", \"label\": \"~c0 + c1\", \"source\": \"10\", \"target\": \"9\", \"edge_index\": 0, \"num_edge_siblings\": 1, \"flip_orientation\": true}, {\"id\": \"7\", \"label\": \"~d0 + d1\", \"source\": \"11\", \"target\": \"9\", \"edge_index\": 0, \"num_edge_siblings\": 1, \"flip_orientation\": true}, {\"id\": \"8\", \"label\": \"~a0\", \"source\": \"0\", \"target\": \"7\", \"edge_index\": 0, \"num_edge_siblings\": 1, \"flip_orientation\": false}, {\"id\": \"9\", \"label\": \"c1\", \"source\": \"0\", \"target\": \"10\", \"edge_index\": 0, \"num_edge_siblings\": 1, \"flip_orientation\": false}, {\"id\": \"10\", \"label\": \"~b0\", \"source\": \"2\", \"target\": \"8\", \"edge_index\": 0, \"num_edge_siblings\": 1, \"flip_orientation\": false}, {\"id\": \"11\", \"label\": \"d1\", \"source\": \"2\", \"target\": \"11\", \"edge_index\": 0, \"num_edge_siblings\": 1, \"flip_orientation\": false}, {\"id\": \"12\", \"label\": \"~a0 + (a1 * ~c0) + c1\", \"source\": \"12\", \"target\": \"0\", \"edge_index\": 0, \"num_edge_siblings\": 1, \"flip_orientation\": true}, {\"id\": \"13\", \"label\": \"~b0 + (b1 * ~d0) + d1\", \"source\": \"13\", \"target\": \"2\", \"edge_index\": 0, \"num_edge_siblings\": 1, \"flip_orientation\": true}], \"arcs\": []}'), 1700, 525.0, 50, 5.0, false);\n",
       "        });\n",
       "        </script>\n",
       "        "
      ],
      "text/plain": [
       "<IPython.core.display.HTML object>"
      ]
     },
     "metadata": {},
     "output_type": "display_data"
    },
    {
     "data": {
      "text/html": [
       "\n",
       "        <div style=\"overflow:auto\" id=\"graph-output-701195253\"></div>\n",
       "        <script type=\"text/javascript\">\n",
       "        require.config({ baseUrl: \"../js\",\n",
       "                         paths: {d3: \"d3.v4.min\"} });\n",
       "        require(['hocc'], function(hocc) {\n",
       "            hocc.showGraph('701195253', '#graph-output-701195253',\n",
       "            JSON.parse('{\"nodes\": [{\"name\": \"0\", \"x\": 700, \"y\": 175.0, \"t\": 2}, {\"name\": \"1\", \"x\": 800, \"y\": 175.0, \"t\": 1}, {\"name\": \"2\", \"x\": 700, \"y\": 375.0, \"t\": 2}, {\"name\": \"3\", \"x\": 800, \"y\": 375.0, \"t\": 1}, {\"name\": \"4\", \"x\": 1650, \"y\": 275.0, \"t\": 0}, {\"name\": \"5\", \"x\": 1200, \"y\": 275.0, \"t\": 2}, {\"name\": \"6\", \"x\": 1000, \"y\": 175.0, \"t\": 1}, {\"name\": \"7\", \"x\": 900, \"y\": 125.0, \"t\": 2}, {\"name\": \"8\", \"x\": 900, \"y\": 225.0, \"t\": 2}, {\"name\": \"9\", \"x\": 1000, \"y\": 375.0, \"t\": 1}, {\"name\": \"10\", \"x\": 900, \"y\": 325.0, \"t\": 2}, {\"name\": \"11\", \"x\": 900, \"y\": 425.0, \"t\": 2}, {\"name\": \"12\", \"x\": 633.3333333333333, \"y\": 208.33333333333331, \"t\": 0}, {\"name\": \"13\", \"x\": 633.3333333333333, \"y\": 341.66666666666663, \"t\": 0}], \"links\": [{\"id\": \"0\", \"label\": \"a1 * ~c0\", \"source\": \"0\", \"target\": \"1\", \"edge_index\": 0, \"num_edge_siblings\": 1, \"flip_orientation\": false}, {\"id\": \"1\", \"label\": \"b1 * ~d0\", \"source\": \"2\", \"target\": \"3\", \"edge_index\": 0, \"num_edge_siblings\": 1, \"flip_orientation\": false}, {\"id\": \"2\", \"label\": \"((~a0 + a1) * (~b0 + b1)) + ((~c0 + c1) * (~d0 + d1))\", \"source\": \"5\", \"target\": \"4\", \"edge_index\": 0, \"num_edge_siblings\": 1, \"flip_orientation\": true}, {\"id\": \"3\", \"label\": \"(~a0 + a1) * (~b0 + b1)\", \"source\": \"6\", \"target\": \"5\", \"edge_index\": 0, \"num_edge_siblings\": 1, \"flip_orientation\": true}, {\"id\": \"4\", \"label\": \"~a0 + a1\", \"source\": \"7\", \"target\": \"6\", \"edge_index\": 0, \"num_edge_siblings\": 1, \"flip_orientation\": true}, {\"id\": \"5\", \"label\": \"~b0 + b1\", \"source\": \"8\", \"target\": \"6\", \"edge_index\": 0, \"num_edge_siblings\": 1, \"flip_orientation\": true}, {\"id\": \"6\", \"label\": \"~c0 + c1\", \"source\": \"10\", \"target\": \"9\", \"edge_index\": 0, \"num_edge_siblings\": 1, \"flip_orientation\": true}, {\"id\": \"7\", \"label\": \"~d0 + d1\", \"source\": \"11\", \"target\": \"9\", \"edge_index\": 0, \"num_edge_siblings\": 1, \"flip_orientation\": true}, {\"id\": \"8\", \"label\": \"~a0\", \"source\": \"0\", \"target\": \"7\", \"edge_index\": 0, \"num_edge_siblings\": 1, \"flip_orientation\": false}, {\"id\": \"9\", \"label\": \"~c0\", \"source\": \"1\", \"target\": \"10\", \"edge_index\": 0, \"num_edge_siblings\": 1, \"flip_orientation\": false}, {\"id\": \"10\", \"label\": \"b1\", \"source\": \"3\", \"target\": \"8\", \"edge_index\": 0, \"num_edge_siblings\": 1, \"flip_orientation\": false}, {\"id\": \"11\", \"label\": \"d1\", \"source\": \"2\", \"target\": \"11\", \"edge_index\": 0, \"num_edge_siblings\": 1, \"flip_orientation\": false}, {\"id\": \"12\", \"label\": \"~a0 + (a1 * ~c0) + c1\", \"source\": \"12\", \"target\": \"0\", \"edge_index\": 0, \"num_edge_siblings\": 1, \"flip_orientation\": true}, {\"id\": \"13\", \"label\": \"~b0 + (b1 * ~d0) + d1\", \"source\": \"13\", \"target\": \"2\", \"edge_index\": 0, \"num_edge_siblings\": 1, \"flip_orientation\": true}], \"arcs\": []}'), 1700, 525.0, 50, 5.0, false);\n",
       "        });\n",
       "        </script>\n",
       "        "
      ],
      "text/plain": [
       "<IPython.core.display.HTML object>"
      ]
     },
     "metadata": {},
     "output_type": "display_data"
    },
    {
     "data": {
      "text/html": [
       "\n",
       "        <div style=\"overflow:auto\" id=\"graph-output-671368403\"></div>\n",
       "        <script type=\"text/javascript\">\n",
       "        require.config({ baseUrl: \"../js\",\n",
       "                         paths: {d3: \"d3.v4.min\"} });\n",
       "        require(['hocc'], function(hocc) {\n",
       "            hocc.showGraph('671368403', '#graph-output-671368403',\n",
       "            JSON.parse('{\"nodes\": [{\"name\": \"0\", \"x\": 700, \"y\": 175.0, \"t\": 2}, {\"name\": \"1\", \"x\": 800, \"y\": 175.0, \"t\": 1}, {\"name\": \"2\", \"x\": 700, \"y\": 375.0, \"t\": 2}, {\"name\": \"3\", \"x\": 800, \"y\": 375.0, \"t\": 1}, {\"name\": \"4\", \"x\": 1650, \"y\": 275.0, \"t\": 0}, {\"name\": \"5\", \"x\": 1200, \"y\": 275.0, \"t\": 2}, {\"name\": \"6\", \"x\": 1000, \"y\": 175.0, \"t\": 1}, {\"name\": \"7\", \"x\": 900, \"y\": 125.0, \"t\": 2}, {\"name\": \"8\", \"x\": 900, \"y\": 225.0, \"t\": 2}, {\"name\": \"9\", \"x\": 1000, \"y\": 375.0, \"t\": 1}, {\"name\": \"10\", \"x\": 900, \"y\": 325.0, \"t\": 2}, {\"name\": \"11\", \"x\": 900, \"y\": 425.0, \"t\": 2}, {\"name\": \"12\", \"x\": 633.3333333333333, \"y\": 208.33333333333331, \"t\": 0}, {\"name\": \"13\", \"x\": 633.3333333333333, \"y\": 341.66666666666663, \"t\": 0}], \"links\": [{\"id\": \"0\", \"label\": \"a1 * ~c0\", \"source\": \"0\", \"target\": \"1\", \"edge_index\": 0, \"num_edge_siblings\": 1, \"flip_orientation\": false}, {\"id\": \"1\", \"label\": \"b1 * ~d0\", \"source\": \"2\", \"target\": \"3\", \"edge_index\": 0, \"num_edge_siblings\": 1, \"flip_orientation\": false}, {\"id\": \"2\", \"label\": \"((~a0 + a1) * (~b0 + b1)) + ((~c0 + c1) * (~d0 + d1))\", \"source\": \"5\", \"target\": \"4\", \"edge_index\": 0, \"num_edge_siblings\": 1, \"flip_orientation\": true}, {\"id\": \"3\", \"label\": \"(~a0 + a1) * (~b0 + b1)\", \"source\": \"6\", \"target\": \"5\", \"edge_index\": 0, \"num_edge_siblings\": 1, \"flip_orientation\": true}, {\"id\": \"4\", \"label\": \"~a0 + a1\", \"source\": \"7\", \"target\": \"6\", \"edge_index\": 0, \"num_edge_siblings\": 1, \"flip_orientation\": true}, {\"id\": \"5\", \"label\": \"~b0 + b1\", \"source\": \"8\", \"target\": \"6\", \"edge_index\": 0, \"num_edge_siblings\": 1, \"flip_orientation\": true}, {\"id\": \"6\", \"label\": \"~c0 + c1\", \"source\": \"10\", \"target\": \"9\", \"edge_index\": 0, \"num_edge_siblings\": 1, \"flip_orientation\": true}, {\"id\": \"7\", \"label\": \"~d0 + d1\", \"source\": \"11\", \"target\": \"9\", \"edge_index\": 0, \"num_edge_siblings\": 1, \"flip_orientation\": true}, {\"id\": \"8\", \"label\": \"~a0\", \"source\": \"0\", \"target\": \"7\", \"edge_index\": 0, \"num_edge_siblings\": 1, \"flip_orientation\": false}, {\"id\": \"9\", \"label\": \"c1\", \"source\": \"0\", \"target\": \"10\", \"edge_index\": 0, \"num_edge_siblings\": 1, \"flip_orientation\": false}, {\"id\": \"10\", \"label\": \"b1\", \"source\": \"3\", \"target\": \"8\", \"edge_index\": 0, \"num_edge_siblings\": 1, \"flip_orientation\": false}, {\"id\": \"11\", \"label\": \"d1\", \"source\": \"2\", \"target\": \"11\", \"edge_index\": 0, \"num_edge_siblings\": 1, \"flip_orientation\": false}, {\"id\": \"12\", \"label\": \"~a0 + (a1 * ~c0) + c1\", \"source\": \"12\", \"target\": \"0\", \"edge_index\": 0, \"num_edge_siblings\": 1, \"flip_orientation\": true}, {\"id\": \"13\", \"label\": \"~b0 + (b1 * ~d0) + d1\", \"source\": \"13\", \"target\": \"2\", \"edge_index\": 0, \"num_edge_siblings\": 1, \"flip_orientation\": true}], \"arcs\": []}'), 1700, 525.0, 50, 5.0, false);\n",
       "        });\n",
       "        </script>\n",
       "        "
      ],
      "text/plain": [
       "<IPython.core.display.HTML object>"
      ]
     },
     "metadata": {},
     "output_type": "display_data"
    },
    {
     "data": {
      "text/html": [
       "\n",
       "        <div style=\"overflow:auto\" id=\"graph-output-571338524\"></div>\n",
       "        <script type=\"text/javascript\">\n",
       "        require.config({ baseUrl: \"../js\",\n",
       "                         paths: {d3: \"d3.v4.min\"} });\n",
       "        require(['hocc'], function(hocc) {\n",
       "            hocc.showGraph('571338524', '#graph-output-571338524',\n",
       "            JSON.parse('{\"nodes\": [{\"name\": \"0\", \"x\": 700, \"y\": 175.0, \"t\": 2}, {\"name\": \"1\", \"x\": 800, \"y\": 175.0, \"t\": 1}, {\"name\": \"2\", \"x\": 700, \"y\": 375.0, \"t\": 2}, {\"name\": \"3\", \"x\": 800, \"y\": 375.0, \"t\": 1}, {\"name\": \"4\", \"x\": 1650, \"y\": 275.0, \"t\": 0}, {\"name\": \"5\", \"x\": 1200, \"y\": 275.0, \"t\": 2}, {\"name\": \"6\", \"x\": 1000, \"y\": 175.0, \"t\": 1}, {\"name\": \"7\", \"x\": 900, \"y\": 125.0, \"t\": 2}, {\"name\": \"8\", \"x\": 900, \"y\": 225.0, \"t\": 2}, {\"name\": \"9\", \"x\": 1000, \"y\": 375.0, \"t\": 1}, {\"name\": \"10\", \"x\": 900, \"y\": 325.0, \"t\": 2}, {\"name\": \"11\", \"x\": 900, \"y\": 425.0, \"t\": 2}, {\"name\": \"12\", \"x\": 633.3333333333333, \"y\": 208.33333333333331, \"t\": 0}, {\"name\": \"13\", \"x\": 633.3333333333333, \"y\": 341.66666666666663, \"t\": 0}], \"links\": [{\"id\": \"0\", \"label\": \"a1 * ~c0\", \"source\": \"0\", \"target\": \"1\", \"edge_index\": 0, \"num_edge_siblings\": 1, \"flip_orientation\": false}, {\"id\": \"1\", \"label\": \"b1 * ~d0\", \"source\": \"2\", \"target\": \"3\", \"edge_index\": 0, \"num_edge_siblings\": 1, \"flip_orientation\": false}, {\"id\": \"2\", \"label\": \"((~a0 + a1) * (~b0 + b1)) + ((~c0 + c1) * (~d0 + d1))\", \"source\": \"5\", \"target\": \"4\", \"edge_index\": 0, \"num_edge_siblings\": 1, \"flip_orientation\": true}, {\"id\": \"3\", \"label\": \"~a0 + a1\", \"source\": \"7\", \"target\": \"6\", \"edge_index\": 0, \"num_edge_siblings\": 1, \"flip_orientation\": true}, {\"id\": \"4\", \"label\": \"~b0 + b1\", \"source\": \"8\", \"target\": \"6\", \"edge_index\": 0, \"num_edge_siblings\": 1, \"flip_orientation\": true}, {\"id\": \"5\", \"label\": \"(~c0 + c1) * (~d0 + d1)\", \"source\": \"9\", \"target\": \"5\", \"edge_index\": 0, \"num_edge_siblings\": 1, \"flip_orientation\": true}, {\"id\": \"6\", \"label\": \"~c0 + c1\", \"source\": \"10\", \"target\": \"9\", \"edge_index\": 0, \"num_edge_siblings\": 1, \"flip_orientation\": true}, {\"id\": \"7\", \"label\": \"~d0 + d1\", \"source\": \"11\", \"target\": \"9\", \"edge_index\": 0, \"num_edge_siblings\": 1, \"flip_orientation\": true}, {\"id\": \"8\", \"label\": \"~a0\", \"source\": \"0\", \"target\": \"7\", \"edge_index\": 0, \"num_edge_siblings\": 1, \"flip_orientation\": false}, {\"id\": \"9\", \"label\": \"~c0\", \"source\": \"1\", \"target\": \"10\", \"edge_index\": 0, \"num_edge_siblings\": 1, \"flip_orientation\": false}, {\"id\": \"10\", \"label\": \"~b0\", \"source\": \"2\", \"target\": \"8\", \"edge_index\": 0, \"num_edge_siblings\": 1, \"flip_orientation\": false}, {\"id\": \"11\", \"label\": \"d1\", \"source\": \"2\", \"target\": \"11\", \"edge_index\": 0, \"num_edge_siblings\": 1, \"flip_orientation\": false}, {\"id\": \"12\", \"label\": \"~a0 + (a1 * ~c0) + c1\", \"source\": \"12\", \"target\": \"0\", \"edge_index\": 0, \"num_edge_siblings\": 1, \"flip_orientation\": true}, {\"id\": \"13\", \"label\": \"~b0 + (b1 * ~d0) + d1\", \"source\": \"13\", \"target\": \"2\", \"edge_index\": 0, \"num_edge_siblings\": 1, \"flip_orientation\": true}], \"arcs\": []}'), 1700, 525.0, 50, 5.0, false);\n",
       "        });\n",
       "        </script>\n",
       "        "
      ],
      "text/plain": [
       "<IPython.core.display.HTML object>"
      ]
     },
     "metadata": {},
     "output_type": "display_data"
    },
    {
     "data": {
      "text/html": [
       "\n",
       "        <div style=\"overflow:auto\" id=\"graph-output-926286984\"></div>\n",
       "        <script type=\"text/javascript\">\n",
       "        require.config({ baseUrl: \"../js\",\n",
       "                         paths: {d3: \"d3.v4.min\"} });\n",
       "        require(['hocc'], function(hocc) {\n",
       "            hocc.showGraph('926286984', '#graph-output-926286984',\n",
       "            JSON.parse('{\"nodes\": [{\"name\": \"0\", \"x\": 700, \"y\": 175.0, \"t\": 2}, {\"name\": \"1\", \"x\": 800, \"y\": 175.0, \"t\": 1}, {\"name\": \"2\", \"x\": 700, \"y\": 375.0, \"t\": 2}, {\"name\": \"3\", \"x\": 800, \"y\": 375.0, \"t\": 1}, {\"name\": \"4\", \"x\": 1650, \"y\": 275.0, \"t\": 0}, {\"name\": \"5\", \"x\": 1200, \"y\": 275.0, \"t\": 2}, {\"name\": \"6\", \"x\": 1000, \"y\": 175.0, \"t\": 1}, {\"name\": \"7\", \"x\": 900, \"y\": 125.0, \"t\": 2}, {\"name\": \"8\", \"x\": 900, \"y\": 225.0, \"t\": 2}, {\"name\": \"9\", \"x\": 1000, \"y\": 375.0, \"t\": 1}, {\"name\": \"10\", \"x\": 900, \"y\": 325.0, \"t\": 2}, {\"name\": \"11\", \"x\": 900, \"y\": 425.0, \"t\": 2}, {\"name\": \"12\", \"x\": 633.3333333333333, \"y\": 208.33333333333331, \"t\": 0}, {\"name\": \"13\", \"x\": 633.3333333333333, \"y\": 341.66666666666663, \"t\": 0}], \"links\": [{\"id\": \"0\", \"label\": \"a1 * ~c0\", \"source\": \"0\", \"target\": \"1\", \"edge_index\": 0, \"num_edge_siblings\": 1, \"flip_orientation\": false}, {\"id\": \"1\", \"label\": \"b1 * ~d0\", \"source\": \"2\", \"target\": \"3\", \"edge_index\": 0, \"num_edge_siblings\": 1, \"flip_orientation\": false}, {\"id\": \"2\", \"label\": \"((~a0 + a1) * (~b0 + b1)) + ((~c0 + c1) * (~d0 + d1))\", \"source\": \"5\", \"target\": \"4\", \"edge_index\": 0, \"num_edge_siblings\": 1, \"flip_orientation\": true}, {\"id\": \"3\", \"label\": \"~a0 + a1\", \"source\": \"7\", \"target\": \"6\", \"edge_index\": 0, \"num_edge_siblings\": 1, \"flip_orientation\": true}, {\"id\": \"4\", \"label\": \"~b0 + b1\", \"source\": \"8\", \"target\": \"6\", \"edge_index\": 0, \"num_edge_siblings\": 1, \"flip_orientation\": true}, {\"id\": \"5\", \"label\": \"(~c0 + c1) * (~d0 + d1)\", \"source\": \"9\", \"target\": \"5\", \"edge_index\": 0, \"num_edge_siblings\": 1, \"flip_orientation\": true}, {\"id\": \"6\", \"label\": \"~c0 + c1\", \"source\": \"10\", \"target\": \"9\", \"edge_index\": 0, \"num_edge_siblings\": 1, \"flip_orientation\": true}, {\"id\": \"7\", \"label\": \"~d0 + d1\", \"source\": \"11\", \"target\": \"9\", \"edge_index\": 0, \"num_edge_siblings\": 1, \"flip_orientation\": true}, {\"id\": \"8\", \"label\": \"~a0\", \"source\": \"0\", \"target\": \"7\", \"edge_index\": 0, \"num_edge_siblings\": 1, \"flip_orientation\": false}, {\"id\": \"9\", \"label\": \"c1\", \"source\": \"0\", \"target\": \"10\", \"edge_index\": 0, \"num_edge_siblings\": 1, \"flip_orientation\": false}, {\"id\": \"10\", \"label\": \"~b0\", \"source\": \"2\", \"target\": \"8\", \"edge_index\": 0, \"num_edge_siblings\": 1, \"flip_orientation\": false}, {\"id\": \"11\", \"label\": \"d1\", \"source\": \"2\", \"target\": \"11\", \"edge_index\": 0, \"num_edge_siblings\": 1, \"flip_orientation\": false}, {\"id\": \"12\", \"label\": \"~a0 + (a1 * ~c0) + c1\", \"source\": \"12\", \"target\": \"0\", \"edge_index\": 0, \"num_edge_siblings\": 1, \"flip_orientation\": true}, {\"id\": \"13\", \"label\": \"~b0 + (b1 * ~d0) + d1\", \"source\": \"13\", \"target\": \"2\", \"edge_index\": 0, \"num_edge_siblings\": 1, \"flip_orientation\": true}], \"arcs\": []}'), 1700, 525.0, 50, 5.0, false);\n",
       "        });\n",
       "        </script>\n",
       "        "
      ],
      "text/plain": [
       "<IPython.core.display.HTML object>"
      ]
     },
     "metadata": {},
     "output_type": "display_data"
    },
    {
     "data": {
      "text/html": [
       "\n",
       "        <div style=\"overflow:auto\" id=\"graph-output-21427403\"></div>\n",
       "        <script type=\"text/javascript\">\n",
       "        require.config({ baseUrl: \"../js\",\n",
       "                         paths: {d3: \"d3.v4.min\"} });\n",
       "        require(['hocc'], function(hocc) {\n",
       "            hocc.showGraph('21427403', '#graph-output-21427403',\n",
       "            JSON.parse('{\"nodes\": [{\"name\": \"0\", \"x\": 700, \"y\": 175.0, \"t\": 2}, {\"name\": \"1\", \"x\": 800, \"y\": 175.0, \"t\": 1}, {\"name\": \"2\", \"x\": 700, \"y\": 375.0, \"t\": 2}, {\"name\": \"3\", \"x\": 800, \"y\": 375.0, \"t\": 1}, {\"name\": \"4\", \"x\": 1650, \"y\": 275.0, \"t\": 0}, {\"name\": \"5\", \"x\": 1200, \"y\": 275.0, \"t\": 2}, {\"name\": \"6\", \"x\": 1000, \"y\": 175.0, \"t\": 1}, {\"name\": \"7\", \"x\": 900, \"y\": 125.0, \"t\": 2}, {\"name\": \"8\", \"x\": 900, \"y\": 225.0, \"t\": 2}, {\"name\": \"9\", \"x\": 1000, \"y\": 375.0, \"t\": 1}, {\"name\": \"10\", \"x\": 900, \"y\": 325.0, \"t\": 2}, {\"name\": \"11\", \"x\": 900, \"y\": 425.0, \"t\": 2}, {\"name\": \"12\", \"x\": 633.3333333333333, \"y\": 208.33333333333331, \"t\": 0}, {\"name\": \"13\", \"x\": 633.3333333333333, \"y\": 341.66666666666663, \"t\": 0}], \"links\": [{\"id\": \"0\", \"label\": \"a1 * ~c0\", \"source\": \"0\", \"target\": \"1\", \"edge_index\": 0, \"num_edge_siblings\": 1, \"flip_orientation\": false}, {\"id\": \"1\", \"label\": \"b1 * ~d0\", \"source\": \"2\", \"target\": \"3\", \"edge_index\": 0, \"num_edge_siblings\": 1, \"flip_orientation\": false}, {\"id\": \"2\", \"label\": \"((~a0 + a1) * (~b0 + b1)) + ((~c0 + c1) * (~d0 + d1))\", \"source\": \"5\", \"target\": \"4\", \"edge_index\": 0, \"num_edge_siblings\": 1, \"flip_orientation\": true}, {\"id\": \"3\", \"label\": \"~a0 + a1\", \"source\": \"7\", \"target\": \"6\", \"edge_index\": 0, \"num_edge_siblings\": 1, \"flip_orientation\": true}, {\"id\": \"4\", \"label\": \"~b0 + b1\", \"source\": \"8\", \"target\": \"6\", \"edge_index\": 0, \"num_edge_siblings\": 1, \"flip_orientation\": true}, {\"id\": \"5\", \"label\": \"(~c0 + c1) * (~d0 + d1)\", \"source\": \"9\", \"target\": \"5\", \"edge_index\": 0, \"num_edge_siblings\": 1, \"flip_orientation\": true}, {\"id\": \"6\", \"label\": \"~c0 + c1\", \"source\": \"10\", \"target\": \"9\", \"edge_index\": 0, \"num_edge_siblings\": 1, \"flip_orientation\": true}, {\"id\": \"7\", \"label\": \"~d0 + d1\", \"source\": \"11\", \"target\": \"9\", \"edge_index\": 0, \"num_edge_siblings\": 1, \"flip_orientation\": true}, {\"id\": \"8\", \"label\": \"~a0\", \"source\": \"0\", \"target\": \"7\", \"edge_index\": 0, \"num_edge_siblings\": 1, \"flip_orientation\": false}, {\"id\": \"9\", \"label\": \"~c0\", \"source\": \"1\", \"target\": \"10\", \"edge_index\": 0, \"num_edge_siblings\": 1, \"flip_orientation\": false}, {\"id\": \"10\", \"label\": \"b1\", \"source\": \"3\", \"target\": \"8\", \"edge_index\": 0, \"num_edge_siblings\": 1, \"flip_orientation\": false}, {\"id\": \"11\", \"label\": \"d1\", \"source\": \"2\", \"target\": \"11\", \"edge_index\": 0, \"num_edge_siblings\": 1, \"flip_orientation\": false}, {\"id\": \"12\", \"label\": \"~a0 + (a1 * ~c0) + c1\", \"source\": \"12\", \"target\": \"0\", \"edge_index\": 0, \"num_edge_siblings\": 1, \"flip_orientation\": true}, {\"id\": \"13\", \"label\": \"~b0 + (b1 * ~d0) + d1\", \"source\": \"13\", \"target\": \"2\", \"edge_index\": 0, \"num_edge_siblings\": 1, \"flip_orientation\": true}], \"arcs\": []}'), 1700, 525.0, 50, 5.0, false);\n",
       "        });\n",
       "        </script>\n",
       "        "
      ],
      "text/plain": [
       "<IPython.core.display.HTML object>"
      ]
     },
     "metadata": {},
     "output_type": "display_data"
    },
    {
     "data": {
      "text/html": [
       "\n",
       "        <div style=\"overflow:auto\" id=\"graph-output-863565001\"></div>\n",
       "        <script type=\"text/javascript\">\n",
       "        require.config({ baseUrl: \"../js\",\n",
       "                         paths: {d3: \"d3.v4.min\"} });\n",
       "        require(['hocc'], function(hocc) {\n",
       "            hocc.showGraph('863565001', '#graph-output-863565001',\n",
       "            JSON.parse('{\"nodes\": [{\"name\": \"0\", \"x\": 700, \"y\": 175.0, \"t\": 2}, {\"name\": \"1\", \"x\": 800, \"y\": 175.0, \"t\": 1}, {\"name\": \"2\", \"x\": 700, \"y\": 375.0, \"t\": 2}, {\"name\": \"3\", \"x\": 800, \"y\": 375.0, \"t\": 1}, {\"name\": \"4\", \"x\": 1650, \"y\": 275.0, \"t\": 0}, {\"name\": \"5\", \"x\": 1200, \"y\": 275.0, \"t\": 2}, {\"name\": \"6\", \"x\": 1000, \"y\": 175.0, \"t\": 1}, {\"name\": \"7\", \"x\": 900, \"y\": 125.0, \"t\": 2}, {\"name\": \"8\", \"x\": 900, \"y\": 225.0, \"t\": 2}, {\"name\": \"9\", \"x\": 1000, \"y\": 375.0, \"t\": 1}, {\"name\": \"10\", \"x\": 900, \"y\": 325.0, \"t\": 2}, {\"name\": \"11\", \"x\": 900, \"y\": 425.0, \"t\": 2}, {\"name\": \"12\", \"x\": 633.3333333333333, \"y\": 208.33333333333331, \"t\": 0}, {\"name\": \"13\", \"x\": 633.3333333333333, \"y\": 341.66666666666663, \"t\": 0}], \"links\": [{\"id\": \"0\", \"label\": \"a1 * ~c0\", \"source\": \"0\", \"target\": \"1\", \"edge_index\": 0, \"num_edge_siblings\": 1, \"flip_orientation\": false}, {\"id\": \"1\", \"label\": \"b1 * ~d0\", \"source\": \"2\", \"target\": \"3\", \"edge_index\": 0, \"num_edge_siblings\": 1, \"flip_orientation\": false}, {\"id\": \"2\", \"label\": \"((~a0 + a1) * (~b0 + b1)) + ((~c0 + c1) * (~d0 + d1))\", \"source\": \"5\", \"target\": \"4\", \"edge_index\": 0, \"num_edge_siblings\": 1, \"flip_orientation\": true}, {\"id\": \"3\", \"label\": \"~a0 + a1\", \"source\": \"7\", \"target\": \"6\", \"edge_index\": 0, \"num_edge_siblings\": 1, \"flip_orientation\": true}, {\"id\": \"4\", \"label\": \"~b0 + b1\", \"source\": \"8\", \"target\": \"6\", \"edge_index\": 0, \"num_edge_siblings\": 1, \"flip_orientation\": true}, {\"id\": \"5\", \"label\": \"(~c0 + c1) * (~d0 + d1)\", \"source\": \"9\", \"target\": \"5\", \"edge_index\": 0, \"num_edge_siblings\": 1, \"flip_orientation\": true}, {\"id\": \"6\", \"label\": \"~c0 + c1\", \"source\": \"10\", \"target\": \"9\", \"edge_index\": 0, \"num_edge_siblings\": 1, \"flip_orientation\": true}, {\"id\": \"7\", \"label\": \"~d0 + d1\", \"source\": \"11\", \"target\": \"9\", \"edge_index\": 0, \"num_edge_siblings\": 1, \"flip_orientation\": true}, {\"id\": \"8\", \"label\": \"~a0\", \"source\": \"0\", \"target\": \"7\", \"edge_index\": 0, \"num_edge_siblings\": 1, \"flip_orientation\": false}, {\"id\": \"9\", \"label\": \"c1\", \"source\": \"0\", \"target\": \"10\", \"edge_index\": 0, \"num_edge_siblings\": 1, \"flip_orientation\": false}, {\"id\": \"10\", \"label\": \"b1\", \"source\": \"3\", \"target\": \"8\", \"edge_index\": 0, \"num_edge_siblings\": 1, \"flip_orientation\": false}, {\"id\": \"11\", \"label\": \"d1\", \"source\": \"2\", \"target\": \"11\", \"edge_index\": 0, \"num_edge_siblings\": 1, \"flip_orientation\": false}, {\"id\": \"12\", \"label\": \"~a0 + (a1 * ~c0) + c1\", \"source\": \"12\", \"target\": \"0\", \"edge_index\": 0, \"num_edge_siblings\": 1, \"flip_orientation\": true}, {\"id\": \"13\", \"label\": \"~b0 + (b1 * ~d0) + d1\", \"source\": \"13\", \"target\": \"2\", \"edge_index\": 0, \"num_edge_siblings\": 1, \"flip_orientation\": true}], \"arcs\": []}'), 1700, 525.0, 50, 5.0, false);\n",
       "        });\n",
       "        </script>\n",
       "        "
      ],
      "text/plain": [
       "<IPython.core.display.HTML object>"
      ]
     },
     "metadata": {},
     "output_type": "display_data"
    },
    {
     "data": {
      "text/html": [
       "\n",
       "        <div style=\"overflow:auto\" id=\"graph-output-862622691\"></div>\n",
       "        <script type=\"text/javascript\">\n",
       "        require.config({ baseUrl: \"../js\",\n",
       "                         paths: {d3: \"d3.v4.min\"} });\n",
       "        require(['hocc'], function(hocc) {\n",
       "            hocc.showGraph('862622691', '#graph-output-862622691',\n",
       "            JSON.parse('{\"nodes\": [{\"name\": \"0\", \"x\": 700, \"y\": 175.0, \"t\": 2}, {\"name\": \"1\", \"x\": 800, \"y\": 175.0, \"t\": 1}, {\"name\": \"2\", \"x\": 700, \"y\": 375.0, \"t\": 2}, {\"name\": \"3\", \"x\": 800, \"y\": 375.0, \"t\": 1}, {\"name\": \"4\", \"x\": 1650, \"y\": 275.0, \"t\": 0}, {\"name\": \"5\", \"x\": 1200, \"y\": 275.0, \"t\": 2}, {\"name\": \"6\", \"x\": 1000, \"y\": 175.0, \"t\": 1}, {\"name\": \"7\", \"x\": 900, \"y\": 125.0, \"t\": 2}, {\"name\": \"8\", \"x\": 900, \"y\": 225.0, \"t\": 2}, {\"name\": \"9\", \"x\": 1000, \"y\": 375.0, \"t\": 1}, {\"name\": \"10\", \"x\": 900, \"y\": 325.0, \"t\": 2}, {\"name\": \"11\", \"x\": 900, \"y\": 425.0, \"t\": 2}, {\"name\": \"12\", \"x\": 633.3333333333333, \"y\": 208.33333333333331, \"t\": 0}, {\"name\": \"13\", \"x\": 633.3333333333333, \"y\": 341.66666666666663, \"t\": 0}], \"links\": [{\"id\": \"0\", \"label\": \"a1 * ~c0\", \"source\": \"0\", \"target\": \"1\", \"edge_index\": 0, \"num_edge_siblings\": 1, \"flip_orientation\": false}, {\"id\": \"1\", \"label\": \"b1 * ~d0\", \"source\": \"2\", \"target\": \"3\", \"edge_index\": 0, \"num_edge_siblings\": 1, \"flip_orientation\": false}, {\"id\": \"2\", \"label\": \"((~a0 + a1) * (~b0 + b1)) + ((~c0 + c1) * (~d0 + d1))\", \"source\": \"5\", \"target\": \"4\", \"edge_index\": 0, \"num_edge_siblings\": 1, \"flip_orientation\": true}, {\"id\": \"3\", \"label\": \"(~a0 + a1) * (~b0 + b1)\", \"source\": \"6\", \"target\": \"5\", \"edge_index\": 0, \"num_edge_siblings\": 1, \"flip_orientation\": true}, {\"id\": \"4\", \"label\": \"~a0 + a1\", \"source\": \"7\", \"target\": \"6\", \"edge_index\": 0, \"num_edge_siblings\": 1, \"flip_orientation\": true}, {\"id\": \"5\", \"label\": \"~b0 + b1\", \"source\": \"8\", \"target\": \"6\", \"edge_index\": 0, \"num_edge_siblings\": 1, \"flip_orientation\": true}, {\"id\": \"6\", \"label\": \"~c0 + c1\", \"source\": \"10\", \"target\": \"9\", \"edge_index\": 0, \"num_edge_siblings\": 1, \"flip_orientation\": true}, {\"id\": \"7\", \"label\": \"~d0 + d1\", \"source\": \"11\", \"target\": \"9\", \"edge_index\": 0, \"num_edge_siblings\": 1, \"flip_orientation\": true}, {\"id\": \"8\", \"label\": \"~a0\", \"source\": \"0\", \"target\": \"7\", \"edge_index\": 0, \"num_edge_siblings\": 1, \"flip_orientation\": false}, {\"id\": \"9\", \"label\": \"~c0\", \"source\": \"1\", \"target\": \"10\", \"edge_index\": 0, \"num_edge_siblings\": 1, \"flip_orientation\": false}, {\"id\": \"10\", \"label\": \"~b0\", \"source\": \"2\", \"target\": \"8\", \"edge_index\": 0, \"num_edge_siblings\": 1, \"flip_orientation\": false}, {\"id\": \"11\", \"label\": \"~d0\", \"source\": \"3\", \"target\": \"11\", \"edge_index\": 0, \"num_edge_siblings\": 1, \"flip_orientation\": false}, {\"id\": \"12\", \"label\": \"~a0 + (a1 * ~c0) + c1\", \"source\": \"12\", \"target\": \"0\", \"edge_index\": 0, \"num_edge_siblings\": 1, \"flip_orientation\": true}, {\"id\": \"13\", \"label\": \"~b0 + (b1 * ~d0) + d1\", \"source\": \"13\", \"target\": \"2\", \"edge_index\": 0, \"num_edge_siblings\": 1, \"flip_orientation\": true}], \"arcs\": []}'), 1700, 525.0, 50, 5.0, false);\n",
       "        });\n",
       "        </script>\n",
       "        "
      ],
      "text/plain": [
       "<IPython.core.display.HTML object>"
      ]
     },
     "metadata": {},
     "output_type": "display_data"
    },
    {
     "data": {
      "text/html": [
       "\n",
       "        <div style=\"overflow:auto\" id=\"graph-output-34259040\"></div>\n",
       "        <script type=\"text/javascript\">\n",
       "        require.config({ baseUrl: \"../js\",\n",
       "                         paths: {d3: \"d3.v4.min\"} });\n",
       "        require(['hocc'], function(hocc) {\n",
       "            hocc.showGraph('34259040', '#graph-output-34259040',\n",
       "            JSON.parse('{\"nodes\": [{\"name\": \"0\", \"x\": 700, \"y\": 175.0, \"t\": 2}, {\"name\": \"1\", \"x\": 800, \"y\": 175.0, \"t\": 1}, {\"name\": \"2\", \"x\": 700, \"y\": 375.0, \"t\": 2}, {\"name\": \"3\", \"x\": 800, \"y\": 375.0, \"t\": 1}, {\"name\": \"4\", \"x\": 1650, \"y\": 275.0, \"t\": 0}, {\"name\": \"5\", \"x\": 1200, \"y\": 275.0, \"t\": 2}, {\"name\": \"6\", \"x\": 1000, \"y\": 175.0, \"t\": 1}, {\"name\": \"7\", \"x\": 900, \"y\": 125.0, \"t\": 2}, {\"name\": \"8\", \"x\": 900, \"y\": 225.0, \"t\": 2}, {\"name\": \"9\", \"x\": 1000, \"y\": 375.0, \"t\": 1}, {\"name\": \"10\", \"x\": 900, \"y\": 325.0, \"t\": 2}, {\"name\": \"11\", \"x\": 900, \"y\": 425.0, \"t\": 2}, {\"name\": \"12\", \"x\": 633.3333333333333, \"y\": 208.33333333333331, \"t\": 0}, {\"name\": \"13\", \"x\": 633.3333333333333, \"y\": 341.66666666666663, \"t\": 0}], \"links\": [{\"id\": \"0\", \"label\": \"a1 * ~c0\", \"source\": \"0\", \"target\": \"1\", \"edge_index\": 0, \"num_edge_siblings\": 1, \"flip_orientation\": false}, {\"id\": \"1\", \"label\": \"b1 * ~d0\", \"source\": \"2\", \"target\": \"3\", \"edge_index\": 0, \"num_edge_siblings\": 1, \"flip_orientation\": false}, {\"id\": \"2\", \"label\": \"((~a0 + a1) * (~b0 + b1)) + ((~c0 + c1) * (~d0 + d1))\", \"source\": \"5\", \"target\": \"4\", \"edge_index\": 0, \"num_edge_siblings\": 1, \"flip_orientation\": true}, {\"id\": \"3\", \"label\": \"(~a0 + a1) * (~b0 + b1)\", \"source\": \"6\", \"target\": \"5\", \"edge_index\": 0, \"num_edge_siblings\": 1, \"flip_orientation\": true}, {\"id\": \"4\", \"label\": \"~a0 + a1\", \"source\": \"7\", \"target\": \"6\", \"edge_index\": 0, \"num_edge_siblings\": 1, \"flip_orientation\": true}, {\"id\": \"5\", \"label\": \"~b0 + b1\", \"source\": \"8\", \"target\": \"6\", \"edge_index\": 0, \"num_edge_siblings\": 1, \"flip_orientation\": true}, {\"id\": \"6\", \"label\": \"~c0 + c1\", \"source\": \"10\", \"target\": \"9\", \"edge_index\": 0, \"num_edge_siblings\": 1, \"flip_orientation\": true}, {\"id\": \"7\", \"label\": \"~d0 + d1\", \"source\": \"11\", \"target\": \"9\", \"edge_index\": 0, \"num_edge_siblings\": 1, \"flip_orientation\": true}, {\"id\": \"8\", \"label\": \"~a0\", \"source\": \"0\", \"target\": \"7\", \"edge_index\": 0, \"num_edge_siblings\": 1, \"flip_orientation\": false}, {\"id\": \"9\", \"label\": \"~c0\", \"source\": \"1\", \"target\": \"10\", \"edge_index\": 0, \"num_edge_siblings\": 1, \"flip_orientation\": false}, {\"id\": \"10\", \"label\": \"~b0\", \"source\": \"2\", \"target\": \"8\", \"edge_index\": 0, \"num_edge_siblings\": 1, \"flip_orientation\": false}, {\"id\": \"11\", \"label\": \"d1\", \"source\": \"2\", \"target\": \"11\", \"edge_index\": 0, \"num_edge_siblings\": 1, \"flip_orientation\": false}, {\"id\": \"12\", \"label\": \"~a0 + (a1 * ~c0) + c1\", \"source\": \"12\", \"target\": \"0\", \"edge_index\": 0, \"num_edge_siblings\": 1, \"flip_orientation\": true}, {\"id\": \"13\", \"label\": \"~b0 + (b1 * ~d0) + d1\", \"source\": \"13\", \"target\": \"2\", \"edge_index\": 0, \"num_edge_siblings\": 1, \"flip_orientation\": true}], \"arcs\": []}'), 1700, 525.0, 50, 5.0, false);\n",
       "        });\n",
       "        </script>\n",
       "        "
      ],
      "text/plain": [
       "<IPython.core.display.HTML object>"
      ]
     },
     "metadata": {},
     "output_type": "display_data"
    },
    {
     "data": {
      "text/html": [
       "\n",
       "        <div style=\"overflow:auto\" id=\"graph-output-893431394\"></div>\n",
       "        <script type=\"text/javascript\">\n",
       "        require.config({ baseUrl: \"../js\",\n",
       "                         paths: {d3: \"d3.v4.min\"} });\n",
       "        require(['hocc'], function(hocc) {\n",
       "            hocc.showGraph('893431394', '#graph-output-893431394',\n",
       "            JSON.parse('{\"nodes\": [{\"name\": \"0\", \"x\": 700, \"y\": 175.0, \"t\": 2}, {\"name\": \"1\", \"x\": 800, \"y\": 175.0, \"t\": 1}, {\"name\": \"2\", \"x\": 700, \"y\": 375.0, \"t\": 2}, {\"name\": \"3\", \"x\": 800, \"y\": 375.0, \"t\": 1}, {\"name\": \"4\", \"x\": 1650, \"y\": 275.0, \"t\": 0}, {\"name\": \"5\", \"x\": 1200, \"y\": 275.0, \"t\": 2}, {\"name\": \"6\", \"x\": 1000, \"y\": 175.0, \"t\": 1}, {\"name\": \"7\", \"x\": 900, \"y\": 125.0, \"t\": 2}, {\"name\": \"8\", \"x\": 900, \"y\": 225.0, \"t\": 2}, {\"name\": \"9\", \"x\": 1000, \"y\": 375.0, \"t\": 1}, {\"name\": \"10\", \"x\": 900, \"y\": 325.0, \"t\": 2}, {\"name\": \"11\", \"x\": 900, \"y\": 425.0, \"t\": 2}, {\"name\": \"12\", \"x\": 633.3333333333333, \"y\": 208.33333333333331, \"t\": 0}, {\"name\": \"13\", \"x\": 633.3333333333333, \"y\": 341.66666666666663, \"t\": 0}], \"links\": [{\"id\": \"0\", \"label\": \"a1 * ~c0\", \"source\": \"0\", \"target\": \"1\", \"edge_index\": 0, \"num_edge_siblings\": 1, \"flip_orientation\": false}, {\"id\": \"1\", \"label\": \"b1 * ~d0\", \"source\": \"2\", \"target\": \"3\", \"edge_index\": 0, \"num_edge_siblings\": 1, \"flip_orientation\": false}, {\"id\": \"2\", \"label\": \"((~a0 + a1) * (~b0 + b1)) + ((~c0 + c1) * (~d0 + d1))\", \"source\": \"5\", \"target\": \"4\", \"edge_index\": 0, \"num_edge_siblings\": 1, \"flip_orientation\": true}, {\"id\": \"3\", \"label\": \"(~a0 + a1) * (~b0 + b1)\", \"source\": \"6\", \"target\": \"5\", \"edge_index\": 0, \"num_edge_siblings\": 1, \"flip_orientation\": true}, {\"id\": \"4\", \"label\": \"~a0 + a1\", \"source\": \"7\", \"target\": \"6\", \"edge_index\": 0, \"num_edge_siblings\": 1, \"flip_orientation\": true}, {\"id\": \"5\", \"label\": \"~b0 + b1\", \"source\": \"8\", \"target\": \"6\", \"edge_index\": 0, \"num_edge_siblings\": 1, \"flip_orientation\": true}, {\"id\": \"6\", \"label\": \"~c0 + c1\", \"source\": \"10\", \"target\": \"9\", \"edge_index\": 0, \"num_edge_siblings\": 1, \"flip_orientation\": true}, {\"id\": \"7\", \"label\": \"~d0 + d1\", \"source\": \"11\", \"target\": \"9\", \"edge_index\": 0, \"num_edge_siblings\": 1, \"flip_orientation\": true}, {\"id\": \"8\", \"label\": \"~a0\", \"source\": \"0\", \"target\": \"7\", \"edge_index\": 0, \"num_edge_siblings\": 1, \"flip_orientation\": false}, {\"id\": \"9\", \"label\": \"c1\", \"source\": \"0\", \"target\": \"10\", \"edge_index\": 0, \"num_edge_siblings\": 1, \"flip_orientation\": false}, {\"id\": \"10\", \"label\": \"~b0\", \"source\": \"2\", \"target\": \"8\", \"edge_index\": 0, \"num_edge_siblings\": 1, \"flip_orientation\": false}, {\"id\": \"11\", \"label\": \"~d0\", \"source\": \"3\", \"target\": \"11\", \"edge_index\": 0, \"num_edge_siblings\": 1, \"flip_orientation\": false}, {\"id\": \"12\", \"label\": \"~a0 + (a1 * ~c0) + c1\", \"source\": \"12\", \"target\": \"0\", \"edge_index\": 0, \"num_edge_siblings\": 1, \"flip_orientation\": true}, {\"id\": \"13\", \"label\": \"~b0 + (b1 * ~d0) + d1\", \"source\": \"13\", \"target\": \"2\", \"edge_index\": 0, \"num_edge_siblings\": 1, \"flip_orientation\": true}], \"arcs\": []}'), 1700, 525.0, 50, 5.0, false);\n",
       "        });\n",
       "        </script>\n",
       "        "
      ],
      "text/plain": [
       "<IPython.core.display.HTML object>"
      ]
     },
     "metadata": {},
     "output_type": "display_data"
    },
    {
     "data": {
      "text/html": [
       "\n",
       "        <div style=\"overflow:auto\" id=\"graph-output-56632991\"></div>\n",
       "        <script type=\"text/javascript\">\n",
       "        require.config({ baseUrl: \"../js\",\n",
       "                         paths: {d3: \"d3.v4.min\"} });\n",
       "        require(['hocc'], function(hocc) {\n",
       "            hocc.showGraph('56632991', '#graph-output-56632991',\n",
       "            JSON.parse('{\"nodes\": [{\"name\": \"0\", \"x\": 700, \"y\": 175.0, \"t\": 2}, {\"name\": \"1\", \"x\": 800, \"y\": 175.0, \"t\": 1}, {\"name\": \"2\", \"x\": 700, \"y\": 375.0, \"t\": 2}, {\"name\": \"3\", \"x\": 800, \"y\": 375.0, \"t\": 1}, {\"name\": \"4\", \"x\": 1650, \"y\": 275.0, \"t\": 0}, {\"name\": \"5\", \"x\": 1200, \"y\": 275.0, \"t\": 2}, {\"name\": \"6\", \"x\": 1000, \"y\": 175.0, \"t\": 1}, {\"name\": \"7\", \"x\": 900, \"y\": 125.0, \"t\": 2}, {\"name\": \"8\", \"x\": 900, \"y\": 225.0, \"t\": 2}, {\"name\": \"9\", \"x\": 1000, \"y\": 375.0, \"t\": 1}, {\"name\": \"10\", \"x\": 900, \"y\": 325.0, \"t\": 2}, {\"name\": \"11\", \"x\": 900, \"y\": 425.0, \"t\": 2}, {\"name\": \"12\", \"x\": 633.3333333333333, \"y\": 208.33333333333331, \"t\": 0}, {\"name\": \"13\", \"x\": 633.3333333333333, \"y\": 341.66666666666663, \"t\": 0}], \"links\": [{\"id\": \"0\", \"label\": \"a1 * ~c0\", \"source\": \"0\", \"target\": \"1\", \"edge_index\": 0, \"num_edge_siblings\": 1, \"flip_orientation\": false}, {\"id\": \"1\", \"label\": \"b1 * ~d0\", \"source\": \"2\", \"target\": \"3\", \"edge_index\": 0, \"num_edge_siblings\": 1, \"flip_orientation\": false}, {\"id\": \"2\", \"label\": \"((~a0 + a1) * (~b0 + b1)) + ((~c0 + c1) * (~d0 + d1))\", \"source\": \"5\", \"target\": \"4\", \"edge_index\": 0, \"num_edge_siblings\": 1, \"flip_orientation\": true}, {\"id\": \"3\", \"label\": \"(~a0 + a1) * (~b0 + b1)\", \"source\": \"6\", \"target\": \"5\", \"edge_index\": 0, \"num_edge_siblings\": 1, \"flip_orientation\": true}, {\"id\": \"4\", \"label\": \"~a0 + a1\", \"source\": \"7\", \"target\": \"6\", \"edge_index\": 0, \"num_edge_siblings\": 1, \"flip_orientation\": true}, {\"id\": \"5\", \"label\": \"~b0 + b1\", \"source\": \"8\", \"target\": \"6\", \"edge_index\": 0, \"num_edge_siblings\": 1, \"flip_orientation\": true}, {\"id\": \"6\", \"label\": \"~c0 + c1\", \"source\": \"10\", \"target\": \"9\", \"edge_index\": 0, \"num_edge_siblings\": 1, \"flip_orientation\": true}, {\"id\": \"7\", \"label\": \"~d0 + d1\", \"source\": \"11\", \"target\": \"9\", \"edge_index\": 0, \"num_edge_siblings\": 1, \"flip_orientation\": true}, {\"id\": \"8\", \"label\": \"~a0\", \"source\": \"0\", \"target\": \"7\", \"edge_index\": 0, \"num_edge_siblings\": 1, \"flip_orientation\": false}, {\"id\": \"9\", \"label\": \"c1\", \"source\": \"0\", \"target\": \"10\", \"edge_index\": 0, \"num_edge_siblings\": 1, \"flip_orientation\": false}, {\"id\": \"10\", \"label\": \"~b0\", \"source\": \"2\", \"target\": \"8\", \"edge_index\": 0, \"num_edge_siblings\": 1, \"flip_orientation\": false}, {\"id\": \"11\", \"label\": \"d1\", \"source\": \"2\", \"target\": \"11\", \"edge_index\": 0, \"num_edge_siblings\": 1, \"flip_orientation\": false}, {\"id\": \"12\", \"label\": \"~a0 + (a1 * ~c0) + c1\", \"source\": \"12\", \"target\": \"0\", \"edge_index\": 0, \"num_edge_siblings\": 1, \"flip_orientation\": true}, {\"id\": \"13\", \"label\": \"~b0 + (b1 * ~d0) + d1\", \"source\": \"13\", \"target\": \"2\", \"edge_index\": 0, \"num_edge_siblings\": 1, \"flip_orientation\": true}], \"arcs\": []}'), 1700, 525.0, 50, 5.0, false);\n",
       "        });\n",
       "        </script>\n",
       "        "
      ],
      "text/plain": [
       "<IPython.core.display.HTML object>"
      ]
     },
     "metadata": {},
     "output_type": "display_data"
    },
    {
     "data": {
      "text/html": [
       "\n",
       "        <div style=\"overflow:auto\" id=\"graph-output-227617592\"></div>\n",
       "        <script type=\"text/javascript\">\n",
       "        require.config({ baseUrl: \"../js\",\n",
       "                         paths: {d3: \"d3.v4.min\"} });\n",
       "        require(['hocc'], function(hocc) {\n",
       "            hocc.showGraph('227617592', '#graph-output-227617592',\n",
       "            JSON.parse('{\"nodes\": [{\"name\": \"0\", \"x\": 700, \"y\": 175.0, \"t\": 2}, {\"name\": \"1\", \"x\": 800, \"y\": 175.0, \"t\": 1}, {\"name\": \"2\", \"x\": 700, \"y\": 375.0, \"t\": 2}, {\"name\": \"3\", \"x\": 800, \"y\": 375.0, \"t\": 1}, {\"name\": \"4\", \"x\": 1650, \"y\": 275.0, \"t\": 0}, {\"name\": \"5\", \"x\": 1200, \"y\": 275.0, \"t\": 2}, {\"name\": \"6\", \"x\": 1000, \"y\": 175.0, \"t\": 1}, {\"name\": \"7\", \"x\": 900, \"y\": 125.0, \"t\": 2}, {\"name\": \"8\", \"x\": 900, \"y\": 225.0, \"t\": 2}, {\"name\": \"9\", \"x\": 1000, \"y\": 375.0, \"t\": 1}, {\"name\": \"10\", \"x\": 900, \"y\": 325.0, \"t\": 2}, {\"name\": \"11\", \"x\": 900, \"y\": 425.0, \"t\": 2}, {\"name\": \"12\", \"x\": 633.3333333333333, \"y\": 208.33333333333331, \"t\": 0}, {\"name\": \"13\", \"x\": 633.3333333333333, \"y\": 341.66666666666663, \"t\": 0}], \"links\": [{\"id\": \"0\", \"label\": \"a1 * ~c0\", \"source\": \"0\", \"target\": \"1\", \"edge_index\": 0, \"num_edge_siblings\": 1, \"flip_orientation\": false}, {\"id\": \"1\", \"label\": \"b1 * ~d0\", \"source\": \"2\", \"target\": \"3\", \"edge_index\": 0, \"num_edge_siblings\": 1, \"flip_orientation\": false}, {\"id\": \"2\", \"label\": \"((~a0 + a1) * (~b0 + b1)) + ((~c0 + c1) * (~d0 + d1))\", \"source\": \"5\", \"target\": \"4\", \"edge_index\": 0, \"num_edge_siblings\": 1, \"flip_orientation\": true}, {\"id\": \"3\", \"label\": \"~a0 + a1\", \"source\": \"7\", \"target\": \"6\", \"edge_index\": 0, \"num_edge_siblings\": 1, \"flip_orientation\": true}, {\"id\": \"4\", \"label\": \"~b0 + b1\", \"source\": \"8\", \"target\": \"6\", \"edge_index\": 0, \"num_edge_siblings\": 1, \"flip_orientation\": true}, {\"id\": \"5\", \"label\": \"(~c0 + c1) * (~d0 + d1)\", \"source\": \"9\", \"target\": \"5\", \"edge_index\": 0, \"num_edge_siblings\": 1, \"flip_orientation\": true}, {\"id\": \"6\", \"label\": \"~c0 + c1\", \"source\": \"10\", \"target\": \"9\", \"edge_index\": 0, \"num_edge_siblings\": 1, \"flip_orientation\": true}, {\"id\": \"7\", \"label\": \"~d0 + d1\", \"source\": \"11\", \"target\": \"9\", \"edge_index\": 0, \"num_edge_siblings\": 1, \"flip_orientation\": true}, {\"id\": \"8\", \"label\": \"~a0\", \"source\": \"0\", \"target\": \"7\", \"edge_index\": 0, \"num_edge_siblings\": 1, \"flip_orientation\": false}, {\"id\": \"9\", \"label\": \"~c0\", \"source\": \"1\", \"target\": \"10\", \"edge_index\": 0, \"num_edge_siblings\": 1, \"flip_orientation\": false}, {\"id\": \"10\", \"label\": \"~b0\", \"source\": \"2\", \"target\": \"8\", \"edge_index\": 0, \"num_edge_siblings\": 1, \"flip_orientation\": false}, {\"id\": \"11\", \"label\": \"~d0\", \"source\": \"3\", \"target\": \"11\", \"edge_index\": 0, \"num_edge_siblings\": 1, \"flip_orientation\": false}, {\"id\": \"12\", \"label\": \"~a0 + (a1 * ~c0) + c1\", \"source\": \"12\", \"target\": \"0\", \"edge_index\": 0, \"num_edge_siblings\": 1, \"flip_orientation\": true}, {\"id\": \"13\", \"label\": \"~b0 + (b1 * ~d0) + d1\", \"source\": \"13\", \"target\": \"2\", \"edge_index\": 0, \"num_edge_siblings\": 1, \"flip_orientation\": true}], \"arcs\": []}'), 1700, 525.0, 50, 5.0, false);\n",
       "        });\n",
       "        </script>\n",
       "        "
      ],
      "text/plain": [
       "<IPython.core.display.HTML object>"
      ]
     },
     "metadata": {},
     "output_type": "display_data"
    },
    {
     "data": {
      "text/html": [
       "\n",
       "        <div style=\"overflow:auto\" id=\"graph-output-385509062\"></div>\n",
       "        <script type=\"text/javascript\">\n",
       "        require.config({ baseUrl: \"../js\",\n",
       "                         paths: {d3: \"d3.v4.min\"} });\n",
       "        require(['hocc'], function(hocc) {\n",
       "            hocc.showGraph('385509062', '#graph-output-385509062',\n",
       "            JSON.parse('{\"nodes\": [{\"name\": \"0\", \"x\": 700, \"y\": 175.0, \"t\": 2}, {\"name\": \"1\", \"x\": 800, \"y\": 175.0, \"t\": 1}, {\"name\": \"2\", \"x\": 700, \"y\": 375.0, \"t\": 2}, {\"name\": \"3\", \"x\": 800, \"y\": 375.0, \"t\": 1}, {\"name\": \"4\", \"x\": 1650, \"y\": 275.0, \"t\": 0}, {\"name\": \"5\", \"x\": 1200, \"y\": 275.0, \"t\": 2}, {\"name\": \"6\", \"x\": 1000, \"y\": 175.0, \"t\": 1}, {\"name\": \"7\", \"x\": 900, \"y\": 125.0, \"t\": 2}, {\"name\": \"8\", \"x\": 900, \"y\": 225.0, \"t\": 2}, {\"name\": \"9\", \"x\": 1000, \"y\": 375.0, \"t\": 1}, {\"name\": \"10\", \"x\": 900, \"y\": 325.0, \"t\": 2}, {\"name\": \"11\", \"x\": 900, \"y\": 425.0, \"t\": 2}, {\"name\": \"12\", \"x\": 633.3333333333333, \"y\": 208.33333333333331, \"t\": 0}, {\"name\": \"13\", \"x\": 633.3333333333333, \"y\": 341.66666666666663, \"t\": 0}], \"links\": [{\"id\": \"0\", \"label\": \"a1 * ~c0\", \"source\": \"0\", \"target\": \"1\", \"edge_index\": 0, \"num_edge_siblings\": 1, \"flip_orientation\": false}, {\"id\": \"1\", \"label\": \"b1 * ~d0\", \"source\": \"2\", \"target\": \"3\", \"edge_index\": 0, \"num_edge_siblings\": 1, \"flip_orientation\": false}, {\"id\": \"2\", \"label\": \"((~a0 + a1) * (~b0 + b1)) + ((~c0 + c1) * (~d0 + d1))\", \"source\": \"5\", \"target\": \"4\", \"edge_index\": 0, \"num_edge_siblings\": 1, \"flip_orientation\": true}, {\"id\": \"3\", \"label\": \"~a0 + a1\", \"source\": \"7\", \"target\": \"6\", \"edge_index\": 0, \"num_edge_siblings\": 1, \"flip_orientation\": true}, {\"id\": \"4\", \"label\": \"~b0 + b1\", \"source\": \"8\", \"target\": \"6\", \"edge_index\": 0, \"num_edge_siblings\": 1, \"flip_orientation\": true}, {\"id\": \"5\", \"label\": \"(~c0 + c1) * (~d0 + d1)\", \"source\": \"9\", \"target\": \"5\", \"edge_index\": 0, \"num_edge_siblings\": 1, \"flip_orientation\": true}, {\"id\": \"6\", \"label\": \"~c0 + c1\", \"source\": \"10\", \"target\": \"9\", \"edge_index\": 0, \"num_edge_siblings\": 1, \"flip_orientation\": true}, {\"id\": \"7\", \"label\": \"~d0 + d1\", \"source\": \"11\", \"target\": \"9\", \"edge_index\": 0, \"num_edge_siblings\": 1, \"flip_orientation\": true}, {\"id\": \"8\", \"label\": \"~a0\", \"source\": \"0\", \"target\": \"7\", \"edge_index\": 0, \"num_edge_siblings\": 1, \"flip_orientation\": false}, {\"id\": \"9\", \"label\": \"~c0\", \"source\": \"1\", \"target\": \"10\", \"edge_index\": 0, \"num_edge_siblings\": 1, \"flip_orientation\": false}, {\"id\": \"10\", \"label\": \"~b0\", \"source\": \"2\", \"target\": \"8\", \"edge_index\": 0, \"num_edge_siblings\": 1, \"flip_orientation\": false}, {\"id\": \"11\", \"label\": \"d1\", \"source\": \"2\", \"target\": \"11\", \"edge_index\": 0, \"num_edge_siblings\": 1, \"flip_orientation\": false}, {\"id\": \"12\", \"label\": \"~a0 + (a1 * ~c0) + c1\", \"source\": \"12\", \"target\": \"0\", \"edge_index\": 0, \"num_edge_siblings\": 1, \"flip_orientation\": true}, {\"id\": \"13\", \"label\": \"~b0 + (b1 * ~d0) + d1\", \"source\": \"13\", \"target\": \"2\", \"edge_index\": 0, \"num_edge_siblings\": 1, \"flip_orientation\": true}], \"arcs\": []}'), 1700, 525.0, 50, 5.0, false);\n",
       "        });\n",
       "        </script>\n",
       "        "
      ],
      "text/plain": [
       "<IPython.core.display.HTML object>"
      ]
     },
     "metadata": {},
     "output_type": "display_data"
    },
    {
     "data": {
      "text/html": [
       "\n",
       "        <div style=\"overflow:auto\" id=\"graph-output-347810851\"></div>\n",
       "        <script type=\"text/javascript\">\n",
       "        require.config({ baseUrl: \"../js\",\n",
       "                         paths: {d3: \"d3.v4.min\"} });\n",
       "        require(['hocc'], function(hocc) {\n",
       "            hocc.showGraph('347810851', '#graph-output-347810851',\n",
       "            JSON.parse('{\"nodes\": [{\"name\": \"0\", \"x\": 700, \"y\": 175.0, \"t\": 2}, {\"name\": \"1\", \"x\": 800, \"y\": 175.0, \"t\": 1}, {\"name\": \"2\", \"x\": 700, \"y\": 375.0, \"t\": 2}, {\"name\": \"3\", \"x\": 800, \"y\": 375.0, \"t\": 1}, {\"name\": \"4\", \"x\": 1650, \"y\": 275.0, \"t\": 0}, {\"name\": \"5\", \"x\": 1200, \"y\": 275.0, \"t\": 2}, {\"name\": \"6\", \"x\": 1000, \"y\": 175.0, \"t\": 1}, {\"name\": \"7\", \"x\": 900, \"y\": 125.0, \"t\": 2}, {\"name\": \"8\", \"x\": 900, \"y\": 225.0, \"t\": 2}, {\"name\": \"9\", \"x\": 1000, \"y\": 375.0, \"t\": 1}, {\"name\": \"10\", \"x\": 900, \"y\": 325.0, \"t\": 2}, {\"name\": \"11\", \"x\": 900, \"y\": 425.0, \"t\": 2}, {\"name\": \"12\", \"x\": 633.3333333333333, \"y\": 208.33333333333331, \"t\": 0}, {\"name\": \"13\", \"x\": 633.3333333333333, \"y\": 341.66666666666663, \"t\": 0}], \"links\": [{\"id\": \"0\", \"label\": \"a1 * ~c0\", \"source\": \"0\", \"target\": \"1\", \"edge_index\": 0, \"num_edge_siblings\": 1, \"flip_orientation\": false}, {\"id\": \"1\", \"label\": \"b1 * ~d0\", \"source\": \"2\", \"target\": \"3\", \"edge_index\": 0, \"num_edge_siblings\": 1, \"flip_orientation\": false}, {\"id\": \"2\", \"label\": \"((~a0 + a1) * (~b0 + b1)) + ((~c0 + c1) * (~d0 + d1))\", \"source\": \"5\", \"target\": \"4\", \"edge_index\": 0, \"num_edge_siblings\": 1, \"flip_orientation\": true}, {\"id\": \"3\", \"label\": \"~a0 + a1\", \"source\": \"7\", \"target\": \"6\", \"edge_index\": 0, \"num_edge_siblings\": 1, \"flip_orientation\": true}, {\"id\": \"4\", \"label\": \"~b0 + b1\", \"source\": \"8\", \"target\": \"6\", \"edge_index\": 0, \"num_edge_siblings\": 1, \"flip_orientation\": true}, {\"id\": \"5\", \"label\": \"(~c0 + c1) * (~d0 + d1)\", \"source\": \"9\", \"target\": \"5\", \"edge_index\": 0, \"num_edge_siblings\": 1, \"flip_orientation\": true}, {\"id\": \"6\", \"label\": \"~c0 + c1\", \"source\": \"10\", \"target\": \"9\", \"edge_index\": 0, \"num_edge_siblings\": 1, \"flip_orientation\": true}, {\"id\": \"7\", \"label\": \"~d0 + d1\", \"source\": \"11\", \"target\": \"9\", \"edge_index\": 0, \"num_edge_siblings\": 1, \"flip_orientation\": true}, {\"id\": \"8\", \"label\": \"~a0\", \"source\": \"0\", \"target\": \"7\", \"edge_index\": 0, \"num_edge_siblings\": 1, \"flip_orientation\": false}, {\"id\": \"9\", \"label\": \"c1\", \"source\": \"0\", \"target\": \"10\", \"edge_index\": 0, \"num_edge_siblings\": 1, \"flip_orientation\": false}, {\"id\": \"10\", \"label\": \"~b0\", \"source\": \"2\", \"target\": \"8\", \"edge_index\": 0, \"num_edge_siblings\": 1, \"flip_orientation\": false}, {\"id\": \"11\", \"label\": \"~d0\", \"source\": \"3\", \"target\": \"11\", \"edge_index\": 0, \"num_edge_siblings\": 1, \"flip_orientation\": false}, {\"id\": \"12\", \"label\": \"~a0 + (a1 * ~c0) + c1\", \"source\": \"12\", \"target\": \"0\", \"edge_index\": 0, \"num_edge_siblings\": 1, \"flip_orientation\": true}, {\"id\": \"13\", \"label\": \"~b0 + (b1 * ~d0) + d1\", \"source\": \"13\", \"target\": \"2\", \"edge_index\": 0, \"num_edge_siblings\": 1, \"flip_orientation\": true}], \"arcs\": []}'), 1700, 525.0, 50, 5.0, false);\n",
       "        });\n",
       "        </script>\n",
       "        "
      ],
      "text/plain": [
       "<IPython.core.display.HTML object>"
      ]
     },
     "metadata": {},
     "output_type": "display_data"
    },
    {
     "data": {
      "text/html": [
       "\n",
       "        <div style=\"overflow:auto\" id=\"graph-output-586211075\"></div>\n",
       "        <script type=\"text/javascript\">\n",
       "        require.config({ baseUrl: \"../js\",\n",
       "                         paths: {d3: \"d3.v4.min\"} });\n",
       "        require(['hocc'], function(hocc) {\n",
       "            hocc.showGraph('586211075', '#graph-output-586211075',\n",
       "            JSON.parse('{\"nodes\": [{\"name\": \"0\", \"x\": 700, \"y\": 175.0, \"t\": 2}, {\"name\": \"1\", \"x\": 800, \"y\": 175.0, \"t\": 1}, {\"name\": \"2\", \"x\": 700, \"y\": 375.0, \"t\": 2}, {\"name\": \"3\", \"x\": 800, \"y\": 375.0, \"t\": 1}, {\"name\": \"4\", \"x\": 1650, \"y\": 275.0, \"t\": 0}, {\"name\": \"5\", \"x\": 1200, \"y\": 275.0, \"t\": 2}, {\"name\": \"6\", \"x\": 1000, \"y\": 175.0, \"t\": 1}, {\"name\": \"7\", \"x\": 900, \"y\": 125.0, \"t\": 2}, {\"name\": \"8\", \"x\": 900, \"y\": 225.0, \"t\": 2}, {\"name\": \"9\", \"x\": 1000, \"y\": 375.0, \"t\": 1}, {\"name\": \"10\", \"x\": 900, \"y\": 325.0, \"t\": 2}, {\"name\": \"11\", \"x\": 900, \"y\": 425.0, \"t\": 2}, {\"name\": \"12\", \"x\": 633.3333333333333, \"y\": 208.33333333333331, \"t\": 0}, {\"name\": \"13\", \"x\": 633.3333333333333, \"y\": 341.66666666666663, \"t\": 0}], \"links\": [{\"id\": \"0\", \"label\": \"a1 * ~c0\", \"source\": \"0\", \"target\": \"1\", \"edge_index\": 0, \"num_edge_siblings\": 1, \"flip_orientation\": false}, {\"id\": \"1\", \"label\": \"b1 * ~d0\", \"source\": \"2\", \"target\": \"3\", \"edge_index\": 0, \"num_edge_siblings\": 1, \"flip_orientation\": false}, {\"id\": \"2\", \"label\": \"((~a0 + a1) * (~b0 + b1)) + ((~c0 + c1) * (~d0 + d1))\", \"source\": \"5\", \"target\": \"4\", \"edge_index\": 0, \"num_edge_siblings\": 1, \"flip_orientation\": true}, {\"id\": \"3\", \"label\": \"~a0 + a1\", \"source\": \"7\", \"target\": \"6\", \"edge_index\": 0, \"num_edge_siblings\": 1, \"flip_orientation\": true}, {\"id\": \"4\", \"label\": \"~b0 + b1\", \"source\": \"8\", \"target\": \"6\", \"edge_index\": 0, \"num_edge_siblings\": 1, \"flip_orientation\": true}, {\"id\": \"5\", \"label\": \"(~c0 + c1) * (~d0 + d1)\", \"source\": \"9\", \"target\": \"5\", \"edge_index\": 0, \"num_edge_siblings\": 1, \"flip_orientation\": true}, {\"id\": \"6\", \"label\": \"~c0 + c1\", \"source\": \"10\", \"target\": \"9\", \"edge_index\": 0, \"num_edge_siblings\": 1, \"flip_orientation\": true}, {\"id\": \"7\", \"label\": \"~d0 + d1\", \"source\": \"11\", \"target\": \"9\", \"edge_index\": 0, \"num_edge_siblings\": 1, \"flip_orientation\": true}, {\"id\": \"8\", \"label\": \"~a0\", \"source\": \"0\", \"target\": \"7\", \"edge_index\": 0, \"num_edge_siblings\": 1, \"flip_orientation\": false}, {\"id\": \"9\", \"label\": \"c1\", \"source\": \"0\", \"target\": \"10\", \"edge_index\": 0, \"num_edge_siblings\": 1, \"flip_orientation\": false}, {\"id\": \"10\", \"label\": \"~b0\", \"source\": \"2\", \"target\": \"8\", \"edge_index\": 0, \"num_edge_siblings\": 1, \"flip_orientation\": false}, {\"id\": \"11\", \"label\": \"d1\", \"source\": \"2\", \"target\": \"11\", \"edge_index\": 0, \"num_edge_siblings\": 1, \"flip_orientation\": false}, {\"id\": \"12\", \"label\": \"~a0 + (a1 * ~c0) + c1\", \"source\": \"12\", \"target\": \"0\", \"edge_index\": 0, \"num_edge_siblings\": 1, \"flip_orientation\": true}, {\"id\": \"13\", \"label\": \"~b0 + (b1 * ~d0) + d1\", \"source\": \"13\", \"target\": \"2\", \"edge_index\": 0, \"num_edge_siblings\": 1, \"flip_orientation\": true}], \"arcs\": []}'), 1700, 525.0, 50, 5.0, false);\n",
       "        });\n",
       "        </script>\n",
       "        "
      ],
      "text/plain": [
       "<IPython.core.display.HTML object>"
      ]
     },
     "metadata": {},
     "output_type": "display_data"
    }
   ],
   "source": [
    "for s in sw1: pn.draw(s)"
   ]
  },
  {
   "cell_type": "code",
   "execution_count": 31,
   "metadata": {},
   "outputs": [
    {
     "data": {
      "text/html": [
       "\n",
       "        <div style=\"overflow:auto\" id=\"graph-output-961389846\"></div>\n",
       "        <script type=\"text/javascript\">\n",
       "        require.config({ baseUrl: \"../js\",\n",
       "                         paths: {d3: \"d3.v4.min\"} });\n",
       "        require(['hocc'], function(hocc) {\n",
       "            hocc.showGraph('961389846', '#graph-output-961389846',\n",
       "            JSON.parse('{\"nodes\": [{\"name\": \"0\", \"x\": 650, \"y\": 225.0, \"t\": 0}, {\"name\": \"1\", \"x\": 350, \"y\": 225.0, \"t\": 2}, {\"name\": \"2\", \"x\": 200, \"y\": 150.0, \"t\": 1}, {\"name\": \"4\", \"x\": 200, \"y\": 300.0, \"t\": 1}, {\"name\": \"5\", \"x\": 50, \"y\": 250.0, \"t\": 3}, {\"name\": \"6\", \"x\": 100, \"y\": 325.0, \"t\": 2}, {\"name\": \"7\", \"x\": 50, \"y\": 300.0, \"t\": 3}, {\"name\": \"8\", \"x\": 50, \"y\": 350.0, \"t\": 3}], \"links\": [{\"id\": \"0\", \"label\": \"(~a0 * b0 * ~b1) + (a0 * (~b0 + b1))\", \"source\": \"1\", \"target\": \"0\", \"edge_index\": 0, \"num_edge_siblings\": 1, \"flip_orientation\": true}, {\"id\": \"1\", \"label\": \"~a0 * b0 * ~b1\", \"source\": \"2\", \"target\": \"1\", \"edge_index\": 0, \"num_edge_siblings\": 1, \"flip_orientation\": true}, {\"id\": \"3\", \"label\": \"a0 * (~b0 + b1)\", \"source\": \"4\", \"target\": \"1\", \"edge_index\": 0, \"num_edge_siblings\": 1, \"flip_orientation\": true}, {\"id\": \"4\", \"label\": \"a0\", \"source\": \"5\", \"target\": \"4\", \"edge_index\": 0, \"num_edge_siblings\": 1, \"flip_orientation\": true}, {\"id\": \"5\", \"label\": \"~b0 + b1\", \"source\": \"6\", \"target\": \"4\", \"edge_index\": 0, \"num_edge_siblings\": 1, \"flip_orientation\": true}, {\"id\": \"6\", \"label\": \"~b0\", \"source\": \"7\", \"target\": \"6\", \"edge_index\": 0, \"num_edge_siblings\": 1, \"flip_orientation\": true}, {\"id\": \"7\", \"label\": \"b1\", \"source\": \"8\", \"target\": \"6\", \"edge_index\": 0, \"num_edge_siblings\": 1, \"flip_orientation\": true}, {\"id\": \"8\", \"label\": \"~a0\", \"source\": \"5\", \"target\": \"2\", \"edge_index\": 0, \"num_edge_siblings\": 1, \"flip_orientation\": true}, {\"id\": \"9\", \"label\": \"b0\", \"source\": \"7\", \"target\": \"2\", \"edge_index\": 0, \"num_edge_siblings\": 1, \"flip_orientation\": true}, {\"id\": \"10\", \"label\": \"~b1\", \"source\": \"8\", \"target\": \"2\", \"edge_index\": 0, \"num_edge_siblings\": 1, \"flip_orientation\": true}], \"arcs\": [{\"source\": \"1\", \"target\": \"3\", \"at_v\": \"1\"}, {\"source\": \"6\", \"target\": \"7\", \"at_v\": \"6\"}]}'), 700, 450.0, 50, 5.0, false);\n",
       "        });\n",
       "        </script>\n",
       "        "
      ],
      "text/plain": [
       "<IPython.core.display.HTML object>"
      ]
     },
     "metadata": {},
     "output_type": "display_data"
    }
   ],
   "source": [
    "g = pn.prove(pn.I,\n",
    "    (a0 + (b0 >> b1))\n",
    "  >>\n",
    "    (a0 * (b0 >> b1))\n",
    "  , checker=lambda x: True\n",
    ")\n",
    "pn.draw(g)"
   ]
  },
  {
   "cell_type": "code",
   "execution_count": 32,
   "metadata": {},
   "outputs": [
    {
     "data": {
      "text/plain": [
       "(4, 4)"
      ]
     },
     "execution_count": 32,
     "metadata": {},
     "output_type": "execute_result"
    }
   ],
   "source": [
    "sw = pn.proofnet.switchings(g)\n",
    "sw1 = [s for s in sw if not s.is_acyclic()]\n",
    "len(sw), len(sw1)"
   ]
  },
  {
   "cell_type": "code",
   "execution_count": 33,
   "metadata": {},
   "outputs": [
    {
     "data": {
      "text/html": [
       "\n",
       "        <div style=\"overflow:auto\" id=\"graph-output-690545062\"></div>\n",
       "        <script type=\"text/javascript\">\n",
       "        require.config({ baseUrl: \"../js\",\n",
       "                         paths: {d3: \"d3.v4.min\"} });\n",
       "        require(['hocc'], function(hocc) {\n",
       "            hocc.showGraph('690545062', '#graph-output-690545062',\n",
       "            JSON.parse('{\"nodes\": [{\"name\": \"0\", \"x\": 650, \"y\": 225.0, \"t\": 0}, {\"name\": \"1\", \"x\": 350, \"y\": 225.0, \"t\": 2}, {\"name\": \"2\", \"x\": 200, \"y\": 150.0, \"t\": 1}, {\"name\": \"3\", \"x\": 200, \"y\": 300.0, \"t\": 1}, {\"name\": \"4\", \"x\": 50, \"y\": 250.0, \"t\": 3}, {\"name\": \"5\", \"x\": 100, \"y\": 325.0, \"t\": 2}, {\"name\": \"6\", \"x\": 50, \"y\": 300.0, \"t\": 3}, {\"name\": \"7\", \"x\": 50, \"y\": 350.0, \"t\": 3}], \"links\": [{\"id\": \"0\", \"label\": \"(~a0 * b0 * ~b1) + (a0 * (~b0 + b1))\", \"source\": \"1\", \"target\": \"0\", \"edge_index\": 0, \"num_edge_siblings\": 1, \"flip_orientation\": true}, {\"id\": \"1\", \"label\": \"~a0 * b0 * ~b1\", \"source\": \"2\", \"target\": \"1\", \"edge_index\": 0, \"num_edge_siblings\": 1, \"flip_orientation\": true}, {\"id\": \"2\", \"label\": \"a0\", \"source\": \"4\", \"target\": \"3\", \"edge_index\": 0, \"num_edge_siblings\": 1, \"flip_orientation\": true}, {\"id\": \"3\", \"label\": \"~b0 + b1\", \"source\": \"5\", \"target\": \"3\", \"edge_index\": 0, \"num_edge_siblings\": 1, \"flip_orientation\": true}, {\"id\": \"4\", \"label\": \"~b0\", \"source\": \"6\", \"target\": \"5\", \"edge_index\": 0, \"num_edge_siblings\": 1, \"flip_orientation\": true}, {\"id\": \"5\", \"label\": \"~a0\", \"source\": \"4\", \"target\": \"2\", \"edge_index\": 0, \"num_edge_siblings\": 1, \"flip_orientation\": true}, {\"id\": \"6\", \"label\": \"b0\", \"source\": \"6\", \"target\": \"2\", \"edge_index\": 0, \"num_edge_siblings\": 1, \"flip_orientation\": true}, {\"id\": \"7\", \"label\": \"~b1\", \"source\": \"7\", \"target\": \"2\", \"edge_index\": 0, \"num_edge_siblings\": 1, \"flip_orientation\": true}], \"arcs\": []}'), 700, 450.0, 50, 5.0, false);\n",
       "        });\n",
       "        </script>\n",
       "        "
      ],
      "text/plain": [
       "<IPython.core.display.HTML object>"
      ]
     },
     "metadata": {},
     "output_type": "display_data"
    }
   ],
   "source": [
    "pn.draw(sw[0])"
   ]
  },
  {
   "cell_type": "code",
   "execution_count": null,
   "metadata": {},
   "outputs": [],
   "source": []
  }
 ],
 "metadata": {
  "kernelspec": {
   "display_name": "Python 3",
   "language": "python",
   "name": "python3"
  },
  "language_info": {
   "codemirror_mode": {
    "name": "ipython",
    "version": 3
   },
   "file_extension": ".py",
   "mimetype": "text/x-python",
   "name": "python",
   "nbconvert_exporter": "python",
   "pygments_lexer": "ipython3",
   "version": "3.7.5"
  }
 },
 "nbformat": 4,
 "nbformat_minor": 2
}
