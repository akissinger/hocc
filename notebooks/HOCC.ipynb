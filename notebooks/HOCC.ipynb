{
 "cells": [
  {
   "cell_type": "code",
   "execution_count": 1,
   "metadata": {},
   "outputs": [],
   "source": [
    "import sys\n",
    "import math\n",
    "import itertools\n",
    "sys.path.append('..')\n",
    "import pypn as pn\n",
    "from pypn.variables import *"
   ]
  },
  {
   "cell_type": "code",
   "execution_count": 2,
   "metadata": {},
   "outputs": [],
   "source": [
    "# def fo(X0, X1): return (X0 + X1) >> (X0 * X1)\n",
    "def ns(X0, X1, Y0, Y1): return (X0 >> X1) * (Y0 >> Y1)\n",
    "def fs(X0, X1, Y0, Y1, Z0=None):\n",
    "    if not Z0:\n",
    "        return X0 >> ((X1 >> Y0) >> Y1)\n",
    "    else:\n",
    "        return (X0 >> X1 * Z0) * (Z0 * Y0 >> Y1)\n",
    "def fs1(X0,X1,Y0,Y1): return X0 >> (X1 * (Y0 >> Y1))"
   ]
  },
  {
   "cell_type": "code",
   "execution_count": 3,
   "metadata": {},
   "outputs": [
    {
     "data": {
      "text/plain": [
       "(Expr(~a0 + (a1 * ~b0) + b1), Expr(~a0 + (a1 * (~b0 + b1))))"
      ]
     },
     "execution_count": 3,
     "metadata": {},
     "output_type": "execute_result"
    }
   ],
   "source": [
    "fs(a0,a1,b0,b1), a0 >> (a1 * (b0 >> b1))"
   ]
  },
  {
   "cell_type": "code",
   "execution_count": 4,
   "metadata": {},
   "outputs": [
    {
     "data": {
      "text/html": [
       "\n",
       "        <div style=\"overflow:auto\" id=\"graph-output-384669852\"></div>\n",
       "        <script type=\"text/javascript\">\n",
       "        require.config({ baseUrl: \"../js\",\n",
       "                         paths: {d3: \"d3.v4.min\"} });\n",
       "        require(['hocc'], function(hocc) {\n",
       "            hocc.showGraph('384669852', '#graph-output-384669852',\n",
       "            JSON.parse('{\"nodes\": [{\"name\": \"0\", \"x\": 50, \"y\": 150.0, \"t\": 0}, {\"name\": \"1\", \"x\": 200, \"y\": 150.0, \"t\": 2}, {\"name\": \"2\", \"x\": 300, \"y\": 175.0, \"t\": 1}, {\"name\": \"4\", \"x\": 650, \"y\": 150.0, \"t\": 0}, {\"name\": \"5\", \"x\": 500, \"y\": 150.0, \"t\": 1}, {\"name\": \"6\", \"x\": 400, \"y\": 125.0, \"t\": 2}], \"links\": [{\"id\": \"0\", \"label\": \"a0 + (X0 * b0)\", \"source\": \"0\", \"target\": \"1\", \"edge_index\": 0, \"num_edge_siblings\": 1, \"flip_orientation\": false}, {\"id\": \"1\", \"label\": \"X0 * b0\", \"source\": \"1\", \"target\": \"2\", \"edge_index\": 0, \"num_edge_siblings\": 1, \"flip_orientation\": false}, {\"id\": \"3\", \"label\": \"(a0 + X0) * b0\", \"source\": \"5\", \"target\": \"4\", \"edge_index\": 0, \"num_edge_siblings\": 1, \"flip_orientation\": true}, {\"id\": \"4\", \"label\": \"a0 + X0\", \"source\": \"6\", \"target\": \"5\", \"edge_index\": 0, \"num_edge_siblings\": 1, \"flip_orientation\": true}, {\"id\": \"6\", \"label\": \"a0\", \"source\": \"1\", \"target\": \"6\", \"edge_index\": 0, \"num_edge_siblings\": 1, \"flip_orientation\": false}, {\"id\": \"7\", \"label\": \"X0\", \"source\": \"2\", \"target\": \"6\", \"edge_index\": 0, \"num_edge_siblings\": 1, \"flip_orientation\": false}, {\"id\": \"8\", \"label\": \"b0\", \"source\": \"2\", \"target\": \"5\", \"edge_index\": 0, \"num_edge_siblings\": 1, \"flip_orientation\": false}], \"arcs\": [{\"source\": \"6\", \"target\": \"7\", \"at_v\": \"6\"}, {\"source\": \"7\", \"target\": \"8\", \"at_v\": \"2\"}]}'), 700, 275.0, 50, 5.0, false);\n",
       "        });\n",
       "        </script>\n",
       "        "
      ],
      "text/plain": [
       "<IPython.core.display.HTML object>"
      ]
     },
     "metadata": {},
     "output_type": "display_data"
    }
   ],
   "source": [
    "g = pn.prove(\n",
    "      a0 + (X0 * b0), (a0 + X0) * b0\n",
    "    , checker=lambda x: True\n",
    "            )\n",
    "pn.draw(g)"
   ]
  },
  {
   "cell_type": "code",
   "execution_count": 5,
   "metadata": {},
   "outputs": [
    {
     "data": {
      "text/html": [
       "\n",
       "        <div style=\"overflow:auto\" id=\"graph-output-742263244\"></div>\n",
       "        <script type=\"text/javascript\">\n",
       "        require.config({ baseUrl: \"../js\",\n",
       "                         paths: {d3: \"d3.v4.min\"} });\n",
       "        require(['hocc'], function(hocc) {\n",
       "            hocc.showGraph('742263244', '#graph-output-742263244',\n",
       "            JSON.parse('{\"nodes\": [{\"name\": \"0\", \"x\": 50, \"y\": 150.0, \"t\": 0}, {\"name\": \"1\", \"x\": 200, \"y\": 150.0, \"t\": 2}, {\"name\": \"2\", \"x\": 300, \"y\": 175.0, \"t\": 1}, {\"name\": \"4\", \"x\": 650, \"y\": 150.0, \"t\": 0}, {\"name\": \"5\", \"x\": 500, \"y\": 150.0, \"t\": 1}, {\"name\": \"6\", \"x\": 400, \"y\": 125.0, \"t\": 2}], \"links\": [{\"id\": \"0\", \"label\": \"a0 + (X0 * b0)\", \"source\": \"0\", \"target\": \"1\", \"edge_index\": 0, \"num_edge_siblings\": 1, \"flip_orientation\": false}, {\"id\": \"1\", \"label\": \"X0 * b0\", \"source\": \"1\", \"target\": \"2\", \"edge_index\": 0, \"num_edge_siblings\": 1, \"flip_orientation\": false}, {\"id\": \"3\", \"label\": \"(a0 + X0) * b0\", \"source\": \"5\", \"target\": \"4\", \"edge_index\": 0, \"num_edge_siblings\": 1, \"flip_orientation\": true}, {\"id\": \"4\", \"label\": \"a0 + X0\", \"source\": \"6\", \"target\": \"5\", \"edge_index\": 0, \"num_edge_siblings\": 1, \"flip_orientation\": true}, {\"id\": \"6\", \"label\": \"a0\", \"source\": \"1\", \"target\": \"6\", \"edge_index\": 0, \"num_edge_siblings\": 1, \"flip_orientation\": false}, {\"id\": \"7\", \"label\": \"X0\", \"source\": \"2\", \"target\": \"6\", \"edge_index\": 0, \"num_edge_siblings\": 1, \"flip_orientation\": false}, {\"id\": \"8\", \"label\": \"b0\", \"source\": \"2\", \"target\": \"5\", \"edge_index\": 0, \"num_edge_siblings\": 1, \"flip_orientation\": false}], \"arcs\": [{\"source\": \"6\", \"target\": \"7\", \"at_v\": \"6\"}, {\"source\": \"7\", \"target\": \"8\", \"at_v\": \"2\"}]}'), 700, 275.0, 50, 5.0, false);\n",
       "        });\n",
       "        </script>\n",
       "        "
      ],
      "text/plain": [
       "<IPython.core.display.HTML object>"
      ]
     },
     "metadata": {},
     "output_type": "display_data"
    }
   ],
   "source": [
    "g1 = pn.proofnet.cut_root(g)\n",
    "if g1: g = g1\n",
    "pn.draw(g)"
   ]
  },
  {
   "cell_type": "code",
   "execution_count": null,
   "metadata": {},
   "outputs": [],
   "source": []
  },
  {
   "cell_type": "code",
   "execution_count": 6,
   "metadata": {},
   "outputs": [
    {
     "name": "stdout",
     "output_type": "stream",
     "text": [
      "a0 * a1 |- a0 * a1: SUCCESS\n"
     ]
    },
    {
     "data": {
      "text/html": [
       "\n",
       "        <div style=\"overflow:auto\" id=\"graph-output-179020591\"></div>\n",
       "        <script type=\"text/javascript\">\n",
       "        require.config({ baseUrl: \"../js\",\n",
       "                         paths: {d3: \"d3.v4.min\"} });\n",
       "        require(['hocc'], function(hocc) {\n",
       "            hocc.showGraph('179020591', '#graph-output-179020591',\n",
       "            JSON.parse('{\"nodes\": [{\"name\": \"0\", \"x\": 50, \"y\": 125.0, \"t\": 0}, {\"name\": \"1\", \"x\": 150, \"y\": 125.0, \"t\": 1}, {\"name\": \"3\", \"x\": 350, \"y\": 125.0, \"t\": 0}, {\"name\": \"4\", \"x\": 250, \"y\": 125.0, \"t\": 1}], \"links\": [{\"id\": \"0\", \"label\": \"a0 * a1\", \"source\": \"0\", \"target\": \"1\", \"edge_index\": 0, \"num_edge_siblings\": 1, \"flip_orientation\": false}, {\"id\": \"2\", \"label\": \"a0 * a1\", \"source\": \"4\", \"target\": \"3\", \"edge_index\": 0, \"num_edge_siblings\": 1, \"flip_orientation\": true}, {\"id\": \"4\", \"label\": \"a0\", \"source\": \"1\", \"target\": \"4\", \"edge_index\": 0, \"num_edge_siblings\": 2, \"flip_orientation\": false}, {\"id\": \"5\", \"label\": \"a1\", \"source\": \"1\", \"target\": \"4\", \"edge_index\": 1, \"num_edge_siblings\": 2, \"flip_orientation\": false}], \"arcs\": [{\"source\": \"4\", \"target\": \"5\", \"at_v\": \"1\"}]}'), 400, 225.0, 50, 5.0, true);\n",
       "        });\n",
       "        </script>\n",
       "        "
      ],
      "text/plain": [
       "<IPython.core.display.HTML object>"
      ]
     },
     "metadata": {},
     "output_type": "display_data"
    },
    {
     "name": "stdout",
     "output_type": "stream",
     "text": [
      "a0 * a1 |- a0 + a1: SUCCESS\n"
     ]
    },
    {
     "data": {
      "text/html": [
       "\n",
       "        <div style=\"overflow:auto\" id=\"graph-output-649530426\"></div>\n",
       "        <script type=\"text/javascript\">\n",
       "        require.config({ baseUrl: \"../js\",\n",
       "                         paths: {d3: \"d3.v4.min\"} });\n",
       "        require(['hocc'], function(hocc) {\n",
       "            hocc.showGraph('649530426', '#graph-output-649530426',\n",
       "            JSON.parse('{\"nodes\": [{\"name\": \"0\", \"x\": 50, \"y\": 125.0, \"t\": 0}, {\"name\": \"1\", \"x\": 150, \"y\": 125.0, \"t\": 1}, {\"name\": \"3\", \"x\": 350, \"y\": 125.0, \"t\": 0}, {\"name\": \"4\", \"x\": 250, \"y\": 125.0, \"t\": 2}], \"links\": [{\"id\": \"0\", \"label\": \"a0 * a1\", \"source\": \"0\", \"target\": \"1\", \"edge_index\": 0, \"num_edge_siblings\": 1, \"flip_orientation\": false}, {\"id\": \"2\", \"label\": \"a0 + a1\", \"source\": \"4\", \"target\": \"3\", \"edge_index\": 0, \"num_edge_siblings\": 1, \"flip_orientation\": true}, {\"id\": \"4\", \"label\": \"a0\", \"source\": \"1\", \"target\": \"4\", \"edge_index\": 0, \"num_edge_siblings\": 2, \"flip_orientation\": false}, {\"id\": \"5\", \"label\": \"a1\", \"source\": \"1\", \"target\": \"4\", \"edge_index\": 1, \"num_edge_siblings\": 2, \"flip_orientation\": false}], \"arcs\": [{\"source\": \"4\", \"target\": \"5\", \"at_v\": \"1\"}, {\"source\": \"4\", \"target\": \"5\", \"at_v\": \"4\"}]}'), 400, 225.0, 50, 5.0, true);\n",
       "        });\n",
       "        </script>\n",
       "        "
      ],
      "text/plain": [
       "<IPython.core.display.HTML object>"
      ]
     },
     "metadata": {},
     "output_type": "display_data"
    },
    {
     "name": "stdout",
     "output_type": "stream",
     "text": [
      "a0 + a1 |- a0 * a1: SUCCESS\n"
     ]
    },
    {
     "data": {
      "text/html": [
       "\n",
       "        <div style=\"overflow:auto\" id=\"graph-output-507258886\"></div>\n",
       "        <script type=\"text/javascript\">\n",
       "        require.config({ baseUrl: \"../js\",\n",
       "                         paths: {d3: \"d3.v4.min\"} });\n",
       "        require(['hocc'], function(hocc) {\n",
       "            hocc.showGraph('507258886', '#graph-output-507258886',\n",
       "            JSON.parse('{\"nodes\": [{\"name\": \"0\", \"x\": 50, \"y\": 125.0, \"t\": 0}, {\"name\": \"1\", \"x\": 150, \"y\": 125.0, \"t\": 2}, {\"name\": \"3\", \"x\": 350, \"y\": 125.0, \"t\": 0}, {\"name\": \"4\", \"x\": 250, \"y\": 125.0, \"t\": 1}], \"links\": [{\"id\": \"0\", \"label\": \"a0 + a1\", \"source\": \"0\", \"target\": \"1\", \"edge_index\": 0, \"num_edge_siblings\": 1, \"flip_orientation\": false}, {\"id\": \"2\", \"label\": \"a0 * a1\", \"source\": \"4\", \"target\": \"3\", \"edge_index\": 0, \"num_edge_siblings\": 1, \"flip_orientation\": true}, {\"id\": \"4\", \"label\": \"a0\", \"source\": \"1\", \"target\": \"4\", \"edge_index\": 0, \"num_edge_siblings\": 2, \"flip_orientation\": false}, {\"id\": \"5\", \"label\": \"a1\", \"source\": \"1\", \"target\": \"4\", \"edge_index\": 1, \"num_edge_siblings\": 2, \"flip_orientation\": false}], \"arcs\": []}'), 400, 225.0, 50, 5.0, true);\n",
       "        });\n",
       "        </script>\n",
       "        "
      ],
      "text/plain": [
       "<IPython.core.display.HTML object>"
      ]
     },
     "metadata": {},
     "output_type": "display_data"
    },
    {
     "name": "stdout",
     "output_type": "stream",
     "text": [
      "a0 + a1 |- a0 + a1: SUCCESS\n"
     ]
    },
    {
     "data": {
      "text/html": [
       "\n",
       "        <div style=\"overflow:auto\" id=\"graph-output-839318294\"></div>\n",
       "        <script type=\"text/javascript\">\n",
       "        require.config({ baseUrl: \"../js\",\n",
       "                         paths: {d3: \"d3.v4.min\"} });\n",
       "        require(['hocc'], function(hocc) {\n",
       "            hocc.showGraph('839318294', '#graph-output-839318294',\n",
       "            JSON.parse('{\"nodes\": [{\"name\": \"0\", \"x\": 50, \"y\": 125.0, \"t\": 0}, {\"name\": \"1\", \"x\": 150, \"y\": 125.0, \"t\": 2}, {\"name\": \"3\", \"x\": 350, \"y\": 125.0, \"t\": 0}, {\"name\": \"4\", \"x\": 250, \"y\": 125.0, \"t\": 2}], \"links\": [{\"id\": \"0\", \"label\": \"a0 + a1\", \"source\": \"0\", \"target\": \"1\", \"edge_index\": 0, \"num_edge_siblings\": 1, \"flip_orientation\": false}, {\"id\": \"2\", \"label\": \"a0 + a1\", \"source\": \"4\", \"target\": \"3\", \"edge_index\": 0, \"num_edge_siblings\": 1, \"flip_orientation\": true}, {\"id\": \"4\", \"label\": \"a0\", \"source\": \"1\", \"target\": \"4\", \"edge_index\": 0, \"num_edge_siblings\": 2, \"flip_orientation\": false}, {\"id\": \"5\", \"label\": \"a1\", \"source\": \"1\", \"target\": \"4\", \"edge_index\": 1, \"num_edge_siblings\": 2, \"flip_orientation\": false}], \"arcs\": [{\"source\": \"4\", \"target\": \"5\", \"at_v\": \"4\"}]}'), 400, 225.0, 50, 5.0, true);\n",
       "        });\n",
       "        </script>\n",
       "        "
      ],
      "text/plain": [
       "<IPython.core.display.HTML object>"
      ]
     },
     "metadata": {},
     "output_type": "display_data"
    }
   ],
   "source": [
    "e1 = a0 * a1\n",
    "e2 = a0 + a1\n",
    "\n",
    "for f1,f2 in [(e1,e1), (e1,e2), (e2,e1), (e2,e2)]:\n",
    "    g = pn.prove(f1,f2)\n",
    "    print(\"%s |- %s\" % (f1,f2), end=': ')\n",
    "    if g:\n",
    "        print(\"SUCCESS\")\n",
    "        pn.draw(g, labels=True)\n",
    "    else:\n",
    "        print(\"FAIL\\n\")"
   ]
  },
  {
   "cell_type": "code",
   "execution_count": 8,
   "metadata": {},
   "outputs": [
    {
     "name": "stdout",
     "output_type": "stream",
     "text": [
      "A0 * A1 |- A0 * A1: SUCCESS\n"
     ]
    },
    {
     "data": {
      "text/html": [
       "\n",
       "        <div style=\"overflow:auto\" id=\"graph-output-873067819\"></div>\n",
       "        <script type=\"text/javascript\">\n",
       "        require.config({ baseUrl: \"../js\",\n",
       "                         paths: {d3: \"d3.v4.min\"} });\n",
       "        require(['hocc'], function(hocc) {\n",
       "            hocc.showGraph('873067819', '#graph-output-873067819',\n",
       "            JSON.parse('{\"nodes\": [{\"name\": \"0\", \"x\": 50, \"y\": 125.0, \"t\": 0}, {\"name\": \"1\", \"x\": 150, \"y\": 125.0, \"t\": 1}, {\"name\": \"3\", \"x\": 350, \"y\": 125.0, \"t\": 0}, {\"name\": \"4\", \"x\": 250, \"y\": 125.0, \"t\": 1}], \"links\": [{\"id\": \"0\", \"label\": \"A0 * A1\", \"source\": \"0\", \"target\": \"1\", \"edge_index\": 0, \"num_edge_siblings\": 1, \"flip_orientation\": false}, {\"id\": \"2\", \"label\": \"A0 * A1\", \"source\": \"4\", \"target\": \"3\", \"edge_index\": 0, \"num_edge_siblings\": 1, \"flip_orientation\": true}, {\"id\": \"4\", \"label\": \"A0\", \"source\": \"1\", \"target\": \"4\", \"edge_index\": 0, \"num_edge_siblings\": 2, \"flip_orientation\": false}, {\"id\": \"5\", \"label\": \"A1\", \"source\": \"1\", \"target\": \"4\", \"edge_index\": 1, \"num_edge_siblings\": 2, \"flip_orientation\": false}], \"arcs\": [{\"source\": \"4\", \"target\": \"5\", \"at_v\": \"1\"}]}'), 400, 225.0, 50, 5.0, true);\n",
       "        });\n",
       "        </script>\n",
       "        "
      ],
      "text/plain": [
       "<IPython.core.display.HTML object>"
      ]
     },
     "metadata": {},
     "output_type": "display_data"
    },
    {
     "name": "stdout",
     "output_type": "stream",
     "text": [
      "A0 * A1 |- A0 + A1: SUCCESS\n"
     ]
    },
    {
     "data": {
      "text/html": [
       "\n",
       "        <div style=\"overflow:auto\" id=\"graph-output-656911386\"></div>\n",
       "        <script type=\"text/javascript\">\n",
       "        require.config({ baseUrl: \"../js\",\n",
       "                         paths: {d3: \"d3.v4.min\"} });\n",
       "        require(['hocc'], function(hocc) {\n",
       "            hocc.showGraph('656911386', '#graph-output-656911386',\n",
       "            JSON.parse('{\"nodes\": [{\"name\": \"0\", \"x\": 50, \"y\": 125.0, \"t\": 0}, {\"name\": \"1\", \"x\": 150, \"y\": 125.0, \"t\": 1}, {\"name\": \"3\", \"x\": 350, \"y\": 125.0, \"t\": 0}, {\"name\": \"4\", \"x\": 250, \"y\": 125.0, \"t\": 2}], \"links\": [{\"id\": \"0\", \"label\": \"A0 * A1\", \"source\": \"0\", \"target\": \"1\", \"edge_index\": 0, \"num_edge_siblings\": 1, \"flip_orientation\": false}, {\"id\": \"2\", \"label\": \"A0 + A1\", \"source\": \"4\", \"target\": \"3\", \"edge_index\": 0, \"num_edge_siblings\": 1, \"flip_orientation\": true}, {\"id\": \"4\", \"label\": \"A0\", \"source\": \"1\", \"target\": \"4\", \"edge_index\": 0, \"num_edge_siblings\": 2, \"flip_orientation\": false}, {\"id\": \"5\", \"label\": \"A1\", \"source\": \"1\", \"target\": \"4\", \"edge_index\": 1, \"num_edge_siblings\": 2, \"flip_orientation\": false}], \"arcs\": [{\"source\": \"4\", \"target\": \"5\", \"at_v\": \"1\"}, {\"source\": \"4\", \"target\": \"5\", \"at_v\": \"4\"}]}'), 400, 225.0, 50, 5.0, true);\n",
       "        });\n",
       "        </script>\n",
       "        "
      ],
      "text/plain": [
       "<IPython.core.display.HTML object>"
      ]
     },
     "metadata": {},
     "output_type": "display_data"
    },
    {
     "name": "stdout",
     "output_type": "stream",
     "text": [
      "A0 + A1 |- A0 * A1: FAIL\n",
      "\n",
      "A0 + A1 |- A0 + A1: SUCCESS\n"
     ]
    },
    {
     "data": {
      "text/html": [
       "\n",
       "        <div style=\"overflow:auto\" id=\"graph-output-202889649\"></div>\n",
       "        <script type=\"text/javascript\">\n",
       "        require.config({ baseUrl: \"../js\",\n",
       "                         paths: {d3: \"d3.v4.min\"} });\n",
       "        require(['hocc'], function(hocc) {\n",
       "            hocc.showGraph('202889649', '#graph-output-202889649',\n",
       "            JSON.parse('{\"nodes\": [{\"name\": \"0\", \"x\": 50, \"y\": 125.0, \"t\": 0}, {\"name\": \"1\", \"x\": 150, \"y\": 125.0, \"t\": 2}, {\"name\": \"3\", \"x\": 350, \"y\": 125.0, \"t\": 0}, {\"name\": \"4\", \"x\": 250, \"y\": 125.0, \"t\": 2}], \"links\": [{\"id\": \"0\", \"label\": \"A0 + A1\", \"source\": \"0\", \"target\": \"1\", \"edge_index\": 0, \"num_edge_siblings\": 1, \"flip_orientation\": false}, {\"id\": \"2\", \"label\": \"A0 + A1\", \"source\": \"4\", \"target\": \"3\", \"edge_index\": 0, \"num_edge_siblings\": 1, \"flip_orientation\": true}, {\"id\": \"4\", \"label\": \"A0\", \"source\": \"1\", \"target\": \"4\", \"edge_index\": 0, \"num_edge_siblings\": 2, \"flip_orientation\": false}, {\"id\": \"5\", \"label\": \"A1\", \"source\": \"1\", \"target\": \"4\", \"edge_index\": 1, \"num_edge_siblings\": 2, \"flip_orientation\": false}], \"arcs\": [{\"source\": \"4\", \"target\": \"5\", \"at_v\": \"4\"}]}'), 400, 225.0, 50, 5.0, true);\n",
       "        });\n",
       "        </script>\n",
       "        "
      ],
      "text/plain": [
       "<IPython.core.display.HTML object>"
      ]
     },
     "metadata": {},
     "output_type": "display_data"
    }
   ],
   "source": [
    "e1 = A0 * A1\n",
    "e2 = A0 + A1\n",
    "\n",
    "for f1,f2 in [(e1,e1), (e1,e2), (e2,e1), (e2,e2)]:\n",
    "    g = pn.prove(f1,f2)\n",
    "    print(\"%s |- %s\" % (f1,f2), end=': ')\n",
    "    if g:\n",
    "        print(\"SUCCESS\")\n",
    "        pn.draw(g, labels=True)\n",
    "    else:\n",
    "        print(\"FAIL\\n\")"
   ]
  },
  {
   "cell_type": "code",
   "execution_count": null,
   "metadata": {},
   "outputs": [],
   "source": [
    "g = pn.prove(\n",
    "    (a0 >> a1) * (b0 >> b1),\n",
    "    a0 >> ((a1 >> b0) >> b1)\n",
    ")\n",
    "if g: pn.draw(g, labels=True)\n",
    "else: print(\"FAIL\")"
   ]
  },
  {
   "cell_type": "code",
   "execution_count": null,
   "metadata": {},
   "outputs": [],
   "source": [
    "g1 = pn.proofnet.cut_root(g)\n",
    "if g1:\n",
    "    g = g1\n",
    "pn.draw(g)"
   ]
  },
  {
   "cell_type": "code",
   "execution_count": null,
   "metadata": {},
   "outputs": [],
   "source": [
    "g = pn.prove(cc.I,\n",
    "    ((a0 >> a1) * (b0 >> b1)) >>\n",
    "    (a0 >> ((a1 >> b0) >> b1))\n",
    ")\n",
    "if g: pn.draw(g)"
   ]
  },
  {
   "cell_type": "code",
   "execution_count": null,
   "metadata": {},
   "outputs": [],
   "source": [
    "g = pn.prove((a0 * b0) >> (a1 * b1), (a0 >> a1) + (b0 >> b1))\n",
    "pn.draw(g)"
   ]
  },
  {
   "cell_type": "code",
   "execution_count": null,
   "metadata": {},
   "outputs": [],
   "source": [
    "g = pn.prove(\n",
    "    ((a0 >> a1) + (b0 >> b1)),\n",
    "    (a0 * b0) >> (a1 * b1)\n",
    ")\n",
    "pn.draw(g)"
   ]
  },
  {
   "cell_type": "code",
   "execution_count": null,
   "metadata": {},
   "outputs": [],
   "source": [
    "g = pn.prove(\n",
    "      fs(a0,a1,c0,c1) *\n",
    "      fs(b0,b1,d0,d1)\n",
    "    ,\n",
    "      ~a0 + (a1 * ~b0) + b1 +\n",
    "      ~c0 + (c1 * ~d0) + d1\n",
    ")\n",
    "pn.draw(g)"
   ]
  },
  {
   "cell_type": "code",
   "execution_count": null,
   "metadata": {},
   "outputs": [],
   "source": [
    "g = pn.prove(\n",
    "      fs(a0,a1,c0,c1,x0) *\n",
    "      fs(b0,b1,d0,d1,y0)\n",
    "    ,\n",
    "      ns(a0,a1,b0,b1) +\n",
    "      ns(c0,c1,d0,d1)\n",
    ")\n",
    "pn.draw(g, labels=True)"
   ]
  },
  {
   "cell_type": "code",
   "execution_count": null,
   "metadata": {},
   "outputs": [],
   "source": [
    "g1 = pn.proofnet.cut_root(g)\n",
    "if g1:\n",
    "    g = g1\n",
    "pn.draw(g)"
   ]
  },
  {
   "cell_type": "code",
   "execution_count": null,
   "metadata": {},
   "outputs": [],
   "source": [
    "g = pn.prove(\n",
    "      fs(a0,a1,c0,c1) *\n",
    "      fs(b0,b1,d0,d1)\n",
    "    ,\n",
    "      ns(a0,a1,b0,b1) +\n",
    "      ns(c0,c1,d0,d1)\n",
    "    , checker=lambda x: True\n",
    ")\n",
    "pn.draw(g, labels=True)"
   ]
  },
  {
   "cell_type": "code",
   "execution_count": null,
   "metadata": {},
   "outputs": [],
   "source": [
    "pn.draw(g)"
   ]
  },
  {
   "cell_type": "code",
   "execution_count": null,
   "metadata": {},
   "outputs": [],
   "source": [
    "g1 = pn.proofnet.cut_root(g)\n",
    "pn.draw(g)\n",
    "if g1:\n",
    "    pn.draw(g1)\n",
    "    g = g1"
   ]
  },
  {
   "cell_type": "code",
   "execution_count": null,
   "metadata": {},
   "outputs": [],
   "source": [
    "sw = pn.proofnet.switchings(g)\n",
    "sw1 = [s for s in sw if not s.is_acyclic()]\n",
    "len(sw), len(sw1)"
   ]
  },
  {
   "cell_type": "code",
   "execution_count": null,
   "metadata": {},
   "outputs": [],
   "source": [
    "for s in sw1: pn.draw(s)"
   ]
  },
  {
   "cell_type": "code",
   "execution_count": null,
   "metadata": {},
   "outputs": [],
   "source": [
    "g = pn.prove(cc.I,\n",
    "    (a0 + (b0 >> b1))\n",
    "  >>\n",
    "    (a0 * (b0 >> b1))\n",
    "  , checker=lambda x: True\n",
    ")\n",
    "pn.draw(g)"
   ]
  },
  {
   "cell_type": "code",
   "execution_count": null,
   "metadata": {},
   "outputs": [],
   "source": [
    "sw = pn.proofnet.switchings(g)\n",
    "sw1 = [s for s in sw if not s.is_acyclic()]\n",
    "len(sw), len(sw1)"
   ]
  },
  {
   "cell_type": "code",
   "execution_count": null,
   "metadata": {},
   "outputs": [],
   "source": [
    "pn.draw(sw[0])"
   ]
  },
  {
   "cell_type": "code",
   "execution_count": null,
   "metadata": {},
   "outputs": [],
   "source": []
  }
 ],
 "metadata": {
  "kernelspec": {
   "display_name": "Python 3",
   "language": "python",
   "name": "python3"
  },
  "language_info": {
   "codemirror_mode": {
    "name": "ipython",
    "version": 3
   },
   "file_extension": ".py",
   "mimetype": "text/x-python",
   "name": "python",
   "nbconvert_exporter": "python",
   "pygments_lexer": "ipython3",
   "version": "3.7.5"
  }
 },
 "nbformat": 4,
 "nbformat_minor": 2
}
