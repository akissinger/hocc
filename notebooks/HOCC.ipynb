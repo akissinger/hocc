{
 "cells": [
  {
   "cell_type": "code",
   "execution_count": 1,
   "metadata": {},
   "outputs": [],
   "source": [
    "import sys\n",
    "import math\n",
    "import itertools\n",
    "sys.path.append('..')\n",
    "import hocc as cc\n",
    "from hocc.variables import *"
   ]
  },
  {
   "cell_type": "code",
   "execution_count": 2,
   "metadata": {},
   "outputs": [],
   "source": [
    "# def fo(X0, X1): return (X0 + X1) >> (X0 * X1)\n",
    "def ns(X0, X1, Y0, Y1): return (X0 >> X1) * (Y0 >> Y1)\n",
    "def fs(X0, X1, Y0, Y1, Z0=None):\n",
    "    if not Z0:\n",
    "        return X0 >> ((X1 >> Y0) >> Y1)\n",
    "    else:\n",
    "        return (X0 >> X1 * Z0) * (Z0 * Y0 >> Y1)\n",
    "def fs1(X0,X1,Y0,Y1): return X0 >> (X1 * (Y0 >> Y1))"
   ]
  },
  {
   "cell_type": "code",
   "execution_count": 3,
   "metadata": {},
   "outputs": [
    {
     "data": {
      "text/plain": [
       "(Expr(~a0 + (a1 * ~b0) + b1), Expr(~a0 + (a1 * (~b0 + b1))))"
      ]
     },
     "execution_count": 3,
     "metadata": {},
     "output_type": "execute_result"
    }
   ],
   "source": [
    "fs(a0,a1,b0,b1), a0 >> (a1 * (b0 >> b1))"
   ]
  },
  {
   "cell_type": "code",
   "execution_count": 4,
   "metadata": {},
   "outputs": [
    {
     "data": {
      "text/html": [
       "\n",
       "        <div style=\"overflow:auto\" id=\"graph-output-933113058\"></div>\n",
       "        <script type=\"text/javascript\">\n",
       "        require.config({ baseUrl: \"../js\",\n",
       "                         paths: {d3: \"d3.v4.min\"} });\n",
       "        require(['hocc'], function(hocc) {\n",
       "            hocc.showGraph('933113058', '#graph-output-933113058',\n",
       "            JSON.parse('{\"nodes\": [{\"name\": \"0\", \"x\": 50, \"y\": 150.0, \"t\": 0}, {\"name\": \"1\", \"x\": 200, \"y\": 150.0, \"t\": 2}, {\"name\": \"2\", \"x\": 300, \"y\": 175.0, \"t\": 1}, {\"name\": \"4\", \"x\": 650, \"y\": 150.0, \"t\": 0}, {\"name\": \"5\", \"x\": 500, \"y\": 150.0, \"t\": 1}, {\"name\": \"6\", \"x\": 400, \"y\": 125.0, \"t\": 2}], \"links\": [{\"id\": \"0\", \"label\": \"a0 + (X0 * b0)\", \"source\": \"0\", \"target\": \"1\", \"edge_index\": 0, \"num_edge_siblings\": 1, \"flip_orientation\": false}, {\"id\": \"1\", \"label\": \"X0 * b0\", \"source\": \"1\", \"target\": \"2\", \"edge_index\": 0, \"num_edge_siblings\": 1, \"flip_orientation\": false}, {\"id\": \"3\", \"label\": \"(a0 + X0) * b0\", \"source\": \"5\", \"target\": \"4\", \"edge_index\": 0, \"num_edge_siblings\": 1, \"flip_orientation\": true}, {\"id\": \"4\", \"label\": \"a0 + X0\", \"source\": \"6\", \"target\": \"5\", \"edge_index\": 0, \"num_edge_siblings\": 1, \"flip_orientation\": true}, {\"id\": \"6\", \"label\": \"a0\", \"source\": \"1\", \"target\": \"6\", \"edge_index\": 0, \"num_edge_siblings\": 1, \"flip_orientation\": false}, {\"id\": \"7\", \"label\": \"X0\", \"source\": \"2\", \"target\": \"6\", \"edge_index\": 0, \"num_edge_siblings\": 1, \"flip_orientation\": false}, {\"id\": \"8\", \"label\": \"b0\", \"source\": \"2\", \"target\": \"5\", \"edge_index\": 0, \"num_edge_siblings\": 1, \"flip_orientation\": false}], \"arcs\": [{\"source\": \"6\", \"target\": \"7\", \"at_v\": \"6\"}, {\"source\": \"7\", \"target\": \"8\", \"at_v\": \"2\"}]}'), 700, 275.0, 50, 5.0, false);\n",
       "        });\n",
       "        </script>\n",
       "        "
      ],
      "text/plain": [
       "<IPython.core.display.HTML object>"
      ]
     },
     "metadata": {},
     "output_type": "display_data"
    }
   ],
   "source": [
    "g = cc.prove(\n",
    "      a0 + (X0 * b0), (a0 + X0) * b0\n",
    "    , checker=lambda x: True\n",
    "            )\n",
    "cc.draw(g)"
   ]
  },
  {
   "cell_type": "code",
   "execution_count": 9,
   "metadata": {},
   "outputs": [
    {
     "data": {
      "text/html": [
       "\n",
       "        <div style=\"overflow:auto\" id=\"graph-output-107230030\"></div>\n",
       "        <script type=\"text/javascript\">\n",
       "        require.config({ baseUrl: \"../js\",\n",
       "                         paths: {d3: \"d3.v4.min\"} });\n",
       "        require(['hocc'], function(hocc) {\n",
       "            hocc.showGraph('107230030', '#graph-output-107230030',\n",
       "            JSON.parse('{\"nodes\": [{\"name\": \"0\", \"x\": 50, \"y\": 175.0, \"t\": 0}, {\"name\": \"1\", \"x\": 250, \"y\": 175.0, \"t\": 2}, {\"name\": \"2\", \"x\": 350, \"y\": 175.0, \"t\": 1}, {\"name\": \"5\", \"x\": 550, \"y\": 200.0, \"t\": 1}, {\"name\": \"6\", \"x\": 450, \"y\": 225.0, \"t\": 2}, {\"name\": \"7\", \"x\": 600.0, \"y\": 191.66666666666666, \"t\": 0}, {\"name\": \"9\", \"x\": 400.0, \"y\": 175.0, \"t\": 0}], \"links\": [{\"id\": \"0\", \"label\": \"~a0 + (a1 * ~b0) + b1\", \"source\": \"0\", \"target\": \"1\", \"edge_index\": 0, \"num_edge_siblings\": 1, \"flip_orientation\": false}, {\"id\": \"1\", \"label\": \"a1 * ~b0\", \"source\": \"1\", \"target\": \"2\", \"edge_index\": 0, \"num_edge_siblings\": 1, \"flip_orientation\": false}, {\"id\": \"4\", \"label\": \"~b0 + b1\", \"source\": \"6\", \"target\": \"5\", \"edge_index\": 0, \"num_edge_siblings\": 1, \"flip_orientation\": true}, {\"id\": \"6\", \"label\": \"a1\", \"source\": \"2\", \"target\": \"5\", \"edge_index\": 0, \"num_edge_siblings\": 1, \"flip_orientation\": false}, {\"id\": \"7\", \"label\": \"~b0\", \"source\": \"2\", \"target\": \"6\", \"edge_index\": 0, \"num_edge_siblings\": 1, \"flip_orientation\": false}, {\"id\": \"8\", \"label\": \"b1\", \"source\": \"1\", \"target\": \"6\", \"edge_index\": 0, \"num_edge_siblings\": 1, \"flip_orientation\": false}, {\"id\": \"9\", \"label\": \"a1 * (~b0 + b1)\", \"source\": \"5\", \"target\": \"7\", \"edge_index\": 0, \"num_edge_siblings\": 1, \"flip_orientation\": false}, {\"id\": \"11\", \"label\": \"~a0\", \"source\": \"1\", \"target\": \"9\", \"edge_index\": 0, \"num_edge_siblings\": 1, \"flip_orientation\": false}], \"arcs\": [{\"source\": \"6\", \"target\": \"7\", \"at_v\": \"2\"}, {\"source\": \"7\", \"target\": \"8\", \"at_v\": \"6\"}]}'), 650.0, 325.0, 50, 5.0, false);\n",
       "        });\n",
       "        </script>\n",
       "        "
      ],
      "text/plain": [
       "<IPython.core.display.HTML object>"
      ]
     },
     "metadata": {},
     "output_type": "display_data"
    }
   ],
   "source": [
    "g1 = cc.proofnet.cut_root(g)\n",
    "if g1: g = g1\n",
    "cc.draw(g)"
   ]
  },
  {
   "cell_type": "code",
   "execution_count": null,
   "metadata": {},
   "outputs": [],
   "source": []
  },
  {
   "cell_type": "code",
   "execution_count": 3,
   "metadata": {},
   "outputs": [
    {
     "name": "stdout",
     "output_type": "stream",
     "text": [
      "a0 * a1 |- a0 * a1: SUCCESS\n"
     ]
    },
    {
     "data": {
      "text/html": [
       "\n",
       "        <div style=\"overflow:auto\" id=\"graph-output-484379217\"></div>\n",
       "        <script type=\"text/javascript\">\n",
       "        require.config({ baseUrl: \"../js\",\n",
       "                         paths: {d3: \"d3.v4.min\"} });\n",
       "        require(['hocc'], function(hocc) {\n",
       "            hocc.showGraph('484379217', '#graph-output-484379217',\n",
       "            JSON.parse('{\"nodes\": [{\"name\": \"0\", \"x\": 50, \"y\": 125.0, \"t\": 0}, {\"name\": \"1\", \"x\": 150, \"y\": 125.0, \"t\": 1}, {\"name\": \"3\", \"x\": 350, \"y\": 125.0, \"t\": 0}, {\"name\": \"4\", \"x\": 250, \"y\": 125.0, \"t\": 1}], \"links\": [{\"id\": \"0\", \"label\": \"a0 * a1\", \"source\": \"0\", \"target\": \"1\", \"edge_index\": 0, \"num_edge_siblings\": 1, \"flip_orientation\": false}, {\"id\": \"2\", \"label\": \"a0 * a1\", \"source\": \"4\", \"target\": \"3\", \"edge_index\": 0, \"num_edge_siblings\": 1, \"flip_orientation\": true}, {\"id\": \"4\", \"label\": \"a0\", \"source\": \"1\", \"target\": \"4\", \"edge_index\": 0, \"num_edge_siblings\": 2, \"flip_orientation\": false}, {\"id\": \"5\", \"label\": \"a1\", \"source\": \"1\", \"target\": \"4\", \"edge_index\": 1, \"num_edge_siblings\": 2, \"flip_orientation\": false}], \"arcs\": [{\"source\": \"4\", \"target\": \"5\", \"at_v\": \"1\"}]}'), 400, 225.0, 50, 5.0, true);\n",
       "        });\n",
       "        </script>\n",
       "        "
      ],
      "text/plain": [
       "<IPython.core.display.HTML object>"
      ]
     },
     "metadata": {},
     "output_type": "display_data"
    },
    {
     "name": "stdout",
     "output_type": "stream",
     "text": [
      "a0 * a1 |- a0 + a1: SUCCESS\n"
     ]
    },
    {
     "data": {
      "text/html": [
       "\n",
       "        <div style=\"overflow:auto\" id=\"graph-output-647976177\"></div>\n",
       "        <script type=\"text/javascript\">\n",
       "        require.config({ baseUrl: \"../js\",\n",
       "                         paths: {d3: \"d3.v4.min\"} });\n",
       "        require(['hocc'], function(hocc) {\n",
       "            hocc.showGraph('647976177', '#graph-output-647976177',\n",
       "            JSON.parse('{\"nodes\": [{\"name\": \"0\", \"x\": 50, \"y\": 125.0, \"t\": 0}, {\"name\": \"1\", \"x\": 150, \"y\": 125.0, \"t\": 1}, {\"name\": \"3\", \"x\": 350, \"y\": 125.0, \"t\": 0}, {\"name\": \"4\", \"x\": 250, \"y\": 125.0, \"t\": 2}], \"links\": [{\"id\": \"0\", \"label\": \"a0 * a1\", \"source\": \"0\", \"target\": \"1\", \"edge_index\": 0, \"num_edge_siblings\": 1, \"flip_orientation\": false}, {\"id\": \"2\", \"label\": \"a0 + a1\", \"source\": \"4\", \"target\": \"3\", \"edge_index\": 0, \"num_edge_siblings\": 1, \"flip_orientation\": true}, {\"id\": \"4\", \"label\": \"a0\", \"source\": \"1\", \"target\": \"4\", \"edge_index\": 0, \"num_edge_siblings\": 2, \"flip_orientation\": false}, {\"id\": \"5\", \"label\": \"a1\", \"source\": \"1\", \"target\": \"4\", \"edge_index\": 1, \"num_edge_siblings\": 2, \"flip_orientation\": false}], \"arcs\": [{\"source\": \"4\", \"target\": \"5\", \"at_v\": \"1\"}, {\"source\": \"4\", \"target\": \"5\", \"at_v\": \"4\"}]}'), 400, 225.0, 50, 5.0, true);\n",
       "        });\n",
       "        </script>\n",
       "        "
      ],
      "text/plain": [
       "<IPython.core.display.HTML object>"
      ]
     },
     "metadata": {},
     "output_type": "display_data"
    },
    {
     "name": "stdout",
     "output_type": "stream",
     "text": [
      "a0 + a1 |- a0 * a1: SUCCESS\n"
     ]
    },
    {
     "data": {
      "text/html": [
       "\n",
       "        <div style=\"overflow:auto\" id=\"graph-output-891686368\"></div>\n",
       "        <script type=\"text/javascript\">\n",
       "        require.config({ baseUrl: \"../js\",\n",
       "                         paths: {d3: \"d3.v4.min\"} });\n",
       "        require(['hocc'], function(hocc) {\n",
       "            hocc.showGraph('891686368', '#graph-output-891686368',\n",
       "            JSON.parse('{\"nodes\": [{\"name\": \"0\", \"x\": 50, \"y\": 125.0, \"t\": 0}, {\"name\": \"1\", \"x\": 150, \"y\": 125.0, \"t\": 2}, {\"name\": \"3\", \"x\": 350, \"y\": 125.0, \"t\": 0}, {\"name\": \"4\", \"x\": 250, \"y\": 125.0, \"t\": 1}], \"links\": [{\"id\": \"0\", \"label\": \"a0 + a1\", \"source\": \"0\", \"target\": \"1\", \"edge_index\": 0, \"num_edge_siblings\": 1, \"flip_orientation\": false}, {\"id\": \"2\", \"label\": \"a0 * a1\", \"source\": \"4\", \"target\": \"3\", \"edge_index\": 0, \"num_edge_siblings\": 1, \"flip_orientation\": true}, {\"id\": \"4\", \"label\": \"a0\", \"source\": \"1\", \"target\": \"4\", \"edge_index\": 0, \"num_edge_siblings\": 2, \"flip_orientation\": false}, {\"id\": \"5\", \"label\": \"a1\", \"source\": \"1\", \"target\": \"4\", \"edge_index\": 1, \"num_edge_siblings\": 2, \"flip_orientation\": false}], \"arcs\": []}'), 400, 225.0, 50, 5.0, true);\n",
       "        });\n",
       "        </script>\n",
       "        "
      ],
      "text/plain": [
       "<IPython.core.display.HTML object>"
      ]
     },
     "metadata": {},
     "output_type": "display_data"
    },
    {
     "name": "stdout",
     "output_type": "stream",
     "text": [
      "a0 + a1 |- a0 + a1: SUCCESS\n"
     ]
    },
    {
     "data": {
      "text/html": [
       "\n",
       "        <div style=\"overflow:auto\" id=\"graph-output-362932248\"></div>\n",
       "        <script type=\"text/javascript\">\n",
       "        require.config({ baseUrl: \"../js\",\n",
       "                         paths: {d3: \"d3.v4.min\"} });\n",
       "        require(['hocc'], function(hocc) {\n",
       "            hocc.showGraph('362932248', '#graph-output-362932248',\n",
       "            JSON.parse('{\"nodes\": [{\"name\": \"0\", \"x\": 50, \"y\": 125.0, \"t\": 0}, {\"name\": \"1\", \"x\": 150, \"y\": 125.0, \"t\": 2}, {\"name\": \"3\", \"x\": 350, \"y\": 125.0, \"t\": 0}, {\"name\": \"4\", \"x\": 250, \"y\": 125.0, \"t\": 2}], \"links\": [{\"id\": \"0\", \"label\": \"a0 + a1\", \"source\": \"0\", \"target\": \"1\", \"edge_index\": 0, \"num_edge_siblings\": 1, \"flip_orientation\": false}, {\"id\": \"2\", \"label\": \"a0 + a1\", \"source\": \"4\", \"target\": \"3\", \"edge_index\": 0, \"num_edge_siblings\": 1, \"flip_orientation\": true}, {\"id\": \"4\", \"label\": \"a0\", \"source\": \"1\", \"target\": \"4\", \"edge_index\": 0, \"num_edge_siblings\": 2, \"flip_orientation\": false}, {\"id\": \"5\", \"label\": \"a1\", \"source\": \"1\", \"target\": \"4\", \"edge_index\": 1, \"num_edge_siblings\": 2, \"flip_orientation\": false}], \"arcs\": [{\"source\": \"4\", \"target\": \"5\", \"at_v\": \"4\"}]}'), 400, 225.0, 50, 5.0, true);\n",
       "        });\n",
       "        </script>\n",
       "        "
      ],
      "text/plain": [
       "<IPython.core.display.HTML object>"
      ]
     },
     "metadata": {},
     "output_type": "display_data"
    }
   ],
   "source": [
    "e1 = a0 * a1\n",
    "e2 = a0 + a1\n",
    "\n",
    "for f1,f2 in [(e1,e1), (e1,e2), (e2,e1), (e2,e2)]:\n",
    "    g = cc.prove(f1,f2)\n",
    "    print(\"%s |- %s\" % (f1,f2), end=': ')\n",
    "    if g:\n",
    "        print(\"SUCCESS\")\n",
    "        cc.draw(g, labels=True)\n",
    "    else:\n",
    "        print(\"FAIL\\n\")"
   ]
  },
  {
   "cell_type": "code",
   "execution_count": 14,
   "metadata": {},
   "outputs": [
    {
     "name": "stdout",
     "output_type": "stream",
     "text": [
      "A0 * A1 |- A0 * A1: SUCCESS\n"
     ]
    },
    {
     "data": {
      "text/html": [
       "\n",
       "        <div style=\"overflow:auto\" id=\"graph-output-266173102\"></div>\n",
       "        <script type=\"text/javascript\">\n",
       "        require.config({ baseUrl: \"../js\",\n",
       "                         paths: {d3: \"d3.v4.min\"} });\n",
       "        require(['hocc'], function(hocc) {\n",
       "            hocc.showGraph('266173102', '#graph-output-266173102',\n",
       "            JSON.parse('{\"nodes\": [{\"name\": \"0\", \"x\": 50, \"y\": 125.0, \"t\": 0}, {\"name\": \"1\", \"x\": 150, \"y\": 125.0, \"t\": 1}, {\"name\": \"3\", \"x\": 350, \"y\": 125.0, \"t\": 0}, {\"name\": \"4\", \"x\": 250, \"y\": 125.0, \"t\": 1}], \"links\": [{\"id\": \"0\", \"label\": \"A0 * A1\", \"source\": \"0\", \"target\": \"1\", \"edge_index\": 0, \"num_edge_siblings\": 1, \"flip_orientation\": false}, {\"id\": \"2\", \"label\": \"A0 * A1\", \"source\": \"4\", \"target\": \"3\", \"edge_index\": 0, \"num_edge_siblings\": 1, \"flip_orientation\": true}, {\"id\": \"4\", \"label\": \"A0\", \"source\": \"1\", \"target\": \"4\", \"edge_index\": 0, \"num_edge_siblings\": 2, \"flip_orientation\": false}, {\"id\": \"5\", \"label\": \"A1\", \"source\": \"1\", \"target\": \"4\", \"edge_index\": 1, \"num_edge_siblings\": 2, \"flip_orientation\": false}], \"arcs\": [{\"source\": \"4\", \"target\": \"5\", \"at_v\": \"1\"}]}'), 400, 225.0, 50, 5.0, true);\n",
       "        });\n",
       "        </script>\n",
       "        "
      ],
      "text/plain": [
       "<IPython.core.display.HTML object>"
      ]
     },
     "metadata": {},
     "output_type": "display_data"
    },
    {
     "name": "stdout",
     "output_type": "stream",
     "text": [
      "A0 * A1 |- A0 + A1: SUCCESS\n"
     ]
    },
    {
     "data": {
      "text/html": [
       "\n",
       "        <div style=\"overflow:auto\" id=\"graph-output-802541054\"></div>\n",
       "        <script type=\"text/javascript\">\n",
       "        require.config({ baseUrl: \"../js\",\n",
       "                         paths: {d3: \"d3.v4.min\"} });\n",
       "        require(['hocc'], function(hocc) {\n",
       "            hocc.showGraph('802541054', '#graph-output-802541054',\n",
       "            JSON.parse('{\"nodes\": [{\"name\": \"0\", \"x\": 50, \"y\": 125.0, \"t\": 0}, {\"name\": \"1\", \"x\": 150, \"y\": 125.0, \"t\": 1}, {\"name\": \"3\", \"x\": 350, \"y\": 125.0, \"t\": 0}, {\"name\": \"4\", \"x\": 250, \"y\": 125.0, \"t\": 2}], \"links\": [{\"id\": \"0\", \"label\": \"A0 * A1\", \"source\": \"0\", \"target\": \"1\", \"edge_index\": 0, \"num_edge_siblings\": 1, \"flip_orientation\": false}, {\"id\": \"2\", \"label\": \"A0 + A1\", \"source\": \"4\", \"target\": \"3\", \"edge_index\": 0, \"num_edge_siblings\": 1, \"flip_orientation\": true}, {\"id\": \"4\", \"label\": \"A0\", \"source\": \"1\", \"target\": \"4\", \"edge_index\": 0, \"num_edge_siblings\": 2, \"flip_orientation\": false}, {\"id\": \"5\", \"label\": \"A1\", \"source\": \"1\", \"target\": \"4\", \"edge_index\": 1, \"num_edge_siblings\": 2, \"flip_orientation\": false}], \"arcs\": [{\"source\": \"4\", \"target\": \"5\", \"at_v\": \"1\"}, {\"source\": \"4\", \"target\": \"5\", \"at_v\": \"4\"}]}'), 400, 225.0, 50, 5.0, true);\n",
       "        });\n",
       "        </script>\n",
       "        "
      ],
      "text/plain": [
       "<IPython.core.display.HTML object>"
      ]
     },
     "metadata": {},
     "output_type": "display_data"
    },
    {
     "name": "stdout",
     "output_type": "stream",
     "text": [
      "A0 + A1 |- A0 * A1: FAIL\n",
      "\n",
      "A0 + A1 |- A0 + A1: SUCCESS\n"
     ]
    },
    {
     "data": {
      "text/html": [
       "\n",
       "        <div style=\"overflow:auto\" id=\"graph-output-264182630\"></div>\n",
       "        <script type=\"text/javascript\">\n",
       "        require.config({ baseUrl: \"../js\",\n",
       "                         paths: {d3: \"d3.v4.min\"} });\n",
       "        require(['hocc'], function(hocc) {\n",
       "            hocc.showGraph('264182630', '#graph-output-264182630',\n",
       "            JSON.parse('{\"nodes\": [{\"name\": \"0\", \"x\": 50, \"y\": 125.0, \"t\": 0}, {\"name\": \"1\", \"x\": 150, \"y\": 125.0, \"t\": 2}, {\"name\": \"3\", \"x\": 350, \"y\": 125.0, \"t\": 0}, {\"name\": \"4\", \"x\": 250, \"y\": 125.0, \"t\": 2}], \"links\": [{\"id\": \"0\", \"label\": \"A0 + A1\", \"source\": \"0\", \"target\": \"1\", \"edge_index\": 0, \"num_edge_siblings\": 1, \"flip_orientation\": false}, {\"id\": \"2\", \"label\": \"A0 + A1\", \"source\": \"4\", \"target\": \"3\", \"edge_index\": 0, \"num_edge_siblings\": 1, \"flip_orientation\": true}, {\"id\": \"4\", \"label\": \"A0\", \"source\": \"1\", \"target\": \"4\", \"edge_index\": 0, \"num_edge_siblings\": 2, \"flip_orientation\": false}, {\"id\": \"5\", \"label\": \"A1\", \"source\": \"1\", \"target\": \"4\", \"edge_index\": 1, \"num_edge_siblings\": 2, \"flip_orientation\": false}], \"arcs\": [{\"source\": \"4\", \"target\": \"5\", \"at_v\": \"4\"}]}'), 400, 225.0, 50, 5.0, true);\n",
       "        });\n",
       "        </script>\n",
       "        "
      ],
      "text/plain": [
       "<IPython.core.display.HTML object>"
      ]
     },
     "metadata": {},
     "output_type": "display_data"
    }
   ],
   "source": [
    "e1 = A0 * A1\n",
    "e2 = A0 + A1\n",
    "\n",
    "for f1,f2 in [(e1,e1), (e1,e2), (e2,e1), (e2,e2)]:\n",
    "    g = cc.prove(f1,f2)\n",
    "    print(\"%s |- %s\" % (f1,f2), end=': ')\n",
    "    if g:\n",
    "        print(\"SUCCESS\")\n",
    "        cc.draw(g, labels=True)\n",
    "    else:\n",
    "        print(\"FAIL\\n\")"
   ]
  },
  {
   "cell_type": "code",
   "execution_count": 7,
   "metadata": {},
   "outputs": [
    {
     "data": {
      "text/html": [
       "\n",
       "        <div style=\"overflow:auto\" id=\"graph-output-635631145\"></div>\n",
       "        <script type=\"text/javascript\">\n",
       "        require.config({ baseUrl: \"../js\",\n",
       "                         paths: {d3: \"d3.v4.min\"} });\n",
       "        require(['hocc'], function(hocc) {\n",
       "            hocc.showGraph('635631145', '#graph-output-635631145',\n",
       "            JSON.parse('{\"nodes\": [{\"name\": \"0\", \"x\": 50, \"y\": 175.0, \"t\": 0}, {\"name\": \"1\", \"x\": 250, \"y\": 175.0, \"t\": 1}, {\"name\": \"2\", \"x\": 350, \"y\": 125.0, \"t\": 2}, {\"name\": \"3\", \"x\": 350, \"y\": 225.0, \"t\": 2}, {\"name\": \"5\", \"x\": 750, \"y\": 175.0, \"t\": 0}, {\"name\": \"6\", \"x\": 550, \"y\": 175.0, \"t\": 2}, {\"name\": \"7\", \"x\": 450, \"y\": 175.0, \"t\": 1}], \"links\": [{\"id\": \"0\", \"label\": \"(~a0 + a1) * (~b0 + b1)\", \"source\": \"0\", \"target\": \"1\", \"edge_index\": 0, \"num_edge_siblings\": 1, \"flip_orientation\": false}, {\"id\": \"1\", \"label\": \"~a0 + a1\", \"source\": \"1\", \"target\": \"2\", \"edge_index\": 0, \"num_edge_siblings\": 1, \"flip_orientation\": false}, {\"id\": \"2\", \"label\": \"~b0 + b1\", \"source\": \"1\", \"target\": \"3\", \"edge_index\": 0, \"num_edge_siblings\": 1, \"flip_orientation\": false}, {\"id\": \"4\", \"label\": \"~a0 + (a1 * ~b0) + b1\", \"source\": \"6\", \"target\": \"5\", \"edge_index\": 0, \"num_edge_siblings\": 1, \"flip_orientation\": true}, {\"id\": \"5\", \"label\": \"a1 * ~b0\", \"source\": \"7\", \"target\": \"6\", \"edge_index\": 0, \"num_edge_siblings\": 1, \"flip_orientation\": true}, {\"id\": \"7\", \"label\": \"~a0\", \"source\": \"2\", \"target\": \"6\", \"edge_index\": 0, \"num_edge_siblings\": 1, \"flip_orientation\": false}, {\"id\": \"8\", \"label\": \"a1\", \"source\": \"2\", \"target\": \"7\", \"edge_index\": 0, \"num_edge_siblings\": 1, \"flip_orientation\": false}, {\"id\": \"9\", \"label\": \"~b0\", \"source\": \"3\", \"target\": \"7\", \"edge_index\": 0, \"num_edge_siblings\": 1, \"flip_orientation\": false}, {\"id\": \"10\", \"label\": \"b1\", \"source\": \"3\", \"target\": \"6\", \"edge_index\": 0, \"num_edge_siblings\": 1, \"flip_orientation\": false}], \"arcs\": [{\"source\": \"1\", \"target\": \"2\", \"at_v\": \"1\"}, {\"source\": \"5\", \"target\": \"7\", \"at_v\": \"6\"}, {\"source\": \"5\", \"target\": \"10\", \"at_v\": \"6\"}, {\"source\": \"7\", \"target\": \"10\", \"at_v\": \"6\"}]}'), 800, 325.0, 50, 5.0, true);\n",
       "        });\n",
       "        </script>\n",
       "        "
      ],
      "text/plain": [
       "<IPython.core.display.HTML object>"
      ]
     },
     "metadata": {},
     "output_type": "display_data"
    }
   ],
   "source": [
    "g = cc.prove(\n",
    "    (a0 >> a1) * (b0 >> b1),\n",
    "    a0 >> ((a1 >> b0) >> b1)\n",
    ")\n",
    "if g: cc.draw(g, labels=True)\n",
    "else: print(\"FAIL\")"
   ]
  },
  {
   "cell_type": "code",
   "execution_count": 9,
   "metadata": {},
   "outputs": [
    {
     "data": {
      "text/html": [
       "\n",
       "        <div style=\"overflow:auto\" id=\"graph-output-857470633\"></div>\n",
       "        <script type=\"text/javascript\">\n",
       "        require.config({ baseUrl: \"../js\",\n",
       "                         paths: {d3: \"d3.v4.min\"} });\n",
       "        require(['hocc'], function(hocc) {\n",
       "            hocc.showGraph('857470633', '#graph-output-857470633',\n",
       "            JSON.parse('{\"nodes\": [], \"links\": [], \"arcs\": []}'), 50, 150, 50, 5.0, false);\n",
       "        });\n",
       "        </script>\n",
       "        "
      ],
      "text/plain": [
       "<IPython.core.display.HTML object>"
      ]
     },
     "metadata": {},
     "output_type": "display_data"
    }
   ],
   "source": [
    "g1 = cc.proofnet.cut_root(g)\n",
    "if g1:\n",
    "    g = g1\n",
    "cc.draw(g)"
   ]
  },
  {
   "cell_type": "code",
   "execution_count": 5,
   "metadata": {},
   "outputs": [
    {
     "data": {
      "text/html": [
       "\n",
       "        <div style=\"overflow:auto\" id=\"graph-output-976698529\"></div>\n",
       "        <script type=\"text/javascript\">\n",
       "        require.config({ baseUrl: \"../js\",\n",
       "                         paths: {d3: \"d3.v4.min\"} });\n",
       "        require(['hocc'], function(hocc) {\n",
       "            hocc.showGraph('976698529', '#graph-output-976698529',\n",
       "            JSON.parse('{\"nodes\": [{\"name\": \"0\", \"x\": 600, \"y\": 275.0, \"t\": 0}, {\"name\": \"1\", \"x\": 200, \"y\": 275.0, \"t\": 2}, {\"name\": \"2\", \"x\": 100, \"y\": 125.0, \"t\": 1}, {\"name\": \"3\", \"x\": 100, \"y\": 225.0, \"t\": 1}, {\"name\": \"5\", \"x\": 50, \"y\": 300.0, \"t\": 3}, {\"name\": \"6\", \"x\": 100, \"y\": 375.0, \"t\": 1}, {\"name\": \"7\", \"x\": 50, \"y\": 350.0, \"t\": 3}, {\"name\": \"8\", \"x\": 50, \"y\": 400.0, \"t\": 3}, {\"name\": \"9\", \"x\": 50, \"y\": 450.0, \"t\": 3}], \"links\": [{\"id\": \"0\", \"label\": \"(a0 * ~a1) + (b0 * ~b1) + ~a0 + (a1 * ~b0) + b1\", \"source\": \"1\", \"target\": \"0\", \"edge_index\": 0, \"num_edge_siblings\": 1, \"flip_orientation\": true}, {\"id\": \"1\", \"label\": \"a0 * ~a1\", \"source\": \"2\", \"target\": \"1\", \"edge_index\": 0, \"num_edge_siblings\": 1, \"flip_orientation\": true}, {\"id\": \"2\", \"label\": \"b0 * ~b1\", \"source\": \"3\", \"target\": \"1\", \"edge_index\": 0, \"num_edge_siblings\": 1, \"flip_orientation\": true}, {\"id\": \"4\", \"label\": \"~a0\", \"source\": \"5\", \"target\": \"1\", \"edge_index\": 0, \"num_edge_siblings\": 1, \"flip_orientation\": true}, {\"id\": \"5\", \"label\": \"a1 * ~b0\", \"source\": \"6\", \"target\": \"1\", \"edge_index\": 0, \"num_edge_siblings\": 1, \"flip_orientation\": true}, {\"id\": \"6\", \"label\": \"a1\", \"source\": \"7\", \"target\": \"6\", \"edge_index\": 0, \"num_edge_siblings\": 1, \"flip_orientation\": true}, {\"id\": \"7\", \"label\": \"~b0\", \"source\": \"8\", \"target\": \"6\", \"edge_index\": 0, \"num_edge_siblings\": 1, \"flip_orientation\": true}, {\"id\": \"8\", \"label\": \"b1\", \"source\": \"9\", \"target\": \"1\", \"edge_index\": 0, \"num_edge_siblings\": 1, \"flip_orientation\": true}, {\"id\": \"9\", \"label\": \"a0\", \"source\": \"5\", \"target\": \"2\", \"edge_index\": 0, \"num_edge_siblings\": 1, \"flip_orientation\": true}, {\"id\": \"10\", \"label\": \"~a1\", \"source\": \"7\", \"target\": \"2\", \"edge_index\": 0, \"num_edge_siblings\": 1, \"flip_orientation\": true}, {\"id\": \"11\", \"label\": \"b0\", \"source\": \"8\", \"target\": \"3\", \"edge_index\": 0, \"num_edge_siblings\": 1, \"flip_orientation\": true}, {\"id\": \"12\", \"label\": \"~b1\", \"source\": \"9\", \"target\": \"3\", \"edge_index\": 0, \"num_edge_siblings\": 1, \"flip_orientation\": true}], \"arcs\": [{\"source\": \"1\", \"target\": \"2\", \"at_v\": \"1\"}, {\"source\": \"1\", \"target\": \"4\", \"at_v\": \"1\"}, {\"source\": \"1\", \"target\": \"5\", \"at_v\": \"1\"}, {\"source\": \"1\", \"target\": \"8\", \"at_v\": \"1\"}, {\"source\": \"2\", \"target\": \"4\", \"at_v\": \"1\"}, {\"source\": \"2\", \"target\": \"5\", \"at_v\": \"1\"}, {\"source\": \"2\", \"target\": \"8\", \"at_v\": \"1\"}, {\"source\": \"4\", \"target\": \"5\", \"at_v\": \"1\"}, {\"source\": \"4\", \"target\": \"8\", \"at_v\": \"1\"}, {\"source\": \"5\", \"target\": \"8\", \"at_v\": \"1\"}]}'), 650, 550.0, 50, 5.0, false);\n",
       "        });\n",
       "        </script>\n",
       "        "
      ],
      "text/plain": [
       "<IPython.core.display.HTML object>"
      ]
     },
     "metadata": {},
     "output_type": "display_data"
    }
   ],
   "source": [
    "g = cc.prove(cc.I,\n",
    "    ((a0 >> a1) * (b0 >> b1)) >>\n",
    "    (a0 >> ((a1 >> b0) >> b1))\n",
    ")\n",
    "if g: cc.draw(g)"
   ]
  },
  {
   "cell_type": "code",
   "execution_count": 23,
   "metadata": {},
   "outputs": [
    {
     "data": {
      "text/html": [
       "\n",
       "        <div style=\"overflow:auto\" id=\"graph-output-868555173\"></div>\n",
       "        <script type=\"text/javascript\">\n",
       "        require.config({ baseUrl: \"../js\",\n",
       "                         paths: {d3: \"d3.v4.min\"} });\n",
       "        require(['hocc'], function(hocc) {\n",
       "            hocc.showGraph('868555173', '#graph-output-868555173',\n",
       "            JSON.parse('{\"nodes\": [{\"name\": \"0\", \"x\": 50, \"y\": 175.0, \"t\": 0}, {\"name\": \"1\", \"x\": 250, \"y\": 175.0, \"t\": 2}, {\"name\": \"2\", \"x\": 350, \"y\": 225.0, \"t\": 1}, {\"name\": \"4\", \"x\": 650, \"y\": 175.0, \"t\": 0}, {\"name\": \"5\", \"x\": 450, \"y\": 175.0, \"t\": 2}], \"links\": [{\"id\": \"0\", \"label\": \"~a0 + ~b0 + (a1 * b1)\", \"source\": \"0\", \"target\": \"1\", \"edge_index\": 0, \"num_edge_siblings\": 1, \"flip_orientation\": false}, {\"id\": \"1\", \"label\": \"a1 * b1\", \"source\": \"1\", \"target\": \"2\", \"edge_index\": 0, \"num_edge_siblings\": 1, \"flip_orientation\": false}, {\"id\": \"3\", \"label\": \"~a0 + a1 + ~b0 + b1\", \"source\": \"5\", \"target\": \"4\", \"edge_index\": 0, \"num_edge_siblings\": 1, \"flip_orientation\": true}, {\"id\": \"5\", \"label\": \"~a0\", \"source\": \"1\", \"target\": \"5\", \"edge_index\": 0, \"num_edge_siblings\": 2, \"flip_orientation\": false}, {\"id\": \"6\", \"label\": \"~b0\", \"source\": \"1\", \"target\": \"5\", \"edge_index\": 1, \"num_edge_siblings\": 2, \"flip_orientation\": false}, {\"id\": \"7\", \"label\": \"a1\", \"source\": \"2\", \"target\": \"5\", \"edge_index\": 0, \"num_edge_siblings\": 2, \"flip_orientation\": false}, {\"id\": \"8\", \"label\": \"b1\", \"source\": \"2\", \"target\": \"5\", \"edge_index\": 1, \"num_edge_siblings\": 2, \"flip_orientation\": false}], \"arcs\": [{\"source\": \"5\", \"target\": \"6\", \"at_v\": \"5\"}, {\"source\": \"5\", \"target\": \"7\", \"at_v\": \"5\"}, {\"source\": \"5\", \"target\": \"8\", \"at_v\": \"5\"}, {\"source\": \"6\", \"target\": \"7\", \"at_v\": \"5\"}, {\"source\": \"6\", \"target\": \"8\", \"at_v\": \"5\"}, {\"source\": \"7\", \"target\": \"8\", \"at_v\": \"2\"}, {\"source\": \"7\", \"target\": \"8\", \"at_v\": \"5\"}]}'), 700, 325.0, 50, 5.0, false);\n",
       "        });\n",
       "        </script>\n",
       "        "
      ],
      "text/plain": [
       "<IPython.core.display.HTML object>"
      ]
     },
     "metadata": {},
     "output_type": "display_data"
    }
   ],
   "source": [
    "g = cc.prove((a0 * b0) >> (a1 * b1), (a0 >> a1) + (b0 >> b1))\n",
    "cc.draw(g)"
   ]
  },
  {
   "cell_type": "code",
   "execution_count": 24,
   "metadata": {},
   "outputs": [
    {
     "data": {
      "text/html": [
       "\n",
       "        <div style=\"overflow:auto\" id=\"graph-output-529051126\"></div>\n",
       "        <script type=\"text/javascript\">\n",
       "        require.config({ baseUrl: \"../js\",\n",
       "                         paths: {d3: \"d3.v4.min\"} });\n",
       "        require(['hocc'], function(hocc) {\n",
       "            hocc.showGraph('529051126', '#graph-output-529051126',\n",
       "            JSON.parse('{\"nodes\": [{\"name\": \"0\", \"x\": 50, \"y\": 175.0, \"t\": 0}, {\"name\": \"1\", \"x\": 250, \"y\": 175.0, \"t\": 2}, {\"name\": \"3\", \"x\": 650, \"y\": 175.0, \"t\": 0}, {\"name\": \"4\", \"x\": 450, \"y\": 175.0, \"t\": 2}, {\"name\": \"5\", \"x\": 350, \"y\": 225.0, \"t\": 1}], \"links\": [{\"id\": \"0\", \"label\": \"~a0 + a1 + ~b0 + b1\", \"source\": \"0\", \"target\": \"1\", \"edge_index\": 0, \"num_edge_siblings\": 1, \"flip_orientation\": false}, {\"id\": \"2\", \"label\": \"~a0 + ~b0 + (a1 * b1)\", \"source\": \"4\", \"target\": \"3\", \"edge_index\": 0, \"num_edge_siblings\": 1, \"flip_orientation\": true}, {\"id\": \"3\", \"label\": \"a1 * b1\", \"source\": \"5\", \"target\": \"4\", \"edge_index\": 0, \"num_edge_siblings\": 1, \"flip_orientation\": true}, {\"id\": \"5\", \"label\": \"~a0\", \"source\": \"1\", \"target\": \"4\", \"edge_index\": 0, \"num_edge_siblings\": 2, \"flip_orientation\": false}, {\"id\": \"6\", \"label\": \"a1\", \"source\": \"1\", \"target\": \"5\", \"edge_index\": 0, \"num_edge_siblings\": 2, \"flip_orientation\": false}, {\"id\": \"7\", \"label\": \"~b0\", \"source\": \"1\", \"target\": \"4\", \"edge_index\": 1, \"num_edge_siblings\": 2, \"flip_orientation\": false}, {\"id\": \"8\", \"label\": \"b1\", \"source\": \"1\", \"target\": \"5\", \"edge_index\": 1, \"num_edge_siblings\": 2, \"flip_orientation\": false}], \"arcs\": [{\"source\": \"3\", \"target\": \"5\", \"at_v\": \"4\"}, {\"source\": \"3\", \"target\": \"7\", \"at_v\": \"4\"}, {\"source\": \"5\", \"target\": \"7\", \"at_v\": \"4\"}]}'), 700, 325.0, 50, 5.0, false);\n",
       "        });\n",
       "        </script>\n",
       "        "
      ],
      "text/plain": [
       "<IPython.core.display.HTML object>"
      ]
     },
     "metadata": {},
     "output_type": "display_data"
    }
   ],
   "source": [
    "g = cc.prove(\n",
    "    ((a0 >> a1) + (b0 >> b1)),\n",
    "    (a0 * b0) >> (a1 * b1)\n",
    ")\n",
    "cc.draw(g)"
   ]
  },
  {
   "cell_type": "code",
   "execution_count": 29,
   "metadata": {},
   "outputs": [
    {
     "data": {
      "text/html": [
       "\n",
       "        <div style=\"overflow:auto\" id=\"graph-output-307467892\"></div>\n",
       "        <script type=\"text/javascript\">\n",
       "        require.config({ baseUrl: \"../js\",\n",
       "                         paths: {d3: \"d3.v4.min\"} });\n",
       "        require(['hocc'], function(hocc) {\n",
       "            hocc.showGraph('307467892', '#graph-output-307467892',\n",
       "            JSON.parse('{\"nodes\": [{\"name\": \"0\", \"x\": 50, \"y\": 275.0, \"t\": 0}, {\"name\": \"1\", \"x\": 500, \"y\": 275.0, \"t\": 1}, {\"name\": \"2\", \"x\": 700, \"y\": 175.0, \"t\": 2}, {\"name\": \"3\", \"x\": 800, \"y\": 175.0, \"t\": 1}, {\"name\": \"4\", \"x\": 700, \"y\": 375.0, \"t\": 2}, {\"name\": \"5\", \"x\": 800, \"y\": 375.0, \"t\": 1}, {\"name\": \"7\", \"x\": 1400, \"y\": 275.0, \"t\": 0}, {\"name\": \"8\", \"x\": 1000, \"y\": 275.0, \"t\": 2}, {\"name\": \"9\", \"x\": 900, \"y\": 175.0, \"t\": 1}, {\"name\": \"10\", \"x\": 900, \"y\": 375.0, \"t\": 1}], \"links\": [{\"id\": \"0\", \"label\": \"(~a0 + (a1 * ~c0) + c1) * (~b0 + (b1 * ~d0) + d1)\", \"source\": \"0\", \"target\": \"1\", \"edge_index\": 0, \"num_edge_siblings\": 1, \"flip_orientation\": false}, {\"id\": \"1\", \"label\": \"~a0 + (a1 * ~c0) + c1\", \"source\": \"1\", \"target\": \"2\", \"edge_index\": 0, \"num_edge_siblings\": 1, \"flip_orientation\": false}, {\"id\": \"2\", \"label\": \"a1 * ~c0\", \"source\": \"2\", \"target\": \"3\", \"edge_index\": 0, \"num_edge_siblings\": 1, \"flip_orientation\": false}, {\"id\": \"3\", \"label\": \"~b0 + (b1 * ~d0) + d1\", \"source\": \"1\", \"target\": \"4\", \"edge_index\": 0, \"num_edge_siblings\": 1, \"flip_orientation\": false}, {\"id\": \"4\", \"label\": \"b1 * ~d0\", \"source\": \"4\", \"target\": \"5\", \"edge_index\": 0, \"num_edge_siblings\": 1, \"flip_orientation\": false}, {\"id\": \"6\", \"label\": \"~a0 + (a1 * ~b0) + b1 + ~c0 + (c1 * ~d0) + d1\", \"source\": \"8\", \"target\": \"7\", \"edge_index\": 0, \"num_edge_siblings\": 1, \"flip_orientation\": true}, {\"id\": \"7\", \"label\": \"a1 * ~b0\", \"source\": \"9\", \"target\": \"8\", \"edge_index\": 0, \"num_edge_siblings\": 1, \"flip_orientation\": true}, {\"id\": \"8\", \"label\": \"c1 * ~d0\", \"source\": \"10\", \"target\": \"8\", \"edge_index\": 0, \"num_edge_siblings\": 1, \"flip_orientation\": true}, {\"id\": \"10\", \"label\": \"~a0\", \"source\": \"2\", \"target\": \"8\", \"edge_index\": 0, \"num_edge_siblings\": 1, \"flip_orientation\": false}, {\"id\": \"11\", \"label\": \"a1\", \"source\": \"3\", \"target\": \"9\", \"edge_index\": 0, \"num_edge_siblings\": 1, \"flip_orientation\": false}, {\"id\": \"12\", \"label\": \"~c0\", \"source\": \"3\", \"target\": \"8\", \"edge_index\": 0, \"num_edge_siblings\": 1, \"flip_orientation\": false}, {\"id\": \"13\", \"label\": \"c1\", \"source\": \"2\", \"target\": \"10\", \"edge_index\": 0, \"num_edge_siblings\": 1, \"flip_orientation\": false}, {\"id\": \"14\", \"label\": \"~b0\", \"source\": \"4\", \"target\": \"9\", \"edge_index\": 0, \"num_edge_siblings\": 1, \"flip_orientation\": false}, {\"id\": \"15\", \"label\": \"b1\", \"source\": \"5\", \"target\": \"8\", \"edge_index\": 0, \"num_edge_siblings\": 1, \"flip_orientation\": false}, {\"id\": \"16\", \"label\": \"~d0\", \"source\": \"5\", \"target\": \"10\", \"edge_index\": 0, \"num_edge_siblings\": 1, \"flip_orientation\": false}, {\"id\": \"17\", \"label\": \"d1\", \"source\": \"4\", \"target\": \"8\", \"edge_index\": 0, \"num_edge_siblings\": 1, \"flip_orientation\": false}], \"arcs\": [{\"source\": \"1\", \"target\": \"3\", \"at_v\": \"1\"}, {\"source\": \"7\", \"target\": \"8\", \"at_v\": \"8\"}, {\"source\": \"7\", \"target\": \"10\", \"at_v\": \"8\"}, {\"source\": \"7\", \"target\": \"12\", \"at_v\": \"8\"}, {\"source\": \"7\", \"target\": \"15\", \"at_v\": \"8\"}, {\"source\": \"7\", \"target\": \"17\", \"at_v\": \"8\"}, {\"source\": \"8\", \"target\": \"10\", \"at_v\": \"8\"}, {\"source\": \"8\", \"target\": \"12\", \"at_v\": \"8\"}, {\"source\": \"8\", \"target\": \"15\", \"at_v\": \"8\"}, {\"source\": \"8\", \"target\": \"17\", \"at_v\": \"8\"}, {\"source\": \"10\", \"target\": \"12\", \"at_v\": \"8\"}, {\"source\": \"10\", \"target\": \"15\", \"at_v\": \"8\"}, {\"source\": \"10\", \"target\": \"17\", \"at_v\": \"8\"}, {\"source\": \"11\", \"target\": \"12\", \"at_v\": \"3\"}, {\"source\": \"12\", \"target\": \"15\", \"at_v\": \"8\"}, {\"source\": \"12\", \"target\": \"17\", \"at_v\": \"8\"}, {\"source\": \"15\", \"target\": \"16\", \"at_v\": \"5\"}, {\"source\": \"15\", \"target\": \"17\", \"at_v\": \"8\"}]}'), 1450, 475.0, 50, 5.0, false);\n",
       "        });\n",
       "        </script>\n",
       "        "
      ],
      "text/plain": [
       "<IPython.core.display.HTML object>"
      ]
     },
     "metadata": {},
     "output_type": "display_data"
    }
   ],
   "source": [
    "g = cc.prove(\n",
    "      fs(a0,a1,c0,c1) *\n",
    "      fs(b0,b1,d0,d1)\n",
    "    ,\n",
    "      ~a0 + (a1 * ~b0) + b1 +\n",
    "      ~c0 + (c1 * ~d0) + d1\n",
    ")\n",
    "cc.draw(g)"
   ]
  },
  {
   "cell_type": "code",
   "execution_count": 36,
   "metadata": {},
   "outputs": [
    {
     "data": {
      "text/html": [
       "\n",
       "        <div style=\"overflow:auto\" id=\"graph-output-486525202\"></div>\n",
       "        <script type=\"text/javascript\">\n",
       "        require.config({ baseUrl: \"../js\",\n",
       "                         paths: {d3: \"d3.v4.min\"} });\n",
       "        require(['hocc'], function(hocc) {\n",
       "            hocc.showGraph('486525202', '#graph-output-486525202',\n",
       "            JSON.parse('{\"nodes\": [{\"name\": \"0\", \"x\": 50, \"y\": 375.0, \"t\": 0}, {\"name\": \"1\", \"x\": 700, \"y\": 375.0, \"t\": 1}, {\"name\": \"2\", \"x\": 850, \"y\": 150.0, \"t\": 2}, {\"name\": \"3\", \"x\": 950, \"y\": 175.0, \"t\": 1}, {\"name\": \"4\", \"x\": 850, \"y\": 300.0, \"t\": 2}, {\"name\": \"5\", \"x\": 1000, \"y\": 250.0, \"t\": 3}, {\"name\": \"6\", \"x\": 850, \"y\": 450.0, \"t\": 2}, {\"name\": \"7\", \"x\": 950, \"y\": 475.0, \"t\": 1}, {\"name\": \"8\", \"x\": 850, \"y\": 600.0, \"t\": 2}, {\"name\": \"9\", \"x\": 1000, \"y\": 550.0, \"t\": 3}, {\"name\": \"11\", \"x\": 1800, \"y\": 275.0, \"t\": 0}, {\"name\": \"12\", \"x\": 1350, \"y\": 275.0, \"t\": 2}, {\"name\": \"13\", \"x\": 1150, \"y\": 175.0, \"t\": 1}, {\"name\": \"14\", \"x\": 1050, \"y\": 125.0, \"t\": 2}, {\"name\": \"15\", \"x\": 1050, \"y\": 225.0, \"t\": 2}, {\"name\": \"16\", \"x\": 1150, \"y\": 375.0, \"t\": 1}, {\"name\": \"17\", \"x\": 1050, \"y\": 325.0, \"t\": 2}, {\"name\": \"18\", \"x\": 1050, \"y\": 425.0, \"t\": 2}], \"links\": [{\"id\": \"0\", \"label\": \"(~a0 + (a1 * x0)) * (~x0 + ~c0 + c1) * (~b0 + (b1 * y0)) * (~y0 + ~d0 + d1)\", \"source\": \"0\", \"target\": \"1\", \"edge_index\": 0, \"num_edge_siblings\": 1, \"flip_orientation\": false}, {\"id\": \"1\", \"label\": \"~a0 + (a1 * x0)\", \"source\": \"1\", \"target\": \"2\", \"edge_index\": 0, \"num_edge_siblings\": 1, \"flip_orientation\": false}, {\"id\": \"2\", \"label\": \"a1 * x0\", \"source\": \"2\", \"target\": \"3\", \"edge_index\": 0, \"num_edge_siblings\": 1, \"flip_orientation\": false}, {\"id\": \"3\", \"label\": \"~x0 + ~c0 + c1\", \"source\": \"1\", \"target\": \"4\", \"edge_index\": 0, \"num_edge_siblings\": 1, \"flip_orientation\": false}, {\"id\": \"4\", \"label\": \"~x0\", \"source\": \"4\", \"target\": \"5\", \"edge_index\": 0, \"num_edge_siblings\": 1, \"flip_orientation\": false}, {\"id\": \"5\", \"label\": \"~b0 + (b1 * y0)\", \"source\": \"1\", \"target\": \"6\", \"edge_index\": 0, \"num_edge_siblings\": 1, \"flip_orientation\": false}, {\"id\": \"6\", \"label\": \"b1 * y0\", \"source\": \"6\", \"target\": \"7\", \"edge_index\": 0, \"num_edge_siblings\": 1, \"flip_orientation\": false}, {\"id\": \"7\", \"label\": \"~y0 + ~d0 + d1\", \"source\": \"1\", \"target\": \"8\", \"edge_index\": 0, \"num_edge_siblings\": 1, \"flip_orientation\": false}, {\"id\": \"8\", \"label\": \"~y0\", \"source\": \"8\", \"target\": \"9\", \"edge_index\": 0, \"num_edge_siblings\": 1, \"flip_orientation\": false}, {\"id\": \"10\", \"label\": \"((~a0 + a1) * (~b0 + b1)) + ((~c0 + c1) * (~d0 + d1))\", \"source\": \"12\", \"target\": \"11\", \"edge_index\": 0, \"num_edge_siblings\": 1, \"flip_orientation\": true}, {\"id\": \"11\", \"label\": \"(~a0 + a1) * (~b0 + b1)\", \"source\": \"13\", \"target\": \"12\", \"edge_index\": 0, \"num_edge_siblings\": 1, \"flip_orientation\": true}, {\"id\": \"12\", \"label\": \"~a0 + a1\", \"source\": \"14\", \"target\": \"13\", \"edge_index\": 0, \"num_edge_siblings\": 1, \"flip_orientation\": true}, {\"id\": \"13\", \"label\": \"~b0 + b1\", \"source\": \"15\", \"target\": \"13\", \"edge_index\": 0, \"num_edge_siblings\": 1, \"flip_orientation\": true}, {\"id\": \"14\", \"label\": \"(~c0 + c1) * (~d0 + d1)\", \"source\": \"16\", \"target\": \"12\", \"edge_index\": 0, \"num_edge_siblings\": 1, \"flip_orientation\": true}, {\"id\": \"15\", \"label\": \"~c0 + c1\", \"source\": \"17\", \"target\": \"16\", \"edge_index\": 0, \"num_edge_siblings\": 1, \"flip_orientation\": true}, {\"id\": \"16\", \"label\": \"~d0 + d1\", \"source\": \"18\", \"target\": \"16\", \"edge_index\": 0, \"num_edge_siblings\": 1, \"flip_orientation\": true}, {\"id\": \"18\", \"label\": \"~a0\", \"source\": \"2\", \"target\": \"14\", \"edge_index\": 0, \"num_edge_siblings\": 1, \"flip_orientation\": false}, {\"id\": \"19\", \"label\": \"a1\", \"source\": \"3\", \"target\": \"14\", \"edge_index\": 0, \"num_edge_siblings\": 1, \"flip_orientation\": false}, {\"id\": \"20\", \"label\": \"x0\", \"source\": \"3\", \"target\": \"5\", \"edge_index\": 0, \"num_edge_siblings\": 1, \"flip_orientation\": false}, {\"id\": \"21\", \"label\": \"~c0\", \"source\": \"4\", \"target\": \"17\", \"edge_index\": 0, \"num_edge_siblings\": 2, \"flip_orientation\": false}, {\"id\": \"22\", \"label\": \"c1\", \"source\": \"4\", \"target\": \"17\", \"edge_index\": 1, \"num_edge_siblings\": 2, \"flip_orientation\": false}, {\"id\": \"23\", \"label\": \"~b0\", \"source\": \"6\", \"target\": \"15\", \"edge_index\": 0, \"num_edge_siblings\": 1, \"flip_orientation\": false}, {\"id\": \"24\", \"label\": \"b1\", \"source\": \"7\", \"target\": \"15\", \"edge_index\": 0, \"num_edge_siblings\": 1, \"flip_orientation\": false}, {\"id\": \"25\", \"label\": \"y0\", \"source\": \"7\", \"target\": \"9\", \"edge_index\": 0, \"num_edge_siblings\": 1, \"flip_orientation\": false}, {\"id\": \"26\", \"label\": \"~d0\", \"source\": \"8\", \"target\": \"18\", \"edge_index\": 0, \"num_edge_siblings\": 2, \"flip_orientation\": false}, {\"id\": \"27\", \"label\": \"d1\", \"source\": \"8\", \"target\": \"18\", \"edge_index\": 1, \"num_edge_siblings\": 2, \"flip_orientation\": false}], \"arcs\": [{\"source\": \"1\", \"target\": \"5\", \"at_v\": \"1\"}, {\"source\": \"1\", \"target\": \"3\", \"at_v\": \"1\"}, {\"source\": \"1\", \"target\": \"7\", \"at_v\": \"1\"}, {\"source\": \"3\", \"target\": \"5\", \"at_v\": \"1\"}, {\"source\": \"3\", \"target\": \"7\", \"at_v\": \"1\"}, {\"source\": \"5\", \"target\": \"7\", \"at_v\": \"1\"}, {\"source\": \"11\", \"target\": \"14\", \"at_v\": \"12\"}, {\"source\": \"18\", \"target\": \"19\", \"at_v\": \"14\"}, {\"source\": \"19\", \"target\": \"20\", \"at_v\": \"3\"}, {\"source\": \"21\", \"target\": \"22\", \"at_v\": \"17\"}, {\"source\": \"23\", \"target\": \"24\", \"at_v\": \"15\"}, {\"source\": \"24\", \"target\": \"25\", \"at_v\": \"7\"}, {\"source\": \"26\", \"target\": \"27\", \"at_v\": \"18\"}]}'), 1850, 700.0, 50, 5.0, true);\n",
       "        });\n",
       "        </script>\n",
       "        "
      ],
      "text/plain": [
       "<IPython.core.display.HTML object>"
      ]
     },
     "metadata": {},
     "output_type": "display_data"
    }
   ],
   "source": [
    "g = cc.prove(\n",
    "      fs(a0,a1,c0,c1,x0) *\n",
    "      fs(b0,b1,d0,d1,y0)\n",
    "    ,\n",
    "      ns(a0,a1,b0,b1) +\n",
    "      ns(c0,c1,d0,d1)\n",
    ")\n",
    "cc.draw(g, labels=True)"
   ]
  },
  {
   "cell_type": "code",
   "execution_count": 40,
   "metadata": {},
   "outputs": [
    {
     "data": {
      "text/html": [
       "\n",
       "        <div style=\"overflow:auto\" id=\"graph-output-335046066\"></div>\n",
       "        <script type=\"text/javascript\">\n",
       "        require.config({ baseUrl: \"../js\",\n",
       "                         paths: {d3: \"d3.v4.min\"} });\n",
       "        require(['hocc'], function(hocc) {\n",
       "            hocc.showGraph('335046066', '#graph-output-335046066',\n",
       "            JSON.parse('{\"nodes\": [{\"name\": \"0\", \"x\": 850, \"y\": 150.0, \"t\": 2}, {\"name\": \"1\", \"x\": 950, \"y\": 175.0, \"t\": 1}, {\"name\": \"2\", \"x\": 850, \"y\": 300.0, \"t\": 2}, {\"name\": \"3\", \"x\": 1000, \"y\": 250.0, \"t\": 3}, {\"name\": \"4\", \"x\": 850, \"y\": 450.0, \"t\": 2}, {\"name\": \"5\", \"x\": 950, \"y\": 475.0, \"t\": 1}, {\"name\": \"6\", \"x\": 850, \"y\": 600.0, \"t\": 2}, {\"name\": \"7\", \"x\": 1000, \"y\": 550.0, \"t\": 3}, {\"name\": \"10\", \"x\": 1150, \"y\": 175.0, \"t\": 1}, {\"name\": \"11\", \"x\": 1050, \"y\": 125.0, \"t\": 2}, {\"name\": \"12\", \"x\": 1050, \"y\": 225.0, \"t\": 2}, {\"name\": \"13\", \"x\": 1150, \"y\": 375.0, \"t\": 1}, {\"name\": \"14\", \"x\": 1050, \"y\": 325.0, \"t\": 2}, {\"name\": \"15\", \"x\": 1050, \"y\": 425.0, \"t\": 2}, {\"name\": \"16\", \"x\": 800.0, \"y\": 225.0, \"t\": 0}, {\"name\": \"17\", \"x\": 800.0, \"y\": 325.0, \"t\": 0}, {\"name\": \"18\", \"x\": 800.0, \"y\": 425.0, \"t\": 0}, {\"name\": \"19\", \"x\": 800.0, \"y\": 525.0, \"t\": 0}, {\"name\": \"20\", \"x\": 1216.6666666666665, \"y\": 341.66666666666663, \"t\": 0}, {\"name\": \"22\", \"x\": 1216.6666666666665, \"y\": 208.33333333333331, \"t\": 0}], \"links\": [{\"id\": \"0\", \"label\": \"a1 * x0\", \"source\": \"0\", \"target\": \"1\", \"edge_index\": 0, \"num_edge_siblings\": 1, \"flip_orientation\": false}, {\"id\": \"1\", \"label\": \"~x0\", \"source\": \"2\", \"target\": \"3\", \"edge_index\": 0, \"num_edge_siblings\": 1, \"flip_orientation\": false}, {\"id\": \"2\", \"label\": \"b1 * y0\", \"source\": \"4\", \"target\": \"5\", \"edge_index\": 0, \"num_edge_siblings\": 1, \"flip_orientation\": false}, {\"id\": \"3\", \"label\": \"~y0\", \"source\": \"6\", \"target\": \"7\", \"edge_index\": 0, \"num_edge_siblings\": 1, \"flip_orientation\": false}, {\"id\": \"6\", \"label\": \"~a0 + a1\", \"source\": \"11\", \"target\": \"10\", \"edge_index\": 0, \"num_edge_siblings\": 1, \"flip_orientation\": true}, {\"id\": \"7\", \"label\": \"~b0 + b1\", \"source\": \"12\", \"target\": \"10\", \"edge_index\": 0, \"num_edge_siblings\": 1, \"flip_orientation\": true}, {\"id\": \"9\", \"label\": \"~c0 + c1\", \"source\": \"14\", \"target\": \"13\", \"edge_index\": 0, \"num_edge_siblings\": 1, \"flip_orientation\": true}, {\"id\": \"10\", \"label\": \"~d0 + d1\", \"source\": \"15\", \"target\": \"13\", \"edge_index\": 0, \"num_edge_siblings\": 1, \"flip_orientation\": true}, {\"id\": \"11\", \"label\": \"~a0\", \"source\": \"0\", \"target\": \"11\", \"edge_index\": 0, \"num_edge_siblings\": 1, \"flip_orientation\": false}, {\"id\": \"12\", \"label\": \"a1\", \"source\": \"1\", \"target\": \"11\", \"edge_index\": 0, \"num_edge_siblings\": 1, \"flip_orientation\": false}, {\"id\": \"13\", \"label\": \"x0\", \"source\": \"1\", \"target\": \"3\", \"edge_index\": 0, \"num_edge_siblings\": 1, \"flip_orientation\": false}, {\"id\": \"14\", \"label\": \"~c0\", \"source\": \"2\", \"target\": \"14\", \"edge_index\": 0, \"num_edge_siblings\": 2, \"flip_orientation\": false}, {\"id\": \"15\", \"label\": \"c1\", \"source\": \"2\", \"target\": \"14\", \"edge_index\": 1, \"num_edge_siblings\": 2, \"flip_orientation\": false}, {\"id\": \"16\", \"label\": \"~b0\", \"source\": \"4\", \"target\": \"12\", \"edge_index\": 0, \"num_edge_siblings\": 1, \"flip_orientation\": false}, {\"id\": \"17\", \"label\": \"b1\", \"source\": \"5\", \"target\": \"12\", \"edge_index\": 0, \"num_edge_siblings\": 1, \"flip_orientation\": false}, {\"id\": \"18\", \"label\": \"y0\", \"source\": \"5\", \"target\": \"7\", \"edge_index\": 0, \"num_edge_siblings\": 1, \"flip_orientation\": false}, {\"id\": \"19\", \"label\": \"~d0\", \"source\": \"6\", \"target\": \"15\", \"edge_index\": 0, \"num_edge_siblings\": 2, \"flip_orientation\": false}, {\"id\": \"20\", \"label\": \"d1\", \"source\": \"6\", \"target\": \"15\", \"edge_index\": 1, \"num_edge_siblings\": 2, \"flip_orientation\": false}, {\"id\": \"21\", \"label\": \"~a0 + (a1 * x0)\", \"source\": \"16\", \"target\": \"0\", \"edge_index\": 0, \"num_edge_siblings\": 1, \"flip_orientation\": true}, {\"id\": \"22\", \"label\": \"~x0 + ~c0 + c1\", \"source\": \"17\", \"target\": \"2\", \"edge_index\": 0, \"num_edge_siblings\": 1, \"flip_orientation\": true}, {\"id\": \"23\", \"label\": \"~b0 + (b1 * y0)\", \"source\": \"18\", \"target\": \"4\", \"edge_index\": 0, \"num_edge_siblings\": 1, \"flip_orientation\": true}, {\"id\": \"24\", \"label\": \"~y0 + ~d0 + d1\", \"source\": \"19\", \"target\": \"6\", \"edge_index\": 0, \"num_edge_siblings\": 1, \"flip_orientation\": true}, {\"id\": \"25\", \"label\": \"(~c0 + c1) * (~d0 + d1)\", \"source\": \"13\", \"target\": \"20\", \"edge_index\": 0, \"num_edge_siblings\": 1, \"flip_orientation\": false}, {\"id\": \"27\", \"label\": \"(~a0 + a1) * (~b0 + b1)\", \"source\": \"10\", \"target\": \"22\", \"edge_index\": 0, \"num_edge_siblings\": 1, \"flip_orientation\": false}], \"arcs\": [{\"source\": \"11\", \"target\": \"12\", \"at_v\": \"11\"}, {\"source\": \"12\", \"target\": \"13\", \"at_v\": \"1\"}, {\"source\": \"14\", \"target\": \"15\", \"at_v\": \"14\"}, {\"source\": \"16\", \"target\": \"17\", \"at_v\": \"12\"}, {\"source\": \"17\", \"target\": \"18\", \"at_v\": \"5\"}, {\"source\": \"19\", \"target\": \"20\", \"at_v\": \"15\"}]}'), 1266.6666666666665, 700.0, 50, 5.0, false);\n",
       "        });\n",
       "        </script>\n",
       "        "
      ],
      "text/plain": [
       "<IPython.core.display.HTML object>"
      ]
     },
     "metadata": {},
     "output_type": "display_data"
    }
   ],
   "source": [
    "g1 = cc.proofnet.cut_root(g)\n",
    "if g1:\n",
    "    g = g1\n",
    "cc.draw(g)"
   ]
  },
  {
   "cell_type": "code",
   "execution_count": 31,
   "metadata": {},
   "outputs": [
    {
     "data": {
      "text/html": [
       "\n",
       "        <div style=\"overflow:auto\" id=\"graph-output-232470252\"></div>\n",
       "        <script type=\"text/javascript\">\n",
       "        require.config({ baseUrl: \"../js\",\n",
       "                         paths: {d3: \"d3.v4.min\"} });\n",
       "        require(['hocc'], function(hocc) {\n",
       "            hocc.showGraph('232470252', '#graph-output-232470252',\n",
       "            JSON.parse('{\"nodes\": [{\"name\": \"0\", \"x\": 50, \"y\": 275.0, \"t\": 0}, {\"name\": \"1\", \"x\": 500, \"y\": 275.0, \"t\": 1}, {\"name\": \"2\", \"x\": 700, \"y\": 175.0, \"t\": 2}, {\"name\": \"3\", \"x\": 800, \"y\": 175.0, \"t\": 1}, {\"name\": \"4\", \"x\": 700, \"y\": 375.0, \"t\": 2}, {\"name\": \"5\", \"x\": 800, \"y\": 375.0, \"t\": 1}, {\"name\": \"7\", \"x\": 1650, \"y\": 275.0, \"t\": 0}, {\"name\": \"8\", \"x\": 1200, \"y\": 275.0, \"t\": 2}, {\"name\": \"9\", \"x\": 1000, \"y\": 175.0, \"t\": 1}, {\"name\": \"10\", \"x\": 900, \"y\": 125.0, \"t\": 2}, {\"name\": \"11\", \"x\": 900, \"y\": 225.0, \"t\": 2}, {\"name\": \"12\", \"x\": 1000, \"y\": 375.0, \"t\": 1}, {\"name\": \"13\", \"x\": 900, \"y\": 325.0, \"t\": 2}, {\"name\": \"14\", \"x\": 900, \"y\": 425.0, \"t\": 2}], \"links\": [{\"id\": \"0\", \"label\": \"(~a0 + (a1 * ~c0) + c1) * (~b0 + (b1 * ~d0) + d1)\", \"source\": \"0\", \"target\": \"1\", \"edge_index\": 0, \"num_edge_siblings\": 1, \"flip_orientation\": false}, {\"id\": \"1\", \"label\": \"~a0 + (a1 * ~c0) + c1\", \"source\": \"1\", \"target\": \"2\", \"edge_index\": 0, \"num_edge_siblings\": 1, \"flip_orientation\": false}, {\"id\": \"2\", \"label\": \"a1 * ~c0\", \"source\": \"2\", \"target\": \"3\", \"edge_index\": 0, \"num_edge_siblings\": 1, \"flip_orientation\": false}, {\"id\": \"3\", \"label\": \"~b0 + (b1 * ~d0) + d1\", \"source\": \"1\", \"target\": \"4\", \"edge_index\": 0, \"num_edge_siblings\": 1, \"flip_orientation\": false}, {\"id\": \"4\", \"label\": \"b1 * ~d0\", \"source\": \"4\", \"target\": \"5\", \"edge_index\": 0, \"num_edge_siblings\": 1, \"flip_orientation\": false}, {\"id\": \"6\", \"label\": \"((~a0 + a1) * (~b0 + b1)) + ((~c0 + c1) * (~d0 + d1))\", \"source\": \"8\", \"target\": \"7\", \"edge_index\": 0, \"num_edge_siblings\": 1, \"flip_orientation\": true}, {\"id\": \"7\", \"label\": \"(~a0 + a1) * (~b0 + b1)\", \"source\": \"9\", \"target\": \"8\", \"edge_index\": 0, \"num_edge_siblings\": 1, \"flip_orientation\": true}, {\"id\": \"8\", \"label\": \"~a0 + a1\", \"source\": \"10\", \"target\": \"9\", \"edge_index\": 0, \"num_edge_siblings\": 1, \"flip_orientation\": true}, {\"id\": \"9\", \"label\": \"~b0 + b1\", \"source\": \"11\", \"target\": \"9\", \"edge_index\": 0, \"num_edge_siblings\": 1, \"flip_orientation\": true}, {\"id\": \"10\", \"label\": \"(~c0 + c1) * (~d0 + d1)\", \"source\": \"12\", \"target\": \"8\", \"edge_index\": 0, \"num_edge_siblings\": 1, \"flip_orientation\": true}, {\"id\": \"11\", \"label\": \"~c0 + c1\", \"source\": \"13\", \"target\": \"12\", \"edge_index\": 0, \"num_edge_siblings\": 1, \"flip_orientation\": true}, {\"id\": \"12\", \"label\": \"~d0 + d1\", \"source\": \"14\", \"target\": \"12\", \"edge_index\": 0, \"num_edge_siblings\": 1, \"flip_orientation\": true}, {\"id\": \"14\", \"label\": \"~a0\", \"source\": \"2\", \"target\": \"10\", \"edge_index\": 0, \"num_edge_siblings\": 1, \"flip_orientation\": false}, {\"id\": \"15\", \"label\": \"a1\", \"source\": \"3\", \"target\": \"10\", \"edge_index\": 0, \"num_edge_siblings\": 1, \"flip_orientation\": false}, {\"id\": \"16\", \"label\": \"~c0\", \"source\": \"3\", \"target\": \"13\", \"edge_index\": 0, \"num_edge_siblings\": 1, \"flip_orientation\": false}, {\"id\": \"17\", \"label\": \"c1\", \"source\": \"2\", \"target\": \"13\", \"edge_index\": 0, \"num_edge_siblings\": 1, \"flip_orientation\": false}, {\"id\": \"18\", \"label\": \"~b0\", \"source\": \"4\", \"target\": \"11\", \"edge_index\": 0, \"num_edge_siblings\": 1, \"flip_orientation\": false}, {\"id\": \"19\", \"label\": \"b1\", \"source\": \"5\", \"target\": \"11\", \"edge_index\": 0, \"num_edge_siblings\": 1, \"flip_orientation\": false}, {\"id\": \"20\", \"label\": \"~d0\", \"source\": \"5\", \"target\": \"14\", \"edge_index\": 0, \"num_edge_siblings\": 1, \"flip_orientation\": false}, {\"id\": \"21\", \"label\": \"d1\", \"source\": \"4\", \"target\": \"14\", \"edge_index\": 0, \"num_edge_siblings\": 1, \"flip_orientation\": false}], \"arcs\": [{\"source\": \"1\", \"target\": \"3\", \"at_v\": \"1\"}, {\"source\": \"7\", \"target\": \"10\", \"at_v\": \"8\"}, {\"source\": \"14\", \"target\": \"15\", \"at_v\": \"10\"}, {\"source\": \"15\", \"target\": \"16\", \"at_v\": \"3\"}, {\"source\": \"16\", \"target\": \"17\", \"at_v\": \"13\"}, {\"source\": \"18\", \"target\": \"19\", \"at_v\": \"11\"}, {\"source\": \"19\", \"target\": \"20\", \"at_v\": \"5\"}, {\"source\": \"20\", \"target\": \"21\", \"at_v\": \"14\"}]}'), 1700, 525.0, 50, 5.0, true);\n",
       "        });\n",
       "        </script>\n",
       "        "
      ],
      "text/plain": [
       "<IPython.core.display.HTML object>"
      ]
     },
     "metadata": {},
     "output_type": "display_data"
    }
   ],
   "source": [
    "g = cc.prove(\n",
    "      fs(a0,a1,c0,c1) *\n",
    "      fs(b0,b1,d0,d1)\n",
    "    ,\n",
    "      ns(a0,a1,b0,b1) +\n",
    "      ns(c0,c1,d0,d1)\n",
    "    , checker=lambda x: True\n",
    ")\n",
    "cc.draw(g, labels=True)"
   ]
  },
  {
   "cell_type": "code",
   "execution_count": 21,
   "metadata": {},
   "outputs": [
    {
     "data": {
      "text/html": [
       "\n",
       "        <div style=\"overflow:auto\" id=\"graph-output-997583260\"></div>\n",
       "        <script type=\"text/javascript\">\n",
       "        require.config({ baseUrl: \"../js\",\n",
       "                         paths: {d3: \"d3.v4.min\"} });\n",
       "        require(['hocc'], function(hocc) {\n",
       "            hocc.showGraph('997583260', '#graph-output-997583260',\n",
       "            JSON.parse('{\"nodes\": [{\"name\": \"0\", \"x\": 50, \"y\": 275.0, \"t\": 0}, {\"name\": \"1\", \"x\": 500, \"y\": 275.0, \"t\": 1}, {\"name\": \"2\", \"x\": 700, \"y\": 175.0, \"t\": 2}, {\"name\": \"3\", \"x\": 800, \"y\": 175.0, \"t\": 1}, {\"name\": \"4\", \"x\": 700, \"y\": 375.0, \"t\": 2}, {\"name\": \"5\", \"x\": 800, \"y\": 375.0, \"t\": 1}, {\"name\": \"7\", \"x\": 1650, \"y\": 275.0, \"t\": 0}, {\"name\": \"8\", \"x\": 1200, \"y\": 275.0, \"t\": 2}, {\"name\": \"9\", \"x\": 1000, \"y\": 175.0, \"t\": 1}, {\"name\": \"10\", \"x\": 900, \"y\": 125.0, \"t\": 2}, {\"name\": \"11\", \"x\": 900, \"y\": 225.0, \"t\": 2}, {\"name\": \"12\", \"x\": 1000, \"y\": 375.0, \"t\": 1}, {\"name\": \"13\", \"x\": 900, \"y\": 325.0, \"t\": 2}, {\"name\": \"14\", \"x\": 900, \"y\": 425.0, \"t\": 2}], \"links\": [{\"id\": \"0\", \"label\": \"(~a0 + (a1 * ~c0) + c1) * (~b0 + (b1 * ~d0) + d1)\", \"source\": \"0\", \"target\": \"1\", \"edge_index\": 0, \"num_edge_siblings\": 1, \"flip_orientation\": false}, {\"id\": \"1\", \"label\": \"~a0 + (a1 * ~c0) + c1\", \"source\": \"1\", \"target\": \"2\", \"edge_index\": 0, \"num_edge_siblings\": 1, \"flip_orientation\": false}, {\"id\": \"2\", \"label\": \"a1 * ~c0\", \"source\": \"2\", \"target\": \"3\", \"edge_index\": 0, \"num_edge_siblings\": 1, \"flip_orientation\": false}, {\"id\": \"3\", \"label\": \"~b0 + (b1 * ~d0) + d1\", \"source\": \"1\", \"target\": \"4\", \"edge_index\": 0, \"num_edge_siblings\": 1, \"flip_orientation\": false}, {\"id\": \"4\", \"label\": \"b1 * ~d0\", \"source\": \"4\", \"target\": \"5\", \"edge_index\": 0, \"num_edge_siblings\": 1, \"flip_orientation\": false}, {\"id\": \"6\", \"label\": \"((~a0 + a1) * (~b0 + b1)) + ((~c0 + c1) * (~d0 + d1))\", \"source\": \"8\", \"target\": \"7\", \"edge_index\": 0, \"num_edge_siblings\": 1, \"flip_orientation\": true}, {\"id\": \"7\", \"label\": \"(~a0 + a1) * (~b0 + b1)\", \"source\": \"9\", \"target\": \"8\", \"edge_index\": 0, \"num_edge_siblings\": 1, \"flip_orientation\": true}, {\"id\": \"8\", \"label\": \"~a0 + a1\", \"source\": \"10\", \"target\": \"9\", \"edge_index\": 0, \"num_edge_siblings\": 1, \"flip_orientation\": true}, {\"id\": \"9\", \"label\": \"~b0 + b1\", \"source\": \"11\", \"target\": \"9\", \"edge_index\": 0, \"num_edge_siblings\": 1, \"flip_orientation\": true}, {\"id\": \"10\", \"label\": \"(~c0 + c1) * (~d0 + d1)\", \"source\": \"12\", \"target\": \"8\", \"edge_index\": 0, \"num_edge_siblings\": 1, \"flip_orientation\": true}, {\"id\": \"11\", \"label\": \"~c0 + c1\", \"source\": \"13\", \"target\": \"12\", \"edge_index\": 0, \"num_edge_siblings\": 1, \"flip_orientation\": true}, {\"id\": \"12\", \"label\": \"~d0 + d1\", \"source\": \"14\", \"target\": \"12\", \"edge_index\": 0, \"num_edge_siblings\": 1, \"flip_orientation\": true}, {\"id\": \"14\", \"label\": \"~a0\", \"source\": \"2\", \"target\": \"10\", \"edge_index\": 0, \"num_edge_siblings\": 1, \"flip_orientation\": false}, {\"id\": \"15\", \"label\": \"a1\", \"source\": \"3\", \"target\": \"10\", \"edge_index\": 0, \"num_edge_siblings\": 1, \"flip_orientation\": false}, {\"id\": \"16\", \"label\": \"~c0\", \"source\": \"3\", \"target\": \"13\", \"edge_index\": 0, \"num_edge_siblings\": 1, \"flip_orientation\": false}, {\"id\": \"17\", \"label\": \"c1\", \"source\": \"2\", \"target\": \"13\", \"edge_index\": 0, \"num_edge_siblings\": 1, \"flip_orientation\": false}, {\"id\": \"18\", \"label\": \"~b0\", \"source\": \"4\", \"target\": \"11\", \"edge_index\": 0, \"num_edge_siblings\": 1, \"flip_orientation\": false}, {\"id\": \"19\", \"label\": \"b1\", \"source\": \"5\", \"target\": \"11\", \"edge_index\": 0, \"num_edge_siblings\": 1, \"flip_orientation\": false}, {\"id\": \"20\", \"label\": \"~d0\", \"source\": \"5\", \"target\": \"14\", \"edge_index\": 0, \"num_edge_siblings\": 1, \"flip_orientation\": false}, {\"id\": \"21\", \"label\": \"d1\", \"source\": \"4\", \"target\": \"14\", \"edge_index\": 0, \"num_edge_siblings\": 1, \"flip_orientation\": false}], \"arcs\": [{\"source\": \"1\", \"target\": \"3\", \"at_v\": \"1\"}, {\"source\": \"7\", \"target\": \"10\", \"at_v\": \"8\"}, {\"source\": \"14\", \"target\": \"15\", \"at_v\": \"10\"}, {\"source\": \"15\", \"target\": \"16\", \"at_v\": \"3\"}, {\"source\": \"16\", \"target\": \"17\", \"at_v\": \"13\"}, {\"source\": \"18\", \"target\": \"19\", \"at_v\": \"11\"}, {\"source\": \"19\", \"target\": \"20\", \"at_v\": \"5\"}, {\"source\": \"20\", \"target\": \"21\", \"at_v\": \"14\"}]}'), 1700, 525.0, 50, 5.0, false);\n",
       "        });\n",
       "        </script>\n",
       "        "
      ],
      "text/plain": [
       "<IPython.core.display.HTML object>"
      ]
     },
     "metadata": {},
     "output_type": "display_data"
    }
   ],
   "source": [
    "cc.draw(g)"
   ]
  },
  {
   "cell_type": "code",
   "execution_count": 34,
   "metadata": {},
   "outputs": [
    {
     "data": {
      "text/html": [
       "\n",
       "        <div style=\"overflow:auto\" id=\"graph-output-272420252\"></div>\n",
       "        <script type=\"text/javascript\">\n",
       "        require.config({ baseUrl: \"../js\",\n",
       "                         paths: {d3: \"d3.v4.min\"} });\n",
       "        require(['hocc'], function(hocc) {\n",
       "            hocc.showGraph('272420252', '#graph-output-272420252',\n",
       "            JSON.parse('{\"nodes\": [{\"name\": \"0\", \"x\": 700, \"y\": 175.0, \"t\": 2}, {\"name\": \"1\", \"x\": 800, \"y\": 175.0, \"t\": 1}, {\"name\": \"2\", \"x\": 700, \"y\": 375.0, \"t\": 2}, {\"name\": \"3\", \"x\": 800, \"y\": 375.0, \"t\": 1}, {\"name\": \"6\", \"x\": 1000, \"y\": 175.0, \"t\": 1}, {\"name\": \"7\", \"x\": 900, \"y\": 125.0, \"t\": 2}, {\"name\": \"8\", \"x\": 900, \"y\": 225.0, \"t\": 2}, {\"name\": \"9\", \"x\": 1000, \"y\": 375.0, \"t\": 1}, {\"name\": \"10\", \"x\": 900, \"y\": 325.0, \"t\": 2}, {\"name\": \"11\", \"x\": 900, \"y\": 425.0, \"t\": 2}, {\"name\": \"12\", \"x\": 633.3333333333333, \"y\": 208.33333333333331, \"t\": 0}, {\"name\": \"13\", \"x\": 633.3333333333333, \"y\": 341.66666666666663, \"t\": 0}, {\"name\": \"14\", \"x\": 1066.6666666666665, \"y\": 208.33333333333331, \"t\": 0}, {\"name\": \"16\", \"x\": 1066.6666666666665, \"y\": 341.66666666666663, \"t\": 0}], \"links\": [{\"id\": \"0\", \"label\": \"a1 * ~c0\", \"source\": \"0\", \"target\": \"1\", \"edge_index\": 0, \"num_edge_siblings\": 1, \"flip_orientation\": false}, {\"id\": \"1\", \"label\": \"b1 * ~d0\", \"source\": \"2\", \"target\": \"3\", \"edge_index\": 0, \"num_edge_siblings\": 1, \"flip_orientation\": false}, {\"id\": \"4\", \"label\": \"~a0 + a1\", \"source\": \"7\", \"target\": \"6\", \"edge_index\": 0, \"num_edge_siblings\": 1, \"flip_orientation\": true}, {\"id\": \"5\", \"label\": \"~b0 + b1\", \"source\": \"8\", \"target\": \"6\", \"edge_index\": 0, \"num_edge_siblings\": 1, \"flip_orientation\": true}, {\"id\": \"7\", \"label\": \"~c0 + c1\", \"source\": \"10\", \"target\": \"9\", \"edge_index\": 0, \"num_edge_siblings\": 1, \"flip_orientation\": true}, {\"id\": \"8\", \"label\": \"~d0 + d1\", \"source\": \"11\", \"target\": \"9\", \"edge_index\": 0, \"num_edge_siblings\": 1, \"flip_orientation\": true}, {\"id\": \"9\", \"label\": \"~a0\", \"source\": \"0\", \"target\": \"7\", \"edge_index\": 0, \"num_edge_siblings\": 1, \"flip_orientation\": false}, {\"id\": \"10\", \"label\": \"a1\", \"source\": \"1\", \"target\": \"7\", \"edge_index\": 0, \"num_edge_siblings\": 1, \"flip_orientation\": false}, {\"id\": \"11\", \"label\": \"~c0\", \"source\": \"1\", \"target\": \"10\", \"edge_index\": 0, \"num_edge_siblings\": 1, \"flip_orientation\": false}, {\"id\": \"12\", \"label\": \"c1\", \"source\": \"0\", \"target\": \"10\", \"edge_index\": 0, \"num_edge_siblings\": 1, \"flip_orientation\": false}, {\"id\": \"13\", \"label\": \"~b0\", \"source\": \"2\", \"target\": \"8\", \"edge_index\": 0, \"num_edge_siblings\": 1, \"flip_orientation\": false}, {\"id\": \"14\", \"label\": \"b1\", \"source\": \"3\", \"target\": \"8\", \"edge_index\": 0, \"num_edge_siblings\": 1, \"flip_orientation\": false}, {\"id\": \"15\", \"label\": \"~d0\", \"source\": \"3\", \"target\": \"11\", \"edge_index\": 0, \"num_edge_siblings\": 1, \"flip_orientation\": false}, {\"id\": \"16\", \"label\": \"d1\", \"source\": \"2\", \"target\": \"11\", \"edge_index\": 0, \"num_edge_siblings\": 1, \"flip_orientation\": false}, {\"id\": \"17\", \"label\": \"~a0 + (a1 * ~c0) + c1\", \"source\": \"12\", \"target\": \"0\", \"edge_index\": 0, \"num_edge_siblings\": 1, \"flip_orientation\": true}, {\"id\": \"18\", \"label\": \"~b0 + (b1 * ~d0) + d1\", \"source\": \"13\", \"target\": \"2\", \"edge_index\": 0, \"num_edge_siblings\": 1, \"flip_orientation\": true}, {\"id\": \"19\", \"label\": \"(~a0 + a1) * (~b0 + b1)\", \"source\": \"6\", \"target\": \"14\", \"edge_index\": 0, \"num_edge_siblings\": 1, \"flip_orientation\": false}, {\"id\": \"21\", \"label\": \"(~c0 + c1) * (~d0 + d1)\", \"source\": \"9\", \"target\": \"16\", \"edge_index\": 0, \"num_edge_siblings\": 1, \"flip_orientation\": false}], \"arcs\": [{\"source\": \"9\", \"target\": \"10\", \"at_v\": \"7\"}, {\"source\": \"10\", \"target\": \"11\", \"at_v\": \"1\"}, {\"source\": \"11\", \"target\": \"12\", \"at_v\": \"10\"}, {\"source\": \"13\", \"target\": \"14\", \"at_v\": \"8\"}, {\"source\": \"14\", \"target\": \"15\", \"at_v\": \"3\"}, {\"source\": \"15\", \"target\": \"16\", \"at_v\": \"11\"}]}'), 1116.6666666666665, 525.0, 50, 5.0, false);\n",
       "        });\n",
       "        </script>\n",
       "        "
      ],
      "text/plain": [
       "<IPython.core.display.HTML object>"
      ]
     },
     "metadata": {},
     "output_type": "display_data"
    }
   ],
   "source": [
    "g1 = cc.proofnet.cut_root(g)\n",
    "cc.draw(g)\n",
    "if g1:\n",
    "    cc.draw(g1)\n",
    "    g = g1"
   ]
  },
  {
   "cell_type": "code",
   "execution_count": 69,
   "metadata": {},
   "outputs": [
    {
     "data": {
      "text/plain": [
       "(36, 4)"
      ]
     },
     "execution_count": 69,
     "metadata": {},
     "output_type": "execute_result"
    }
   ],
   "source": [
    "sw = cc.proofnet.switchings(g)\n",
    "sw1 = [s for s in sw if not s.is_acyclic()]\n",
    "len(sw), len(sw1)"
   ]
  },
  {
   "cell_type": "code",
   "execution_count": 70,
   "metadata": {},
   "outputs": [
    {
     "data": {
      "text/html": [
       "\n",
       "        <div style=\"overflow:auto\" id=\"graph-output-649678923\"></div>\n",
       "        <script type=\"text/javascript\">\n",
       "        require.config({ baseUrl: \"../js\",\n",
       "                         paths: {d3: \"d3.v4.min\"} });\n",
       "        require(['hocc'], function(hocc) {\n",
       "            hocc.showGraph('649678923', '#graph-output-649678923',\n",
       "            JSON.parse('{\"nodes\": [{\"name\": \"0\", \"x\": 700, \"y\": 175.0, \"t\": 2}, {\"name\": \"1\", \"x\": 850, \"y\": 200.0, \"t\": 1}, {\"name\": \"2\", \"x\": 950, \"y\": 225.0, \"t\": 2}, {\"name\": \"3\", \"x\": 700, \"y\": 375.0, \"t\": 2}, {\"name\": \"4\", \"x\": 850, \"y\": 400.0, \"t\": 1}, {\"name\": \"5\", \"x\": 950, \"y\": 425.0, \"t\": 2}, {\"name\": \"6\", \"x\": 1150, \"y\": 175.0, \"t\": 1}, {\"name\": \"7\", \"x\": 1050, \"y\": 125.0, \"t\": 2}, {\"name\": \"8\", \"x\": 1050, \"y\": 225.0, \"t\": 2}, {\"name\": \"9\", \"x\": 1150, \"y\": 375.0, \"t\": 1}, {\"name\": \"10\", \"x\": 1050, \"y\": 325.0, \"t\": 2}, {\"name\": \"11\", \"x\": 1050, \"y\": 425.0, \"t\": 2}, {\"name\": \"12\", \"x\": 633.3333333333333, \"y\": 208.33333333333331, \"t\": 0}, {\"name\": \"13\", \"x\": 633.3333333333333, \"y\": 341.66666666666663, \"t\": 0}, {\"name\": \"14\", \"x\": 1216.6666666666665, \"y\": 341.66666666666663, \"t\": 0}, {\"name\": \"15\", \"x\": 1216.6666666666665, \"y\": 208.33333333333331, \"t\": 0}], \"links\": [{\"id\": \"0\", \"label\": \"a1 * (~c0 + c1)\", \"source\": \"0\", \"target\": \"1\", \"edge_index\": 0, \"num_edge_siblings\": 1, \"flip_orientation\": false}, {\"id\": \"1\", \"label\": \"~c0 + c1\", \"source\": \"1\", \"target\": \"2\", \"edge_index\": 0, \"num_edge_siblings\": 1, \"flip_orientation\": false}, {\"id\": \"2\", \"label\": \"b1 * (~d0 + d1)\", \"source\": \"3\", \"target\": \"4\", \"edge_index\": 0, \"num_edge_siblings\": 1, \"flip_orientation\": false}, {\"id\": \"3\", \"label\": \"~d0 + d1\", \"source\": \"4\", \"target\": \"5\", \"edge_index\": 0, \"num_edge_siblings\": 1, \"flip_orientation\": false}, {\"id\": \"4\", \"label\": \"~a0 + a1\", \"source\": \"7\", \"target\": \"6\", \"edge_index\": 0, \"num_edge_siblings\": 1, \"flip_orientation\": true}, {\"id\": \"5\", \"label\": \"~b0 + b1\", \"source\": \"8\", \"target\": \"6\", \"edge_index\": 0, \"num_edge_siblings\": 1, \"flip_orientation\": true}, {\"id\": \"6\", \"label\": \"~c0 + c1\", \"source\": \"10\", \"target\": \"9\", \"edge_index\": 0, \"num_edge_siblings\": 1, \"flip_orientation\": true}, {\"id\": \"7\", \"label\": \"~d0 + d1\", \"source\": \"11\", \"target\": \"9\", \"edge_index\": 0, \"num_edge_siblings\": 1, \"flip_orientation\": true}, {\"id\": \"8\", \"label\": \"~a0\", \"source\": \"0\", \"target\": \"7\", \"edge_index\": 0, \"num_edge_siblings\": 1, \"flip_orientation\": false}, {\"id\": \"9\", \"label\": \"~c0\", \"source\": \"2\", \"target\": \"10\", \"edge_index\": 0, \"num_edge_siblings\": 1, \"flip_orientation\": false}, {\"id\": \"10\", \"label\": \"~b0\", \"source\": \"3\", \"target\": \"8\", \"edge_index\": 0, \"num_edge_siblings\": 1, \"flip_orientation\": false}, {\"id\": \"11\", \"label\": \"~d0\", \"source\": \"5\", \"target\": \"11\", \"edge_index\": 0, \"num_edge_siblings\": 1, \"flip_orientation\": false}, {\"id\": \"12\", \"label\": \"~a0 + (a1 * (~c0 + c1))\", \"source\": \"12\", \"target\": \"0\", \"edge_index\": 0, \"num_edge_siblings\": 1, \"flip_orientation\": true}, {\"id\": \"13\", \"label\": \"~b0 + (b1 * (~d0 + d1))\", \"source\": \"13\", \"target\": \"3\", \"edge_index\": 0, \"num_edge_siblings\": 1, \"flip_orientation\": true}, {\"id\": \"14\", \"label\": \"(~c0 + c1) * (~d0 + d1)\", \"source\": \"9\", \"target\": \"14\", \"edge_index\": 0, \"num_edge_siblings\": 1, \"flip_orientation\": false}, {\"id\": \"15\", \"label\": \"(~a0 + a1) * (~b0 + b1)\", \"source\": \"6\", \"target\": \"15\", \"edge_index\": 0, \"num_edge_siblings\": 1, \"flip_orientation\": false}], \"arcs\": []}'), 1266.6666666666665, 525.0, 50, 5.0, false);\n",
       "        });\n",
       "        </script>\n",
       "        "
      ],
      "text/plain": [
       "<IPython.core.display.HTML object>"
      ]
     },
     "metadata": {},
     "output_type": "display_data"
    },
    {
     "data": {
      "text/html": [
       "\n",
       "        <div style=\"overflow:auto\" id=\"graph-output-622411460\"></div>\n",
       "        <script type=\"text/javascript\">\n",
       "        require.config({ baseUrl: \"../js\",\n",
       "                         paths: {d3: \"d3.v4.min\"} });\n",
       "        require(['hocc'], function(hocc) {\n",
       "            hocc.showGraph('622411460', '#graph-output-622411460',\n",
       "            JSON.parse('{\"nodes\": [{\"name\": \"0\", \"x\": 700, \"y\": 175.0, \"t\": 2}, {\"name\": \"1\", \"x\": 850, \"y\": 200.0, \"t\": 1}, {\"name\": \"2\", \"x\": 950, \"y\": 225.0, \"t\": 2}, {\"name\": \"3\", \"x\": 700, \"y\": 375.0, \"t\": 2}, {\"name\": \"4\", \"x\": 850, \"y\": 400.0, \"t\": 1}, {\"name\": \"5\", \"x\": 950, \"y\": 425.0, \"t\": 2}, {\"name\": \"6\", \"x\": 1150, \"y\": 175.0, \"t\": 1}, {\"name\": \"7\", \"x\": 1050, \"y\": 125.0, \"t\": 2}, {\"name\": \"8\", \"x\": 1050, \"y\": 225.0, \"t\": 2}, {\"name\": \"9\", \"x\": 1150, \"y\": 375.0, \"t\": 1}, {\"name\": \"10\", \"x\": 1050, \"y\": 325.0, \"t\": 2}, {\"name\": \"11\", \"x\": 1050, \"y\": 425.0, \"t\": 2}, {\"name\": \"12\", \"x\": 633.3333333333333, \"y\": 208.33333333333331, \"t\": 0}, {\"name\": \"13\", \"x\": 633.3333333333333, \"y\": 341.66666666666663, \"t\": 0}, {\"name\": \"14\", \"x\": 1216.6666666666665, \"y\": 341.66666666666663, \"t\": 0}, {\"name\": \"15\", \"x\": 1216.6666666666665, \"y\": 208.33333333333331, \"t\": 0}], \"links\": [{\"id\": \"0\", \"label\": \"a1 * (~c0 + c1)\", \"source\": \"0\", \"target\": \"1\", \"edge_index\": 0, \"num_edge_siblings\": 1, \"flip_orientation\": false}, {\"id\": \"1\", \"label\": \"~c0 + c1\", \"source\": \"1\", \"target\": \"2\", \"edge_index\": 0, \"num_edge_siblings\": 1, \"flip_orientation\": false}, {\"id\": \"2\", \"label\": \"b1 * (~d0 + d1)\", \"source\": \"3\", \"target\": \"4\", \"edge_index\": 0, \"num_edge_siblings\": 1, \"flip_orientation\": false}, {\"id\": \"3\", \"label\": \"~d0 + d1\", \"source\": \"4\", \"target\": \"5\", \"edge_index\": 0, \"num_edge_siblings\": 1, \"flip_orientation\": false}, {\"id\": \"4\", \"label\": \"~a0 + a1\", \"source\": \"7\", \"target\": \"6\", \"edge_index\": 0, \"num_edge_siblings\": 1, \"flip_orientation\": true}, {\"id\": \"5\", \"label\": \"~b0 + b1\", \"source\": \"8\", \"target\": \"6\", \"edge_index\": 0, \"num_edge_siblings\": 1, \"flip_orientation\": true}, {\"id\": \"6\", \"label\": \"~c0 + c1\", \"source\": \"10\", \"target\": \"9\", \"edge_index\": 0, \"num_edge_siblings\": 1, \"flip_orientation\": true}, {\"id\": \"7\", \"label\": \"~d0 + d1\", \"source\": \"11\", \"target\": \"9\", \"edge_index\": 0, \"num_edge_siblings\": 1, \"flip_orientation\": true}, {\"id\": \"8\", \"label\": \"~a0\", \"source\": \"0\", \"target\": \"7\", \"edge_index\": 0, \"num_edge_siblings\": 1, \"flip_orientation\": false}, {\"id\": \"9\", \"label\": \"~c0\", \"source\": \"2\", \"target\": \"10\", \"edge_index\": 0, \"num_edge_siblings\": 1, \"flip_orientation\": false}, {\"id\": \"10\", \"label\": \"~b0\", \"source\": \"3\", \"target\": \"8\", \"edge_index\": 0, \"num_edge_siblings\": 1, \"flip_orientation\": false}, {\"id\": \"11\", \"label\": \"d1\", \"source\": \"5\", \"target\": \"11\", \"edge_index\": 0, \"num_edge_siblings\": 1, \"flip_orientation\": false}, {\"id\": \"12\", \"label\": \"~a0 + (a1 * (~c0 + c1))\", \"source\": \"12\", \"target\": \"0\", \"edge_index\": 0, \"num_edge_siblings\": 1, \"flip_orientation\": true}, {\"id\": \"13\", \"label\": \"~b0 + (b1 * (~d0 + d1))\", \"source\": \"13\", \"target\": \"3\", \"edge_index\": 0, \"num_edge_siblings\": 1, \"flip_orientation\": true}, {\"id\": \"14\", \"label\": \"(~c0 + c1) * (~d0 + d1)\", \"source\": \"9\", \"target\": \"14\", \"edge_index\": 0, \"num_edge_siblings\": 1, \"flip_orientation\": false}, {\"id\": \"15\", \"label\": \"(~a0 + a1) * (~b0 + b1)\", \"source\": \"6\", \"target\": \"15\", \"edge_index\": 0, \"num_edge_siblings\": 1, \"flip_orientation\": false}], \"arcs\": []}'), 1266.6666666666665, 525.0, 50, 5.0, false);\n",
       "        });\n",
       "        </script>\n",
       "        "
      ],
      "text/plain": [
       "<IPython.core.display.HTML object>"
      ]
     },
     "metadata": {},
     "output_type": "display_data"
    },
    {
     "data": {
      "text/html": [
       "\n",
       "        <div style=\"overflow:auto\" id=\"graph-output-579258737\"></div>\n",
       "        <script type=\"text/javascript\">\n",
       "        require.config({ baseUrl: \"../js\",\n",
       "                         paths: {d3: \"d3.v4.min\"} });\n",
       "        require(['hocc'], function(hocc) {\n",
       "            hocc.showGraph('579258737', '#graph-output-579258737',\n",
       "            JSON.parse('{\"nodes\": [{\"name\": \"0\", \"x\": 700, \"y\": 175.0, \"t\": 2}, {\"name\": \"1\", \"x\": 850, \"y\": 200.0, \"t\": 1}, {\"name\": \"2\", \"x\": 950, \"y\": 225.0, \"t\": 2}, {\"name\": \"3\", \"x\": 700, \"y\": 375.0, \"t\": 2}, {\"name\": \"4\", \"x\": 850, \"y\": 400.0, \"t\": 1}, {\"name\": \"5\", \"x\": 950, \"y\": 425.0, \"t\": 2}, {\"name\": \"6\", \"x\": 1150, \"y\": 175.0, \"t\": 1}, {\"name\": \"7\", \"x\": 1050, \"y\": 125.0, \"t\": 2}, {\"name\": \"8\", \"x\": 1050, \"y\": 225.0, \"t\": 2}, {\"name\": \"9\", \"x\": 1150, \"y\": 375.0, \"t\": 1}, {\"name\": \"10\", \"x\": 1050, \"y\": 325.0, \"t\": 2}, {\"name\": \"11\", \"x\": 1050, \"y\": 425.0, \"t\": 2}, {\"name\": \"12\", \"x\": 633.3333333333333, \"y\": 208.33333333333331, \"t\": 0}, {\"name\": \"13\", \"x\": 633.3333333333333, \"y\": 341.66666666666663, \"t\": 0}, {\"name\": \"14\", \"x\": 1216.6666666666665, \"y\": 341.66666666666663, \"t\": 0}, {\"name\": \"15\", \"x\": 1216.6666666666665, \"y\": 208.33333333333331, \"t\": 0}], \"links\": [{\"id\": \"0\", \"label\": \"a1 * (~c0 + c1)\", \"source\": \"0\", \"target\": \"1\", \"edge_index\": 0, \"num_edge_siblings\": 1, \"flip_orientation\": false}, {\"id\": \"1\", \"label\": \"~c0 + c1\", \"source\": \"1\", \"target\": \"2\", \"edge_index\": 0, \"num_edge_siblings\": 1, \"flip_orientation\": false}, {\"id\": \"2\", \"label\": \"b1 * (~d0 + d1)\", \"source\": \"3\", \"target\": \"4\", \"edge_index\": 0, \"num_edge_siblings\": 1, \"flip_orientation\": false}, {\"id\": \"3\", \"label\": \"~d0 + d1\", \"source\": \"4\", \"target\": \"5\", \"edge_index\": 0, \"num_edge_siblings\": 1, \"flip_orientation\": false}, {\"id\": \"4\", \"label\": \"~a0 + a1\", \"source\": \"7\", \"target\": \"6\", \"edge_index\": 0, \"num_edge_siblings\": 1, \"flip_orientation\": true}, {\"id\": \"5\", \"label\": \"~b0 + b1\", \"source\": \"8\", \"target\": \"6\", \"edge_index\": 0, \"num_edge_siblings\": 1, \"flip_orientation\": true}, {\"id\": \"6\", \"label\": \"~c0 + c1\", \"source\": \"10\", \"target\": \"9\", \"edge_index\": 0, \"num_edge_siblings\": 1, \"flip_orientation\": true}, {\"id\": \"7\", \"label\": \"~d0 + d1\", \"source\": \"11\", \"target\": \"9\", \"edge_index\": 0, \"num_edge_siblings\": 1, \"flip_orientation\": true}, {\"id\": \"8\", \"label\": \"~a0\", \"source\": \"0\", \"target\": \"7\", \"edge_index\": 0, \"num_edge_siblings\": 1, \"flip_orientation\": false}, {\"id\": \"9\", \"label\": \"c1\", \"source\": \"2\", \"target\": \"10\", \"edge_index\": 0, \"num_edge_siblings\": 1, \"flip_orientation\": false}, {\"id\": \"10\", \"label\": \"~b0\", \"source\": \"3\", \"target\": \"8\", \"edge_index\": 0, \"num_edge_siblings\": 1, \"flip_orientation\": false}, {\"id\": \"11\", \"label\": \"~d0\", \"source\": \"5\", \"target\": \"11\", \"edge_index\": 0, \"num_edge_siblings\": 1, \"flip_orientation\": false}, {\"id\": \"12\", \"label\": \"~a0 + (a1 * (~c0 + c1))\", \"source\": \"12\", \"target\": \"0\", \"edge_index\": 0, \"num_edge_siblings\": 1, \"flip_orientation\": true}, {\"id\": \"13\", \"label\": \"~b0 + (b1 * (~d0 + d1))\", \"source\": \"13\", \"target\": \"3\", \"edge_index\": 0, \"num_edge_siblings\": 1, \"flip_orientation\": true}, {\"id\": \"14\", \"label\": \"(~c0 + c1) * (~d0 + d1)\", \"source\": \"9\", \"target\": \"14\", \"edge_index\": 0, \"num_edge_siblings\": 1, \"flip_orientation\": false}, {\"id\": \"15\", \"label\": \"(~a0 + a1) * (~b0 + b1)\", \"source\": \"6\", \"target\": \"15\", \"edge_index\": 0, \"num_edge_siblings\": 1, \"flip_orientation\": false}], \"arcs\": []}'), 1266.6666666666665, 525.0, 50, 5.0, false);\n",
       "        });\n",
       "        </script>\n",
       "        "
      ],
      "text/plain": [
       "<IPython.core.display.HTML object>"
      ]
     },
     "metadata": {},
     "output_type": "display_data"
    },
    {
     "data": {
      "text/html": [
       "\n",
       "        <div style=\"overflow:auto\" id=\"graph-output-792147496\"></div>\n",
       "        <script type=\"text/javascript\">\n",
       "        require.config({ baseUrl: \"../js\",\n",
       "                         paths: {d3: \"d3.v4.min\"} });\n",
       "        require(['hocc'], function(hocc) {\n",
       "            hocc.showGraph('792147496', '#graph-output-792147496',\n",
       "            JSON.parse('{\"nodes\": [{\"name\": \"0\", \"x\": 700, \"y\": 175.0, \"t\": 2}, {\"name\": \"1\", \"x\": 850, \"y\": 200.0, \"t\": 1}, {\"name\": \"2\", \"x\": 950, \"y\": 225.0, \"t\": 2}, {\"name\": \"3\", \"x\": 700, \"y\": 375.0, \"t\": 2}, {\"name\": \"4\", \"x\": 850, \"y\": 400.0, \"t\": 1}, {\"name\": \"5\", \"x\": 950, \"y\": 425.0, \"t\": 2}, {\"name\": \"6\", \"x\": 1150, \"y\": 175.0, \"t\": 1}, {\"name\": \"7\", \"x\": 1050, \"y\": 125.0, \"t\": 2}, {\"name\": \"8\", \"x\": 1050, \"y\": 225.0, \"t\": 2}, {\"name\": \"9\", \"x\": 1150, \"y\": 375.0, \"t\": 1}, {\"name\": \"10\", \"x\": 1050, \"y\": 325.0, \"t\": 2}, {\"name\": \"11\", \"x\": 1050, \"y\": 425.0, \"t\": 2}, {\"name\": \"12\", \"x\": 633.3333333333333, \"y\": 208.33333333333331, \"t\": 0}, {\"name\": \"13\", \"x\": 633.3333333333333, \"y\": 341.66666666666663, \"t\": 0}, {\"name\": \"14\", \"x\": 1216.6666666666665, \"y\": 341.66666666666663, \"t\": 0}, {\"name\": \"15\", \"x\": 1216.6666666666665, \"y\": 208.33333333333331, \"t\": 0}], \"links\": [{\"id\": \"0\", \"label\": \"a1 * (~c0 + c1)\", \"source\": \"0\", \"target\": \"1\", \"edge_index\": 0, \"num_edge_siblings\": 1, \"flip_orientation\": false}, {\"id\": \"1\", \"label\": \"~c0 + c1\", \"source\": \"1\", \"target\": \"2\", \"edge_index\": 0, \"num_edge_siblings\": 1, \"flip_orientation\": false}, {\"id\": \"2\", \"label\": \"b1 * (~d0 + d1)\", \"source\": \"3\", \"target\": \"4\", \"edge_index\": 0, \"num_edge_siblings\": 1, \"flip_orientation\": false}, {\"id\": \"3\", \"label\": \"~d0 + d1\", \"source\": \"4\", \"target\": \"5\", \"edge_index\": 0, \"num_edge_siblings\": 1, \"flip_orientation\": false}, {\"id\": \"4\", \"label\": \"~a0 + a1\", \"source\": \"7\", \"target\": \"6\", \"edge_index\": 0, \"num_edge_siblings\": 1, \"flip_orientation\": true}, {\"id\": \"5\", \"label\": \"~b0 + b1\", \"source\": \"8\", \"target\": \"6\", \"edge_index\": 0, \"num_edge_siblings\": 1, \"flip_orientation\": true}, {\"id\": \"6\", \"label\": \"~c0 + c1\", \"source\": \"10\", \"target\": \"9\", \"edge_index\": 0, \"num_edge_siblings\": 1, \"flip_orientation\": true}, {\"id\": \"7\", \"label\": \"~d0 + d1\", \"source\": \"11\", \"target\": \"9\", \"edge_index\": 0, \"num_edge_siblings\": 1, \"flip_orientation\": true}, {\"id\": \"8\", \"label\": \"~a0\", \"source\": \"0\", \"target\": \"7\", \"edge_index\": 0, \"num_edge_siblings\": 1, \"flip_orientation\": false}, {\"id\": \"9\", \"label\": \"c1\", \"source\": \"2\", \"target\": \"10\", \"edge_index\": 0, \"num_edge_siblings\": 1, \"flip_orientation\": false}, {\"id\": \"10\", \"label\": \"~b0\", \"source\": \"3\", \"target\": \"8\", \"edge_index\": 0, \"num_edge_siblings\": 1, \"flip_orientation\": false}, {\"id\": \"11\", \"label\": \"d1\", \"source\": \"5\", \"target\": \"11\", \"edge_index\": 0, \"num_edge_siblings\": 1, \"flip_orientation\": false}, {\"id\": \"12\", \"label\": \"~a0 + (a1 * (~c0 + c1))\", \"source\": \"12\", \"target\": \"0\", \"edge_index\": 0, \"num_edge_siblings\": 1, \"flip_orientation\": true}, {\"id\": \"13\", \"label\": \"~b0 + (b1 * (~d0 + d1))\", \"source\": \"13\", \"target\": \"3\", \"edge_index\": 0, \"num_edge_siblings\": 1, \"flip_orientation\": true}, {\"id\": \"14\", \"label\": \"(~c0 + c1) * (~d0 + d1)\", \"source\": \"9\", \"target\": \"14\", \"edge_index\": 0, \"num_edge_siblings\": 1, \"flip_orientation\": false}, {\"id\": \"15\", \"label\": \"(~a0 + a1) * (~b0 + b1)\", \"source\": \"6\", \"target\": \"15\", \"edge_index\": 0, \"num_edge_siblings\": 1, \"flip_orientation\": false}], \"arcs\": []}'), 1266.6666666666665, 525.0, 50, 5.0, false);\n",
       "        });\n",
       "        </script>\n",
       "        "
      ],
      "text/plain": [
       "<IPython.core.display.HTML object>"
      ]
     },
     "metadata": {},
     "output_type": "display_data"
    }
   ],
   "source": [
    "for s in sw1: cc.draw(s)"
   ]
  },
  {
   "cell_type": "code",
   "execution_count": 30,
   "metadata": {},
   "outputs": [
    {
     "data": {
      "text/html": [
       "\n",
       "        <div style=\"overflow:auto\" id=\"graph-output-580928635\"></div>\n",
       "        <script type=\"text/javascript\">\n",
       "        require.config({ baseUrl: \"../js\",\n",
       "                         paths: {d3: \"d3.v4.min\"} });\n",
       "        require(['hocc'], function(hocc) {\n",
       "            hocc.showGraph('580928635', '#graph-output-580928635',\n",
       "            JSON.parse('{\"nodes\": [{\"name\": \"0\", \"x\": 650, \"y\": 225.0, \"t\": 0}, {\"name\": \"1\", \"x\": 350, \"y\": 225.0, \"t\": 2}, {\"name\": \"2\", \"x\": 200, \"y\": 150.0, \"t\": 1}, {\"name\": \"4\", \"x\": 200, \"y\": 300.0, \"t\": 1}, {\"name\": \"5\", \"x\": 50, \"y\": 250.0, \"t\": 3}, {\"name\": \"6\", \"x\": 100, \"y\": 325.0, \"t\": 2}, {\"name\": \"7\", \"x\": 50, \"y\": 300.0, \"t\": 3}, {\"name\": \"8\", \"x\": 50, \"y\": 350.0, \"t\": 3}], \"links\": [{\"id\": \"0\", \"label\": \"(~a0 * b0 * ~b1) + (a0 * (~b0 + b1))\", \"source\": \"1\", \"target\": \"0\", \"edge_index\": 0, \"num_edge_siblings\": 1, \"flip_orientation\": true}, {\"id\": \"1\", \"label\": \"~a0 * b0 * ~b1\", \"source\": \"2\", \"target\": \"1\", \"edge_index\": 0, \"num_edge_siblings\": 1, \"flip_orientation\": true}, {\"id\": \"3\", \"label\": \"a0 * (~b0 + b1)\", \"source\": \"4\", \"target\": \"1\", \"edge_index\": 0, \"num_edge_siblings\": 1, \"flip_orientation\": true}, {\"id\": \"4\", \"label\": \"a0\", \"source\": \"5\", \"target\": \"4\", \"edge_index\": 0, \"num_edge_siblings\": 1, \"flip_orientation\": true}, {\"id\": \"5\", \"label\": \"~b0 + b1\", \"source\": \"6\", \"target\": \"4\", \"edge_index\": 0, \"num_edge_siblings\": 1, \"flip_orientation\": true}, {\"id\": \"6\", \"label\": \"~b0\", \"source\": \"7\", \"target\": \"6\", \"edge_index\": 0, \"num_edge_siblings\": 1, \"flip_orientation\": true}, {\"id\": \"7\", \"label\": \"b1\", \"source\": \"8\", \"target\": \"6\", \"edge_index\": 0, \"num_edge_siblings\": 1, \"flip_orientation\": true}, {\"id\": \"8\", \"label\": \"~a0\", \"source\": \"5\", \"target\": \"2\", \"edge_index\": 0, \"num_edge_siblings\": 1, \"flip_orientation\": true}, {\"id\": \"9\", \"label\": \"b0\", \"source\": \"7\", \"target\": \"2\", \"edge_index\": 0, \"num_edge_siblings\": 1, \"flip_orientation\": true}, {\"id\": \"10\", \"label\": \"~b1\", \"source\": \"8\", \"target\": \"2\", \"edge_index\": 0, \"num_edge_siblings\": 1, \"flip_orientation\": true}], \"arcs\": [{\"source\": \"1\", \"target\": \"3\", \"at_v\": \"1\"}, {\"source\": \"6\", \"target\": \"7\", \"at_v\": \"6\"}]}'), 700, 450.0, 50, 5.0, false);\n",
       "        });\n",
       "        </script>\n",
       "        "
      ],
      "text/plain": [
       "<IPython.core.display.HTML object>"
      ]
     },
     "metadata": {},
     "output_type": "display_data"
    }
   ],
   "source": [
    "g = cc.prove(cc.I,\n",
    "    (a0 + (b0 >> b1))\n",
    "  >>\n",
    "    (a0 * (b0 >> b1))\n",
    "  , checker=lambda x: True\n",
    ")\n",
    "cc.draw(g)"
   ]
  },
  {
   "cell_type": "code",
   "execution_count": 33,
   "metadata": {},
   "outputs": [
    {
     "data": {
      "text/plain": [
       "(4, 4)"
      ]
     },
     "execution_count": 33,
     "metadata": {},
     "output_type": "execute_result"
    }
   ],
   "source": [
    "sw = cc.proofnet.switchings(g)\n",
    "sw1 = [s for s in sw if not s.is_acyclic()]\n",
    "len(sw), len(sw1)"
   ]
  },
  {
   "cell_type": "code",
   "execution_count": 34,
   "metadata": {},
   "outputs": [
    {
     "data": {
      "text/html": [
       "\n",
       "        <div style=\"overflow:auto\" id=\"graph-output-796717438\"></div>\n",
       "        <script type=\"text/javascript\">\n",
       "        require.config({ baseUrl: \"../js\",\n",
       "                         paths: {d3: \"d3.v4.min\"} });\n",
       "        require(['hocc'], function(hocc) {\n",
       "            hocc.showGraph('796717438', '#graph-output-796717438',\n",
       "            JSON.parse('{\"nodes\": [{\"name\": \"0\", \"x\": 650, \"y\": 225.0, \"t\": 0}, {\"name\": \"1\", \"x\": 350, \"y\": 225.0, \"t\": 2}, {\"name\": \"2\", \"x\": 200, \"y\": 150.0, \"t\": 1}, {\"name\": \"3\", \"x\": 200, \"y\": 300.0, \"t\": 1}, {\"name\": \"4\", \"x\": 50, \"y\": 250.0, \"t\": 3}, {\"name\": \"5\", \"x\": 100, \"y\": 325.0, \"t\": 2}, {\"name\": \"6\", \"x\": 50, \"y\": 300.0, \"t\": 3}, {\"name\": \"7\", \"x\": 50, \"y\": 350.0, \"t\": 3}], \"links\": [{\"id\": \"0\", \"label\": \"(~a0 * b0 * ~b1) + (a0 * (~b0 + b1))\", \"source\": \"1\", \"target\": \"0\", \"edge_index\": 0, \"num_edge_siblings\": 1, \"flip_orientation\": true}, {\"id\": \"1\", \"label\": \"~a0 * b0 * ~b1\", \"source\": \"2\", \"target\": \"1\", \"edge_index\": 0, \"num_edge_siblings\": 1, \"flip_orientation\": true}, {\"id\": \"2\", \"label\": \"a0\", \"source\": \"4\", \"target\": \"3\", \"edge_index\": 0, \"num_edge_siblings\": 1, \"flip_orientation\": true}, {\"id\": \"3\", \"label\": \"~b0 + b1\", \"source\": \"5\", \"target\": \"3\", \"edge_index\": 0, \"num_edge_siblings\": 1, \"flip_orientation\": true}, {\"id\": \"4\", \"label\": \"~b0\", \"source\": \"6\", \"target\": \"5\", \"edge_index\": 0, \"num_edge_siblings\": 1, \"flip_orientation\": true}, {\"id\": \"5\", \"label\": \"~a0\", \"source\": \"4\", \"target\": \"2\", \"edge_index\": 0, \"num_edge_siblings\": 1, \"flip_orientation\": true}, {\"id\": \"6\", \"label\": \"b0\", \"source\": \"6\", \"target\": \"2\", \"edge_index\": 0, \"num_edge_siblings\": 1, \"flip_orientation\": true}, {\"id\": \"7\", \"label\": \"~b1\", \"source\": \"7\", \"target\": \"2\", \"edge_index\": 0, \"num_edge_siblings\": 1, \"flip_orientation\": true}], \"arcs\": []}'), 700, 450.0, 50, 5.0, false);\n",
       "        });\n",
       "        </script>\n",
       "        "
      ],
      "text/plain": [
       "<IPython.core.display.HTML object>"
      ]
     },
     "metadata": {},
     "output_type": "display_data"
    }
   ],
   "source": [
    "cc.draw(sw[0])"
   ]
  },
  {
   "cell_type": "code",
   "execution_count": null,
   "metadata": {},
   "outputs": [],
   "source": []
  }
 ],
 "metadata": {
  "kernelspec": {
   "display_name": "Python 3",
   "language": "python",
   "name": "python3"
  },
  "language_info": {
   "codemirror_mode": {
    "name": "ipython",
    "version": 3
   },
   "file_extension": ".py",
   "mimetype": "text/x-python",
   "name": "python",
   "nbconvert_exporter": "python",
   "pygments_lexer": "ipython3",
   "version": "3.7.5"
  }
 },
 "nbformat": 4,
 "nbformat_minor": 2
}
